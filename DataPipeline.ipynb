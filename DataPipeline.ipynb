{
  "nbformat": 4,
  "nbformat_minor": 0,
  "metadata": {
    "colab": {
      "name": "MiniConveyorWorking.ipynb",
      "provenance": [],
      "collapsed_sections": [
        "3p8PgjiP0_jY",
        "Bpj2hKhdnGID",
        "GS0NpiKjmlHl",
        "ynhtQQ2H1FgY",
        "gNHjUDxf1KwS",
        "cPktYeFX1Ujq",
        "lChn_UkJZAk1",
        "x_awgfWUgAb2",
        "8IH4GVrigMRd",
        "_BT3jBxRgmOX",
        "qA4u066Zg0Mk",
        "2sZQyqiuhDZc",
        "0if3QQALhaOq",
        "gyZbtquUhhvL",
        "8mbxThrshpF1",
        "xKOG9aHgi8Pj",
        "6aBvm7yzjNqw",
        "wR-RHXokjaoG",
        "AWxtq24ijmSo",
        "lmplCWV-kH6H",
        "5ZW7-6-vkaXi",
        "kbW0Ez8Ekme7",
        "fo-KMY41k1sc",
        "OL-ZYUKOk_cL"
      ],
      "toc_visible": true,
      "include_colab_link": true
    },
    "kernelspec": {
      "display_name": "Python 3",
      "language": "python",
      "name": "python3"
    },
    "language_info": {
      "codemirror_mode": {
        "name": "ipython",
        "version": 3
      },
      "file_extension": ".py",
      "mimetype": "text/x-python",
      "name": "python",
      "nbconvert_exporter": "python",
      "pygments_lexer": "ipython3",
      "version": "3.8.2"
    },
    "widgets": {
      "application/vnd.jupyter.widget-state+json": {
        "176cdc2cb583454f96b1305d07ef276f": {
          "model_module": "@jupyter-widgets/controls",
          "model_name": "FileUploadModel",
          "state": {
            "_view_name": "FileUploadView",
            "_counter": 1,
            "style": "IPY_MODEL_893caf8ab8bb4fc5a9fca940c1cd9bb9",
            "_dom_classes": [],
            "description": "Upload",
            "multiple": false,
            "_model_name": "FileUploadModel",
            "data": [
              null
            ],
            "button_style": "",
            "_view_module": "@jupyter-widgets/controls",
            "_model_module_version": "1.5.0",
            "accept": "",
            "_view_count": null,
            "disabled": false,
            "_view_module_version": "1.5.0",
            "error": "",
            "description_tooltip": null,
            "metadata": [
              {
                "name": "Data.xlsx",
                "type": "application/vnd.openxmlformats-officedocument.spreadsheetml.sheet",
                "size": 32944,
                "lastModified": 1570819676907
              }
            ],
            "_model_module": "@jupyter-widgets/controls",
            "layout": "IPY_MODEL_55c6560313344fb3a2cc4152cb549c51",
            "icon": "upload"
          }
        },
        "893caf8ab8bb4fc5a9fca940c1cd9bb9": {
          "model_module": "@jupyter-widgets/controls",
          "model_name": "ButtonStyleModel",
          "state": {
            "_view_name": "StyleView",
            "_model_name": "ButtonStyleModel",
            "_view_module": "@jupyter-widgets/base",
            "_model_module_version": "1.5.0",
            "_view_count": null,
            "button_color": null,
            "font_weight": "",
            "_view_module_version": "1.2.0",
            "_model_module": "@jupyter-widgets/controls"
          }
        },
        "55c6560313344fb3a2cc4152cb549c51": {
          "model_module": "@jupyter-widgets/base",
          "model_name": "LayoutModel",
          "state": {
            "_view_name": "LayoutView",
            "grid_template_rows": null,
            "right": null,
            "justify_content": null,
            "_view_module": "@jupyter-widgets/base",
            "overflow": null,
            "_model_module_version": "1.2.0",
            "_view_count": null,
            "flex_flow": null,
            "width": null,
            "min_width": null,
            "border": null,
            "align_items": null,
            "bottom": null,
            "_model_module": "@jupyter-widgets/base",
            "top": null,
            "grid_column": null,
            "overflow_y": null,
            "overflow_x": null,
            "grid_auto_flow": null,
            "grid_area": null,
            "grid_template_columns": null,
            "flex": null,
            "_model_name": "LayoutModel",
            "justify_items": null,
            "grid_row": null,
            "max_height": null,
            "align_content": null,
            "visibility": null,
            "align_self": null,
            "height": null,
            "min_height": null,
            "padding": null,
            "grid_auto_rows": null,
            "grid_gap": null,
            "max_width": null,
            "order": null,
            "_view_module_version": "1.2.0",
            "grid_template_areas": null,
            "object_position": null,
            "object_fit": null,
            "grid_auto_columns": null,
            "margin": null,
            "display": null,
            "left": null
          }
        }
      }
    }
  },
  "cells": [
    {
      "cell_type": "markdown",
      "metadata": {
        "id": "view-in-github",
        "colab_type": "text"
      },
      "source": [
        "<a href=\"https://colab.research.google.com/github/andrewcgaitskell/celldb/blob/master/DataPipeline.ipynb\" target=\"_parent\"><img src=\"https://colab.research.google.com/assets/colab-badge.svg\" alt=\"Open In Colab\"/></a>"
      ]
    },
    {
      "cell_type": "markdown",
      "metadata": {
        "id": "-mDz5ZTQ0x1l"
      },
      "source": [
        ""
      ]
    },
    {
      "cell_type": "markdown",
      "metadata": {
        "id": "x1pvdyLtafeF"
      },
      "source": [
        "# Install Libraries"
      ]
    },
    {
      "cell_type": "code",
      "metadata": {
        "id": "AadAQppWP-0p"
      },
      "source": [
        "import pandas as pd\n",
        "import numpy as np"
      ],
      "execution_count": 20,
      "outputs": []
    },
    {
      "cell_type": "code",
      "metadata": {
        "id": "vr-1xOUaP-0u",
        "colab": {
          "base_uri": "https://localhost:8080/"
        },
        "outputId": "d0d9a500-1647-4bb7-cdd8-46a5946c6fb2"
      },
      "source": [
        "!pip install xlsxwriter\n",
        "!pip install xlrd\n",
        "!pip install matplotlib\n",
        "import xlsxwriter\n",
        "import xlrd\n",
        "import matplotlib"
      ],
      "execution_count": 21,
      "outputs": [
        {
          "output_type": "stream",
          "text": [
            "Requirement already satisfied: xlsxwriter in /usr/local/lib/python3.6/dist-packages (1.3.7)\n",
            "Requirement already satisfied: xlrd in /usr/local/lib/python3.6/dist-packages (1.1.0)\n",
            "Requirement already satisfied: matplotlib in /usr/local/lib/python3.6/dist-packages (3.2.2)\n",
            "Requirement already satisfied: kiwisolver>=1.0.1 in /usr/local/lib/python3.6/dist-packages (from matplotlib) (1.3.1)\n",
            "Requirement already satisfied: pyparsing!=2.0.4,!=2.1.2,!=2.1.6,>=2.0.1 in /usr/local/lib/python3.6/dist-packages (from matplotlib) (2.4.7)\n",
            "Requirement already satisfied: numpy>=1.11 in /usr/local/lib/python3.6/dist-packages (from matplotlib) (1.19.5)\n",
            "Requirement already satisfied: python-dateutil>=2.1 in /usr/local/lib/python3.6/dist-packages (from matplotlib) (2.8.1)\n",
            "Requirement already satisfied: cycler>=0.10 in /usr/local/lib/python3.6/dist-packages (from matplotlib) (0.10.0)\n",
            "Requirement already satisfied: six>=1.5 in /usr/local/lib/python3.6/dist-packages (from python-dateutil>=2.1->matplotlib) (1.15.0)\n"
          ],
          "name": "stdout"
        }
      ]
    },
    {
      "cell_type": "markdown",
      "metadata": {
        "id": "3p8PgjiP0_jY"
      },
      "source": [
        "# Introduction"
      ]
    },
    {
      "cell_type": "code",
      "metadata": {
        "id": "fcUz8nPa4Hh5"
      },
      "source": [
        "from datetime import datetime\n",
        "import os"
      ],
      "execution_count": 22,
      "outputs": []
    },
    {
      "cell_type": "code",
      "metadata": {
        "colab": {
          "base_uri": "https://localhost:8080/"
        },
        "id": "2WPJmc-VvjJ6",
        "outputId": "af93c7f1-c5bf-451f-d67c-8254f8f3df30"
      },
      "source": [
        "from datetime import datetime\n",
        "my_date = datetime.now()\n",
        "print(my_date.isoformat())"
      ],
      "execution_count": 23,
      "outputs": [
        {
          "output_type": "stream",
          "text": [
            "2021-01-29T11:32:42.247063\n"
          ],
          "name": "stdout"
        }
      ]
    },
    {
      "cell_type": "code",
      "metadata": {
        "colab": {
          "base_uri": "https://localhost:8080/"
        },
        "id": "g4hWXLKOv8Ko",
        "outputId": "6f8e5293-4e26-4ddf-da79-86d06902d8c3"
      },
      "source": [
        "print(my_date.strftime('%Y-%m-%dT%H:%M:%S.%f%z'))"
      ],
      "execution_count": 24,
      "outputs": [
        {
          "output_type": "stream",
          "text": [
            "2021-01-29T11:32:42.247063\n"
          ],
          "name": "stdout"
        }
      ]
    },
    {
      "cell_type": "code",
      "metadata": {
        "colab": {
          "base_uri": "https://localhost:8080/",
          "height": 35
        },
        "id": "tBDgMHTowFzq",
        "outputId": "44c60d84-f9c9-482e-e762-a689268b0926"
      },
      "source": [
        "runid = \"R\" + my_date.strftime('%Y%m%d%H%M%S%f%z')\n",
        "runid"
      ],
      "execution_count": 25,
      "outputs": [
        {
          "output_type": "execute_result",
          "data": {
            "application/vnd.google.colaboratory.intrinsic+json": {
              "type": "string"
            },
            "text/plain": [
              "'R20210129113242247063'"
            ]
          },
          "metadata": {
            "tags": []
          },
          "execution_count": 25
        }
      ]
    },
    {
      "cell_type": "code",
      "metadata": {
        "colab": {
          "base_uri": "https://localhost:8080/"
        },
        "id": "ltPCV36nP-00",
        "outputId": "2b53f741-dfee-4dc8-cb79-d5a39ed01923"
      },
      "source": [
        "dirname = os.getcwd()\n",
        "print(dirname)"
      ],
      "execution_count": 26,
      "outputs": [
        {
          "output_type": "stream",
          "text": [
            "/content\n"
          ],
          "name": "stdout"
        }
      ]
    },
    {
      "cell_type": "code",
      "metadata": {
        "id": "Wlg6CawSku84"
      },
      "source": [
        ""
      ],
      "execution_count": 26,
      "outputs": []
    },
    {
      "cell_type": "markdown",
      "metadata": {
        "id": "ZTb5uStIkw6B"
      },
      "source": [
        "## Upload File"
      ]
    },
    {
      "cell_type": "markdown",
      "metadata": {
        "id": "ynhtQQ2H1FgY"
      },
      "source": [
        "# Excel Data Types"
      ]
    },
    {
      "cell_type": "markdown",
      "metadata": {
        "id": "zKpghyfbfs1q"
      },
      "source": [
        "The following functions are use to work out the data type of an excel cell."
      ]
    },
    {
      "cell_type": "code",
      "metadata": {
        "id": "gS1sVfVX4bRL"
      },
      "source": [
        "def validate_date(date_text):\n",
        "    try:\n",
        "        format_string = '%Y-%m-%d %H:%M:%S'\n",
        "        datetime.strptime(date_text, format_string)\n",
        "        return \"OK\"\n",
        "    except ValueError:\n",
        "        return None\n",
        "\n",
        "def GetDataType(row_in):\n",
        "    valueasstring = str(row_in['CellValue'])\n",
        "    if validate_date(valueasstring) != None:\n",
        "        return 'Date'\n",
        "    elif valueasstring.isnumeric():\n",
        "        return 'Number'\n",
        "    else:\n",
        "        return 'Text'\n",
        "\n",
        "def add1_2row(row_in):\n",
        "    return row_in['RowID'] + 1\n",
        "\n",
        "\n",
        "def add1_2column(row_in):\n",
        "    return row_in['ColumnID'] + 1"
      ],
      "execution_count": 27,
      "outputs": []
    },
    {
      "cell_type": "code",
      "metadata": {
        "colab": {
          "base_uri": "https://localhost:8080/",
          "height": 48,
          "referenced_widgets": [
            "176cdc2cb583454f96b1305d07ef276f",
            "893caf8ab8bb4fc5a9fca940c1cd9bb9",
            "55c6560313344fb3a2cc4152cb549c51"
          ]
        },
        "id": "tzOnyRt7kfpN",
        "outputId": "28596753-cb4e-4bdf-e065-92c2c5e947f5"
      },
      "source": [
        "from ipywidgets import FileUpload\n",
        "upload = FileUpload()\n",
        "upload"
      ],
      "execution_count": 30,
      "outputs": [
        {
          "output_type": "display_data",
          "data": {
            "application/vnd.jupyter.widget-view+json": {
              "model_id": "176cdc2cb583454f96b1305d07ef276f",
              "version_minor": 0,
              "version_major": 2
            },
            "text/plain": [
              "FileUpload(value={}, description='Upload')"
            ]
          },
          "metadata": {
            "tags": []
          }
        }
      ]
    },
    {
      "cell_type": "code",
      "metadata": {
        "id": "oK3e6oyZ5hh4"
      },
      "source": [
        "import io\n",
        "#filedf = pd.read_excel(upload.data[0],sheet_name=None, header=None, encoding='utf-8', errors='ignore')\n",
        "filedf = pd.read_excel(upload.data[0],sheet_name=None, header=None)"
      ],
      "execution_count": 32,
      "outputs": []
    },
    {
      "cell_type": "code",
      "metadata": {
        "colab": {
          "base_uri": "https://localhost:8080/"
        },
        "id": "8y-f7KyPmbxn",
        "outputId": "e1d99def-c4a1-4125-d7c9-c6f171c2be23"
      },
      "source": [
        "filedf"
      ],
      "execution_count": 33,
      "outputs": [
        {
          "output_type": "execute_result",
          "data": {
            "text/plain": [
              "{'AgeGenderSheet':             0                    1      2             3                  4\n",
              " 0         NaN                  NaN    NaN           NaN                NaN\n",
              " 1         NaN                  NaN    NaN           NaN                NaN\n",
              " 2         NaN                  NaN    NaN           NaN                NaN\n",
              " 3         NaN                  NaN    NaN           NaN                NaN\n",
              " 4         NaN            Age Table    NaN           NaN                NaN\n",
              " 5         NaN                  NaN   Name           Age                NaN\n",
              " 6         NaN                  NaN   Paul           -52                NaN\n",
              " 7         NaN                  NaN  Ringo            22                NaN\n",
              " 8         NaN                  NaN  Brian            89                NaN\n",
              " 9         NaN                  NaN    NaN           NaN                NaN\n",
              " 10        NaN                  NaN    NaN           NaN                NaN\n",
              " 11        NaN                  NaN    NaN           NaN                NaN\n",
              " 12        NaN                  NaN    NaN           NaN                NaN\n",
              " 13        NaN                  NaN    NaN  Gender Table                NaN\n",
              " 14        NaN                  NaN    NaN          Name             Gender\n",
              " 15        NaN                  NaN    NaN          Paul               Male\n",
              " 16        NaN                  NaN    NaN         Ringo  Prefer not to say\n",
              " 17        NaN                  NaN    NaN         Brian               Male\n",
              " 18        NaN                  NaN    NaN           NaN                NaN\n",
              " 19        NaN                  NaN    NaN           NaN                NaN\n",
              " 20        NaN                  NaN    NaN           NaN                NaN\n",
              " 21        NaN                  NaN    NaN           NaN                NaN\n",
              " 22  DOB Table                  NaN    NaN           NaN                NaN\n",
              " 23       Name                D.O.B    NaN           NaN                NaN\n",
              " 24       Paul  1955-07-01 00:00:00    NaN           NaN                NaN\n",
              " 25      Ringo  1996-01-09 00:00:00    NaN           NaN                NaN\n",
              " 26      Brian           7th Aug 28    NaN           NaN                NaN,\n",
              " 'DataMap':                          0                      1  ...              8              9\n",
              " 0                SheetName          ReferenceText  ...  Column Header        Dataset\n",
              " 1           AgeGenderSheet              Age Table  ...           Name           Ages\n",
              " 2           AgeGenderSheet              Age Table  ...            Age           Ages\n",
              " 3           AgeGenderSheet           Gender Table  ...           Name        Genders\n",
              " 4           AgeGenderSheet           Gender Table  ...         Gender        Genders\n",
              " 5           AgeGenderSheet              DOB Table  ...           Name            DoB\n",
              " 6           AgeGenderSheet              DOB Table  ...          D.O.B            DoB\n",
              " 7   MaritalDepartmentSheet   Marital Status Table  ...           Name  MaritalStatus\n",
              " 8   MaritalDepartmentSheet   Marital Status Table  ...         Status  MaritalStatus\n",
              " 9   MaritalDepartmentSheet       Department Table  ...           Name     Department\n",
              " 10  MaritalDepartmentSheet       Department Table  ...     Department     Department\n",
              " 11                JobSheet  Job Description Table  ...      Job Title           Jobs\n",
              " 12                JobSheet  Job Description Table  ...  Employee Name           Jobs\n",
              " 13                JobSheet  Job Description Table  ...             ID           Jobs\n",
              " 14               HomeSheet    Home Location Table  ...       Employee   HomeLocation\n",
              " 15               HomeSheet    Home Location Table  ...       Location   HomeLocation\n",
              " \n",
              " [16 rows x 10 columns],\n",
              " 'DataSet':                 0                       1  ...                 8                 9\n",
              " 0         DataSet               SheetName  ...  FieldDescription  TableOrientation\n",
              " 1            Ages          AgeGenderSheet  ...              Name              Down\n",
              " 2            Ages          AgeGenderSheet  ...               Age              Down\n",
              " 3         Genders          AgeGenderSheet  ...              Name              Down\n",
              " 4         Genders          AgeGenderSheet  ...            Gender              Down\n",
              " 5             DoB          AgeGenderSheet  ...              Name              Down\n",
              " 6             DoB          AgeGenderSheet  ...             D.O.B              Down\n",
              " 7   MaritalStatus  MaritalDepartmentSheet  ...              Name               NaN\n",
              " 8   MaritalStatus  MaritalDepartmentSheet  ...            Status               NaN\n",
              " 9      Department  MaritalDepartmentSheet  ...              Name               NaN\n",
              " 10     Department  MaritalDepartmentSheet  ...        Department               NaN\n",
              " 11           Jobs                JobSheet  ...         Job Title               NaN\n",
              " 12           Jobs                JobSheet  ...     Employee Name               NaN\n",
              " 13           Jobs                JobSheet  ...                ID               NaN\n",
              " 14   HomeLocation               HomeSheet  ...          Employee               NaN\n",
              " 15   HomeLocation               HomeSheet  ...          Location               NaN\n",
              " \n",
              " [16 rows x 10 columns],\n",
              " 'HomeSheet':                       0          1\n",
              " 0                   NaN        NaN\n",
              " 1                   NaN        NaN\n",
              " 2                   NaN        NaN\n",
              " 3                   NaN        NaN\n",
              " 4                   NaN        NaN\n",
              " 5                   NaN        NaN\n",
              " 6                   NaN        NaN\n",
              " 7   Home Location Table        NaN\n",
              " 8              Employee   Location\n",
              " 9                 Brian     London\n",
              " 10                Ringo  Liverpool\n",
              " 11                 Paul  Blackpool,\n",
              " 'JobSheet':     0   1                      2              3    4\n",
              " 0 NaN NaN                    NaN            NaN  NaN\n",
              " 1 NaN NaN                    NaN            NaN  NaN\n",
              " 2 NaN NaN                    NaN            NaN  NaN\n",
              " 3 NaN NaN                    NaN            NaN  NaN\n",
              " 4 NaN NaN                    NaN            NaN  NaN\n",
              " 5 NaN NaN  Job Description Table            NaN  NaN\n",
              " 6 NaN NaN              Job Title  Employee Name   ID\n",
              " 7 NaN NaN     Production Manager           Paul    A\n",
              " 8 NaN NaN             Programmer          Ringo    1\n",
              " 9 NaN NaN             Accountant          Brian    2,\n",
              " 'MaritalDepartmentSheet':                       0                  1  ...                 4           5\n",
              " 0                   NaN                NaN  ...               NaN         NaN\n",
              " 1                   NaN                NaN  ...  Department Table         NaN\n",
              " 2  Marital Status Table                NaN  ...              Name  Department\n",
              " 3                  Name             Status  ...              Paul  Production\n",
              " 4                  Paul            Married  ...             Ringo          IT\n",
              " 5                 Ringo  Civil Partnership  ...             Brian    Accounts\n",
              " 6                 Brian             Single  ...               NaN         NaN\n",
              " \n",
              " [7 rows x 6 columns],\n",
              " 'Palette':                        0  ...                                                  8\n",
              " 0                KeyWord  ...                                      PythonFormula\n",
              " 1                   Date  ...      np.where(dataset['CellType'] == 'Date', 1, 0)\n",
              " 2                 Number  ...    np.where(dataset['CellType'] == 'Number', 1, 0)\n",
              " 3                   Text  ...      np.where(dataset['CellType'] == 'Text', 1, 0)\n",
              " 4                NotNull  ...  dataset['CellValue'].isnull().map({True: 0, Fa...\n",
              " 5             1OrGreater  ...                                                NaN\n",
              " 6               Positive  ...   np.where(dataset['CellValueAsNumber'] > 0, 1, 0)\n",
              " 7            NotNegative  ...                                                NaN\n",
              " 8       FieldSizeMaximum  ...                                                NaN\n",
              " 9       FieldSizeMinimum  ...                                                NaN\n",
              " 10       FieldSizeLength  ...                                                NaN\n",
              " 11              PickList  ...                                                NaN\n",
              " 12               Pattern  ...                                                NaN\n",
              " 13             DateRange  ...                                                NaN\n",
              " 14     IsAllAlphaNumeric  ...                                                NaN\n",
              " 15                 Email  ...                                                NaN\n",
              " 16         ShortPostCode  ...                                                NaN\n",
              " 17  GreaterThanRangeFrom  ...                                                NaN\n",
              " 18                  Less  ...                                                NaN\n",
              " 19              PostCode  ...                                                NaN\n",
              " 20            NoDayInDoB  ...                                                NaN\n",
              " 21        GreaterThanTen  ...  np.where(dataset['CellValueAsNumber'] > 10, 1, 0)\n",
              " \n",
              " [22 rows x 9 columns],\n",
              " 'PickList':                0             1       2\n",
              " 0  MaritalStatus  HomeLocation  Gender\n",
              " 1         Single        London    Male\n",
              " 2        Married     Liverpool  Female,\n",
              " 'Rules':         0                1              2   ...        10              11     12\n",
              " 0   RuleID          DataSet        FieldID  ...     Rule1           Rule2  Rule3\n",
              " 1        1             Ages           Name  ...       NaN             NaN    NaN\n",
              " 2        2             Ages            Age  ...  Positive  GreaterThanTen    NaN\n",
              " 3        3          Genders           Name  ...       NaN             NaN    NaN\n",
              " 4        4          Genders         Gender  ...       NaN             NaN    NaN\n",
              " 5        5              DoB           Name  ...       NaN             NaN    NaN\n",
              " 6        6              DoB            DoB  ...       NaN             NaN    NaN\n",
              " 7        7    MaritalStatus           Name  ...       NaN             NaN    NaN\n",
              " 8        8    MaritalStatus         Status  ...       NaN             NaN    NaN\n",
              " 9        9  DepartmentTable           Name  ...       NaN             NaN    NaN\n",
              " 10      10  DepartmentTable     Department  ...       NaN             NaN    NaN\n",
              " 11      11             Jobs      Job_Title  ...       NaN             NaN    NaN\n",
              " 12      12             Jobs  Employee_Name  ...       NaN             NaN    NaN\n",
              " 13      13             Jobs             ID  ...       NaN             NaN    NaN\n",
              " 14      14     HomeLocation       Employee  ...       NaN             NaN    NaN\n",
              " 15      15     HomeLocation       Location  ...       NaN             NaN    NaN\n",
              " \n",
              " [16 rows x 13 columns],\n",
              " 'TemplateValidationMap':                          0  ...                      5\n",
              " 0                SheetName  ...           TemplateText\n",
              " 1           AgeGenderSheet  ...              Age Table\n",
              " 2           AgeGenderSheet  ...                   Name\n",
              " 3           AgeGenderSheet  ...                    Age\n",
              " 4           AgeGenderSheet  ...           Gender Table\n",
              " 5           AgeGenderSheet  ...                   Name\n",
              " 6           AgeGenderSheet  ...                 Gender\n",
              " 7           AgeGenderSheet  ...              DOB Table\n",
              " 8           AgeGenderSheet  ...                   Name\n",
              " 9           AgeGenderSheet  ...                  D.O.B\n",
              " 10  MaritalDepartmentSheet  ...   Marital Status Table\n",
              " 11  MaritalDepartmentSheet  ...                   Name\n",
              " 12  MaritalDepartmentSheet  ...                 Status\n",
              " 13  MaritalDepartmentSheet  ...       Department Table\n",
              " 14  MaritalDepartmentSheet  ...                   Name\n",
              " 15  MaritalDepartmentSheet  ...             Department\n",
              " 16                JobSheet  ...  Job Description Table\n",
              " 17                JobSheet  ...              Job Title\n",
              " 18                JobSheet  ...          Employee Name\n",
              " 19                JobSheet  ...                     ID\n",
              " 20               HomeSheet  ...    Home Location Table\n",
              " 21               HomeSheet  ...               Employee\n",
              " 22               HomeSheet  ...               Location\n",
              " \n",
              " [23 rows x 6 columns]}"
            ]
          },
          "metadata": {
            "tags": []
          },
          "execution_count": 33
        }
      ]
    },
    {
      "cell_type": "markdown",
      "metadata": {
        "id": "cPktYeFX1Ujq"
      },
      "source": [
        "# Read All Sheets into Data Frame"
      ]
    },
    {
      "cell_type": "code",
      "metadata": {
        "id": "VYKox_Ng6J0Y"
      },
      "source": [
        "sheetnames = list(filedf.keys())"
      ],
      "execution_count": 34,
      "outputs": []
    },
    {
      "cell_type": "code",
      "metadata": {
        "colab": {
          "base_uri": "https://localhost:8080/"
        },
        "id": "lVh1ixup6WEB",
        "outputId": "077bc906-66ad-495e-dcdd-620af5a36d29"
      },
      "source": [
        "print(sheetnames)"
      ],
      "execution_count": 35,
      "outputs": [
        {
          "output_type": "stream",
          "text": [
            "['AgeGenderSheet', 'HomeSheet', 'JobSheet', 'MaritalDepartmentSheet', 'DataMap', 'TemplateValidationMap', 'DataSet', 'Rules', 'Palette', 'PickList']\n"
          ],
          "name": "stdout"
        }
      ]
    },
    {
      "cell_type": "markdown",
      "metadata": {
        "id": "HG-wdyrgq7t6"
      },
      "source": [
        "Each Sheet is retrieved into Dataframes\n",
        "\n",
        "DataMapDF = specdf['DataMap']\n",
        "TemplateValidationMapDF = specdf['TemplateValidationMap']\n",
        "DataSetDF = specdf['DataSet']\n",
        "RulesDF = specdf['Rules']\n",
        "PaletteDF = specdf['Palette']\n",
        "PickListDF = specdf['PickList']\n",
        "datadf = pd.DataFrame()\n"
      ]
    },
    {
      "cell_type": "code",
      "metadata": {
        "id": "lkW7iL0g86Xh"
      },
      "source": [
        ""
      ],
      "execution_count": null,
      "outputs": []
    },
    {
      "cell_type": "code",
      "metadata": {
        "id": "yqDK2CM281w_"
      },
      "source": [
        ""
      ],
      "execution_count": null,
      "outputs": []
    },
    {
      "cell_type": "markdown",
      "metadata": {
        "id": "eF7j_IEBgR0U"
      },
      "source": [
        "The following converts the whole spreadsheet into a cell database and this is used throughout for all data frame population."
      ]
    },
    {
      "cell_type": "code",
      "metadata": {
        "id": "T2Y0O5ZYzv_K",
        "colab": {
          "base_uri": "https://localhost:8080/",
          "height": 527
        },
        "outputId": "70886a2c-fc7f-445f-fec3-992561a71e3d"
      },
      "source": [
        "celldbstagedf = pd.DataFrame()\n",
        "sheetdf = filedf['DataMap'].copy()\n",
        "sheetdf[\"RowID\"] = sheetdf.index\n",
        "sheetdf"
      ],
      "execution_count": 36,
      "outputs": [
        {
          "output_type": "execute_result",
          "data": {
            "text/html": [
              "<div>\n",
              "<style scoped>\n",
              "    .dataframe tbody tr th:only-of-type {\n",
              "        vertical-align: middle;\n",
              "    }\n",
              "\n",
              "    .dataframe tbody tr th {\n",
              "        vertical-align: top;\n",
              "    }\n",
              "\n",
              "    .dataframe thead th {\n",
              "        text-align: right;\n",
              "    }\n",
              "</style>\n",
              "<table border=\"1\" class=\"dataframe\">\n",
              "  <thead>\n",
              "    <tr style=\"text-align: right;\">\n",
              "      <th></th>\n",
              "      <th>0</th>\n",
              "      <th>1</th>\n",
              "      <th>2</th>\n",
              "      <th>3</th>\n",
              "      <th>4</th>\n",
              "      <th>5</th>\n",
              "      <th>6</th>\n",
              "      <th>7</th>\n",
              "      <th>8</th>\n",
              "      <th>9</th>\n",
              "      <th>RowID</th>\n",
              "    </tr>\n",
              "  </thead>\n",
              "  <tbody>\n",
              "    <tr>\n",
              "      <th>0</th>\n",
              "      <td>SheetName</td>\n",
              "      <td>ReferenceText</td>\n",
              "      <td>RowFromReferenceText</td>\n",
              "      <td>ColumnFromReferenceText</td>\n",
              "      <td>TemplateText</td>\n",
              "      <td>DataGroup</td>\n",
              "      <td>DataCategory</td>\n",
              "      <td>DataScope</td>\n",
              "      <td>Column Header</td>\n",
              "      <td>Dataset</td>\n",
              "      <td>0</td>\n",
              "    </tr>\n",
              "    <tr>\n",
              "      <th>1</th>\n",
              "      <td>AgeGenderSheet</td>\n",
              "      <td>Age Table</td>\n",
              "      <td>2</td>\n",
              "      <td>1</td>\n",
              "      <td>Name</td>\n",
              "      <td>Ages</td>\n",
              "      <td>NaN</td>\n",
              "      <td>NaN</td>\n",
              "      <td>Name</td>\n",
              "      <td>Ages</td>\n",
              "      <td>1</td>\n",
              "    </tr>\n",
              "    <tr>\n",
              "      <th>2</th>\n",
              "      <td>AgeGenderSheet</td>\n",
              "      <td>Age Table</td>\n",
              "      <td>2</td>\n",
              "      <td>2</td>\n",
              "      <td>Age</td>\n",
              "      <td>Ages</td>\n",
              "      <td>NaN</td>\n",
              "      <td>NaN</td>\n",
              "      <td>Age</td>\n",
              "      <td>Ages</td>\n",
              "      <td>2</td>\n",
              "    </tr>\n",
              "    <tr>\n",
              "      <th>3</th>\n",
              "      <td>AgeGenderSheet</td>\n",
              "      <td>Gender Table</td>\n",
              "      <td>2</td>\n",
              "      <td>0</td>\n",
              "      <td>Name</td>\n",
              "      <td>Genders</td>\n",
              "      <td>NaN</td>\n",
              "      <td>NaN</td>\n",
              "      <td>Name</td>\n",
              "      <td>Genders</td>\n",
              "      <td>3</td>\n",
              "    </tr>\n",
              "    <tr>\n",
              "      <th>4</th>\n",
              "      <td>AgeGenderSheet</td>\n",
              "      <td>Gender Table</td>\n",
              "      <td>2</td>\n",
              "      <td>1</td>\n",
              "      <td>Gender</td>\n",
              "      <td>Genders</td>\n",
              "      <td>NaN</td>\n",
              "      <td>NaN</td>\n",
              "      <td>Gender</td>\n",
              "      <td>Genders</td>\n",
              "      <td>4</td>\n",
              "    </tr>\n",
              "    <tr>\n",
              "      <th>5</th>\n",
              "      <td>AgeGenderSheet</td>\n",
              "      <td>DOB Table</td>\n",
              "      <td>2</td>\n",
              "      <td>0</td>\n",
              "      <td>Name</td>\n",
              "      <td>DoB</td>\n",
              "      <td>NaN</td>\n",
              "      <td>NaN</td>\n",
              "      <td>Name</td>\n",
              "      <td>DoB</td>\n",
              "      <td>5</td>\n",
              "    </tr>\n",
              "    <tr>\n",
              "      <th>6</th>\n",
              "      <td>AgeGenderSheet</td>\n",
              "      <td>DOB Table</td>\n",
              "      <td>2</td>\n",
              "      <td>1</td>\n",
              "      <td>D.O.B</td>\n",
              "      <td>DoB</td>\n",
              "      <td>NaN</td>\n",
              "      <td>NaN</td>\n",
              "      <td>D.O.B</td>\n",
              "      <td>DoB</td>\n",
              "      <td>6</td>\n",
              "    </tr>\n",
              "    <tr>\n",
              "      <th>7</th>\n",
              "      <td>MaritalDepartmentSheet</td>\n",
              "      <td>Marital Status Table</td>\n",
              "      <td>2</td>\n",
              "      <td>0</td>\n",
              "      <td>Name</td>\n",
              "      <td>Marital Status</td>\n",
              "      <td>NaN</td>\n",
              "      <td>NaN</td>\n",
              "      <td>Name</td>\n",
              "      <td>MaritalStatus</td>\n",
              "      <td>7</td>\n",
              "    </tr>\n",
              "    <tr>\n",
              "      <th>8</th>\n",
              "      <td>MaritalDepartmentSheet</td>\n",
              "      <td>Marital Status Table</td>\n",
              "      <td>2</td>\n",
              "      <td>1</td>\n",
              "      <td>Status</td>\n",
              "      <td>Marital Status</td>\n",
              "      <td>NaN</td>\n",
              "      <td>NaN</td>\n",
              "      <td>Status</td>\n",
              "      <td>MaritalStatus</td>\n",
              "      <td>8</td>\n",
              "    </tr>\n",
              "    <tr>\n",
              "      <th>9</th>\n",
              "      <td>MaritalDepartmentSheet</td>\n",
              "      <td>Department Table</td>\n",
              "      <td>2</td>\n",
              "      <td>0</td>\n",
              "      <td>Name</td>\n",
              "      <td>Department</td>\n",
              "      <td>NaN</td>\n",
              "      <td>NaN</td>\n",
              "      <td>Name</td>\n",
              "      <td>Department</td>\n",
              "      <td>9</td>\n",
              "    </tr>\n",
              "    <tr>\n",
              "      <th>10</th>\n",
              "      <td>MaritalDepartmentSheet</td>\n",
              "      <td>Department Table</td>\n",
              "      <td>2</td>\n",
              "      <td>1</td>\n",
              "      <td>Department</td>\n",
              "      <td>Department</td>\n",
              "      <td>NaN</td>\n",
              "      <td>NaN</td>\n",
              "      <td>Department</td>\n",
              "      <td>Department</td>\n",
              "      <td>10</td>\n",
              "    </tr>\n",
              "    <tr>\n",
              "      <th>11</th>\n",
              "      <td>JobSheet</td>\n",
              "      <td>Job Description Table</td>\n",
              "      <td>2</td>\n",
              "      <td>0</td>\n",
              "      <td>Job Title</td>\n",
              "      <td>Jobs</td>\n",
              "      <td>NaN</td>\n",
              "      <td>NaN</td>\n",
              "      <td>Job Title</td>\n",
              "      <td>Jobs</td>\n",
              "      <td>11</td>\n",
              "    </tr>\n",
              "    <tr>\n",
              "      <th>12</th>\n",
              "      <td>JobSheet</td>\n",
              "      <td>Job Description Table</td>\n",
              "      <td>2</td>\n",
              "      <td>1</td>\n",
              "      <td>Employee Name</td>\n",
              "      <td>Jobs</td>\n",
              "      <td>NaN</td>\n",
              "      <td>NaN</td>\n",
              "      <td>Employee Name</td>\n",
              "      <td>Jobs</td>\n",
              "      <td>12</td>\n",
              "    </tr>\n",
              "    <tr>\n",
              "      <th>13</th>\n",
              "      <td>JobSheet</td>\n",
              "      <td>Job Description Table</td>\n",
              "      <td>2</td>\n",
              "      <td>2</td>\n",
              "      <td>ID</td>\n",
              "      <td>Jobs</td>\n",
              "      <td>NaN</td>\n",
              "      <td>NaN</td>\n",
              "      <td>ID</td>\n",
              "      <td>Jobs</td>\n",
              "      <td>13</td>\n",
              "    </tr>\n",
              "    <tr>\n",
              "      <th>14</th>\n",
              "      <td>HomeSheet</td>\n",
              "      <td>Home Location Table</td>\n",
              "      <td>2</td>\n",
              "      <td>0</td>\n",
              "      <td>Employee</td>\n",
              "      <td>Home Location</td>\n",
              "      <td>NaN</td>\n",
              "      <td>NaN</td>\n",
              "      <td>Employee</td>\n",
              "      <td>HomeLocation</td>\n",
              "      <td>14</td>\n",
              "    </tr>\n",
              "    <tr>\n",
              "      <th>15</th>\n",
              "      <td>HomeSheet</td>\n",
              "      <td>Home Location Table</td>\n",
              "      <td>2</td>\n",
              "      <td>1</td>\n",
              "      <td>Location</td>\n",
              "      <td>Home Location</td>\n",
              "      <td>NaN</td>\n",
              "      <td>NaN</td>\n",
              "      <td>Location</td>\n",
              "      <td>HomeLocation</td>\n",
              "      <td>15</td>\n",
              "    </tr>\n",
              "  </tbody>\n",
              "</table>\n",
              "</div>"
            ],
            "text/plain": [
              "                         0                      1  ...              9 RowID\n",
              "0                SheetName          ReferenceText  ...        Dataset     0\n",
              "1           AgeGenderSheet              Age Table  ...           Ages     1\n",
              "2           AgeGenderSheet              Age Table  ...           Ages     2\n",
              "3           AgeGenderSheet           Gender Table  ...        Genders     3\n",
              "4           AgeGenderSheet           Gender Table  ...        Genders     4\n",
              "5           AgeGenderSheet              DOB Table  ...            DoB     5\n",
              "6           AgeGenderSheet              DOB Table  ...            DoB     6\n",
              "7   MaritalDepartmentSheet   Marital Status Table  ...  MaritalStatus     7\n",
              "8   MaritalDepartmentSheet   Marital Status Table  ...  MaritalStatus     8\n",
              "9   MaritalDepartmentSheet       Department Table  ...     Department     9\n",
              "10  MaritalDepartmentSheet       Department Table  ...     Department    10\n",
              "11                JobSheet  Job Description Table  ...           Jobs    11\n",
              "12                JobSheet  Job Description Table  ...           Jobs    12\n",
              "13                JobSheet  Job Description Table  ...           Jobs    13\n",
              "14               HomeSheet    Home Location Table  ...   HomeLocation    14\n",
              "15               HomeSheet    Home Location Table  ...   HomeLocation    15\n",
              "\n",
              "[16 rows x 11 columns]"
            ]
          },
          "metadata": {
            "tags": []
          },
          "execution_count": 36
        }
      ]
    },
    {
      "cell_type": "code",
      "metadata": {
        "id": "ts-N1j3I7qdg"
      },
      "source": [
        "for currentsheetname in sheetnames:\n",
        "\n",
        "    sheetdf = filedf[currentsheetname].copy()\n",
        "    sheetdf[\"RowID\"] = sheetdf.index\n",
        "    celldb = pd.melt(sheetdf, id_vars=['RowID'])\n",
        "    celldb = celldb.rename(columns={\"variable\": \"ColumnID\", \"value\": \"CellValue\"})\n",
        "    celldb[\"CellType\"] = \"Unset\"\n",
        "    celldb[\"FileName\"] = runid\n",
        "    celldb[\"SheetName\"] = currentsheetname\n",
        "    \n",
        "    celldb[\"ColumnID\"] = celldb[\"ColumnID\"]\n",
        "\n",
        "    try:\n",
        "        celldb[\"CellType\"] = celldb.apply(GetDataType, axis=1)\n",
        "        celldb[\"RowID\"] = celldb.apply(add1_2row, axis=1)\n",
        "        celldb[\"ColumnID\"] = celldb.apply(add1_2column, axis=1)\n",
        "\n",
        "    except:\n",
        "\n",
        "        celldb[\"CellType\"] = 'unknown'\n",
        "        celldb[\"RowID\"] = 0\n",
        "        celldb[\"ColumnID\"] = 0\n",
        "\n",
        "    celldbstagedf = celldbstagedf.append(celldb, ignore_index=True)\n",
        "\n",
        "    celldb = pd.DataFrame()\n",
        "\n"
      ],
      "execution_count": 37,
      "outputs": []
    },
    {
      "cell_type": "code",
      "metadata": {
        "id": "k_3i157_72QV"
      },
      "source": [
        "fullcelldb = celldbstagedf.copy()"
      ],
      "execution_count": 40,
      "outputs": []
    },
    {
      "cell_type": "code",
      "metadata": {
        "id": "gWEQWuO1xcvB",
        "colab": {
          "base_uri": "https://localhost:8080/",
          "height": 406
        },
        "outputId": "ed13e250-38a0-4d38-d2a3-83a7d325b026"
      },
      "source": [
        "#df = celldbstagedf[celldbstagedf['SheetName']=='AgeGenderSheet']\n",
        "parametersheets = ['DataMap', 'TemplateValidationMap', 'DataSet', 'Rules', 'Palette', 'PickList']\n",
        "DatasetCells = fullcelldb[~fullcelldb.SheetName.isin(parametersheets)]\n",
        "DatasetCells\n",
        "\n",
        "#df[~df.country.isin(countries_to_keep)]"
      ],
      "execution_count": 63,
      "outputs": [
        {
          "output_type": "execute_result",
          "data": {
            "text/html": [
              "<div>\n",
              "<style scoped>\n",
              "    .dataframe tbody tr th:only-of-type {\n",
              "        vertical-align: middle;\n",
              "    }\n",
              "\n",
              "    .dataframe tbody tr th {\n",
              "        vertical-align: top;\n",
              "    }\n",
              "\n",
              "    .dataframe thead th {\n",
              "        text-align: right;\n",
              "    }\n",
              "</style>\n",
              "<table border=\"1\" class=\"dataframe\">\n",
              "  <thead>\n",
              "    <tr style=\"text-align: right;\">\n",
              "      <th></th>\n",
              "      <th>RowID</th>\n",
              "      <th>ColumnID</th>\n",
              "      <th>CellValue</th>\n",
              "      <th>CellType</th>\n",
              "      <th>FileName</th>\n",
              "      <th>SheetName</th>\n",
              "    </tr>\n",
              "  </thead>\n",
              "  <tbody>\n",
              "    <tr>\n",
              "      <th>0</th>\n",
              "      <td>1</td>\n",
              "      <td>1</td>\n",
              "      <td>NaN</td>\n",
              "      <td>Text</td>\n",
              "      <td>R20210129113242247063</td>\n",
              "      <td>AgeGenderSheet</td>\n",
              "    </tr>\n",
              "    <tr>\n",
              "      <th>1</th>\n",
              "      <td>2</td>\n",
              "      <td>1</td>\n",
              "      <td>NaN</td>\n",
              "      <td>Text</td>\n",
              "      <td>R20210129113242247063</td>\n",
              "      <td>AgeGenderSheet</td>\n",
              "    </tr>\n",
              "    <tr>\n",
              "      <th>2</th>\n",
              "      <td>3</td>\n",
              "      <td>1</td>\n",
              "      <td>NaN</td>\n",
              "      <td>Text</td>\n",
              "      <td>R20210129113242247063</td>\n",
              "      <td>AgeGenderSheet</td>\n",
              "    </tr>\n",
              "    <tr>\n",
              "      <th>3</th>\n",
              "      <td>4</td>\n",
              "      <td>1</td>\n",
              "      <td>NaN</td>\n",
              "      <td>Text</td>\n",
              "      <td>R20210129113242247063</td>\n",
              "      <td>AgeGenderSheet</td>\n",
              "    </tr>\n",
              "    <tr>\n",
              "      <th>4</th>\n",
              "      <td>5</td>\n",
              "      <td>1</td>\n",
              "      <td>NaN</td>\n",
              "      <td>Text</td>\n",
              "      <td>R20210129113242247063</td>\n",
              "      <td>AgeGenderSheet</td>\n",
              "    </tr>\n",
              "    <tr>\n",
              "      <th>...</th>\n",
              "      <td>...</td>\n",
              "      <td>...</td>\n",
              "      <td>...</td>\n",
              "      <td>...</td>\n",
              "      <td>...</td>\n",
              "      <td>...</td>\n",
              "    </tr>\n",
              "    <tr>\n",
              "      <th>246</th>\n",
              "      <td>3</td>\n",
              "      <td>6</td>\n",
              "      <td>Department</td>\n",
              "      <td>Text</td>\n",
              "      <td>R20210129113242247063</td>\n",
              "      <td>MaritalDepartmentSheet</td>\n",
              "    </tr>\n",
              "    <tr>\n",
              "      <th>247</th>\n",
              "      <td>4</td>\n",
              "      <td>6</td>\n",
              "      <td>Production</td>\n",
              "      <td>Text</td>\n",
              "      <td>R20210129113242247063</td>\n",
              "      <td>MaritalDepartmentSheet</td>\n",
              "    </tr>\n",
              "    <tr>\n",
              "      <th>248</th>\n",
              "      <td>5</td>\n",
              "      <td>6</td>\n",
              "      <td>IT</td>\n",
              "      <td>Text</td>\n",
              "      <td>R20210129113242247063</td>\n",
              "      <td>MaritalDepartmentSheet</td>\n",
              "    </tr>\n",
              "    <tr>\n",
              "      <th>249</th>\n",
              "      <td>6</td>\n",
              "      <td>6</td>\n",
              "      <td>Accounts</td>\n",
              "      <td>Text</td>\n",
              "      <td>R20210129113242247063</td>\n",
              "      <td>MaritalDepartmentSheet</td>\n",
              "    </tr>\n",
              "    <tr>\n",
              "      <th>250</th>\n",
              "      <td>7</td>\n",
              "      <td>6</td>\n",
              "      <td>NaN</td>\n",
              "      <td>Text</td>\n",
              "      <td>R20210129113242247063</td>\n",
              "      <td>MaritalDepartmentSheet</td>\n",
              "    </tr>\n",
              "  </tbody>\n",
              "</table>\n",
              "<p>251 rows × 6 columns</p>\n",
              "</div>"
            ],
            "text/plain": [
              "     RowID  ColumnID  ...               FileName               SheetName\n",
              "0        1         1  ...  R20210129113242247063          AgeGenderSheet\n",
              "1        2         1  ...  R20210129113242247063          AgeGenderSheet\n",
              "2        3         1  ...  R20210129113242247063          AgeGenderSheet\n",
              "3        4         1  ...  R20210129113242247063          AgeGenderSheet\n",
              "4        5         1  ...  R20210129113242247063          AgeGenderSheet\n",
              "..     ...       ...  ...                    ...                     ...\n",
              "246      3         6  ...  R20210129113242247063  MaritalDepartmentSheet\n",
              "247      4         6  ...  R20210129113242247063  MaritalDepartmentSheet\n",
              "248      5         6  ...  R20210129113242247063  MaritalDepartmentSheet\n",
              "249      6         6  ...  R20210129113242247063  MaritalDepartmentSheet\n",
              "250      7         6  ...  R20210129113242247063  MaritalDepartmentSheet\n",
              "\n",
              "[251 rows x 6 columns]"
            ]
          },
          "metadata": {
            "tags": []
          },
          "execution_count": 63
        }
      ]
    },
    {
      "cell_type": "markdown",
      "metadata": {
        "id": "lChn_UkJZAk1"
      },
      "source": [
        "# Get Picklist Values"
      ]
    },
    {
      "cell_type": "markdown",
      "metadata": {
        "id": "t5ghg_PvYeSH"
      },
      "source": [
        "Picklist are like a mini Master Data Management System\n",
        "\n",
        "They define the acceptable values for a partcular Field in Excel\n",
        "\n",
        "The challenge here was to check one column to a another column that contained a list.  I go there in the end."
      ]
    },
    {
      "cell_type": "code",
      "metadata": {
        "id": "r0sO9VyetelZ",
        "colab": {
          "base_uri": "https://localhost:8080/",
          "height": 167
        },
        "outputId": "834bbc23-b5d4-405c-ce02-20f6a484e033"
      },
      "source": [
        "PickListCells = pd.DataFrame()\n",
        "# This process uses the full cell database as the column headings are the Picklist Names\n",
        "PickListCells = fullcelldb[(fullcelldb['SheetName'] == 'PickList')].copy()\n",
        "# PickListCellsList = PickListCells.groupby('ColumnID')['CellValue'].apply(lambda group_series: group_series.tolist()).reset_index()\n",
        "\n",
        "PickListCellsList = PickListCells.groupby('ColumnID').agg({'CellValue':lambda x: list(x)})\n",
        "\n",
        "# these were odd, but glad I work them out, it is important to realise that these are operations on a number of rows, not just one\n",
        "# maybe it was the axis that made the difference!\n",
        "PickListCellsList['KeyWord'] = PickListCellsList.apply(lambda row : row['CellValue'][0], axis = 1)\n",
        "PickListCellsList['FormulaKeyWord'] = PickListCellsList.apply(lambda row : 'PickList', axis = 1)\n",
        "PickListCellsList['List'] = PickListCellsList.apply(lambda row : row['CellValue'][1:], axis = 1)\n",
        "# PickListCellsList['KeyWord'] = PickListCellsList['CellValue']\n",
        "#PickListCellsList= pd.DataFrame(PickListCellsList, columns=['KeyWord', 'List'])\n",
        "PickListCellsList = pd.DataFrame(PickListCellsList, columns=['KeyWord', 'FormulaKeyWord', 'List'])\n",
        "PickListCellsList.head()"
      ],
      "execution_count": 41,
      "outputs": [
        {
          "output_type": "execute_result",
          "data": {
            "text/html": [
              "<div>\n",
              "<style scoped>\n",
              "    .dataframe tbody tr th:only-of-type {\n",
              "        vertical-align: middle;\n",
              "    }\n",
              "\n",
              "    .dataframe tbody tr th {\n",
              "        vertical-align: top;\n",
              "    }\n",
              "\n",
              "    .dataframe thead th {\n",
              "        text-align: right;\n",
              "    }\n",
              "</style>\n",
              "<table border=\"1\" class=\"dataframe\">\n",
              "  <thead>\n",
              "    <tr style=\"text-align: right;\">\n",
              "      <th></th>\n",
              "      <th>KeyWord</th>\n",
              "      <th>FormulaKeyWord</th>\n",
              "      <th>List</th>\n",
              "    </tr>\n",
              "    <tr>\n",
              "      <th>ColumnID</th>\n",
              "      <th></th>\n",
              "      <th></th>\n",
              "      <th></th>\n",
              "    </tr>\n",
              "  </thead>\n",
              "  <tbody>\n",
              "    <tr>\n",
              "      <th>1</th>\n",
              "      <td>MaritalStatus</td>\n",
              "      <td>PickList</td>\n",
              "      <td>[Single, Married]</td>\n",
              "    </tr>\n",
              "    <tr>\n",
              "      <th>2</th>\n",
              "      <td>HomeLocation</td>\n",
              "      <td>PickList</td>\n",
              "      <td>[London, Liverpool]</td>\n",
              "    </tr>\n",
              "    <tr>\n",
              "      <th>3</th>\n",
              "      <td>Gender</td>\n",
              "      <td>PickList</td>\n",
              "      <td>[Male, Female]</td>\n",
              "    </tr>\n",
              "  </tbody>\n",
              "</table>\n",
              "</div>"
            ],
            "text/plain": [
              "                KeyWord FormulaKeyWord                 List\n",
              "ColumnID                                                   \n",
              "1         MaritalStatus       PickList    [Single, Married]\n",
              "2          HomeLocation       PickList  [London, Liverpool]\n",
              "3                Gender       PickList       [Male, Female]"
            ]
          },
          "metadata": {
            "tags": []
          },
          "execution_count": 41
        }
      ]
    },
    {
      "cell_type": "code",
      "metadata": {
        "id": "6OG1yqBvV3m8"
      },
      "source": [
        "# These were attempts at creating a suitable list for the function to check to\n",
        "\n",
        "# PickListCellsList['Result'] = PickListCellsList['KeyWord'].isin(PickListCellsList['List']).map({True: 0, False: 1})\n",
        "\n",
        "# PickListCellsList['Result'] = PickListCellsList['KeyWord'].str.contains('|'.join(PickListCellsList['List']))\n",
        "# PickListCellsList['Result'] = PickListCellsList['KeyWord'].str.contains('|'.join(x) for x in PickListCellsList['List'])\n",
        "# [\"\".join(x) for x in lst]\n",
        "# PickListCellsList['ListAsString'] = PickListCellsList['List'].str.join('-')\n",
        "# PickListCellsList['ListAsTuple'] = tuple(PickListCellsList['CellValue'])\n"
      ],
      "execution_count": null,
      "outputs": []
    },
    {
      "cell_type": "code",
      "metadata": {
        "id": "94BawuhvSCe8"
      },
      "source": [
        "#MyList = pd.DataFrame()\n",
        "#MyList =  PickListCellsList\n",
        "# still do not know why the following DOES NOT WORK!\n",
        "# MyList['Result'] = PickListCellsList['ListAsString'].isin(PickListCellsList['KeyWord'])\n",
        "\n",
        "# leaving this as a rememberance of the 6 hours spent on this!\n",
        "# MyList['Result1'] = PickListCellsList['KeyWord'].apply(lambda x: any(i in x for i in PickListCellsList['List']))\n",
        "# MyList['Result2'] = PickListCellsList['ListAsString'].str.contains(PickListCellsList['KeyWord'])\n",
        "# mask = df['A'].apply(lambda x: any(i in x for i in search_list))\n",
        "# PickListCellsList['Result2'] = PickListCellsList['ListAsTuple'].str.contains(PickListCellsList['KeyWord'])\n",
        "# PickListCellsList['Result2'] = PickListCellsList['KeyWord'].str.contains(tuple(PickListCellsList['List']))\n",
        "# PickListCellsList['ListAsTuple'].isin(PickListCellsList['KeyWord'])\n",
        "# MyList['Result2'] = PickListCellsList['List'].apply(lambda x: True if (PickListCellsList.KeyWord in x).any() else False)\n",
        "######### MyList['sing'] = 'Single'\n",
        "# MyList['res1'] = MyList.apply(lambda ts: any(ts == 'Single'), axis=1)\n",
        "# MyList['res2'] = MyList.apply(lambda ts: MyList['KeyWord'].str.contains('Single'), axis=1)\n",
        "######### MyList['res3'] = MyList.apply(lambda x: x['sing'] in x['ListAsTuple'], axis=1)  ###############\n",
        "######### MyList['res4'] = MyList.apply(lambda x: x['sing'] in x['List'], axis=1).map({True: 1, False: 0}) ###############\n",
        "# # # # dataset.apply(lambda x: x['CellValue'] in x['PickList'], axis=1).map({True: 1, False: 0})\n",
        "# data['Activity].str.contains('skin diving')\n",
        "# lambda x : True if (x > 10 and x < 20) else False\n",
        "#MyList.head()\n",
        "# https://stackoverflow.com/questions/48460234/pandas-apply-valueerror-the-truth-value-of-a-series-is-ambigous"
      ],
      "execution_count": null,
      "outputs": []
    },
    {
      "cell_type": "markdown",
      "metadata": {
        "id": "x_awgfWUgAb2"
      },
      "source": [
        "# Get Data Map"
      ]
    },
    {
      "cell_type": "code",
      "metadata": {
        "id": "5wSue_afTLJq",
        "colab": {
          "base_uri": "https://localhost:8080/",
          "height": 197
        },
        "outputId": "58fa673a-067a-4c4a-c8c0-511c2b8470f5"
      },
      "source": [
        "DataMapCells = pd.DataFrame()\n",
        "DataMapCells = fullcelldb[(fullcelldb['SheetName'] == 'DataMap')].copy()\n",
        "DataMapCells.head()"
      ],
      "execution_count": 42,
      "outputs": [
        {
          "output_type": "execute_result",
          "data": {
            "text/html": [
              "<div>\n",
              "<style scoped>\n",
              "    .dataframe tbody tr th:only-of-type {\n",
              "        vertical-align: middle;\n",
              "    }\n",
              "\n",
              "    .dataframe tbody tr th {\n",
              "        vertical-align: top;\n",
              "    }\n",
              "\n",
              "    .dataframe thead th {\n",
              "        text-align: right;\n",
              "    }\n",
              "</style>\n",
              "<table border=\"1\" class=\"dataframe\">\n",
              "  <thead>\n",
              "    <tr style=\"text-align: right;\">\n",
              "      <th></th>\n",
              "      <th>RowID</th>\n",
              "      <th>ColumnID</th>\n",
              "      <th>CellValue</th>\n",
              "      <th>CellType</th>\n",
              "      <th>FileName</th>\n",
              "      <th>SheetName</th>\n",
              "    </tr>\n",
              "  </thead>\n",
              "  <tbody>\n",
              "    <tr>\n",
              "      <th>251</th>\n",
              "      <td>1</td>\n",
              "      <td>1</td>\n",
              "      <td>SheetName</td>\n",
              "      <td>Text</td>\n",
              "      <td>R20210129113242247063</td>\n",
              "      <td>DataMap</td>\n",
              "    </tr>\n",
              "    <tr>\n",
              "      <th>252</th>\n",
              "      <td>2</td>\n",
              "      <td>1</td>\n",
              "      <td>AgeGenderSheet</td>\n",
              "      <td>Text</td>\n",
              "      <td>R20210129113242247063</td>\n",
              "      <td>DataMap</td>\n",
              "    </tr>\n",
              "    <tr>\n",
              "      <th>253</th>\n",
              "      <td>3</td>\n",
              "      <td>1</td>\n",
              "      <td>AgeGenderSheet</td>\n",
              "      <td>Text</td>\n",
              "      <td>R20210129113242247063</td>\n",
              "      <td>DataMap</td>\n",
              "    </tr>\n",
              "    <tr>\n",
              "      <th>254</th>\n",
              "      <td>4</td>\n",
              "      <td>1</td>\n",
              "      <td>AgeGenderSheet</td>\n",
              "      <td>Text</td>\n",
              "      <td>R20210129113242247063</td>\n",
              "      <td>DataMap</td>\n",
              "    </tr>\n",
              "    <tr>\n",
              "      <th>255</th>\n",
              "      <td>5</td>\n",
              "      <td>1</td>\n",
              "      <td>AgeGenderSheet</td>\n",
              "      <td>Text</td>\n",
              "      <td>R20210129113242247063</td>\n",
              "      <td>DataMap</td>\n",
              "    </tr>\n",
              "  </tbody>\n",
              "</table>\n",
              "</div>"
            ],
            "text/plain": [
              "     RowID  ColumnID       CellValue CellType               FileName SheetName\n",
              "251      1         1       SheetName     Text  R20210129113242247063   DataMap\n",
              "252      2         1  AgeGenderSheet     Text  R20210129113242247063   DataMap\n",
              "253      3         1  AgeGenderSheet     Text  R20210129113242247063   DataMap\n",
              "254      4         1  AgeGenderSheet     Text  R20210129113242247063   DataMap\n",
              "255      5         1  AgeGenderSheet     Text  R20210129113242247063   DataMap"
            ]
          },
          "metadata": {
            "tags": []
          },
          "execution_count": 42
        }
      ]
    },
    {
      "cell_type": "markdown",
      "metadata": {
        "id": "zdWkGWSmL6ru"
      },
      "source": [
        "Below extracts a Sheet from the cell database and reshapes it to it original tabular form."
      ]
    },
    {
      "cell_type": "code",
      "metadata": {
        "id": "oPSRDxU8t_Mc",
        "colab": {
          "base_uri": "https://localhost:8080/",
          "height": 283
        },
        "outputId": "cec8b570-32a3-462f-b5f3-364f47651449"
      },
      "source": [
        "DataMap = pd.DataFrame()\n",
        "DataMap = DataMapCells.pivot_table(index = ['RowID'], values = 'CellValue',columns = 'ColumnID', aggfunc = 'max')\n",
        "ColumnHeadings = DataMap.iloc[0]\n",
        "ColumnHeadingsList = list(ColumnHeadings)\n",
        "print(ColumnHeadingsList)\n",
        "ColumnHeadingsListTuple = enumerate(ColumnHeadingsList,start=1)\n",
        "ColumnHeadingsListDict = dict(ColumnHeadingsListTuple)\n",
        "print(ColumnHeadingsListDict)\n",
        "DataMap = DataMap.rename(columns=ColumnHeadingsListDict)\n",
        "DataMap = DataMap.drop([1])\n",
        "DataMap.head()"
      ],
      "execution_count": 43,
      "outputs": [
        {
          "output_type": "stream",
          "text": [
            "['SheetName', 'ReferenceText', 'RowFromReferenceText', 'ColumnFromReferenceText', 'TemplateText', 'DataGroup', 'DataCategory', 'DataScope', 'Column Header', 'Dataset']\n",
            "{1: 'SheetName', 2: 'ReferenceText', 3: 'RowFromReferenceText', 4: 'ColumnFromReferenceText', 5: 'TemplateText', 6: 'DataGroup', 7: 'DataCategory', 8: 'DataScope', 9: 'Column Header', 10: 'Dataset'}\n"
          ],
          "name": "stdout"
        },
        {
          "output_type": "execute_result",
          "data": {
            "text/html": [
              "<div>\n",
              "<style scoped>\n",
              "    .dataframe tbody tr th:only-of-type {\n",
              "        vertical-align: middle;\n",
              "    }\n",
              "\n",
              "    .dataframe tbody tr th {\n",
              "        vertical-align: top;\n",
              "    }\n",
              "\n",
              "    .dataframe thead th {\n",
              "        text-align: right;\n",
              "    }\n",
              "</style>\n",
              "<table border=\"1\" class=\"dataframe\">\n",
              "  <thead>\n",
              "    <tr style=\"text-align: right;\">\n",
              "      <th>ColumnID</th>\n",
              "      <th>SheetName</th>\n",
              "      <th>ReferenceText</th>\n",
              "      <th>RowFromReferenceText</th>\n",
              "      <th>ColumnFromReferenceText</th>\n",
              "      <th>TemplateText</th>\n",
              "      <th>DataGroup</th>\n",
              "      <th>DataCategory</th>\n",
              "      <th>DataScope</th>\n",
              "      <th>Column Header</th>\n",
              "      <th>Dataset</th>\n",
              "    </tr>\n",
              "    <tr>\n",
              "      <th>RowID</th>\n",
              "      <th></th>\n",
              "      <th></th>\n",
              "      <th></th>\n",
              "      <th></th>\n",
              "      <th></th>\n",
              "      <th></th>\n",
              "      <th></th>\n",
              "      <th></th>\n",
              "      <th></th>\n",
              "      <th></th>\n",
              "    </tr>\n",
              "  </thead>\n",
              "  <tbody>\n",
              "    <tr>\n",
              "      <th>2</th>\n",
              "      <td>AgeGenderSheet</td>\n",
              "      <td>Age Table</td>\n",
              "      <td>2</td>\n",
              "      <td>1</td>\n",
              "      <td>Name</td>\n",
              "      <td>Ages</td>\n",
              "      <td>NaN</td>\n",
              "      <td>NaN</td>\n",
              "      <td>Name</td>\n",
              "      <td>Ages</td>\n",
              "    </tr>\n",
              "    <tr>\n",
              "      <th>3</th>\n",
              "      <td>AgeGenderSheet</td>\n",
              "      <td>Age Table</td>\n",
              "      <td>2</td>\n",
              "      <td>2</td>\n",
              "      <td>Age</td>\n",
              "      <td>Ages</td>\n",
              "      <td>NaN</td>\n",
              "      <td>NaN</td>\n",
              "      <td>Age</td>\n",
              "      <td>Ages</td>\n",
              "    </tr>\n",
              "    <tr>\n",
              "      <th>4</th>\n",
              "      <td>AgeGenderSheet</td>\n",
              "      <td>Gender Table</td>\n",
              "      <td>2</td>\n",
              "      <td>0</td>\n",
              "      <td>Name</td>\n",
              "      <td>Genders</td>\n",
              "      <td>NaN</td>\n",
              "      <td>NaN</td>\n",
              "      <td>Name</td>\n",
              "      <td>Genders</td>\n",
              "    </tr>\n",
              "    <tr>\n",
              "      <th>5</th>\n",
              "      <td>AgeGenderSheet</td>\n",
              "      <td>Gender Table</td>\n",
              "      <td>2</td>\n",
              "      <td>1</td>\n",
              "      <td>Gender</td>\n",
              "      <td>Genders</td>\n",
              "      <td>NaN</td>\n",
              "      <td>NaN</td>\n",
              "      <td>Gender</td>\n",
              "      <td>Genders</td>\n",
              "    </tr>\n",
              "    <tr>\n",
              "      <th>6</th>\n",
              "      <td>AgeGenderSheet</td>\n",
              "      <td>DOB Table</td>\n",
              "      <td>2</td>\n",
              "      <td>0</td>\n",
              "      <td>Name</td>\n",
              "      <td>DoB</td>\n",
              "      <td>NaN</td>\n",
              "      <td>NaN</td>\n",
              "      <td>Name</td>\n",
              "      <td>DoB</td>\n",
              "    </tr>\n",
              "  </tbody>\n",
              "</table>\n",
              "</div>"
            ],
            "text/plain": [
              "ColumnID       SheetName ReferenceText  ... Column Header  Dataset\n",
              "RowID                                   ...                       \n",
              "2         AgeGenderSheet     Age Table  ...          Name     Ages\n",
              "3         AgeGenderSheet     Age Table  ...           Age     Ages\n",
              "4         AgeGenderSheet  Gender Table  ...          Name  Genders\n",
              "5         AgeGenderSheet  Gender Table  ...        Gender  Genders\n",
              "6         AgeGenderSheet     DOB Table  ...          Name      DoB\n",
              "\n",
              "[5 rows x 10 columns]"
            ]
          },
          "metadata": {
            "tags": []
          },
          "execution_count": 43
        }
      ]
    },
    {
      "cell_type": "markdown",
      "metadata": {
        "id": "8IH4GVrigMRd"
      },
      "source": [
        "# Make Rules Database"
      ]
    },
    {
      "cell_type": "code",
      "metadata": {
        "colab": {
          "base_uri": "https://localhost:8080/",
          "height": 197
        },
        "id": "bG71l_G8-HAn",
        "outputId": "4c419c9d-16b3-47f6-d2ab-caae3b9fd6e5"
      },
      "source": [
        "RulesCells = pd.DataFrame()\n",
        "RulesCells = fullcelldb[(fullcelldb['SheetName'] == 'Rules')].copy()\n",
        "RulesCells.head()"
      ],
      "execution_count": 46,
      "outputs": [
        {
          "output_type": "execute_result",
          "data": {
            "text/html": [
              "<div>\n",
              "<style scoped>\n",
              "    .dataframe tbody tr th:only-of-type {\n",
              "        vertical-align: middle;\n",
              "    }\n",
              "\n",
              "    .dataframe tbody tr th {\n",
              "        vertical-align: top;\n",
              "    }\n",
              "\n",
              "    .dataframe thead th {\n",
              "        text-align: right;\n",
              "    }\n",
              "</style>\n",
              "<table border=\"1\" class=\"dataframe\">\n",
              "  <thead>\n",
              "    <tr style=\"text-align: right;\">\n",
              "      <th></th>\n",
              "      <th>RowID</th>\n",
              "      <th>ColumnID</th>\n",
              "      <th>CellValue</th>\n",
              "      <th>CellType</th>\n",
              "      <th>FileName</th>\n",
              "      <th>SheetName</th>\n",
              "    </tr>\n",
              "  </thead>\n",
              "  <tbody>\n",
              "    <tr>\n",
              "      <th>709</th>\n",
              "      <td>1</td>\n",
              "      <td>1</td>\n",
              "      <td>RuleID</td>\n",
              "      <td>Text</td>\n",
              "      <td>R20210129113242247063</td>\n",
              "      <td>Rules</td>\n",
              "    </tr>\n",
              "    <tr>\n",
              "      <th>710</th>\n",
              "      <td>2</td>\n",
              "      <td>1</td>\n",
              "      <td>1</td>\n",
              "      <td>Number</td>\n",
              "      <td>R20210129113242247063</td>\n",
              "      <td>Rules</td>\n",
              "    </tr>\n",
              "    <tr>\n",
              "      <th>711</th>\n",
              "      <td>3</td>\n",
              "      <td>1</td>\n",
              "      <td>2</td>\n",
              "      <td>Number</td>\n",
              "      <td>R20210129113242247063</td>\n",
              "      <td>Rules</td>\n",
              "    </tr>\n",
              "    <tr>\n",
              "      <th>712</th>\n",
              "      <td>4</td>\n",
              "      <td>1</td>\n",
              "      <td>3</td>\n",
              "      <td>Number</td>\n",
              "      <td>R20210129113242247063</td>\n",
              "      <td>Rules</td>\n",
              "    </tr>\n",
              "    <tr>\n",
              "      <th>713</th>\n",
              "      <td>5</td>\n",
              "      <td>1</td>\n",
              "      <td>4</td>\n",
              "      <td>Number</td>\n",
              "      <td>R20210129113242247063</td>\n",
              "      <td>Rules</td>\n",
              "    </tr>\n",
              "  </tbody>\n",
              "</table>\n",
              "</div>"
            ],
            "text/plain": [
              "     RowID  ColumnID CellValue CellType               FileName SheetName\n",
              "709      1         1    RuleID     Text  R20210129113242247063     Rules\n",
              "710      2         1         1   Number  R20210129113242247063     Rules\n",
              "711      3         1         2   Number  R20210129113242247063     Rules\n",
              "712      4         1         3   Number  R20210129113242247063     Rules\n",
              "713      5         1         4   Number  R20210129113242247063     Rules"
            ]
          },
          "metadata": {
            "tags": []
          },
          "execution_count": 46
        }
      ]
    },
    {
      "cell_type": "code",
      "metadata": {
        "colab": {
          "base_uri": "https://localhost:8080/",
          "height": 263
        },
        "id": "PVTdctJH-8bR",
        "outputId": "3b42bc2d-4614-4d8c-bb4b-21c22406914e"
      },
      "source": [
        "Rules = pd.DataFrame()\n",
        "Rules = RulesCells.pivot_table(index = ['RowID'], values = 'CellValue',columns = 'ColumnID', aggfunc = 'max')\n",
        "ColumnHeadings = Rules.iloc[0]\n",
        "ColumnHeadingsList = list(ColumnHeadings)\n",
        "print(ColumnHeadingsList)\n",
        "ColumnHeadingsListTuple = enumerate(ColumnHeadingsList,start=1)\n",
        "ColumnHeadingsListDict = dict(ColumnHeadingsListTuple)\n",
        "print(ColumnHeadingsListDict)\n",
        "Rules = Rules.rename(columns=ColumnHeadingsListDict)\n",
        "Rules = Rules.drop([1])\n",
        "Rules.head()"
      ],
      "execution_count": 47,
      "outputs": [
        {
          "output_type": "stream",
          "text": [
            "['RuleID', 'DataSet', 'FieldID', 'DataType', 'Format', 'RangeFrom', 'RangeTo', 'Null', 'Length', 'PickList', 'Rule1', 'Rule2', 'Rule3']\n",
            "{1: 'RuleID', 2: 'DataSet', 3: 'FieldID', 4: 'DataType', 5: 'Format', 6: 'RangeFrom', 7: 'RangeTo', 8: 'Null', 9: 'Length', 10: 'PickList', 11: 'Rule1', 12: 'Rule2', 13: 'Rule3'}\n"
          ],
          "name": "stdout"
        },
        {
          "output_type": "execute_result",
          "data": {
            "text/html": [
              "<div>\n",
              "<style scoped>\n",
              "    .dataframe tbody tr th:only-of-type {\n",
              "        vertical-align: middle;\n",
              "    }\n",
              "\n",
              "    .dataframe tbody tr th {\n",
              "        vertical-align: top;\n",
              "    }\n",
              "\n",
              "    .dataframe thead th {\n",
              "        text-align: right;\n",
              "    }\n",
              "</style>\n",
              "<table border=\"1\" class=\"dataframe\">\n",
              "  <thead>\n",
              "    <tr style=\"text-align: right;\">\n",
              "      <th>ColumnID</th>\n",
              "      <th>RuleID</th>\n",
              "      <th>DataSet</th>\n",
              "      <th>FieldID</th>\n",
              "      <th>DataType</th>\n",
              "      <th>Format</th>\n",
              "      <th>RangeFrom</th>\n",
              "      <th>RangeTo</th>\n",
              "      <th>Null</th>\n",
              "      <th>Length</th>\n",
              "      <th>PickList</th>\n",
              "      <th>Rule1</th>\n",
              "      <th>Rule2</th>\n",
              "      <th>Rule3</th>\n",
              "    </tr>\n",
              "    <tr>\n",
              "      <th>RowID</th>\n",
              "      <th></th>\n",
              "      <th></th>\n",
              "      <th></th>\n",
              "      <th></th>\n",
              "      <th></th>\n",
              "      <th></th>\n",
              "      <th></th>\n",
              "      <th></th>\n",
              "      <th></th>\n",
              "      <th></th>\n",
              "      <th></th>\n",
              "      <th></th>\n",
              "      <th></th>\n",
              "    </tr>\n",
              "  </thead>\n",
              "  <tbody>\n",
              "    <tr>\n",
              "      <th>2</th>\n",
              "      <td>1</td>\n",
              "      <td>Ages</td>\n",
              "      <td>Name</td>\n",
              "      <td>Text</td>\n",
              "      <td>NaN</td>\n",
              "      <td>NaN</td>\n",
              "      <td>NaN</td>\n",
              "      <td>N</td>\n",
              "      <td>NaN</td>\n",
              "      <td>NaN</td>\n",
              "      <td>NaN</td>\n",
              "      <td>NaN</td>\n",
              "      <td>NaN</td>\n",
              "    </tr>\n",
              "    <tr>\n",
              "      <th>3</th>\n",
              "      <td>2</td>\n",
              "      <td>Ages</td>\n",
              "      <td>Age</td>\n",
              "      <td>Number</td>\n",
              "      <td>NaN</td>\n",
              "      <td>NaN</td>\n",
              "      <td>NaN</td>\n",
              "      <td>N</td>\n",
              "      <td>NaN</td>\n",
              "      <td>NaN</td>\n",
              "      <td>Positive</td>\n",
              "      <td>GreaterThanTen</td>\n",
              "      <td>NaN</td>\n",
              "    </tr>\n",
              "    <tr>\n",
              "      <th>4</th>\n",
              "      <td>3</td>\n",
              "      <td>Genders</td>\n",
              "      <td>Name</td>\n",
              "      <td>Text</td>\n",
              "      <td>NaN</td>\n",
              "      <td>NaN</td>\n",
              "      <td>NaN</td>\n",
              "      <td>N</td>\n",
              "      <td>NaN</td>\n",
              "      <td>NaN</td>\n",
              "      <td>NaN</td>\n",
              "      <td>NaN</td>\n",
              "      <td>NaN</td>\n",
              "    </tr>\n",
              "    <tr>\n",
              "      <th>5</th>\n",
              "      <td>4</td>\n",
              "      <td>Genders</td>\n",
              "      <td>Gender</td>\n",
              "      <td>Text</td>\n",
              "      <td>NaN</td>\n",
              "      <td>NaN</td>\n",
              "      <td>NaN</td>\n",
              "      <td>N</td>\n",
              "      <td>NaN</td>\n",
              "      <td>Gender</td>\n",
              "      <td>NaN</td>\n",
              "      <td>NaN</td>\n",
              "      <td>NaN</td>\n",
              "    </tr>\n",
              "    <tr>\n",
              "      <th>6</th>\n",
              "      <td>5</td>\n",
              "      <td>DoB</td>\n",
              "      <td>Name</td>\n",
              "      <td>Text</td>\n",
              "      <td>NaN</td>\n",
              "      <td>NaN</td>\n",
              "      <td>NaN</td>\n",
              "      <td>N</td>\n",
              "      <td>NaN</td>\n",
              "      <td>NaN</td>\n",
              "      <td>NaN</td>\n",
              "      <td>NaN</td>\n",
              "      <td>NaN</td>\n",
              "    </tr>\n",
              "  </tbody>\n",
              "</table>\n",
              "</div>"
            ],
            "text/plain": [
              "ColumnID RuleID  DataSet FieldID  ...     Rule1           Rule2 Rule3\n",
              "RowID                             ...                                \n",
              "2             1     Ages    Name  ...       NaN             NaN   NaN\n",
              "3             2     Ages     Age  ...  Positive  GreaterThanTen   NaN\n",
              "4             3  Genders    Name  ...       NaN             NaN   NaN\n",
              "5             4  Genders  Gender  ...       NaN             NaN   NaN\n",
              "6             5      DoB    Name  ...       NaN             NaN   NaN\n",
              "\n",
              "[5 rows x 13 columns]"
            ]
          },
          "metadata": {
            "tags": []
          },
          "execution_count": 47
        }
      ]
    },
    {
      "cell_type": "code",
      "metadata": {
        "id": "pJGHXeJwMdE7",
        "colab": {
          "base_uri": "https://localhost:8080/",
          "height": 168
        },
        "outputId": "6d1b0833-9c1f-4643-ea35-afad043fed4b"
      },
      "source": [
        "RulesDF.head()"
      ],
      "execution_count": 45,
      "outputs": [
        {
          "output_type": "error",
          "ename": "NameError",
          "evalue": "ignored",
          "traceback": [
            "\u001b[0;31m---------------------------------------------------------------------------\u001b[0m",
            "\u001b[0;31mNameError\u001b[0m                                 Traceback (most recent call last)",
            "\u001b[0;32m<ipython-input-45-8f41cad78c2a>\u001b[0m in \u001b[0;36m<module>\u001b[0;34m()\u001b[0m\n\u001b[0;32m----> 1\u001b[0;31m \u001b[0mRulesDF\u001b[0m\u001b[0;34m.\u001b[0m\u001b[0mhead\u001b[0m\u001b[0;34m(\u001b[0m\u001b[0;34m)\u001b[0m\u001b[0;34m\u001b[0m\u001b[0;34m\u001b[0m\u001b[0m\n\u001b[0m",
            "\u001b[0;31mNameError\u001b[0m: name 'RulesDF' is not defined"
          ]
        }
      ]
    },
    {
      "cell_type": "markdown",
      "metadata": {
        "id": "2w0CkOgoMmRS"
      },
      "source": [
        "The above is the Rules definition sheet. It used KeyWords to define the checks.  Below forms a list of KeyWords that are relevant to a particular field in a DataSet"
      ]
    },
    {
      "cell_type": "code",
      "metadata": {
        "id": "6Q_4gGPS9rtm",
        "colab": {
          "base_uri": "https://localhost:8080/",
          "height": 406
        },
        "outputId": "89d9fa68-1675-49b1-f44b-a9f8d0a1ab87"
      },
      "source": [
        "rulesdb = pd.DataFrame()\n",
        "rulesdb = pd.melt(Rules, id_vars=['RuleID', 'DataSet', 'FieldID'])\n",
        "rulesdb"
      ],
      "execution_count": 52,
      "outputs": [
        {
          "output_type": "execute_result",
          "data": {
            "text/html": [
              "<div>\n",
              "<style scoped>\n",
              "    .dataframe tbody tr th:only-of-type {\n",
              "        vertical-align: middle;\n",
              "    }\n",
              "\n",
              "    .dataframe tbody tr th {\n",
              "        vertical-align: top;\n",
              "    }\n",
              "\n",
              "    .dataframe thead th {\n",
              "        text-align: right;\n",
              "    }\n",
              "</style>\n",
              "<table border=\"1\" class=\"dataframe\">\n",
              "  <thead>\n",
              "    <tr style=\"text-align: right;\">\n",
              "      <th></th>\n",
              "      <th>RuleID</th>\n",
              "      <th>DataSet</th>\n",
              "      <th>FieldID</th>\n",
              "      <th>ColumnID</th>\n",
              "      <th>value</th>\n",
              "    </tr>\n",
              "  </thead>\n",
              "  <tbody>\n",
              "    <tr>\n",
              "      <th>0</th>\n",
              "      <td>1</td>\n",
              "      <td>Ages</td>\n",
              "      <td>Name</td>\n",
              "      <td>DataType</td>\n",
              "      <td>Text</td>\n",
              "    </tr>\n",
              "    <tr>\n",
              "      <th>1</th>\n",
              "      <td>2</td>\n",
              "      <td>Ages</td>\n",
              "      <td>Age</td>\n",
              "      <td>DataType</td>\n",
              "      <td>Number</td>\n",
              "    </tr>\n",
              "    <tr>\n",
              "      <th>2</th>\n",
              "      <td>3</td>\n",
              "      <td>Genders</td>\n",
              "      <td>Name</td>\n",
              "      <td>DataType</td>\n",
              "      <td>Text</td>\n",
              "    </tr>\n",
              "    <tr>\n",
              "      <th>3</th>\n",
              "      <td>4</td>\n",
              "      <td>Genders</td>\n",
              "      <td>Gender</td>\n",
              "      <td>DataType</td>\n",
              "      <td>Text</td>\n",
              "    </tr>\n",
              "    <tr>\n",
              "      <th>4</th>\n",
              "      <td>5</td>\n",
              "      <td>DoB</td>\n",
              "      <td>Name</td>\n",
              "      <td>DataType</td>\n",
              "      <td>Text</td>\n",
              "    </tr>\n",
              "    <tr>\n",
              "      <th>...</th>\n",
              "      <td>...</td>\n",
              "      <td>...</td>\n",
              "      <td>...</td>\n",
              "      <td>...</td>\n",
              "      <td>...</td>\n",
              "    </tr>\n",
              "    <tr>\n",
              "      <th>145</th>\n",
              "      <td>11</td>\n",
              "      <td>Jobs</td>\n",
              "      <td>Job_Title</td>\n",
              "      <td>Rule3</td>\n",
              "      <td>NaN</td>\n",
              "    </tr>\n",
              "    <tr>\n",
              "      <th>146</th>\n",
              "      <td>12</td>\n",
              "      <td>Jobs</td>\n",
              "      <td>Employee_Name</td>\n",
              "      <td>Rule3</td>\n",
              "      <td>NaN</td>\n",
              "    </tr>\n",
              "    <tr>\n",
              "      <th>147</th>\n",
              "      <td>13</td>\n",
              "      <td>Jobs</td>\n",
              "      <td>ID</td>\n",
              "      <td>Rule3</td>\n",
              "      <td>NaN</td>\n",
              "    </tr>\n",
              "    <tr>\n",
              "      <th>148</th>\n",
              "      <td>14</td>\n",
              "      <td>HomeLocation</td>\n",
              "      <td>Employee</td>\n",
              "      <td>Rule3</td>\n",
              "      <td>NaN</td>\n",
              "    </tr>\n",
              "    <tr>\n",
              "      <th>149</th>\n",
              "      <td>15</td>\n",
              "      <td>HomeLocation</td>\n",
              "      <td>Location</td>\n",
              "      <td>Rule3</td>\n",
              "      <td>NaN</td>\n",
              "    </tr>\n",
              "  </tbody>\n",
              "</table>\n",
              "<p>150 rows × 5 columns</p>\n",
              "</div>"
            ],
            "text/plain": [
              "    RuleID       DataSet        FieldID  ColumnID   value\n",
              "0        1          Ages           Name  DataType    Text\n",
              "1        2          Ages            Age  DataType  Number\n",
              "2        3       Genders           Name  DataType    Text\n",
              "3        4       Genders         Gender  DataType    Text\n",
              "4        5           DoB           Name  DataType    Text\n",
              "..     ...           ...            ...       ...     ...\n",
              "145     11          Jobs      Job_Title     Rule3     NaN\n",
              "146     12          Jobs  Employee_Name     Rule3     NaN\n",
              "147     13          Jobs             ID     Rule3     NaN\n",
              "148     14  HomeLocation       Employee     Rule3     NaN\n",
              "149     15  HomeLocation       Location     Rule3     NaN\n",
              "\n",
              "[150 rows x 5 columns]"
            ]
          },
          "metadata": {
            "tags": []
          },
          "execution_count": 52
        }
      ]
    },
    {
      "cell_type": "code",
      "metadata": {
        "colab": {
          "base_uri": "https://localhost:8080/",
          "height": 1000
        },
        "id": "pO7Vk8ByAilp",
        "outputId": "8a600b0a-f24a-44af-c35c-a4cfb9851b7e"
      },
      "source": [
        "rulesdb = rulesdb.rename(columns={\"ColumnID\": \"RuleType\", \"value\": \"KeyWord\"})\n",
        "rulesdb = rulesdb[rulesdb.KeyWord.notnull()]\n",
        "rulesdb"
      ],
      "execution_count": 53,
      "outputs": [
        {
          "output_type": "execute_result",
          "data": {
            "text/html": [
              "<div>\n",
              "<style scoped>\n",
              "    .dataframe tbody tr th:only-of-type {\n",
              "        vertical-align: middle;\n",
              "    }\n",
              "\n",
              "    .dataframe tbody tr th {\n",
              "        vertical-align: top;\n",
              "    }\n",
              "\n",
              "    .dataframe thead th {\n",
              "        text-align: right;\n",
              "    }\n",
              "</style>\n",
              "<table border=\"1\" class=\"dataframe\">\n",
              "  <thead>\n",
              "    <tr style=\"text-align: right;\">\n",
              "      <th></th>\n",
              "      <th>RuleID</th>\n",
              "      <th>DataSet</th>\n",
              "      <th>FieldID</th>\n",
              "      <th>RuleType</th>\n",
              "      <th>KeyWord</th>\n",
              "    </tr>\n",
              "  </thead>\n",
              "  <tbody>\n",
              "    <tr>\n",
              "      <th>0</th>\n",
              "      <td>1</td>\n",
              "      <td>Ages</td>\n",
              "      <td>Name</td>\n",
              "      <td>DataType</td>\n",
              "      <td>Text</td>\n",
              "    </tr>\n",
              "    <tr>\n",
              "      <th>1</th>\n",
              "      <td>2</td>\n",
              "      <td>Ages</td>\n",
              "      <td>Age</td>\n",
              "      <td>DataType</td>\n",
              "      <td>Number</td>\n",
              "    </tr>\n",
              "    <tr>\n",
              "      <th>2</th>\n",
              "      <td>3</td>\n",
              "      <td>Genders</td>\n",
              "      <td>Name</td>\n",
              "      <td>DataType</td>\n",
              "      <td>Text</td>\n",
              "    </tr>\n",
              "    <tr>\n",
              "      <th>3</th>\n",
              "      <td>4</td>\n",
              "      <td>Genders</td>\n",
              "      <td>Gender</td>\n",
              "      <td>DataType</td>\n",
              "      <td>Text</td>\n",
              "    </tr>\n",
              "    <tr>\n",
              "      <th>4</th>\n",
              "      <td>5</td>\n",
              "      <td>DoB</td>\n",
              "      <td>Name</td>\n",
              "      <td>DataType</td>\n",
              "      <td>Text</td>\n",
              "    </tr>\n",
              "    <tr>\n",
              "      <th>5</th>\n",
              "      <td>6</td>\n",
              "      <td>DoB</td>\n",
              "      <td>DoB</td>\n",
              "      <td>DataType</td>\n",
              "      <td>Date</td>\n",
              "    </tr>\n",
              "    <tr>\n",
              "      <th>6</th>\n",
              "      <td>7</td>\n",
              "      <td>MaritalStatus</td>\n",
              "      <td>Name</td>\n",
              "      <td>DataType</td>\n",
              "      <td>Text</td>\n",
              "    </tr>\n",
              "    <tr>\n",
              "      <th>7</th>\n",
              "      <td>8</td>\n",
              "      <td>MaritalStatus</td>\n",
              "      <td>Status</td>\n",
              "      <td>DataType</td>\n",
              "      <td>Text</td>\n",
              "    </tr>\n",
              "    <tr>\n",
              "      <th>8</th>\n",
              "      <td>9</td>\n",
              "      <td>DepartmentTable</td>\n",
              "      <td>Name</td>\n",
              "      <td>DataType</td>\n",
              "      <td>Text</td>\n",
              "    </tr>\n",
              "    <tr>\n",
              "      <th>9</th>\n",
              "      <td>10</td>\n",
              "      <td>DepartmentTable</td>\n",
              "      <td>Department</td>\n",
              "      <td>DataType</td>\n",
              "      <td>Text</td>\n",
              "    </tr>\n",
              "    <tr>\n",
              "      <th>10</th>\n",
              "      <td>11</td>\n",
              "      <td>Jobs</td>\n",
              "      <td>Job_Title</td>\n",
              "      <td>DataType</td>\n",
              "      <td>Text</td>\n",
              "    </tr>\n",
              "    <tr>\n",
              "      <th>11</th>\n",
              "      <td>12</td>\n",
              "      <td>Jobs</td>\n",
              "      <td>Employee_Name</td>\n",
              "      <td>DataType</td>\n",
              "      <td>Text</td>\n",
              "    </tr>\n",
              "    <tr>\n",
              "      <th>12</th>\n",
              "      <td>13</td>\n",
              "      <td>Jobs</td>\n",
              "      <td>ID</td>\n",
              "      <td>DataType</td>\n",
              "      <td>Number</td>\n",
              "    </tr>\n",
              "    <tr>\n",
              "      <th>13</th>\n",
              "      <td>14</td>\n",
              "      <td>HomeLocation</td>\n",
              "      <td>Employee</td>\n",
              "      <td>DataType</td>\n",
              "      <td>Text</td>\n",
              "    </tr>\n",
              "    <tr>\n",
              "      <th>14</th>\n",
              "      <td>15</td>\n",
              "      <td>HomeLocation</td>\n",
              "      <td>Location</td>\n",
              "      <td>DataType</td>\n",
              "      <td>Text</td>\n",
              "    </tr>\n",
              "    <tr>\n",
              "      <th>60</th>\n",
              "      <td>1</td>\n",
              "      <td>Ages</td>\n",
              "      <td>Name</td>\n",
              "      <td>Null</td>\n",
              "      <td>N</td>\n",
              "    </tr>\n",
              "    <tr>\n",
              "      <th>61</th>\n",
              "      <td>2</td>\n",
              "      <td>Ages</td>\n",
              "      <td>Age</td>\n",
              "      <td>Null</td>\n",
              "      <td>N</td>\n",
              "    </tr>\n",
              "    <tr>\n",
              "      <th>62</th>\n",
              "      <td>3</td>\n",
              "      <td>Genders</td>\n",
              "      <td>Name</td>\n",
              "      <td>Null</td>\n",
              "      <td>N</td>\n",
              "    </tr>\n",
              "    <tr>\n",
              "      <th>63</th>\n",
              "      <td>4</td>\n",
              "      <td>Genders</td>\n",
              "      <td>Gender</td>\n",
              "      <td>Null</td>\n",
              "      <td>N</td>\n",
              "    </tr>\n",
              "    <tr>\n",
              "      <th>64</th>\n",
              "      <td>5</td>\n",
              "      <td>DoB</td>\n",
              "      <td>Name</td>\n",
              "      <td>Null</td>\n",
              "      <td>N</td>\n",
              "    </tr>\n",
              "    <tr>\n",
              "      <th>65</th>\n",
              "      <td>6</td>\n",
              "      <td>DoB</td>\n",
              "      <td>DoB</td>\n",
              "      <td>Null</td>\n",
              "      <td>N</td>\n",
              "    </tr>\n",
              "    <tr>\n",
              "      <th>66</th>\n",
              "      <td>7</td>\n",
              "      <td>MaritalStatus</td>\n",
              "      <td>Name</td>\n",
              "      <td>Null</td>\n",
              "      <td>N</td>\n",
              "    </tr>\n",
              "    <tr>\n",
              "      <th>67</th>\n",
              "      <td>8</td>\n",
              "      <td>MaritalStatus</td>\n",
              "      <td>Status</td>\n",
              "      <td>Null</td>\n",
              "      <td>N</td>\n",
              "    </tr>\n",
              "    <tr>\n",
              "      <th>68</th>\n",
              "      <td>9</td>\n",
              "      <td>DepartmentTable</td>\n",
              "      <td>Name</td>\n",
              "      <td>Null</td>\n",
              "      <td>N</td>\n",
              "    </tr>\n",
              "    <tr>\n",
              "      <th>69</th>\n",
              "      <td>10</td>\n",
              "      <td>DepartmentTable</td>\n",
              "      <td>Department</td>\n",
              "      <td>Null</td>\n",
              "      <td>N</td>\n",
              "    </tr>\n",
              "    <tr>\n",
              "      <th>70</th>\n",
              "      <td>11</td>\n",
              "      <td>Jobs</td>\n",
              "      <td>Job_Title</td>\n",
              "      <td>Null</td>\n",
              "      <td>N</td>\n",
              "    </tr>\n",
              "    <tr>\n",
              "      <th>71</th>\n",
              "      <td>12</td>\n",
              "      <td>Jobs</td>\n",
              "      <td>Employee_Name</td>\n",
              "      <td>Null</td>\n",
              "      <td>N</td>\n",
              "    </tr>\n",
              "    <tr>\n",
              "      <th>72</th>\n",
              "      <td>13</td>\n",
              "      <td>Jobs</td>\n",
              "      <td>ID</td>\n",
              "      <td>Null</td>\n",
              "      <td>N</td>\n",
              "    </tr>\n",
              "    <tr>\n",
              "      <th>73</th>\n",
              "      <td>14</td>\n",
              "      <td>HomeLocation</td>\n",
              "      <td>Employee</td>\n",
              "      <td>Null</td>\n",
              "      <td>N</td>\n",
              "    </tr>\n",
              "    <tr>\n",
              "      <th>74</th>\n",
              "      <td>15</td>\n",
              "      <td>HomeLocation</td>\n",
              "      <td>Location</td>\n",
              "      <td>Null</td>\n",
              "      <td>N</td>\n",
              "    </tr>\n",
              "    <tr>\n",
              "      <th>93</th>\n",
              "      <td>4</td>\n",
              "      <td>Genders</td>\n",
              "      <td>Gender</td>\n",
              "      <td>PickList</td>\n",
              "      <td>Gender</td>\n",
              "    </tr>\n",
              "    <tr>\n",
              "      <th>97</th>\n",
              "      <td>8</td>\n",
              "      <td>MaritalStatus</td>\n",
              "      <td>Status</td>\n",
              "      <td>PickList</td>\n",
              "      <td>MaritalStatus</td>\n",
              "    </tr>\n",
              "    <tr>\n",
              "      <th>104</th>\n",
              "      <td>15</td>\n",
              "      <td>HomeLocation</td>\n",
              "      <td>Location</td>\n",
              "      <td>PickList</td>\n",
              "      <td>HomeLocation</td>\n",
              "    </tr>\n",
              "    <tr>\n",
              "      <th>106</th>\n",
              "      <td>2</td>\n",
              "      <td>Ages</td>\n",
              "      <td>Age</td>\n",
              "      <td>Rule1</td>\n",
              "      <td>Positive</td>\n",
              "    </tr>\n",
              "    <tr>\n",
              "      <th>121</th>\n",
              "      <td>2</td>\n",
              "      <td>Ages</td>\n",
              "      <td>Age</td>\n",
              "      <td>Rule2</td>\n",
              "      <td>GreaterThanTen</td>\n",
              "    </tr>\n",
              "  </tbody>\n",
              "</table>\n",
              "</div>"
            ],
            "text/plain": [
              "    RuleID          DataSet        FieldID  RuleType         KeyWord\n",
              "0        1             Ages           Name  DataType            Text\n",
              "1        2             Ages            Age  DataType          Number\n",
              "2        3          Genders           Name  DataType            Text\n",
              "3        4          Genders         Gender  DataType            Text\n",
              "4        5              DoB           Name  DataType            Text\n",
              "5        6              DoB            DoB  DataType            Date\n",
              "6        7    MaritalStatus           Name  DataType            Text\n",
              "7        8    MaritalStatus         Status  DataType            Text\n",
              "8        9  DepartmentTable           Name  DataType            Text\n",
              "9       10  DepartmentTable     Department  DataType            Text\n",
              "10      11             Jobs      Job_Title  DataType            Text\n",
              "11      12             Jobs  Employee_Name  DataType            Text\n",
              "12      13             Jobs             ID  DataType          Number\n",
              "13      14     HomeLocation       Employee  DataType            Text\n",
              "14      15     HomeLocation       Location  DataType            Text\n",
              "60       1             Ages           Name      Null               N\n",
              "61       2             Ages            Age      Null               N\n",
              "62       3          Genders           Name      Null               N\n",
              "63       4          Genders         Gender      Null               N\n",
              "64       5              DoB           Name      Null               N\n",
              "65       6              DoB            DoB      Null               N\n",
              "66       7    MaritalStatus           Name      Null               N\n",
              "67       8    MaritalStatus         Status      Null               N\n",
              "68       9  DepartmentTable           Name      Null               N\n",
              "69      10  DepartmentTable     Department      Null               N\n",
              "70      11             Jobs      Job_Title      Null               N\n",
              "71      12             Jobs  Employee_Name      Null               N\n",
              "72      13             Jobs             ID      Null               N\n",
              "73      14     HomeLocation       Employee      Null               N\n",
              "74      15     HomeLocation       Location      Null               N\n",
              "93       4          Genders         Gender  PickList          Gender\n",
              "97       8    MaritalStatus         Status  PickList   MaritalStatus\n",
              "104     15     HomeLocation       Location  PickList    HomeLocation\n",
              "106      2             Ages            Age     Rule1        Positive\n",
              "121      2             Ages            Age     Rule2  GreaterThanTen"
            ]
          },
          "metadata": {
            "tags": []
          },
          "execution_count": 53
        }
      ]
    },
    {
      "cell_type": "code",
      "metadata": {
        "colab": {
          "base_uri": "https://localhost:8080/",
          "height": 1000
        },
        "id": "Pk_3P_qR_79e",
        "outputId": "5c2bd195-1ab6-4b5e-a158-8ea3b651d814"
      },
      "source": [
        "# df['A'] = df.apply(lambda x: x['B'] if x['A']==0 else x['A'], axis=1)\n",
        "# The following adds the KeyWord Null into the Rules list - if Null is N, this means Nulls are Not Allowed\n",
        "rulesdb['KeyWord'] = rulesdb.apply(lambda x: x['RuleType'] if x['KeyWord']=='N' else x['KeyWord'], axis=1)\n",
        "rulesdb"
      ],
      "execution_count": 55,
      "outputs": [
        {
          "output_type": "execute_result",
          "data": {
            "text/html": [
              "<div>\n",
              "<style scoped>\n",
              "    .dataframe tbody tr th:only-of-type {\n",
              "        vertical-align: middle;\n",
              "    }\n",
              "\n",
              "    .dataframe tbody tr th {\n",
              "        vertical-align: top;\n",
              "    }\n",
              "\n",
              "    .dataframe thead th {\n",
              "        text-align: right;\n",
              "    }\n",
              "</style>\n",
              "<table border=\"1\" class=\"dataframe\">\n",
              "  <thead>\n",
              "    <tr style=\"text-align: right;\">\n",
              "      <th></th>\n",
              "      <th>RuleID</th>\n",
              "      <th>DataSet</th>\n",
              "      <th>FieldID</th>\n",
              "      <th>RuleType</th>\n",
              "      <th>KeyWord</th>\n",
              "    </tr>\n",
              "  </thead>\n",
              "  <tbody>\n",
              "    <tr>\n",
              "      <th>0</th>\n",
              "      <td>1</td>\n",
              "      <td>Ages</td>\n",
              "      <td>Name</td>\n",
              "      <td>DataType</td>\n",
              "      <td>Text</td>\n",
              "    </tr>\n",
              "    <tr>\n",
              "      <th>1</th>\n",
              "      <td>2</td>\n",
              "      <td>Ages</td>\n",
              "      <td>Age</td>\n",
              "      <td>DataType</td>\n",
              "      <td>Number</td>\n",
              "    </tr>\n",
              "    <tr>\n",
              "      <th>2</th>\n",
              "      <td>3</td>\n",
              "      <td>Genders</td>\n",
              "      <td>Name</td>\n",
              "      <td>DataType</td>\n",
              "      <td>Text</td>\n",
              "    </tr>\n",
              "    <tr>\n",
              "      <th>3</th>\n",
              "      <td>4</td>\n",
              "      <td>Genders</td>\n",
              "      <td>Gender</td>\n",
              "      <td>DataType</td>\n",
              "      <td>Text</td>\n",
              "    </tr>\n",
              "    <tr>\n",
              "      <th>4</th>\n",
              "      <td>5</td>\n",
              "      <td>DoB</td>\n",
              "      <td>Name</td>\n",
              "      <td>DataType</td>\n",
              "      <td>Text</td>\n",
              "    </tr>\n",
              "    <tr>\n",
              "      <th>5</th>\n",
              "      <td>6</td>\n",
              "      <td>DoB</td>\n",
              "      <td>DoB</td>\n",
              "      <td>DataType</td>\n",
              "      <td>Date</td>\n",
              "    </tr>\n",
              "    <tr>\n",
              "      <th>6</th>\n",
              "      <td>7</td>\n",
              "      <td>MaritalStatus</td>\n",
              "      <td>Name</td>\n",
              "      <td>DataType</td>\n",
              "      <td>Text</td>\n",
              "    </tr>\n",
              "    <tr>\n",
              "      <th>7</th>\n",
              "      <td>8</td>\n",
              "      <td>MaritalStatus</td>\n",
              "      <td>Status</td>\n",
              "      <td>DataType</td>\n",
              "      <td>Text</td>\n",
              "    </tr>\n",
              "    <tr>\n",
              "      <th>8</th>\n",
              "      <td>9</td>\n",
              "      <td>DepartmentTable</td>\n",
              "      <td>Name</td>\n",
              "      <td>DataType</td>\n",
              "      <td>Text</td>\n",
              "    </tr>\n",
              "    <tr>\n",
              "      <th>9</th>\n",
              "      <td>10</td>\n",
              "      <td>DepartmentTable</td>\n",
              "      <td>Department</td>\n",
              "      <td>DataType</td>\n",
              "      <td>Text</td>\n",
              "    </tr>\n",
              "    <tr>\n",
              "      <th>10</th>\n",
              "      <td>11</td>\n",
              "      <td>Jobs</td>\n",
              "      <td>Job_Title</td>\n",
              "      <td>DataType</td>\n",
              "      <td>Text</td>\n",
              "    </tr>\n",
              "    <tr>\n",
              "      <th>11</th>\n",
              "      <td>12</td>\n",
              "      <td>Jobs</td>\n",
              "      <td>Employee_Name</td>\n",
              "      <td>DataType</td>\n",
              "      <td>Text</td>\n",
              "    </tr>\n",
              "    <tr>\n",
              "      <th>12</th>\n",
              "      <td>13</td>\n",
              "      <td>Jobs</td>\n",
              "      <td>ID</td>\n",
              "      <td>DataType</td>\n",
              "      <td>Number</td>\n",
              "    </tr>\n",
              "    <tr>\n",
              "      <th>13</th>\n",
              "      <td>14</td>\n",
              "      <td>HomeLocation</td>\n",
              "      <td>Employee</td>\n",
              "      <td>DataType</td>\n",
              "      <td>Text</td>\n",
              "    </tr>\n",
              "    <tr>\n",
              "      <th>14</th>\n",
              "      <td>15</td>\n",
              "      <td>HomeLocation</td>\n",
              "      <td>Location</td>\n",
              "      <td>DataType</td>\n",
              "      <td>Text</td>\n",
              "    </tr>\n",
              "    <tr>\n",
              "      <th>60</th>\n",
              "      <td>1</td>\n",
              "      <td>Ages</td>\n",
              "      <td>Name</td>\n",
              "      <td>Null</td>\n",
              "      <td>Null</td>\n",
              "    </tr>\n",
              "    <tr>\n",
              "      <th>61</th>\n",
              "      <td>2</td>\n",
              "      <td>Ages</td>\n",
              "      <td>Age</td>\n",
              "      <td>Null</td>\n",
              "      <td>Null</td>\n",
              "    </tr>\n",
              "    <tr>\n",
              "      <th>62</th>\n",
              "      <td>3</td>\n",
              "      <td>Genders</td>\n",
              "      <td>Name</td>\n",
              "      <td>Null</td>\n",
              "      <td>Null</td>\n",
              "    </tr>\n",
              "    <tr>\n",
              "      <th>63</th>\n",
              "      <td>4</td>\n",
              "      <td>Genders</td>\n",
              "      <td>Gender</td>\n",
              "      <td>Null</td>\n",
              "      <td>Null</td>\n",
              "    </tr>\n",
              "    <tr>\n",
              "      <th>64</th>\n",
              "      <td>5</td>\n",
              "      <td>DoB</td>\n",
              "      <td>Name</td>\n",
              "      <td>Null</td>\n",
              "      <td>Null</td>\n",
              "    </tr>\n",
              "    <tr>\n",
              "      <th>65</th>\n",
              "      <td>6</td>\n",
              "      <td>DoB</td>\n",
              "      <td>DoB</td>\n",
              "      <td>Null</td>\n",
              "      <td>Null</td>\n",
              "    </tr>\n",
              "    <tr>\n",
              "      <th>66</th>\n",
              "      <td>7</td>\n",
              "      <td>MaritalStatus</td>\n",
              "      <td>Name</td>\n",
              "      <td>Null</td>\n",
              "      <td>Null</td>\n",
              "    </tr>\n",
              "    <tr>\n",
              "      <th>67</th>\n",
              "      <td>8</td>\n",
              "      <td>MaritalStatus</td>\n",
              "      <td>Status</td>\n",
              "      <td>Null</td>\n",
              "      <td>Null</td>\n",
              "    </tr>\n",
              "    <tr>\n",
              "      <th>68</th>\n",
              "      <td>9</td>\n",
              "      <td>DepartmentTable</td>\n",
              "      <td>Name</td>\n",
              "      <td>Null</td>\n",
              "      <td>Null</td>\n",
              "    </tr>\n",
              "    <tr>\n",
              "      <th>69</th>\n",
              "      <td>10</td>\n",
              "      <td>DepartmentTable</td>\n",
              "      <td>Department</td>\n",
              "      <td>Null</td>\n",
              "      <td>Null</td>\n",
              "    </tr>\n",
              "    <tr>\n",
              "      <th>70</th>\n",
              "      <td>11</td>\n",
              "      <td>Jobs</td>\n",
              "      <td>Job_Title</td>\n",
              "      <td>Null</td>\n",
              "      <td>Null</td>\n",
              "    </tr>\n",
              "    <tr>\n",
              "      <th>71</th>\n",
              "      <td>12</td>\n",
              "      <td>Jobs</td>\n",
              "      <td>Employee_Name</td>\n",
              "      <td>Null</td>\n",
              "      <td>Null</td>\n",
              "    </tr>\n",
              "    <tr>\n",
              "      <th>72</th>\n",
              "      <td>13</td>\n",
              "      <td>Jobs</td>\n",
              "      <td>ID</td>\n",
              "      <td>Null</td>\n",
              "      <td>Null</td>\n",
              "    </tr>\n",
              "    <tr>\n",
              "      <th>73</th>\n",
              "      <td>14</td>\n",
              "      <td>HomeLocation</td>\n",
              "      <td>Employee</td>\n",
              "      <td>Null</td>\n",
              "      <td>Null</td>\n",
              "    </tr>\n",
              "    <tr>\n",
              "      <th>74</th>\n",
              "      <td>15</td>\n",
              "      <td>HomeLocation</td>\n",
              "      <td>Location</td>\n",
              "      <td>Null</td>\n",
              "      <td>Null</td>\n",
              "    </tr>\n",
              "    <tr>\n",
              "      <th>93</th>\n",
              "      <td>4</td>\n",
              "      <td>Genders</td>\n",
              "      <td>Gender</td>\n",
              "      <td>PickList</td>\n",
              "      <td>Gender</td>\n",
              "    </tr>\n",
              "    <tr>\n",
              "      <th>97</th>\n",
              "      <td>8</td>\n",
              "      <td>MaritalStatus</td>\n",
              "      <td>Status</td>\n",
              "      <td>PickList</td>\n",
              "      <td>MaritalStatus</td>\n",
              "    </tr>\n",
              "    <tr>\n",
              "      <th>104</th>\n",
              "      <td>15</td>\n",
              "      <td>HomeLocation</td>\n",
              "      <td>Location</td>\n",
              "      <td>PickList</td>\n",
              "      <td>HomeLocation</td>\n",
              "    </tr>\n",
              "    <tr>\n",
              "      <th>106</th>\n",
              "      <td>2</td>\n",
              "      <td>Ages</td>\n",
              "      <td>Age</td>\n",
              "      <td>Rule1</td>\n",
              "      <td>Positive</td>\n",
              "    </tr>\n",
              "    <tr>\n",
              "      <th>121</th>\n",
              "      <td>2</td>\n",
              "      <td>Ages</td>\n",
              "      <td>Age</td>\n",
              "      <td>Rule2</td>\n",
              "      <td>GreaterThanTen</td>\n",
              "    </tr>\n",
              "  </tbody>\n",
              "</table>\n",
              "</div>"
            ],
            "text/plain": [
              "    RuleID          DataSet        FieldID  RuleType         KeyWord\n",
              "0        1             Ages           Name  DataType            Text\n",
              "1        2             Ages            Age  DataType          Number\n",
              "2        3          Genders           Name  DataType            Text\n",
              "3        4          Genders         Gender  DataType            Text\n",
              "4        5              DoB           Name  DataType            Text\n",
              "5        6              DoB            DoB  DataType            Date\n",
              "6        7    MaritalStatus           Name  DataType            Text\n",
              "7        8    MaritalStatus         Status  DataType            Text\n",
              "8        9  DepartmentTable           Name  DataType            Text\n",
              "9       10  DepartmentTable     Department  DataType            Text\n",
              "10      11             Jobs      Job_Title  DataType            Text\n",
              "11      12             Jobs  Employee_Name  DataType            Text\n",
              "12      13             Jobs             ID  DataType          Number\n",
              "13      14     HomeLocation       Employee  DataType            Text\n",
              "14      15     HomeLocation       Location  DataType            Text\n",
              "60       1             Ages           Name      Null            Null\n",
              "61       2             Ages            Age      Null            Null\n",
              "62       3          Genders           Name      Null            Null\n",
              "63       4          Genders         Gender      Null            Null\n",
              "64       5              DoB           Name      Null            Null\n",
              "65       6              DoB            DoB      Null            Null\n",
              "66       7    MaritalStatus           Name      Null            Null\n",
              "67       8    MaritalStatus         Status      Null            Null\n",
              "68       9  DepartmentTable           Name      Null            Null\n",
              "69      10  DepartmentTable     Department      Null            Null\n",
              "70      11             Jobs      Job_Title      Null            Null\n",
              "71      12             Jobs  Employee_Name      Null            Null\n",
              "72      13             Jobs             ID      Null            Null\n",
              "73      14     HomeLocation       Employee      Null            Null\n",
              "74      15     HomeLocation       Location      Null            Null\n",
              "93       4          Genders         Gender  PickList          Gender\n",
              "97       8    MaritalStatus         Status  PickList   MaritalStatus\n",
              "104     15     HomeLocation       Location  PickList    HomeLocation\n",
              "106      2             Ages            Age     Rule1        Positive\n",
              "121      2             Ages            Age     Rule2  GreaterThanTen"
            ]
          },
          "metadata": {
            "tags": []
          },
          "execution_count": 55
        }
      ]
    },
    {
      "cell_type": "code",
      "metadata": {
        "colab": {
          "base_uri": "https://localhost:8080/",
          "height": 197
        },
        "id": "Rn7lUvCkASTp",
        "outputId": "981f731c-9c36-4688-a121-ed05b03f8d59"
      },
      "source": [
        "\n",
        "PickListCellsList\n",
        "\n",
        "rulesdb = pd.merge(rulesdb,PickListCellsList, on=['KeyWord'],how='left')\n",
        "\n",
        "rulesdb.head(5)"
      ],
      "execution_count": 56,
      "outputs": [
        {
          "output_type": "execute_result",
          "data": {
            "text/html": [
              "<div>\n",
              "<style scoped>\n",
              "    .dataframe tbody tr th:only-of-type {\n",
              "        vertical-align: middle;\n",
              "    }\n",
              "\n",
              "    .dataframe tbody tr th {\n",
              "        vertical-align: top;\n",
              "    }\n",
              "\n",
              "    .dataframe thead th {\n",
              "        text-align: right;\n",
              "    }\n",
              "</style>\n",
              "<table border=\"1\" class=\"dataframe\">\n",
              "  <thead>\n",
              "    <tr style=\"text-align: right;\">\n",
              "      <th></th>\n",
              "      <th>RuleID</th>\n",
              "      <th>DataSet</th>\n",
              "      <th>FieldID</th>\n",
              "      <th>RuleType</th>\n",
              "      <th>KeyWord</th>\n",
              "      <th>FormulaKeyWord</th>\n",
              "      <th>List</th>\n",
              "    </tr>\n",
              "  </thead>\n",
              "  <tbody>\n",
              "    <tr>\n",
              "      <th>0</th>\n",
              "      <td>1</td>\n",
              "      <td>Ages</td>\n",
              "      <td>Name</td>\n",
              "      <td>DataType</td>\n",
              "      <td>Text</td>\n",
              "      <td>NaN</td>\n",
              "      <td>NaN</td>\n",
              "    </tr>\n",
              "    <tr>\n",
              "      <th>1</th>\n",
              "      <td>2</td>\n",
              "      <td>Ages</td>\n",
              "      <td>Age</td>\n",
              "      <td>DataType</td>\n",
              "      <td>Number</td>\n",
              "      <td>NaN</td>\n",
              "      <td>NaN</td>\n",
              "    </tr>\n",
              "    <tr>\n",
              "      <th>2</th>\n",
              "      <td>3</td>\n",
              "      <td>Genders</td>\n",
              "      <td>Name</td>\n",
              "      <td>DataType</td>\n",
              "      <td>Text</td>\n",
              "      <td>NaN</td>\n",
              "      <td>NaN</td>\n",
              "    </tr>\n",
              "    <tr>\n",
              "      <th>3</th>\n",
              "      <td>4</td>\n",
              "      <td>Genders</td>\n",
              "      <td>Gender</td>\n",
              "      <td>DataType</td>\n",
              "      <td>Text</td>\n",
              "      <td>NaN</td>\n",
              "      <td>NaN</td>\n",
              "    </tr>\n",
              "    <tr>\n",
              "      <th>4</th>\n",
              "      <td>5</td>\n",
              "      <td>DoB</td>\n",
              "      <td>Name</td>\n",
              "      <td>DataType</td>\n",
              "      <td>Text</td>\n",
              "      <td>NaN</td>\n",
              "      <td>NaN</td>\n",
              "    </tr>\n",
              "  </tbody>\n",
              "</table>\n",
              "</div>"
            ],
            "text/plain": [
              "  RuleID  DataSet FieldID  RuleType KeyWord FormulaKeyWord List\n",
              "0      1     Ages    Name  DataType    Text            NaN  NaN\n",
              "1      2     Ages     Age  DataType  Number            NaN  NaN\n",
              "2      3  Genders    Name  DataType    Text            NaN  NaN\n",
              "3      4  Genders  Gender  DataType    Text            NaN  NaN\n",
              "4      5      DoB    Name  DataType    Text            NaN  NaN"
            ]
          },
          "metadata": {
            "tags": []
          },
          "execution_count": 56
        }
      ]
    },
    {
      "cell_type": "markdown",
      "metadata": {
        "id": "_BT3jBxRgmOX"
      },
      "source": [
        "# Add Code and Formulae to Rules Database"
      ]
    },
    {
      "cell_type": "markdown",
      "metadata": {
        "id": "FjPsx40uNGbC"
      },
      "source": [
        "Palette defines the Rule Text and Rule Formula.  We have implemented rules on Alteryx, SQL, Python & Javascript"
      ]
    },
    {
      "cell_type": "code",
      "metadata": {
        "colab": {
          "base_uri": "https://localhost:8080/",
          "height": 197
        },
        "id": "IMxdvA1QKNB2",
        "outputId": "8c384c48-8de0-42c9-b4a2-ac7c95202003"
      },
      "source": [
        "PaletteCells = pd.DataFrame()\n",
        "PaletteCells = fullcelldb[(fullcelldb['SheetName'] == 'Palette')].copy()\n",
        "PaletteCells.head()"
      ],
      "execution_count": 59,
      "outputs": [
        {
          "output_type": "execute_result",
          "data": {
            "text/html": [
              "<div>\n",
              "<style scoped>\n",
              "    .dataframe tbody tr th:only-of-type {\n",
              "        vertical-align: middle;\n",
              "    }\n",
              "\n",
              "    .dataframe tbody tr th {\n",
              "        vertical-align: top;\n",
              "    }\n",
              "\n",
              "    .dataframe thead th {\n",
              "        text-align: right;\n",
              "    }\n",
              "</style>\n",
              "<table border=\"1\" class=\"dataframe\">\n",
              "  <thead>\n",
              "    <tr style=\"text-align: right;\">\n",
              "      <th></th>\n",
              "      <th>RowID</th>\n",
              "      <th>ColumnID</th>\n",
              "      <th>CellValue</th>\n",
              "      <th>CellType</th>\n",
              "      <th>FileName</th>\n",
              "      <th>SheetName</th>\n",
              "    </tr>\n",
              "  </thead>\n",
              "  <tbody>\n",
              "    <tr>\n",
              "      <th>917</th>\n",
              "      <td>1</td>\n",
              "      <td>1</td>\n",
              "      <td>KeyWord</td>\n",
              "      <td>Text</td>\n",
              "      <td>R20210129113242247063</td>\n",
              "      <td>Palette</td>\n",
              "    </tr>\n",
              "    <tr>\n",
              "      <th>918</th>\n",
              "      <td>2</td>\n",
              "      <td>1</td>\n",
              "      <td>Date</td>\n",
              "      <td>Text</td>\n",
              "      <td>R20210129113242247063</td>\n",
              "      <td>Palette</td>\n",
              "    </tr>\n",
              "    <tr>\n",
              "      <th>919</th>\n",
              "      <td>3</td>\n",
              "      <td>1</td>\n",
              "      <td>Number</td>\n",
              "      <td>Text</td>\n",
              "      <td>R20210129113242247063</td>\n",
              "      <td>Palette</td>\n",
              "    </tr>\n",
              "    <tr>\n",
              "      <th>920</th>\n",
              "      <td>4</td>\n",
              "      <td>1</td>\n",
              "      <td>Text</td>\n",
              "      <td>Text</td>\n",
              "      <td>R20210129113242247063</td>\n",
              "      <td>Palette</td>\n",
              "    </tr>\n",
              "    <tr>\n",
              "      <th>921</th>\n",
              "      <td>5</td>\n",
              "      <td>1</td>\n",
              "      <td>NotNull</td>\n",
              "      <td>Text</td>\n",
              "      <td>R20210129113242247063</td>\n",
              "      <td>Palette</td>\n",
              "    </tr>\n",
              "  </tbody>\n",
              "</table>\n",
              "</div>"
            ],
            "text/plain": [
              "     RowID  ColumnID CellValue CellType               FileName SheetName\n",
              "917      1         1   KeyWord     Text  R20210129113242247063   Palette\n",
              "918      2         1      Date     Text  R20210129113242247063   Palette\n",
              "919      3         1    Number     Text  R20210129113242247063   Palette\n",
              "920      4         1      Text     Text  R20210129113242247063   Palette\n",
              "921      5         1   NotNull     Text  R20210129113242247063   Palette"
            ]
          },
          "metadata": {
            "tags": []
          },
          "execution_count": 59
        }
      ]
    },
    {
      "cell_type": "code",
      "metadata": {
        "colab": {
          "base_uri": "https://localhost:8080/",
          "height": 346
        },
        "id": "IBUxKoYtKsoN",
        "outputId": "c95d08e1-3efd-4126-8fcb-aa0aa24fdea6"
      },
      "source": [
        "Palette = pd.DataFrame()\n",
        "Palette = PaletteCells.pivot_table(index = ['RowID'], values = 'CellValue',columns = 'ColumnID', aggfunc = 'max')\n",
        "ColumnHeadings = Palette.iloc[0]\n",
        "ColumnHeadingsList = list(ColumnHeadings)\n",
        "print(ColumnHeadingsList)\n",
        "ColumnHeadingsListTuple = enumerate(ColumnHeadingsList,start=1)\n",
        "ColumnHeadingsListDict = dict(ColumnHeadingsListTuple)\n",
        "print(ColumnHeadingsListDict)\n",
        "Palette = Palette.rename(columns=ColumnHeadingsListDict)\n",
        "Palette = Palette.drop([1])\n",
        "Palette.head()"
      ],
      "execution_count": 60,
      "outputs": [
        {
          "output_type": "stream",
          "text": [
            "['KeyWord', 'Rule', 'CheckPerformed', 'ErrorMessage', 'AlteryxDataType', 'AlteryxFormula', 'RemedialAction', 'SQLFormula', 'PythonFormula']\n",
            "{1: 'KeyWord', 2: 'Rule', 3: 'CheckPerformed', 4: 'ErrorMessage', 5: 'AlteryxDataType', 6: 'AlteryxFormula', 7: 'RemedialAction', 8: 'SQLFormula', 9: 'PythonFormula'}\n"
          ],
          "name": "stdout"
        },
        {
          "output_type": "execute_result",
          "data": {
            "text/html": [
              "<div>\n",
              "<style scoped>\n",
              "    .dataframe tbody tr th:only-of-type {\n",
              "        vertical-align: middle;\n",
              "    }\n",
              "\n",
              "    .dataframe tbody tr th {\n",
              "        vertical-align: top;\n",
              "    }\n",
              "\n",
              "    .dataframe thead th {\n",
              "        text-align: right;\n",
              "    }\n",
              "</style>\n",
              "<table border=\"1\" class=\"dataframe\">\n",
              "  <thead>\n",
              "    <tr style=\"text-align: right;\">\n",
              "      <th>ColumnID</th>\n",
              "      <th>KeyWord</th>\n",
              "      <th>Rule</th>\n",
              "      <th>CheckPerformed</th>\n",
              "      <th>ErrorMessage</th>\n",
              "      <th>AlteryxDataType</th>\n",
              "      <th>AlteryxFormula</th>\n",
              "      <th>RemedialAction</th>\n",
              "      <th>SQLFormula</th>\n",
              "      <th>PythonFormula</th>\n",
              "    </tr>\n",
              "    <tr>\n",
              "      <th>RowID</th>\n",
              "      <th></th>\n",
              "      <th></th>\n",
              "      <th></th>\n",
              "      <th></th>\n",
              "      <th></th>\n",
              "      <th></th>\n",
              "      <th></th>\n",
              "      <th></th>\n",
              "      <th></th>\n",
              "    </tr>\n",
              "  </thead>\n",
              "  <tbody>\n",
              "    <tr>\n",
              "      <th>2</th>\n",
              "      <td>Date</td>\n",
              "      <td>Must Be Date</td>\n",
              "      <td>Data Type is Date</td>\n",
              "      <td>Date Not Entered</td>\n",
              "      <td>Date</td>\n",
              "      <td>Length([CellValue]) &gt; 0 and [CellType] = \"Date\"</td>\n",
              "      <td>Enter Date</td>\n",
              "      <td>case when IsNULL([CellValue],'XX') = 'XX' then...</td>\n",
              "      <td>np.where(dataset['CellType'] == 'Date', 1, 0)</td>\n",
              "    </tr>\n",
              "    <tr>\n",
              "      <th>3</th>\n",
              "      <td>Number</td>\n",
              "      <td>Must Be Number</td>\n",
              "      <td>Data Type is Number</td>\n",
              "      <td>Number Not Entered</td>\n",
              "      <td>Double</td>\n",
              "      <td>Length([CellValue]) &gt; 0 and [CellType] = \"Number\"</td>\n",
              "      <td>Enter Number</td>\n",
              "      <td>case when IsNULL([CellValue],'XX') = 'XX' then...</td>\n",
              "      <td>np.where(dataset['CellType'] == 'Number', 1, 0)</td>\n",
              "    </tr>\n",
              "    <tr>\n",
              "      <th>4</th>\n",
              "      <td>Text</td>\n",
              "      <td>Must Be Text</td>\n",
              "      <td>Data Type is Text</td>\n",
              "      <td>Text Not Entered</td>\n",
              "      <td>V_String</td>\n",
              "      <td>Length([CellValue]) &gt; 0 and Contains([CellType...</td>\n",
              "      <td>Enter as Text</td>\n",
              "      <td>case when IsNULL([CellValue],'XX') = 'XX' then...</td>\n",
              "      <td>np.where(dataset['CellType'] == 'Text', 1, 0)</td>\n",
              "    </tr>\n",
              "    <tr>\n",
              "      <th>5</th>\n",
              "      <td>NotNull</td>\n",
              "      <td>Must Not Be Null</td>\n",
              "      <td>Field cannot be Null</td>\n",
              "      <td>No Data in Field</td>\n",
              "      <td>NaN</td>\n",
              "      <td>Length([CellValue]) &gt; 0</td>\n",
              "      <td>Enter Required Data</td>\n",
              "      <td>case when IsNULL([CellValue],'XX') != 'XX' the...</td>\n",
              "      <td>dataset['CellValue'].isnull().map({True: 0, Fa...</td>\n",
              "    </tr>\n",
              "    <tr>\n",
              "      <th>6</th>\n",
              "      <td>1OrGreater</td>\n",
              "      <td>Must be 1 or greater</td>\n",
              "      <td>Number is 1 or greater</td>\n",
              "      <td>Number is below 1</td>\n",
              "      <td>NaN</td>\n",
              "      <td>ToNumber([CellValue])&gt;=1</td>\n",
              "      <td>Enter value 1 or greater</td>\n",
              "      <td>case when TRY_CAST([CellValue] as INT)&gt;=1 then...</td>\n",
              "      <td>NaN</td>\n",
              "    </tr>\n",
              "  </tbody>\n",
              "</table>\n",
              "</div>"
            ],
            "text/plain": [
              "ColumnID     KeyWord  ...                                      PythonFormula\n",
              "RowID                 ...                                                   \n",
              "2               Date  ...      np.where(dataset['CellType'] == 'Date', 1, 0)\n",
              "3             Number  ...    np.where(dataset['CellType'] == 'Number', 1, 0)\n",
              "4               Text  ...      np.where(dataset['CellType'] == 'Text', 1, 0)\n",
              "5            NotNull  ...  dataset['CellValue'].isnull().map({True: 0, Fa...\n",
              "6         1OrGreater  ...                                                NaN\n",
              "\n",
              "[5 rows x 9 columns]"
            ]
          },
          "metadata": {
            "tags": []
          },
          "execution_count": 60
        }
      ]
    },
    {
      "cell_type": "code",
      "metadata": {
        "id": "C5qzWLTy9uOh",
        "colab": {
          "base_uri": "https://localhost:8080/",
          "height": 222
        },
        "outputId": "c8bed9a8-5bb6-4fa9-9b7f-e7b05bcf0349"
      },
      "source": [
        "palette = pd.DataFrame()"
      ],
      "execution_count": 57,
      "outputs": [
        {
          "output_type": "error",
          "ename": "NameError",
          "evalue": "ignored",
          "traceback": [
            "\u001b[0;31m---------------------------------------------------------------------------\u001b[0m",
            "\u001b[0;31mNameError\u001b[0m                                 Traceback (most recent call last)",
            "\u001b[0;32m<ipython-input-57-305618ea122c>\u001b[0m in \u001b[0;36m<module>\u001b[0;34m()\u001b[0m\n\u001b[1;32m      1\u001b[0m \u001b[0mpalette\u001b[0m \u001b[0;34m=\u001b[0m \u001b[0mpd\u001b[0m\u001b[0;34m.\u001b[0m\u001b[0mDataFrame\u001b[0m\u001b[0;34m(\u001b[0m\u001b[0;34m)\u001b[0m\u001b[0;34m\u001b[0m\u001b[0;34m\u001b[0m\u001b[0m\n\u001b[0;32m----> 2\u001b[0;31m \u001b[0mpalette\u001b[0m \u001b[0;34m=\u001b[0m \u001b[0mpd\u001b[0m\u001b[0;34m.\u001b[0m\u001b[0mmerge\u001b[0m\u001b[0;34m(\u001b[0m\u001b[0mDataSetDF\u001b[0m\u001b[0;34m,\u001b[0m \u001b[0mrulesdb\u001b[0m\u001b[0;34m,\u001b[0m \u001b[0mon\u001b[0m\u001b[0;34m=\u001b[0m\u001b[0;34m[\u001b[0m\u001b[0;34m'FieldID'\u001b[0m\u001b[0;34m,\u001b[0m \u001b[0;34m'DataSet'\u001b[0m\u001b[0;34m]\u001b[0m\u001b[0;34m)\u001b[0m\u001b[0;34m\u001b[0m\u001b[0;34m\u001b[0m\u001b[0m\n\u001b[0m\u001b[1;32m      3\u001b[0m \u001b[0mpalette\u001b[0m\u001b[0;34m[\u001b[0m\u001b[0;34m'KeyWord'\u001b[0m\u001b[0;34m]\u001b[0m \u001b[0;34m=\u001b[0m \u001b[0mrulesdb\u001b[0m\u001b[0;34m.\u001b[0m\u001b[0mapply\u001b[0m\u001b[0;34m(\u001b[0m\u001b[0;32mlambda\u001b[0m \u001b[0mx\u001b[0m\u001b[0;34m:\u001b[0m \u001b[0mx\u001b[0m\u001b[0;34m[\u001b[0m\u001b[0;34m'FormulaKeyWord'\u001b[0m\u001b[0;34m]\u001b[0m \u001b[0;32mif\u001b[0m \u001b[0mx\u001b[0m\u001b[0;34m[\u001b[0m\u001b[0;34m'FormulaKeyWord'\u001b[0m\u001b[0;34m]\u001b[0m\u001b[0;34m==\u001b[0m\u001b[0;34m'PickList'\u001b[0m \u001b[0;32melse\u001b[0m \u001b[0mx\u001b[0m\u001b[0;34m[\u001b[0m\u001b[0;34m'KeyWord'\u001b[0m\u001b[0;34m]\u001b[0m\u001b[0;34m,\u001b[0m \u001b[0maxis\u001b[0m\u001b[0;34m=\u001b[0m\u001b[0;36m1\u001b[0m\u001b[0;34m)\u001b[0m\u001b[0;34m\u001b[0m\u001b[0;34m\u001b[0m\u001b[0m\n\u001b[1;32m      4\u001b[0m \u001b[0mpalette\u001b[0m\u001b[0;34m.\u001b[0m\u001b[0mhead\u001b[0m\u001b[0;34m(\u001b[0m\u001b[0;36m5\u001b[0m\u001b[0;34m)\u001b[0m\u001b[0;34m\u001b[0m\u001b[0;34m\u001b[0m\u001b[0m\n",
            "\u001b[0;31mNameError\u001b[0m: name 'DataSetDF' is not defined"
          ]
        }
      ]
    },
    {
      "cell_type": "code",
      "metadata": {
        "id": "Vpb-DPKbV_nB",
        "outputId": "c00ba3b3-f8f0-4a67-9240-716b3ed76c7d",
        "colab": {
          "base_uri": "https://localhost:8080/",
          "height": 197
        }
      },
      "source": [
        "DatasetCells = pd.DataFrame()\n",
        "DatasetCells = fullcelldb[(fullcelldb['SheetName'] == 'DataSet')].copy()\n",
        "DatasetCells.head()"
      ],
      "execution_count": 65,
      "outputs": [
        {
          "output_type": "execute_result",
          "data": {
            "text/html": [
              "<div>\n",
              "<style scoped>\n",
              "    .dataframe tbody tr th:only-of-type {\n",
              "        vertical-align: middle;\n",
              "    }\n",
              "\n",
              "    .dataframe tbody tr th {\n",
              "        vertical-align: top;\n",
              "    }\n",
              "\n",
              "    .dataframe thead th {\n",
              "        text-align: right;\n",
              "    }\n",
              "</style>\n",
              "<table border=\"1\" class=\"dataframe\">\n",
              "  <thead>\n",
              "    <tr style=\"text-align: right;\">\n",
              "      <th></th>\n",
              "      <th>RowID</th>\n",
              "      <th>ColumnID</th>\n",
              "      <th>CellValue</th>\n",
              "      <th>CellType</th>\n",
              "      <th>FileName</th>\n",
              "      <th>SheetName</th>\n",
              "    </tr>\n",
              "  </thead>\n",
              "  <tbody>\n",
              "    <tr>\n",
              "      <th>549</th>\n",
              "      <td>1</td>\n",
              "      <td>1</td>\n",
              "      <td>DataSet</td>\n",
              "      <td>Text</td>\n",
              "      <td>R20210129113242247063</td>\n",
              "      <td>DataSet</td>\n",
              "    </tr>\n",
              "    <tr>\n",
              "      <th>550</th>\n",
              "      <td>2</td>\n",
              "      <td>1</td>\n",
              "      <td>Ages</td>\n",
              "      <td>Text</td>\n",
              "      <td>R20210129113242247063</td>\n",
              "      <td>DataSet</td>\n",
              "    </tr>\n",
              "    <tr>\n",
              "      <th>551</th>\n",
              "      <td>3</td>\n",
              "      <td>1</td>\n",
              "      <td>Ages</td>\n",
              "      <td>Text</td>\n",
              "      <td>R20210129113242247063</td>\n",
              "      <td>DataSet</td>\n",
              "    </tr>\n",
              "    <tr>\n",
              "      <th>552</th>\n",
              "      <td>4</td>\n",
              "      <td>1</td>\n",
              "      <td>Genders</td>\n",
              "      <td>Text</td>\n",
              "      <td>R20210129113242247063</td>\n",
              "      <td>DataSet</td>\n",
              "    </tr>\n",
              "    <tr>\n",
              "      <th>553</th>\n",
              "      <td>5</td>\n",
              "      <td>1</td>\n",
              "      <td>Genders</td>\n",
              "      <td>Text</td>\n",
              "      <td>R20210129113242247063</td>\n",
              "      <td>DataSet</td>\n",
              "    </tr>\n",
              "  </tbody>\n",
              "</table>\n",
              "</div>"
            ],
            "text/plain": [
              "     RowID  ColumnID CellValue CellType               FileName SheetName\n",
              "549      1         1   DataSet     Text  R20210129113242247063   DataSet\n",
              "550      2         1      Ages     Text  R20210129113242247063   DataSet\n",
              "551      3         1      Ages     Text  R20210129113242247063   DataSet\n",
              "552      4         1   Genders     Text  R20210129113242247063   DataSet\n",
              "553      5         1   Genders     Text  R20210129113242247063   DataSet"
            ]
          },
          "metadata": {
            "tags": []
          },
          "execution_count": 65
        }
      ]
    },
    {
      "cell_type": "code",
      "metadata": {
        "id": "3TnVFs_9WCqc",
        "outputId": "4d8503cf-8594-4d80-8cd1-ea2586b8f4cf",
        "colab": {
          "base_uri": "https://localhost:8080/",
          "height": 283
        }
      },
      "source": [
        "Datasets = pd.DataFrame()\n",
        "Datasets = DatasetCells.pivot_table(index = ['RowID'], values = 'CellValue',columns = 'ColumnID', aggfunc = 'max')\n",
        "ColumnHeadings = Datasets.iloc[0]\n",
        "ColumnHeadingsList = list(ColumnHeadings)\n",
        "print(ColumnHeadingsList)\n",
        "ColumnHeadingsListTuple = enumerate(ColumnHeadingsList,start=1)\n",
        "ColumnHeadingsListDict = dict(ColumnHeadingsListTuple)\n",
        "print(ColumnHeadingsListDict)\n",
        "Datasets = Datasets.rename(columns=ColumnHeadingsListDict)\n",
        "Datasets = Datasets.drop([1])\n",
        "Datasets.head()"
      ],
      "execution_count": 67,
      "outputs": [
        {
          "output_type": "stream",
          "text": [
            "['DataSet', 'SheetName', 'ReferenceTextStart', 'ReferenceTextEnd', 'RowFromReferenceText', 'ColumnFromReferenceText', 'FieldPosition', 'FieldID', 'FieldDescription', 'TableOrientation']\n",
            "{1: 'DataSet', 2: 'SheetName', 3: 'ReferenceTextStart', 4: 'ReferenceTextEnd', 5: 'RowFromReferenceText', 6: 'ColumnFromReferenceText', 7: 'FieldPosition', 8: 'FieldID', 9: 'FieldDescription', 10: 'TableOrientation'}\n"
          ],
          "name": "stdout"
        },
        {
          "output_type": "execute_result",
          "data": {
            "text/html": [
              "<div>\n",
              "<style scoped>\n",
              "    .dataframe tbody tr th:only-of-type {\n",
              "        vertical-align: middle;\n",
              "    }\n",
              "\n",
              "    .dataframe tbody tr th {\n",
              "        vertical-align: top;\n",
              "    }\n",
              "\n",
              "    .dataframe thead th {\n",
              "        text-align: right;\n",
              "    }\n",
              "</style>\n",
              "<table border=\"1\" class=\"dataframe\">\n",
              "  <thead>\n",
              "    <tr style=\"text-align: right;\">\n",
              "      <th>ColumnID</th>\n",
              "      <th>DataSet</th>\n",
              "      <th>SheetName</th>\n",
              "      <th>ReferenceTextStart</th>\n",
              "      <th>ReferenceTextEnd</th>\n",
              "      <th>RowFromReferenceText</th>\n",
              "      <th>ColumnFromReferenceText</th>\n",
              "      <th>FieldPosition</th>\n",
              "      <th>FieldID</th>\n",
              "      <th>FieldDescription</th>\n",
              "      <th>TableOrientation</th>\n",
              "    </tr>\n",
              "    <tr>\n",
              "      <th>RowID</th>\n",
              "      <th></th>\n",
              "      <th></th>\n",
              "      <th></th>\n",
              "      <th></th>\n",
              "      <th></th>\n",
              "      <th></th>\n",
              "      <th></th>\n",
              "      <th></th>\n",
              "      <th></th>\n",
              "      <th></th>\n",
              "    </tr>\n",
              "  </thead>\n",
              "  <tbody>\n",
              "    <tr>\n",
              "      <th>2</th>\n",
              "      <td>Ages</td>\n",
              "      <td>AgeGenderSheet</td>\n",
              "      <td>Age Table</td>\n",
              "      <td>Gender Table</td>\n",
              "      <td>2</td>\n",
              "      <td>1</td>\n",
              "      <td>1</td>\n",
              "      <td>Name</td>\n",
              "      <td>Name</td>\n",
              "      <td>Down</td>\n",
              "    </tr>\n",
              "    <tr>\n",
              "      <th>3</th>\n",
              "      <td>Ages</td>\n",
              "      <td>AgeGenderSheet</td>\n",
              "      <td>Age Table</td>\n",
              "      <td>Gender Table</td>\n",
              "      <td>2</td>\n",
              "      <td>2</td>\n",
              "      <td>2</td>\n",
              "      <td>Age</td>\n",
              "      <td>Age</td>\n",
              "      <td>Down</td>\n",
              "    </tr>\n",
              "    <tr>\n",
              "      <th>4</th>\n",
              "      <td>Genders</td>\n",
              "      <td>AgeGenderSheet</td>\n",
              "      <td>Gender Table</td>\n",
              "      <td>DOB Table</td>\n",
              "      <td>2</td>\n",
              "      <td>0</td>\n",
              "      <td>1</td>\n",
              "      <td>Name</td>\n",
              "      <td>Name</td>\n",
              "      <td>Down</td>\n",
              "    </tr>\n",
              "    <tr>\n",
              "      <th>5</th>\n",
              "      <td>Genders</td>\n",
              "      <td>AgeGenderSheet</td>\n",
              "      <td>Gender Table</td>\n",
              "      <td>DOB Table</td>\n",
              "      <td>2</td>\n",
              "      <td>1</td>\n",
              "      <td>2</td>\n",
              "      <td>Gender</td>\n",
              "      <td>Gender</td>\n",
              "      <td>Down</td>\n",
              "    </tr>\n",
              "    <tr>\n",
              "      <th>6</th>\n",
              "      <td>DoB</td>\n",
              "      <td>AgeGenderSheet</td>\n",
              "      <td>DOB Table</td>\n",
              "      <td>NaN</td>\n",
              "      <td>2</td>\n",
              "      <td>0</td>\n",
              "      <td>1</td>\n",
              "      <td>Name</td>\n",
              "      <td>Name</td>\n",
              "      <td>Down</td>\n",
              "    </tr>\n",
              "  </tbody>\n",
              "</table>\n",
              "</div>"
            ],
            "text/plain": [
              "ColumnID  DataSet       SheetName  ... FieldDescription TableOrientation\n",
              "RowID                              ...                                  \n",
              "2            Ages  AgeGenderSheet  ...             Name             Down\n",
              "3            Ages  AgeGenderSheet  ...              Age             Down\n",
              "4         Genders  AgeGenderSheet  ...             Name             Down\n",
              "5         Genders  AgeGenderSheet  ...           Gender             Down\n",
              "6             DoB  AgeGenderSheet  ...             Name             Down\n",
              "\n",
              "[5 rows x 10 columns]"
            ]
          },
          "metadata": {
            "tags": []
          },
          "execution_count": 67
        }
      ]
    },
    {
      "cell_type": "code",
      "metadata": {
        "colab": {
          "base_uri": "https://localhost:8080/",
          "height": 217
        },
        "id": "mzEGFcjvLUiR",
        "outputId": "b622ef87-9b03-4cf3-f3a6-c7b2950ca476"
      },
      "source": [
        "#palette = pd.merge(Datasets, Rules, on=['FieldID', 'DataSet'])\n",
        "#palette['KeyWord'] = rulesdb.apply(lambda x: x['FormulaKeyWord'] if x['FormulaKeyWord']=='PickList' else x['KeyWord'], axis=1)\n",
        "#palette.head(5)"
      ],
      "execution_count": 68,
      "outputs": [
        {
          "output_type": "execute_result",
          "data": {
            "text/html": [
              "<div>\n",
              "<style scoped>\n",
              "    .dataframe tbody tr th:only-of-type {\n",
              "        vertical-align: middle;\n",
              "    }\n",
              "\n",
              "    .dataframe tbody tr th {\n",
              "        vertical-align: top;\n",
              "    }\n",
              "\n",
              "    .dataframe thead th {\n",
              "        text-align: right;\n",
              "    }\n",
              "</style>\n",
              "<table border=\"1\" class=\"dataframe\">\n",
              "  <thead>\n",
              "    <tr style=\"text-align: right;\">\n",
              "      <th>ColumnID</th>\n",
              "      <th>DataSet</th>\n",
              "      <th>SheetName</th>\n",
              "      <th>ReferenceTextStart</th>\n",
              "      <th>ReferenceTextEnd</th>\n",
              "      <th>RowFromReferenceText</th>\n",
              "      <th>ColumnFromReferenceText</th>\n",
              "      <th>FieldPosition</th>\n",
              "      <th>FieldID</th>\n",
              "      <th>FieldDescription</th>\n",
              "      <th>TableOrientation</th>\n",
              "      <th>RuleID</th>\n",
              "      <th>DataType</th>\n",
              "      <th>Format</th>\n",
              "      <th>RangeFrom</th>\n",
              "      <th>RangeTo</th>\n",
              "      <th>Null</th>\n",
              "      <th>Length</th>\n",
              "      <th>PickList</th>\n",
              "      <th>Rule1</th>\n",
              "      <th>Rule2</th>\n",
              "      <th>Rule3</th>\n",
              "      <th>KeyWord</th>\n",
              "    </tr>\n",
              "  </thead>\n",
              "  <tbody>\n",
              "    <tr>\n",
              "      <th>0</th>\n",
              "      <td>Ages</td>\n",
              "      <td>AgeGenderSheet</td>\n",
              "      <td>Age Table</td>\n",
              "      <td>Gender Table</td>\n",
              "      <td>2</td>\n",
              "      <td>1</td>\n",
              "      <td>1</td>\n",
              "      <td>Name</td>\n",
              "      <td>Name</td>\n",
              "      <td>Down</td>\n",
              "      <td>1</td>\n",
              "      <td>Text</td>\n",
              "      <td>NaN</td>\n",
              "      <td>NaN</td>\n",
              "      <td>NaN</td>\n",
              "      <td>N</td>\n",
              "      <td>NaN</td>\n",
              "      <td>NaN</td>\n",
              "      <td>NaN</td>\n",
              "      <td>NaN</td>\n",
              "      <td>NaN</td>\n",
              "      <td>Text</td>\n",
              "    </tr>\n",
              "    <tr>\n",
              "      <th>1</th>\n",
              "      <td>Ages</td>\n",
              "      <td>AgeGenderSheet</td>\n",
              "      <td>Age Table</td>\n",
              "      <td>Gender Table</td>\n",
              "      <td>2</td>\n",
              "      <td>2</td>\n",
              "      <td>2</td>\n",
              "      <td>Age</td>\n",
              "      <td>Age</td>\n",
              "      <td>Down</td>\n",
              "      <td>2</td>\n",
              "      <td>Number</td>\n",
              "      <td>NaN</td>\n",
              "      <td>NaN</td>\n",
              "      <td>NaN</td>\n",
              "      <td>N</td>\n",
              "      <td>NaN</td>\n",
              "      <td>NaN</td>\n",
              "      <td>Positive</td>\n",
              "      <td>GreaterThanTen</td>\n",
              "      <td>NaN</td>\n",
              "      <td>Number</td>\n",
              "    </tr>\n",
              "    <tr>\n",
              "      <th>2</th>\n",
              "      <td>Genders</td>\n",
              "      <td>AgeGenderSheet</td>\n",
              "      <td>Gender Table</td>\n",
              "      <td>DOB Table</td>\n",
              "      <td>2</td>\n",
              "      <td>0</td>\n",
              "      <td>1</td>\n",
              "      <td>Name</td>\n",
              "      <td>Name</td>\n",
              "      <td>Down</td>\n",
              "      <td>3</td>\n",
              "      <td>Text</td>\n",
              "      <td>NaN</td>\n",
              "      <td>NaN</td>\n",
              "      <td>NaN</td>\n",
              "      <td>N</td>\n",
              "      <td>NaN</td>\n",
              "      <td>NaN</td>\n",
              "      <td>NaN</td>\n",
              "      <td>NaN</td>\n",
              "      <td>NaN</td>\n",
              "      <td>Text</td>\n",
              "    </tr>\n",
              "    <tr>\n",
              "      <th>3</th>\n",
              "      <td>Genders</td>\n",
              "      <td>AgeGenderSheet</td>\n",
              "      <td>Gender Table</td>\n",
              "      <td>DOB Table</td>\n",
              "      <td>2</td>\n",
              "      <td>1</td>\n",
              "      <td>2</td>\n",
              "      <td>Gender</td>\n",
              "      <td>Gender</td>\n",
              "      <td>Down</td>\n",
              "      <td>4</td>\n",
              "      <td>Text</td>\n",
              "      <td>NaN</td>\n",
              "      <td>NaN</td>\n",
              "      <td>NaN</td>\n",
              "      <td>N</td>\n",
              "      <td>NaN</td>\n",
              "      <td>Gender</td>\n",
              "      <td>NaN</td>\n",
              "      <td>NaN</td>\n",
              "      <td>NaN</td>\n",
              "      <td>Text</td>\n",
              "    </tr>\n",
              "    <tr>\n",
              "      <th>4</th>\n",
              "      <td>DoB</td>\n",
              "      <td>AgeGenderSheet</td>\n",
              "      <td>DOB Table</td>\n",
              "      <td>NaN</td>\n",
              "      <td>2</td>\n",
              "      <td>0</td>\n",
              "      <td>1</td>\n",
              "      <td>Name</td>\n",
              "      <td>Name</td>\n",
              "      <td>Down</td>\n",
              "      <td>5</td>\n",
              "      <td>Text</td>\n",
              "      <td>NaN</td>\n",
              "      <td>NaN</td>\n",
              "      <td>NaN</td>\n",
              "      <td>N</td>\n",
              "      <td>NaN</td>\n",
              "      <td>NaN</td>\n",
              "      <td>NaN</td>\n",
              "      <td>NaN</td>\n",
              "      <td>NaN</td>\n",
              "      <td>Text</td>\n",
              "    </tr>\n",
              "  </tbody>\n",
              "</table>\n",
              "</div>"
            ],
            "text/plain": [
              "ColumnID  DataSet       SheetName  ... Rule3 KeyWord\n",
              "0            Ages  AgeGenderSheet  ...   NaN    Text\n",
              "1            Ages  AgeGenderSheet  ...   NaN  Number\n",
              "2         Genders  AgeGenderSheet  ...   NaN    Text\n",
              "3         Genders  AgeGenderSheet  ...   NaN    Text\n",
              "4             DoB  AgeGenderSheet  ...   NaN    Text\n",
              "\n",
              "[5 rows x 22 columns]"
            ]
          },
          "metadata": {
            "tags": []
          },
          "execution_count": 68
        }
      ]
    },
    {
      "cell_type": "code",
      "metadata": {
        "id": "qKr38LQxP-19",
        "colab": {
          "base_uri": "https://localhost:8080/",
          "height": 186
        },
        "outputId": "568885d9-31f8-4fdd-9014-1e2a7c716327"
      },
      "source": [
        "\n",
        "#palette = pd.merge(palette, PaletteDF, on=['KeyWord'],how='left')\n"
      ],
      "execution_count": 58,
      "outputs": [
        {
          "output_type": "error",
          "ename": "NameError",
          "evalue": "ignored",
          "traceback": [
            "\u001b[0;31m---------------------------------------------------------------------------\u001b[0m",
            "\u001b[0;31mNameError\u001b[0m                                 Traceback (most recent call last)",
            "\u001b[0;32m<ipython-input-58-735e78df417a>\u001b[0m in \u001b[0;36m<module>\u001b[0;34m()\u001b[0m\n\u001b[1;32m      1\u001b[0m \u001b[0;34m\u001b[0m\u001b[0m\n\u001b[0;32m----> 2\u001b[0;31m \u001b[0mpalette\u001b[0m \u001b[0;34m=\u001b[0m \u001b[0mpd\u001b[0m\u001b[0;34m.\u001b[0m\u001b[0mmerge\u001b[0m\u001b[0;34m(\u001b[0m\u001b[0mpalette\u001b[0m\u001b[0;34m,\u001b[0m \u001b[0mPaletteDF\u001b[0m\u001b[0;34m,\u001b[0m \u001b[0mon\u001b[0m\u001b[0;34m=\u001b[0m\u001b[0;34m[\u001b[0m\u001b[0;34m'KeyWord'\u001b[0m\u001b[0;34m]\u001b[0m\u001b[0;34m,\u001b[0m\u001b[0mhow\u001b[0m\u001b[0;34m=\u001b[0m\u001b[0;34m'left'\u001b[0m\u001b[0;34m)\u001b[0m\u001b[0;34m\u001b[0m\u001b[0;34m\u001b[0m\u001b[0m\n\u001b[0m",
            "\u001b[0;31mNameError\u001b[0m: name 'PaletteDF' is not defined"
          ]
        }
      ]
    },
    {
      "cell_type": "code",
      "metadata": {
        "id": "agn-y_XpjZQM",
        "scrolled": false
      },
      "source": [
        "palette.head(5)"
      ],
      "execution_count": null,
      "outputs": []
    },
    {
      "cell_type": "markdown",
      "metadata": {
        "id": "qA4u066Zg0Mk"
      },
      "source": [
        "# Get Start Anchor Cells"
      ]
    },
    {
      "cell_type": "markdown",
      "metadata": {
        "id": "c-Q7nZsaNliz"
      },
      "source": [
        "Start Anchors are where tables are mapped from, every dataset in the spreadsheet must be anchored to a uniquely identifiable cell in a particular sheet."
      ]
    },
    {
      "cell_type": "code",
      "metadata": {
        "id": "yzZcf-vY9wpZ",
        "colab": {
          "base_uri": "https://localhost:8080/",
          "height": 227
        },
        "outputId": "6bb20699-11e3-463e-8789-78ecdd1b7d08"
      },
      "source": [
        "startanchors = pd.DataFrame()\n",
        "startanchors = pd.DataFrame(Datasets, columns=['DataSet', 'SheetName', 'ReferenceTextStart'])\n",
        "startanchors = startanchors.rename(columns={\"ReferenceTextStart\": \"CellValue\"})\n",
        "startanchors = startanchors.drop_duplicates()\n",
        "startanchors.head()\n"
      ],
      "execution_count": 70,
      "outputs": [
        {
          "output_type": "execute_result",
          "data": {
            "text/html": [
              "<div>\n",
              "<style scoped>\n",
              "    .dataframe tbody tr th:only-of-type {\n",
              "        vertical-align: middle;\n",
              "    }\n",
              "\n",
              "    .dataframe tbody tr th {\n",
              "        vertical-align: top;\n",
              "    }\n",
              "\n",
              "    .dataframe thead th {\n",
              "        text-align: right;\n",
              "    }\n",
              "</style>\n",
              "<table border=\"1\" class=\"dataframe\">\n",
              "  <thead>\n",
              "    <tr style=\"text-align: right;\">\n",
              "      <th></th>\n",
              "      <th>DataSet</th>\n",
              "      <th>SheetName</th>\n",
              "      <th>CellValue</th>\n",
              "    </tr>\n",
              "    <tr>\n",
              "      <th>RowID</th>\n",
              "      <th></th>\n",
              "      <th></th>\n",
              "      <th></th>\n",
              "    </tr>\n",
              "  </thead>\n",
              "  <tbody>\n",
              "    <tr>\n",
              "      <th>2</th>\n",
              "      <td>Ages</td>\n",
              "      <td>AgeGenderSheet</td>\n",
              "      <td>Age Table</td>\n",
              "    </tr>\n",
              "    <tr>\n",
              "      <th>4</th>\n",
              "      <td>Genders</td>\n",
              "      <td>AgeGenderSheet</td>\n",
              "      <td>Gender Table</td>\n",
              "    </tr>\n",
              "    <tr>\n",
              "      <th>6</th>\n",
              "      <td>DoB</td>\n",
              "      <td>AgeGenderSheet</td>\n",
              "      <td>DOB Table</td>\n",
              "    </tr>\n",
              "    <tr>\n",
              "      <th>8</th>\n",
              "      <td>MaritalStatus</td>\n",
              "      <td>MaritalDepartmentSheet</td>\n",
              "      <td>Marital Status Table</td>\n",
              "    </tr>\n",
              "    <tr>\n",
              "      <th>10</th>\n",
              "      <td>Department</td>\n",
              "      <td>MaritalDepartmentSheet</td>\n",
              "      <td>Department Table</td>\n",
              "    </tr>\n",
              "  </tbody>\n",
              "</table>\n",
              "</div>"
            ],
            "text/plain": [
              "             DataSet               SheetName             CellValue\n",
              "RowID                                                             \n",
              "2               Ages          AgeGenderSheet             Age Table\n",
              "4            Genders          AgeGenderSheet          Gender Table\n",
              "6                DoB          AgeGenderSheet             DOB Table\n",
              "8      MaritalStatus  MaritalDepartmentSheet  Marital Status Table\n",
              "10        Department  MaritalDepartmentSheet      Department Table"
            ]
          },
          "metadata": {
            "tags": []
          },
          "execution_count": 70
        }
      ]
    },
    {
      "cell_type": "markdown",
      "metadata": {
        "id": "2sZQyqiuhDZc"
      },
      "source": [
        "# Get All End Anchor Cells"
      ]
    },
    {
      "cell_type": "markdown",
      "metadata": {
        "id": "EEcTX6mKN6eA"
      },
      "source": [
        "End anchors are where a dataset finishes. Probably at the next Start Anchor.\n",
        "This does mean that blank rows are validated and one needs to filter these out later. "
      ]
    },
    {
      "cell_type": "code",
      "metadata": {
        "id": "YcNpmVwGDvEm",
        "colab": {
          "base_uri": "https://localhost:8080/",
          "height": 227
        },
        "outputId": "115c3d18-a531-4474-8575-f0f480f93cc0"
      },
      "source": [
        "endanchors = pd.DataFrame()\n",
        "endanchors = pd.DataFrame(Datasets, columns=['DataSet', 'SheetName', 'ReferenceTextEnd'])\n",
        "endanchors = endanchors.rename(columns={\"ReferenceTextEnd\": \"CellValue\"})\n",
        "endanchors = endanchors.drop_duplicates()\n",
        "endanchors.head()"
      ],
      "execution_count": 71,
      "outputs": [
        {
          "output_type": "execute_result",
          "data": {
            "text/html": [
              "<div>\n",
              "<style scoped>\n",
              "    .dataframe tbody tr th:only-of-type {\n",
              "        vertical-align: middle;\n",
              "    }\n",
              "\n",
              "    .dataframe tbody tr th {\n",
              "        vertical-align: top;\n",
              "    }\n",
              "\n",
              "    .dataframe thead th {\n",
              "        text-align: right;\n",
              "    }\n",
              "</style>\n",
              "<table border=\"1\" class=\"dataframe\">\n",
              "  <thead>\n",
              "    <tr style=\"text-align: right;\">\n",
              "      <th></th>\n",
              "      <th>DataSet</th>\n",
              "      <th>SheetName</th>\n",
              "      <th>CellValue</th>\n",
              "    </tr>\n",
              "    <tr>\n",
              "      <th>RowID</th>\n",
              "      <th></th>\n",
              "      <th></th>\n",
              "      <th></th>\n",
              "    </tr>\n",
              "  </thead>\n",
              "  <tbody>\n",
              "    <tr>\n",
              "      <th>2</th>\n",
              "      <td>Ages</td>\n",
              "      <td>AgeGenderSheet</td>\n",
              "      <td>Gender Table</td>\n",
              "    </tr>\n",
              "    <tr>\n",
              "      <th>4</th>\n",
              "      <td>Genders</td>\n",
              "      <td>AgeGenderSheet</td>\n",
              "      <td>DOB Table</td>\n",
              "    </tr>\n",
              "    <tr>\n",
              "      <th>6</th>\n",
              "      <td>DoB</td>\n",
              "      <td>AgeGenderSheet</td>\n",
              "      <td>NaN</td>\n",
              "    </tr>\n",
              "    <tr>\n",
              "      <th>8</th>\n",
              "      <td>MaritalStatus</td>\n",
              "      <td>MaritalDepartmentSheet</td>\n",
              "      <td>NaN</td>\n",
              "    </tr>\n",
              "    <tr>\n",
              "      <th>10</th>\n",
              "      <td>Department</td>\n",
              "      <td>MaritalDepartmentSheet</td>\n",
              "      <td>NaN</td>\n",
              "    </tr>\n",
              "  </tbody>\n",
              "</table>\n",
              "</div>"
            ],
            "text/plain": [
              "             DataSet               SheetName     CellValue\n",
              "RowID                                                     \n",
              "2               Ages          AgeGenderSheet  Gender Table\n",
              "4            Genders          AgeGenderSheet     DOB Table\n",
              "6                DoB          AgeGenderSheet           NaN\n",
              "8      MaritalStatus  MaritalDepartmentSheet           NaN\n",
              "10        Department  MaritalDepartmentSheet           NaN"
            ]
          },
          "metadata": {
            "tags": []
          },
          "execution_count": 71
        }
      ]
    },
    {
      "cell_type": "markdown",
      "metadata": {
        "id": "0if3QQALhaOq"
      },
      "source": [
        "# Find Start Anchors"
      ]
    },
    {
      "cell_type": "markdown",
      "metadata": {
        "id": "tkT3RUFuOVh-"
      },
      "source": [
        "Now we look for the start and finish anchor cells for each dataset."
      ]
    },
    {
      "cell_type": "code",
      "metadata": {
        "id": "_ZhaXHgY9732",
        "colab": {
          "base_uri": "https://localhost:8080/",
          "height": 197
        },
        "outputId": "66da1858-b559-435e-e641-6ff7e9bcdb28"
      },
      "source": [
        "findstartanchors = pd.DataFrame()\n",
        "findstartanchors = pd.merge(startanchors, fullcelldb, on=['SheetName', 'CellValue'])\n",
        "findstartanchors = findstartanchors.rename(columns={\"RowID\": \"AnchorRow\", \"ColumnID\": \"AnchorColumn\"})\n",
        "findstartanchors = pd.DataFrame(findstartanchors, columns=['DataSet', 'SheetName', 'AnchorRow', 'AnchorColumn'])\n",
        "findstartanchors.head()"
      ],
      "execution_count": 73,
      "outputs": [
        {
          "output_type": "execute_result",
          "data": {
            "text/html": [
              "<div>\n",
              "<style scoped>\n",
              "    .dataframe tbody tr th:only-of-type {\n",
              "        vertical-align: middle;\n",
              "    }\n",
              "\n",
              "    .dataframe tbody tr th {\n",
              "        vertical-align: top;\n",
              "    }\n",
              "\n",
              "    .dataframe thead th {\n",
              "        text-align: right;\n",
              "    }\n",
              "</style>\n",
              "<table border=\"1\" class=\"dataframe\">\n",
              "  <thead>\n",
              "    <tr style=\"text-align: right;\">\n",
              "      <th></th>\n",
              "      <th>DataSet</th>\n",
              "      <th>SheetName</th>\n",
              "      <th>AnchorRow</th>\n",
              "      <th>AnchorColumn</th>\n",
              "    </tr>\n",
              "  </thead>\n",
              "  <tbody>\n",
              "    <tr>\n",
              "      <th>0</th>\n",
              "      <td>Ages</td>\n",
              "      <td>AgeGenderSheet</td>\n",
              "      <td>5</td>\n",
              "      <td>2</td>\n",
              "    </tr>\n",
              "    <tr>\n",
              "      <th>1</th>\n",
              "      <td>Genders</td>\n",
              "      <td>AgeGenderSheet</td>\n",
              "      <td>14</td>\n",
              "      <td>4</td>\n",
              "    </tr>\n",
              "    <tr>\n",
              "      <th>2</th>\n",
              "      <td>DoB</td>\n",
              "      <td>AgeGenderSheet</td>\n",
              "      <td>23</td>\n",
              "      <td>1</td>\n",
              "    </tr>\n",
              "    <tr>\n",
              "      <th>3</th>\n",
              "      <td>MaritalStatus</td>\n",
              "      <td>MaritalDepartmentSheet</td>\n",
              "      <td>3</td>\n",
              "      <td>1</td>\n",
              "    </tr>\n",
              "    <tr>\n",
              "      <th>4</th>\n",
              "      <td>Department</td>\n",
              "      <td>MaritalDepartmentSheet</td>\n",
              "      <td>2</td>\n",
              "      <td>5</td>\n",
              "    </tr>\n",
              "  </tbody>\n",
              "</table>\n",
              "</div>"
            ],
            "text/plain": [
              "         DataSet               SheetName  AnchorRow  AnchorColumn\n",
              "0           Ages          AgeGenderSheet          5             2\n",
              "1        Genders          AgeGenderSheet         14             4\n",
              "2            DoB          AgeGenderSheet         23             1\n",
              "3  MaritalStatus  MaritalDepartmentSheet          3             1\n",
              "4     Department  MaritalDepartmentSheet          2             5"
            ]
          },
          "metadata": {
            "tags": []
          },
          "execution_count": 73
        }
      ]
    },
    {
      "cell_type": "markdown",
      "metadata": {
        "id": "gyZbtquUhhvL"
      },
      "source": [
        "# Find End Anchors"
      ]
    },
    {
      "cell_type": "markdown",
      "metadata": {
        "id": "-FAdPT1ZO2lC"
      },
      "source": [
        "Some datasets have no finish anchors as they are the last table in the sheet."
      ]
    },
    {
      "cell_type": "code",
      "metadata": {
        "id": "PhHBF2ChEC0f",
        "colab": {
          "base_uri": "https://localhost:8080/",
          "height": 107
        },
        "outputId": "77583e25-cc3c-440f-a017-7f391f654ed9"
      },
      "source": [
        "findendanchors = pd.DataFrame()\n",
        "findendanchors = pd.merge(endanchors, fullcelldb, on=['SheetName', 'CellValue'])\n",
        "findendanchors = findendanchors.rename(columns={\"RowID\": \"EndRow\"})\n",
        "findendanchors = findendanchors[findendanchors.CellValue.notnull()]\n",
        "findendanchors = pd.DataFrame(findendanchors, columns=['DataSet', 'SheetName', 'EndRow'])\n",
        "findendanchors.head()\n"
      ],
      "execution_count": 74,
      "outputs": [
        {
          "output_type": "execute_result",
          "data": {
            "text/html": [
              "<div>\n",
              "<style scoped>\n",
              "    .dataframe tbody tr th:only-of-type {\n",
              "        vertical-align: middle;\n",
              "    }\n",
              "\n",
              "    .dataframe tbody tr th {\n",
              "        vertical-align: top;\n",
              "    }\n",
              "\n",
              "    .dataframe thead th {\n",
              "        text-align: right;\n",
              "    }\n",
              "</style>\n",
              "<table border=\"1\" class=\"dataframe\">\n",
              "  <thead>\n",
              "    <tr style=\"text-align: right;\">\n",
              "      <th></th>\n",
              "      <th>DataSet</th>\n",
              "      <th>SheetName</th>\n",
              "      <th>EndRow</th>\n",
              "    </tr>\n",
              "  </thead>\n",
              "  <tbody>\n",
              "    <tr>\n",
              "      <th>0</th>\n",
              "      <td>Ages</td>\n",
              "      <td>AgeGenderSheet</td>\n",
              "      <td>14</td>\n",
              "    </tr>\n",
              "    <tr>\n",
              "      <th>1</th>\n",
              "      <td>Genders</td>\n",
              "      <td>AgeGenderSheet</td>\n",
              "      <td>23</td>\n",
              "    </tr>\n",
              "  </tbody>\n",
              "</table>\n",
              "</div>"
            ],
            "text/plain": [
              "   DataSet       SheetName  EndRow\n",
              "0     Ages  AgeGenderSheet      14\n",
              "1  Genders  AgeGenderSheet      23"
            ]
          },
          "metadata": {
            "tags": []
          },
          "execution_count": 74
        }
      ]
    },
    {
      "cell_type": "markdown",
      "metadata": {
        "id": "8mbxThrshpF1"
      },
      "source": [
        "# Join Anchors Together"
      ]
    },
    {
      "cell_type": "markdown",
      "metadata": {
        "id": "eqq-eNb4PDY2"
      },
      "source": [
        "Join the anchors to allow them to be joined with the data table\n",
        "As stated above, some DataSets have NaN as the EndRow as there is no further data in the sheet"
      ]
    },
    {
      "cell_type": "code",
      "metadata": {
        "id": "6E8J3-NIEFx1",
        "colab": {
          "base_uri": "https://localhost:8080/",
          "height": 197
        },
        "outputId": "16720658-ecec-45f1-f88a-17c72ffa83ce"
      },
      "source": [
        "anchors = pd.DataFrame()\n",
        "anchors = pd.merge(findstartanchors, findendanchors, on=['DataSet', 'SheetName'], how='left')\n",
        "anchors.head()"
      ],
      "execution_count": 75,
      "outputs": [
        {
          "output_type": "execute_result",
          "data": {
            "text/html": [
              "<div>\n",
              "<style scoped>\n",
              "    .dataframe tbody tr th:only-of-type {\n",
              "        vertical-align: middle;\n",
              "    }\n",
              "\n",
              "    .dataframe tbody tr th {\n",
              "        vertical-align: top;\n",
              "    }\n",
              "\n",
              "    .dataframe thead th {\n",
              "        text-align: right;\n",
              "    }\n",
              "</style>\n",
              "<table border=\"1\" class=\"dataframe\">\n",
              "  <thead>\n",
              "    <tr style=\"text-align: right;\">\n",
              "      <th></th>\n",
              "      <th>DataSet</th>\n",
              "      <th>SheetName</th>\n",
              "      <th>AnchorRow</th>\n",
              "      <th>AnchorColumn</th>\n",
              "      <th>EndRow</th>\n",
              "    </tr>\n",
              "  </thead>\n",
              "  <tbody>\n",
              "    <tr>\n",
              "      <th>0</th>\n",
              "      <td>Ages</td>\n",
              "      <td>AgeGenderSheet</td>\n",
              "      <td>5</td>\n",
              "      <td>2</td>\n",
              "      <td>14.0</td>\n",
              "    </tr>\n",
              "    <tr>\n",
              "      <th>1</th>\n",
              "      <td>Genders</td>\n",
              "      <td>AgeGenderSheet</td>\n",
              "      <td>14</td>\n",
              "      <td>4</td>\n",
              "      <td>23.0</td>\n",
              "    </tr>\n",
              "    <tr>\n",
              "      <th>2</th>\n",
              "      <td>DoB</td>\n",
              "      <td>AgeGenderSheet</td>\n",
              "      <td>23</td>\n",
              "      <td>1</td>\n",
              "      <td>NaN</td>\n",
              "    </tr>\n",
              "    <tr>\n",
              "      <th>3</th>\n",
              "      <td>MaritalStatus</td>\n",
              "      <td>MaritalDepartmentSheet</td>\n",
              "      <td>3</td>\n",
              "      <td>1</td>\n",
              "      <td>NaN</td>\n",
              "    </tr>\n",
              "    <tr>\n",
              "      <th>4</th>\n",
              "      <td>Department</td>\n",
              "      <td>MaritalDepartmentSheet</td>\n",
              "      <td>2</td>\n",
              "      <td>5</td>\n",
              "      <td>NaN</td>\n",
              "    </tr>\n",
              "  </tbody>\n",
              "</table>\n",
              "</div>"
            ],
            "text/plain": [
              "         DataSet               SheetName  AnchorRow  AnchorColumn  EndRow\n",
              "0           Ages          AgeGenderSheet          5             2    14.0\n",
              "1        Genders          AgeGenderSheet         14             4    23.0\n",
              "2            DoB          AgeGenderSheet         23             1     NaN\n",
              "3  MaritalStatus  MaritalDepartmentSheet          3             1     NaN\n",
              "4     Department  MaritalDepartmentSheet          2             5     NaN"
            ]
          },
          "metadata": {
            "tags": []
          },
          "execution_count": 75
        }
      ]
    },
    {
      "cell_type": "markdown",
      "metadata": {
        "id": "caBieiT0hzvd"
      },
      "source": [
        "# Using Anchors and Dataset Create Map to Find Data"
      ]
    },
    {
      "cell_type": "markdown",
      "metadata": {
        "id": "kzxw4ev-Pu3m"
      },
      "source": [
        "The DataSet defines where the DataSets can be found from the Start Anchor Cells\n",
        "The following joins the found cells with the DataSet map."
      ]
    },
    {
      "cell_type": "code",
      "metadata": {
        "id": "operLLjLbI2m"
      },
      "source": [
        ""
      ],
      "execution_count": null,
      "outputs": []
    },
    {
      "cell_type": "code",
      "metadata": {
        "id": "4ByjhNDIbJDY"
      },
      "source": [
        ""
      ],
      "execution_count": null,
      "outputs": []
    },
    {
      "cell_type": "code",
      "metadata": {
        "id": "VuxWXfJWEW3p"
      },
      "source": [
        "datasetmap = pd.DataFrame()\n",
        "datasetmap = pd.merge(Datasets, anchors, on=['DataSet', 'SheetName'], how='left')\n",
        "datasetmap = pd.DataFrame(datasetmap,\n",
        "                          columns=['DataSet', 'SheetName', 'FieldID',\n",
        "                                   'AnchorRow', 'AnchorColumn','EndRow',\n",
        "                                   'RowFromReferenceText',\n",
        "                                   'ColumnFromReferenceText','FieldPosition'])\n"
      ],
      "execution_count": 76,
      "outputs": []
    },
    {
      "cell_type": "markdown",
      "metadata": {
        "id": "xZ8OPn7hiN9u"
      },
      "source": [
        "## Show Dataset Map"
      ]
    },
    {
      "cell_type": "code",
      "metadata": {
        "id": "2naN6CoOiLaS",
        "colab": {
          "base_uri": "https://localhost:8080/",
          "height": 197
        },
        "outputId": "4a477067-cde3-4fe1-b609-4ce01d0c199d"
      },
      "source": [
        "datasetmap.head()"
      ],
      "execution_count": 77,
      "outputs": [
        {
          "output_type": "execute_result",
          "data": {
            "text/html": [
              "<div>\n",
              "<style scoped>\n",
              "    .dataframe tbody tr th:only-of-type {\n",
              "        vertical-align: middle;\n",
              "    }\n",
              "\n",
              "    .dataframe tbody tr th {\n",
              "        vertical-align: top;\n",
              "    }\n",
              "\n",
              "    .dataframe thead th {\n",
              "        text-align: right;\n",
              "    }\n",
              "</style>\n",
              "<table border=\"1\" class=\"dataframe\">\n",
              "  <thead>\n",
              "    <tr style=\"text-align: right;\">\n",
              "      <th></th>\n",
              "      <th>DataSet</th>\n",
              "      <th>SheetName</th>\n",
              "      <th>FieldID</th>\n",
              "      <th>AnchorRow</th>\n",
              "      <th>AnchorColumn</th>\n",
              "      <th>EndRow</th>\n",
              "      <th>RowFromReferenceText</th>\n",
              "      <th>ColumnFromReferenceText</th>\n",
              "      <th>FieldPosition</th>\n",
              "    </tr>\n",
              "  </thead>\n",
              "  <tbody>\n",
              "    <tr>\n",
              "      <th>0</th>\n",
              "      <td>Ages</td>\n",
              "      <td>AgeGenderSheet</td>\n",
              "      <td>Name</td>\n",
              "      <td>5</td>\n",
              "      <td>2</td>\n",
              "      <td>14.0</td>\n",
              "      <td>2</td>\n",
              "      <td>1</td>\n",
              "      <td>1</td>\n",
              "    </tr>\n",
              "    <tr>\n",
              "      <th>1</th>\n",
              "      <td>Ages</td>\n",
              "      <td>AgeGenderSheet</td>\n",
              "      <td>Age</td>\n",
              "      <td>5</td>\n",
              "      <td>2</td>\n",
              "      <td>14.0</td>\n",
              "      <td>2</td>\n",
              "      <td>2</td>\n",
              "      <td>2</td>\n",
              "    </tr>\n",
              "    <tr>\n",
              "      <th>2</th>\n",
              "      <td>Genders</td>\n",
              "      <td>AgeGenderSheet</td>\n",
              "      <td>Name</td>\n",
              "      <td>14</td>\n",
              "      <td>4</td>\n",
              "      <td>23.0</td>\n",
              "      <td>2</td>\n",
              "      <td>0</td>\n",
              "      <td>1</td>\n",
              "    </tr>\n",
              "    <tr>\n",
              "      <th>3</th>\n",
              "      <td>Genders</td>\n",
              "      <td>AgeGenderSheet</td>\n",
              "      <td>Gender</td>\n",
              "      <td>14</td>\n",
              "      <td>4</td>\n",
              "      <td>23.0</td>\n",
              "      <td>2</td>\n",
              "      <td>1</td>\n",
              "      <td>2</td>\n",
              "    </tr>\n",
              "    <tr>\n",
              "      <th>4</th>\n",
              "      <td>DoB</td>\n",
              "      <td>AgeGenderSheet</td>\n",
              "      <td>Name</td>\n",
              "      <td>23</td>\n",
              "      <td>1</td>\n",
              "      <td>NaN</td>\n",
              "      <td>2</td>\n",
              "      <td>0</td>\n",
              "      <td>1</td>\n",
              "    </tr>\n",
              "  </tbody>\n",
              "</table>\n",
              "</div>"
            ],
            "text/plain": [
              "   DataSet       SheetName  ... ColumnFromReferenceText  FieldPosition\n",
              "0     Ages  AgeGenderSheet  ...                       1              1\n",
              "1     Ages  AgeGenderSheet  ...                       2              2\n",
              "2  Genders  AgeGenderSheet  ...                       0              1\n",
              "3  Genders  AgeGenderSheet  ...                       1              2\n",
              "4      DoB  AgeGenderSheet  ...                       0              1\n",
              "\n",
              "[5 rows x 9 columns]"
            ]
          },
          "metadata": {
            "tags": []
          },
          "execution_count": 77
        }
      ]
    },
    {
      "cell_type": "markdown",
      "metadata": {
        "id": "Hbu2bb7Did9L"
      },
      "source": [
        "# Find where Data Starts and what Columns Fields are In"
      ]
    },
    {
      "cell_type": "markdown",
      "metadata": {
        "id": "vnrMNep_QL42"
      },
      "source": [
        "One needs to now calculate the actual rows and columns of where the DataSet is.\n",
        "The above table is relative to the Anchor Cells"
      ]
    },
    {
      "cell_type": "code",
      "metadata": {
        "id": "lRIxlGL_-Dmj",
        "colab": {
          "base_uri": "https://localhost:8080/",
          "height": 426
        },
        "outputId": "6e4a1970-219d-4262-9406-2f1d8a3b2857"
      },
      "source": [
        "datasetmap['StartRow'] = datasetmap['AnchorRow'] + datasetmap['RowFromReferenceText']\n",
        "datasetmap['FieldColumn'] = datasetmap['AnchorColumn'] + datasetmap['ColumnFromReferenceText']\n",
        "dataset = pd.DataFrame()\n",
        "dataset = pd.merge(fullcelldb, datasetmap, on=['SheetName'], how='left')\n",
        "## the above may seem a cartesian join and may need to be looked at if this slows the process down\n",
        "dataset"
      ],
      "execution_count": 79,
      "outputs": [
        {
          "output_type": "execute_result",
          "data": {
            "text/html": [
              "<div>\n",
              "<style scoped>\n",
              "    .dataframe tbody tr th:only-of-type {\n",
              "        vertical-align: middle;\n",
              "    }\n",
              "\n",
              "    .dataframe tbody tr th {\n",
              "        vertical-align: top;\n",
              "    }\n",
              "\n",
              "    .dataframe thead th {\n",
              "        text-align: right;\n",
              "    }\n",
              "</style>\n",
              "<table border=\"1\" class=\"dataframe\">\n",
              "  <thead>\n",
              "    <tr style=\"text-align: right;\">\n",
              "      <th></th>\n",
              "      <th>RowID</th>\n",
              "      <th>ColumnID</th>\n",
              "      <th>CellValue</th>\n",
              "      <th>CellType</th>\n",
              "      <th>FileName</th>\n",
              "      <th>SheetName</th>\n",
              "      <th>DataSet</th>\n",
              "      <th>FieldID</th>\n",
              "      <th>AnchorRow</th>\n",
              "      <th>AnchorColumn</th>\n",
              "      <th>EndRow</th>\n",
              "      <th>RowFromReferenceText</th>\n",
              "      <th>ColumnFromReferenceText</th>\n",
              "      <th>FieldPosition</th>\n",
              "      <th>StartRow</th>\n",
              "      <th>FieldColumn</th>\n",
              "    </tr>\n",
              "  </thead>\n",
              "  <tbody>\n",
              "    <tr>\n",
              "      <th>0</th>\n",
              "      <td>1</td>\n",
              "      <td>1</td>\n",
              "      <td>NaN</td>\n",
              "      <td>Text</td>\n",
              "      <td>R20210129113242247063</td>\n",
              "      <td>AgeGenderSheet</td>\n",
              "      <td>Ages</td>\n",
              "      <td>Name</td>\n",
              "      <td>5.0</td>\n",
              "      <td>2.0</td>\n",
              "      <td>14.0</td>\n",
              "      <td>2</td>\n",
              "      <td>1</td>\n",
              "      <td>1</td>\n",
              "      <td>7</td>\n",
              "      <td>3</td>\n",
              "    </tr>\n",
              "    <tr>\n",
              "      <th>1</th>\n",
              "      <td>1</td>\n",
              "      <td>1</td>\n",
              "      <td>NaN</td>\n",
              "      <td>Text</td>\n",
              "      <td>R20210129113242247063</td>\n",
              "      <td>AgeGenderSheet</td>\n",
              "      <td>Ages</td>\n",
              "      <td>Age</td>\n",
              "      <td>5.0</td>\n",
              "      <td>2.0</td>\n",
              "      <td>14.0</td>\n",
              "      <td>2</td>\n",
              "      <td>2</td>\n",
              "      <td>2</td>\n",
              "      <td>7</td>\n",
              "      <td>4</td>\n",
              "    </tr>\n",
              "    <tr>\n",
              "      <th>2</th>\n",
              "      <td>1</td>\n",
              "      <td>1</td>\n",
              "      <td>NaN</td>\n",
              "      <td>Text</td>\n",
              "      <td>R20210129113242247063</td>\n",
              "      <td>AgeGenderSheet</td>\n",
              "      <td>Genders</td>\n",
              "      <td>Name</td>\n",
              "      <td>14.0</td>\n",
              "      <td>4.0</td>\n",
              "      <td>23.0</td>\n",
              "      <td>2</td>\n",
              "      <td>0</td>\n",
              "      <td>1</td>\n",
              "      <td>16</td>\n",
              "      <td>4</td>\n",
              "    </tr>\n",
              "    <tr>\n",
              "      <th>3</th>\n",
              "      <td>1</td>\n",
              "      <td>1</td>\n",
              "      <td>NaN</td>\n",
              "      <td>Text</td>\n",
              "      <td>R20210129113242247063</td>\n",
              "      <td>AgeGenderSheet</td>\n",
              "      <td>Genders</td>\n",
              "      <td>Gender</td>\n",
              "      <td>14.0</td>\n",
              "      <td>4.0</td>\n",
              "      <td>23.0</td>\n",
              "      <td>2</td>\n",
              "      <td>1</td>\n",
              "      <td>2</td>\n",
              "      <td>16</td>\n",
              "      <td>5</td>\n",
              "    </tr>\n",
              "    <tr>\n",
              "      <th>4</th>\n",
              "      <td>1</td>\n",
              "      <td>1</td>\n",
              "      <td>NaN</td>\n",
              "      <td>Text</td>\n",
              "      <td>R20210129113242247063</td>\n",
              "      <td>AgeGenderSheet</td>\n",
              "      <td>DoB</td>\n",
              "      <td>Name</td>\n",
              "      <td>23.0</td>\n",
              "      <td>1.0</td>\n",
              "      <td>NaN</td>\n",
              "      <td>2</td>\n",
              "      <td>0</td>\n",
              "      <td>1</td>\n",
              "      <td>25</td>\n",
              "      <td>1</td>\n",
              "    </tr>\n",
              "    <tr>\n",
              "      <th>...</th>\n",
              "      <td>...</td>\n",
              "      <td>...</td>\n",
              "      <td>...</td>\n",
              "      <td>...</td>\n",
              "      <td>...</td>\n",
              "      <td>...</td>\n",
              "      <td>...</td>\n",
              "      <td>...</td>\n",
              "      <td>...</td>\n",
              "      <td>...</td>\n",
              "      <td>...</td>\n",
              "      <td>...</td>\n",
              "      <td>...</td>\n",
              "      <td>...</td>\n",
              "      <td>...</td>\n",
              "      <td>...</td>\n",
              "    </tr>\n",
              "    <tr>\n",
              "      <th>2044</th>\n",
              "      <td>2</td>\n",
              "      <td>2</td>\n",
              "      <td>London</td>\n",
              "      <td>Text</td>\n",
              "      <td>R20210129113242247063</td>\n",
              "      <td>PickList</td>\n",
              "      <td>NaN</td>\n",
              "      <td>NaN</td>\n",
              "      <td>NaN</td>\n",
              "      <td>NaN</td>\n",
              "      <td>NaN</td>\n",
              "      <td>NaN</td>\n",
              "      <td>NaN</td>\n",
              "      <td>NaN</td>\n",
              "      <td>NaN</td>\n",
              "      <td>NaN</td>\n",
              "    </tr>\n",
              "    <tr>\n",
              "      <th>2045</th>\n",
              "      <td>3</td>\n",
              "      <td>2</td>\n",
              "      <td>Liverpool</td>\n",
              "      <td>Text</td>\n",
              "      <td>R20210129113242247063</td>\n",
              "      <td>PickList</td>\n",
              "      <td>NaN</td>\n",
              "      <td>NaN</td>\n",
              "      <td>NaN</td>\n",
              "      <td>NaN</td>\n",
              "      <td>NaN</td>\n",
              "      <td>NaN</td>\n",
              "      <td>NaN</td>\n",
              "      <td>NaN</td>\n",
              "      <td>NaN</td>\n",
              "      <td>NaN</td>\n",
              "    </tr>\n",
              "    <tr>\n",
              "      <th>2046</th>\n",
              "      <td>1</td>\n",
              "      <td>3</td>\n",
              "      <td>Gender</td>\n",
              "      <td>Text</td>\n",
              "      <td>R20210129113242247063</td>\n",
              "      <td>PickList</td>\n",
              "      <td>NaN</td>\n",
              "      <td>NaN</td>\n",
              "      <td>NaN</td>\n",
              "      <td>NaN</td>\n",
              "      <td>NaN</td>\n",
              "      <td>NaN</td>\n",
              "      <td>NaN</td>\n",
              "      <td>NaN</td>\n",
              "      <td>NaN</td>\n",
              "      <td>NaN</td>\n",
              "    </tr>\n",
              "    <tr>\n",
              "      <th>2047</th>\n",
              "      <td>2</td>\n",
              "      <td>3</td>\n",
              "      <td>Male</td>\n",
              "      <td>Text</td>\n",
              "      <td>R20210129113242247063</td>\n",
              "      <td>PickList</td>\n",
              "      <td>NaN</td>\n",
              "      <td>NaN</td>\n",
              "      <td>NaN</td>\n",
              "      <td>NaN</td>\n",
              "      <td>NaN</td>\n",
              "      <td>NaN</td>\n",
              "      <td>NaN</td>\n",
              "      <td>NaN</td>\n",
              "      <td>NaN</td>\n",
              "      <td>NaN</td>\n",
              "    </tr>\n",
              "    <tr>\n",
              "      <th>2048</th>\n",
              "      <td>3</td>\n",
              "      <td>3</td>\n",
              "      <td>Female</td>\n",
              "      <td>Text</td>\n",
              "      <td>R20210129113242247063</td>\n",
              "      <td>PickList</td>\n",
              "      <td>NaN</td>\n",
              "      <td>NaN</td>\n",
              "      <td>NaN</td>\n",
              "      <td>NaN</td>\n",
              "      <td>NaN</td>\n",
              "      <td>NaN</td>\n",
              "      <td>NaN</td>\n",
              "      <td>NaN</td>\n",
              "      <td>NaN</td>\n",
              "      <td>NaN</td>\n",
              "    </tr>\n",
              "  </tbody>\n",
              "</table>\n",
              "<p>2049 rows × 16 columns</p>\n",
              "</div>"
            ],
            "text/plain": [
              "      RowID  ColumnID  CellValue  ... FieldPosition StartRow FieldColumn\n",
              "0         1         1        NaN  ...             1        7           3\n",
              "1         1         1        NaN  ...             2        7           4\n",
              "2         1         1        NaN  ...             1       16           4\n",
              "3         1         1        NaN  ...             2       16           5\n",
              "4         1         1        NaN  ...             1       25           1\n",
              "...     ...       ...        ...  ...           ...      ...         ...\n",
              "2044      2         2     London  ...           NaN      NaN         NaN\n",
              "2045      3         2  Liverpool  ...           NaN      NaN         NaN\n",
              "2046      1         3     Gender  ...           NaN      NaN         NaN\n",
              "2047      2         3       Male  ...           NaN      NaN         NaN\n",
              "2048      3         3     Female  ...           NaN      NaN         NaN\n",
              "\n",
              "[2049 rows x 16 columns]"
            ]
          },
          "metadata": {
            "tags": []
          },
          "execution_count": 79
        }
      ]
    },
    {
      "cell_type": "markdown",
      "metadata": {
        "id": "QmkyP0boiu0Q"
      },
      "source": [
        "# Filter Out Data after End Anchor Row"
      ]
    },
    {
      "cell_type": "code",
      "metadata": {
        "id": "LGngEEjLQewC"
      },
      "source": [
        "dataset = dataset[(dataset.RowID >= dataset.StartRow) &\n",
        "(dataset.ColumnID == dataset.FieldColumn) &\n",
        "((dataset.RowID < dataset.EndRow) | pd.isnull(dataset.EndRow))]\n",
        "# the | above is an OR as if there is no EndRow for the dataset you want to\n",
        "# allow the data through"
      ],
      "execution_count": 80,
      "outputs": []
    },
    {
      "cell_type": "code",
      "metadata": {
        "id": "gDXO67NGrRHe",
        "colab": {
          "base_uri": "https://localhost:8080/",
          "height": 217
        },
        "outputId": "45eefbb5-9878-4b7d-ef13-10598a631190"
      },
      "source": [
        "palette.head(5)"
      ],
      "execution_count": 81,
      "outputs": [
        {
          "output_type": "execute_result",
          "data": {
            "text/html": [
              "<div>\n",
              "<style scoped>\n",
              "    .dataframe tbody tr th:only-of-type {\n",
              "        vertical-align: middle;\n",
              "    }\n",
              "\n",
              "    .dataframe tbody tr th {\n",
              "        vertical-align: top;\n",
              "    }\n",
              "\n",
              "    .dataframe thead th {\n",
              "        text-align: right;\n",
              "    }\n",
              "</style>\n",
              "<table border=\"1\" class=\"dataframe\">\n",
              "  <thead>\n",
              "    <tr style=\"text-align: right;\">\n",
              "      <th>ColumnID</th>\n",
              "      <th>DataSet</th>\n",
              "      <th>SheetName</th>\n",
              "      <th>ReferenceTextStart</th>\n",
              "      <th>ReferenceTextEnd</th>\n",
              "      <th>RowFromReferenceText</th>\n",
              "      <th>ColumnFromReferenceText</th>\n",
              "      <th>FieldPosition</th>\n",
              "      <th>FieldID</th>\n",
              "      <th>FieldDescription</th>\n",
              "      <th>TableOrientation</th>\n",
              "      <th>RuleID</th>\n",
              "      <th>DataType</th>\n",
              "      <th>Format</th>\n",
              "      <th>RangeFrom</th>\n",
              "      <th>RangeTo</th>\n",
              "      <th>Null</th>\n",
              "      <th>Length</th>\n",
              "      <th>PickList</th>\n",
              "      <th>Rule1</th>\n",
              "      <th>Rule2</th>\n",
              "      <th>Rule3</th>\n",
              "      <th>KeyWord</th>\n",
              "    </tr>\n",
              "  </thead>\n",
              "  <tbody>\n",
              "    <tr>\n",
              "      <th>0</th>\n",
              "      <td>Ages</td>\n",
              "      <td>AgeGenderSheet</td>\n",
              "      <td>Age Table</td>\n",
              "      <td>Gender Table</td>\n",
              "      <td>2</td>\n",
              "      <td>1</td>\n",
              "      <td>1</td>\n",
              "      <td>Name</td>\n",
              "      <td>Name</td>\n",
              "      <td>Down</td>\n",
              "      <td>1</td>\n",
              "      <td>Text</td>\n",
              "      <td>NaN</td>\n",
              "      <td>NaN</td>\n",
              "      <td>NaN</td>\n",
              "      <td>N</td>\n",
              "      <td>NaN</td>\n",
              "      <td>NaN</td>\n",
              "      <td>NaN</td>\n",
              "      <td>NaN</td>\n",
              "      <td>NaN</td>\n",
              "      <td>Text</td>\n",
              "    </tr>\n",
              "    <tr>\n",
              "      <th>1</th>\n",
              "      <td>Ages</td>\n",
              "      <td>AgeGenderSheet</td>\n",
              "      <td>Age Table</td>\n",
              "      <td>Gender Table</td>\n",
              "      <td>2</td>\n",
              "      <td>2</td>\n",
              "      <td>2</td>\n",
              "      <td>Age</td>\n",
              "      <td>Age</td>\n",
              "      <td>Down</td>\n",
              "      <td>2</td>\n",
              "      <td>Number</td>\n",
              "      <td>NaN</td>\n",
              "      <td>NaN</td>\n",
              "      <td>NaN</td>\n",
              "      <td>N</td>\n",
              "      <td>NaN</td>\n",
              "      <td>NaN</td>\n",
              "      <td>Positive</td>\n",
              "      <td>GreaterThanTen</td>\n",
              "      <td>NaN</td>\n",
              "      <td>Number</td>\n",
              "    </tr>\n",
              "    <tr>\n",
              "      <th>2</th>\n",
              "      <td>Genders</td>\n",
              "      <td>AgeGenderSheet</td>\n",
              "      <td>Gender Table</td>\n",
              "      <td>DOB Table</td>\n",
              "      <td>2</td>\n",
              "      <td>0</td>\n",
              "      <td>1</td>\n",
              "      <td>Name</td>\n",
              "      <td>Name</td>\n",
              "      <td>Down</td>\n",
              "      <td>3</td>\n",
              "      <td>Text</td>\n",
              "      <td>NaN</td>\n",
              "      <td>NaN</td>\n",
              "      <td>NaN</td>\n",
              "      <td>N</td>\n",
              "      <td>NaN</td>\n",
              "      <td>NaN</td>\n",
              "      <td>NaN</td>\n",
              "      <td>NaN</td>\n",
              "      <td>NaN</td>\n",
              "      <td>Text</td>\n",
              "    </tr>\n",
              "    <tr>\n",
              "      <th>3</th>\n",
              "      <td>Genders</td>\n",
              "      <td>AgeGenderSheet</td>\n",
              "      <td>Gender Table</td>\n",
              "      <td>DOB Table</td>\n",
              "      <td>2</td>\n",
              "      <td>1</td>\n",
              "      <td>2</td>\n",
              "      <td>Gender</td>\n",
              "      <td>Gender</td>\n",
              "      <td>Down</td>\n",
              "      <td>4</td>\n",
              "      <td>Text</td>\n",
              "      <td>NaN</td>\n",
              "      <td>NaN</td>\n",
              "      <td>NaN</td>\n",
              "      <td>N</td>\n",
              "      <td>NaN</td>\n",
              "      <td>Gender</td>\n",
              "      <td>NaN</td>\n",
              "      <td>NaN</td>\n",
              "      <td>NaN</td>\n",
              "      <td>Text</td>\n",
              "    </tr>\n",
              "    <tr>\n",
              "      <th>4</th>\n",
              "      <td>DoB</td>\n",
              "      <td>AgeGenderSheet</td>\n",
              "      <td>DOB Table</td>\n",
              "      <td>NaN</td>\n",
              "      <td>2</td>\n",
              "      <td>0</td>\n",
              "      <td>1</td>\n",
              "      <td>Name</td>\n",
              "      <td>Name</td>\n",
              "      <td>Down</td>\n",
              "      <td>5</td>\n",
              "      <td>Text</td>\n",
              "      <td>NaN</td>\n",
              "      <td>NaN</td>\n",
              "      <td>NaN</td>\n",
              "      <td>N</td>\n",
              "      <td>NaN</td>\n",
              "      <td>NaN</td>\n",
              "      <td>NaN</td>\n",
              "      <td>NaN</td>\n",
              "      <td>NaN</td>\n",
              "      <td>Text</td>\n",
              "    </tr>\n",
              "  </tbody>\n",
              "</table>\n",
              "</div>"
            ],
            "text/plain": [
              "ColumnID  DataSet       SheetName  ... Rule3 KeyWord\n",
              "0            Ages  AgeGenderSheet  ...   NaN    Text\n",
              "1            Ages  AgeGenderSheet  ...   NaN  Number\n",
              "2         Genders  AgeGenderSheet  ...   NaN    Text\n",
              "3         Genders  AgeGenderSheet  ...   NaN    Text\n",
              "4             DoB  AgeGenderSheet  ...   NaN    Text\n",
              "\n",
              "[5 rows x 22 columns]"
            ]
          },
          "metadata": {
            "tags": []
          },
          "execution_count": 81
        }
      ]
    },
    {
      "cell_type": "markdown",
      "metadata": {
        "id": "xKOG9aHgi8Pj"
      },
      "source": [
        "# Create a CellValue as Number for use in Formulae"
      ]
    },
    {
      "cell_type": "code",
      "metadata": {
        "id": "PPgn6jcNEu_I",
        "colab": {
          "base_uri": "https://localhost:8080/",
          "height": 197
        },
        "outputId": "ed76957b-507a-4ffe-a888-fd34e17630f3"
      },
      "source": [
        "dataset = pd.DataFrame(dataset,columns=['DataSet', 'SheetName', 'FieldID', 'RowID', 'ColumnID','CellValue', 'CellType'])\n",
        "dataset['CellValueAsNumber'] = pd.to_numeric(dataset['CellValue'], errors='coerce')\n",
        "dataset.head(5)"
      ],
      "execution_count": 82,
      "outputs": [
        {
          "output_type": "execute_result",
          "data": {
            "text/html": [
              "<div>\n",
              "<style scoped>\n",
              "    .dataframe tbody tr th:only-of-type {\n",
              "        vertical-align: middle;\n",
              "    }\n",
              "\n",
              "    .dataframe tbody tr th {\n",
              "        vertical-align: top;\n",
              "    }\n",
              "\n",
              "    .dataframe thead th {\n",
              "        text-align: right;\n",
              "    }\n",
              "</style>\n",
              "<table border=\"1\" class=\"dataframe\">\n",
              "  <thead>\n",
              "    <tr style=\"text-align: right;\">\n",
              "      <th></th>\n",
              "      <th>DataSet</th>\n",
              "      <th>SheetName</th>\n",
              "      <th>FieldID</th>\n",
              "      <th>RowID</th>\n",
              "      <th>ColumnID</th>\n",
              "      <th>CellValue</th>\n",
              "      <th>CellType</th>\n",
              "      <th>CellValueAsNumber</th>\n",
              "    </tr>\n",
              "  </thead>\n",
              "  <tbody>\n",
              "    <tr>\n",
              "      <th>148</th>\n",
              "      <td>DoB</td>\n",
              "      <td>AgeGenderSheet</td>\n",
              "      <td>Name</td>\n",
              "      <td>25</td>\n",
              "      <td>1</td>\n",
              "      <td>Paul</td>\n",
              "      <td>Text</td>\n",
              "      <td>NaN</td>\n",
              "    </tr>\n",
              "    <tr>\n",
              "      <th>154</th>\n",
              "      <td>DoB</td>\n",
              "      <td>AgeGenderSheet</td>\n",
              "      <td>Name</td>\n",
              "      <td>26</td>\n",
              "      <td>1</td>\n",
              "      <td>Ringo</td>\n",
              "      <td>Text</td>\n",
              "      <td>NaN</td>\n",
              "    </tr>\n",
              "    <tr>\n",
              "      <th>160</th>\n",
              "      <td>DoB</td>\n",
              "      <td>AgeGenderSheet</td>\n",
              "      <td>Name</td>\n",
              "      <td>27</td>\n",
              "      <td>1</td>\n",
              "      <td>Brian</td>\n",
              "      <td>Text</td>\n",
              "      <td>NaN</td>\n",
              "    </tr>\n",
              "    <tr>\n",
              "      <th>311</th>\n",
              "      <td>DoB</td>\n",
              "      <td>AgeGenderSheet</td>\n",
              "      <td>DoB</td>\n",
              "      <td>25</td>\n",
              "      <td>2</td>\n",
              "      <td>1955-07-01 00:00:00</td>\n",
              "      <td>Date</td>\n",
              "      <td>NaN</td>\n",
              "    </tr>\n",
              "    <tr>\n",
              "      <th>317</th>\n",
              "      <td>DoB</td>\n",
              "      <td>AgeGenderSheet</td>\n",
              "      <td>DoB</td>\n",
              "      <td>26</td>\n",
              "      <td>2</td>\n",
              "      <td>1996-01-09 00:00:00</td>\n",
              "      <td>Date</td>\n",
              "      <td>NaN</td>\n",
              "    </tr>\n",
              "  </tbody>\n",
              "</table>\n",
              "</div>"
            ],
            "text/plain": [
              "    DataSet       SheetName  ... CellType  CellValueAsNumber\n",
              "148     DoB  AgeGenderSheet  ...     Text                NaN\n",
              "154     DoB  AgeGenderSheet  ...     Text                NaN\n",
              "160     DoB  AgeGenderSheet  ...     Text                NaN\n",
              "311     DoB  AgeGenderSheet  ...     Date                NaN\n",
              "317     DoB  AgeGenderSheet  ...     Date                NaN\n",
              "\n",
              "[5 rows x 8 columns]"
            ]
          },
          "metadata": {
            "tags": []
          },
          "execution_count": 82
        }
      ]
    },
    {
      "cell_type": "markdown",
      "metadata": {
        "id": "6aBvm7yzjNqw"
      },
      "source": [
        "# Create a List of Checks to do"
      ]
    },
    {
      "cell_type": "code",
      "metadata": {
        "id": "wFszD5cR8H_7",
        "scrolled": false,
        "colab": {
          "base_uri": "https://localhost:8080/",
          "height": 251
        },
        "outputId": "8b57be22-80ab-4e3a-9969-0274473595a2"
      },
      "source": [
        "todolist = pd.DataFrame()\n",
        "todolist = pd.merge(dataset, palette, on=['DataSet', 'FieldID'])\n",
        "todolist.head(5)"
      ],
      "execution_count": 83,
      "outputs": [
        {
          "output_type": "execute_result",
          "data": {
            "text/html": [
              "<div>\n",
              "<style scoped>\n",
              "    .dataframe tbody tr th:only-of-type {\n",
              "        vertical-align: middle;\n",
              "    }\n",
              "\n",
              "    .dataframe tbody tr th {\n",
              "        vertical-align: top;\n",
              "    }\n",
              "\n",
              "    .dataframe thead th {\n",
              "        text-align: right;\n",
              "    }\n",
              "</style>\n",
              "<table border=\"1\" class=\"dataframe\">\n",
              "  <thead>\n",
              "    <tr style=\"text-align: right;\">\n",
              "      <th></th>\n",
              "      <th>DataSet</th>\n",
              "      <th>SheetName_x</th>\n",
              "      <th>FieldID</th>\n",
              "      <th>RowID</th>\n",
              "      <th>ColumnID</th>\n",
              "      <th>CellValue</th>\n",
              "      <th>CellType</th>\n",
              "      <th>CellValueAsNumber</th>\n",
              "      <th>SheetName_y</th>\n",
              "      <th>ReferenceTextStart</th>\n",
              "      <th>ReferenceTextEnd</th>\n",
              "      <th>RowFromReferenceText</th>\n",
              "      <th>ColumnFromReferenceText</th>\n",
              "      <th>FieldPosition</th>\n",
              "      <th>FieldDescription</th>\n",
              "      <th>TableOrientation</th>\n",
              "      <th>RuleID</th>\n",
              "      <th>DataType</th>\n",
              "      <th>Format</th>\n",
              "      <th>RangeFrom</th>\n",
              "      <th>RangeTo</th>\n",
              "      <th>Null</th>\n",
              "      <th>Length</th>\n",
              "      <th>PickList</th>\n",
              "      <th>Rule1</th>\n",
              "      <th>Rule2</th>\n",
              "      <th>Rule3</th>\n",
              "      <th>KeyWord</th>\n",
              "    </tr>\n",
              "  </thead>\n",
              "  <tbody>\n",
              "    <tr>\n",
              "      <th>0</th>\n",
              "      <td>DoB</td>\n",
              "      <td>AgeGenderSheet</td>\n",
              "      <td>Name</td>\n",
              "      <td>25</td>\n",
              "      <td>1</td>\n",
              "      <td>Paul</td>\n",
              "      <td>Text</td>\n",
              "      <td>NaN</td>\n",
              "      <td>AgeGenderSheet</td>\n",
              "      <td>DOB Table</td>\n",
              "      <td>NaN</td>\n",
              "      <td>2</td>\n",
              "      <td>0</td>\n",
              "      <td>1</td>\n",
              "      <td>Name</td>\n",
              "      <td>Down</td>\n",
              "      <td>5</td>\n",
              "      <td>Text</td>\n",
              "      <td>NaN</td>\n",
              "      <td>NaN</td>\n",
              "      <td>NaN</td>\n",
              "      <td>N</td>\n",
              "      <td>NaN</td>\n",
              "      <td>NaN</td>\n",
              "      <td>NaN</td>\n",
              "      <td>NaN</td>\n",
              "      <td>NaN</td>\n",
              "      <td>Text</td>\n",
              "    </tr>\n",
              "    <tr>\n",
              "      <th>1</th>\n",
              "      <td>DoB</td>\n",
              "      <td>AgeGenderSheet</td>\n",
              "      <td>Name</td>\n",
              "      <td>26</td>\n",
              "      <td>1</td>\n",
              "      <td>Ringo</td>\n",
              "      <td>Text</td>\n",
              "      <td>NaN</td>\n",
              "      <td>AgeGenderSheet</td>\n",
              "      <td>DOB Table</td>\n",
              "      <td>NaN</td>\n",
              "      <td>2</td>\n",
              "      <td>0</td>\n",
              "      <td>1</td>\n",
              "      <td>Name</td>\n",
              "      <td>Down</td>\n",
              "      <td>5</td>\n",
              "      <td>Text</td>\n",
              "      <td>NaN</td>\n",
              "      <td>NaN</td>\n",
              "      <td>NaN</td>\n",
              "      <td>N</td>\n",
              "      <td>NaN</td>\n",
              "      <td>NaN</td>\n",
              "      <td>NaN</td>\n",
              "      <td>NaN</td>\n",
              "      <td>NaN</td>\n",
              "      <td>Text</td>\n",
              "    </tr>\n",
              "    <tr>\n",
              "      <th>2</th>\n",
              "      <td>DoB</td>\n",
              "      <td>AgeGenderSheet</td>\n",
              "      <td>Name</td>\n",
              "      <td>27</td>\n",
              "      <td>1</td>\n",
              "      <td>Brian</td>\n",
              "      <td>Text</td>\n",
              "      <td>NaN</td>\n",
              "      <td>AgeGenderSheet</td>\n",
              "      <td>DOB Table</td>\n",
              "      <td>NaN</td>\n",
              "      <td>2</td>\n",
              "      <td>0</td>\n",
              "      <td>1</td>\n",
              "      <td>Name</td>\n",
              "      <td>Down</td>\n",
              "      <td>5</td>\n",
              "      <td>Text</td>\n",
              "      <td>NaN</td>\n",
              "      <td>NaN</td>\n",
              "      <td>NaN</td>\n",
              "      <td>N</td>\n",
              "      <td>NaN</td>\n",
              "      <td>NaN</td>\n",
              "      <td>NaN</td>\n",
              "      <td>NaN</td>\n",
              "      <td>NaN</td>\n",
              "      <td>Text</td>\n",
              "    </tr>\n",
              "    <tr>\n",
              "      <th>3</th>\n",
              "      <td>DoB</td>\n",
              "      <td>AgeGenderSheet</td>\n",
              "      <td>DoB</td>\n",
              "      <td>25</td>\n",
              "      <td>2</td>\n",
              "      <td>1955-07-01 00:00:00</td>\n",
              "      <td>Date</td>\n",
              "      <td>NaN</td>\n",
              "      <td>AgeGenderSheet</td>\n",
              "      <td>DOB Table</td>\n",
              "      <td>NaN</td>\n",
              "      <td>2</td>\n",
              "      <td>1</td>\n",
              "      <td>2</td>\n",
              "      <td>D.O.B</td>\n",
              "      <td>Down</td>\n",
              "      <td>6</td>\n",
              "      <td>Date</td>\n",
              "      <td>NaN</td>\n",
              "      <td>NaN</td>\n",
              "      <td>NaN</td>\n",
              "      <td>N</td>\n",
              "      <td>NaN</td>\n",
              "      <td>NaN</td>\n",
              "      <td>NaN</td>\n",
              "      <td>NaN</td>\n",
              "      <td>NaN</td>\n",
              "      <td>Date</td>\n",
              "    </tr>\n",
              "    <tr>\n",
              "      <th>4</th>\n",
              "      <td>DoB</td>\n",
              "      <td>AgeGenderSheet</td>\n",
              "      <td>DoB</td>\n",
              "      <td>26</td>\n",
              "      <td>2</td>\n",
              "      <td>1996-01-09 00:00:00</td>\n",
              "      <td>Date</td>\n",
              "      <td>NaN</td>\n",
              "      <td>AgeGenderSheet</td>\n",
              "      <td>DOB Table</td>\n",
              "      <td>NaN</td>\n",
              "      <td>2</td>\n",
              "      <td>1</td>\n",
              "      <td>2</td>\n",
              "      <td>D.O.B</td>\n",
              "      <td>Down</td>\n",
              "      <td>6</td>\n",
              "      <td>Date</td>\n",
              "      <td>NaN</td>\n",
              "      <td>NaN</td>\n",
              "      <td>NaN</td>\n",
              "      <td>N</td>\n",
              "      <td>NaN</td>\n",
              "      <td>NaN</td>\n",
              "      <td>NaN</td>\n",
              "      <td>NaN</td>\n",
              "      <td>NaN</td>\n",
              "      <td>Date</td>\n",
              "    </tr>\n",
              "  </tbody>\n",
              "</table>\n",
              "</div>"
            ],
            "text/plain": [
              "  DataSet     SheetName_x FieldID  RowID  ...  Rule1 Rule2 Rule3  KeyWord\n",
              "0     DoB  AgeGenderSheet    Name     25  ...    NaN   NaN   NaN     Text\n",
              "1     DoB  AgeGenderSheet    Name     26  ...    NaN   NaN   NaN     Text\n",
              "2     DoB  AgeGenderSheet    Name     27  ...    NaN   NaN   NaN     Text\n",
              "3     DoB  AgeGenderSheet     DoB     25  ...    NaN   NaN   NaN     Date\n",
              "4     DoB  AgeGenderSheet     DoB     26  ...    NaN   NaN   NaN     Date\n",
              "\n",
              "[5 rows x 28 columns]"
            ]
          },
          "metadata": {
            "tags": []
          },
          "execution_count": 83
        }
      ]
    },
    {
      "cell_type": "markdown",
      "metadata": {
        "id": "wR-RHXokjaoG"
      },
      "source": [
        "# Create a List of distinct formula to apply"
      ]
    },
    {
      "cell_type": "code",
      "metadata": {
        "id": "4mxczy-qINQv",
        "colab": {
          "base_uri": "https://localhost:8080/",
          "height": 137
        },
        "outputId": "36c527e1-b090-41be-9786-d3e9f0ee06f6"
      },
      "source": [
        "formulas = pd.DataFrame()\n",
        "formulas = pd.DataFrame(todolist, columns=['KeyWord','PythonFormula'])\n",
        "formulas = formulas.drop_duplicates()\n",
        "formulas.head(10)"
      ],
      "execution_count": 84,
      "outputs": [
        {
          "output_type": "execute_result",
          "data": {
            "text/html": [
              "<div>\n",
              "<style scoped>\n",
              "    .dataframe tbody tr th:only-of-type {\n",
              "        vertical-align: middle;\n",
              "    }\n",
              "\n",
              "    .dataframe tbody tr th {\n",
              "        vertical-align: top;\n",
              "    }\n",
              "\n",
              "    .dataframe thead th {\n",
              "        text-align: right;\n",
              "    }\n",
              "</style>\n",
              "<table border=\"1\" class=\"dataframe\">\n",
              "  <thead>\n",
              "    <tr style=\"text-align: right;\">\n",
              "      <th></th>\n",
              "      <th>KeyWord</th>\n",
              "      <th>PythonFormula</th>\n",
              "    </tr>\n",
              "  </thead>\n",
              "  <tbody>\n",
              "    <tr>\n",
              "      <th>0</th>\n",
              "      <td>Text</td>\n",
              "      <td>NaN</td>\n",
              "    </tr>\n",
              "    <tr>\n",
              "      <th>3</th>\n",
              "      <td>Date</td>\n",
              "      <td>NaN</td>\n",
              "    </tr>\n",
              "    <tr>\n",
              "      <th>13</th>\n",
              "      <td>Number</td>\n",
              "      <td>NaN</td>\n",
              "    </tr>\n",
              "  </tbody>\n",
              "</table>\n",
              "</div>"
            ],
            "text/plain": [
              "   KeyWord  PythonFormula\n",
              "0     Text            NaN\n",
              "3     Date            NaN\n",
              "13  Number            NaN"
            ]
          },
          "metadata": {
            "tags": []
          },
          "execution_count": 84
        }
      ]
    },
    {
      "cell_type": "markdown",
      "metadata": {
        "id": "AWxtq24ijmSo"
      },
      "source": [
        "# Prepare Results Table"
      ]
    },
    {
      "cell_type": "code",
      "metadata": {
        "id": "enT7iwuL8Y6l"
      },
      "source": [
        "global bigresults\n",
        "littletodolist = pd.DataFrame()\n",
        "littletodolistworking = pd.DataFrame()\n",
        "bigresults = pd.DataFrame()\n"
      ],
      "execution_count": null,
      "outputs": []
    },
    {
      "cell_type": "code",
      "metadata": {
        "id": "ovWR4reTJYbB"
      },
      "source": [
        "# this was an important test as if you do not have copy you get an error as it believes\n",
        "# you are trying to change a view\n",
        "#littletodolist = todolist[(todolist.KeyWord == 'PickList')].copy()\n",
        "#littletodolist.head(100)\n",
        "#filterdf = pd.DataFrame()\n",
        "#filterdf = todolist[(todolist.KeyWord == 'PickList')].copy()\n",
        "#filterdf.head()"
      ],
      "execution_count": null,
      "outputs": []
    },
    {
      "cell_type": "code",
      "metadata": {
        "id": "W2Viik1bKFx2"
      },
      "source": [
        "# littletodolist.loc[littletodolist.KeyWord == 'Text', 'Result'] = np.where(littletodolist['CellType'] == 'Text', 1, 0)"
      ],
      "execution_count": null,
      "outputs": []
    },
    {
      "cell_type": "markdown",
      "metadata": {
        "id": "lmplCWV-kH6H"
      },
      "source": [
        "# Loop through each Formula and apply to the To Do List"
      ]
    },
    {
      "cell_type": "code",
      "metadata": {
        "id": "f8L4NV-9P-2w"
      },
      "source": [
        "todolist = todolist.rename(columns={'CellValue_x': 'CellValue'})\n",
        "##todolist.columns"
      ],
      "execution_count": null,
      "outputs": []
    },
    {
      "cell_type": "code",
      "metadata": {
        "id": "1qIWlNZUFDBP"
      },
      "source": [
        "for index, row in formulas.iterrows():\n",
        "  # print(row['KeyWord'],row['PythonFormula'])\n",
        "\n",
        "  pf = row['PythonFormula']\n",
        "  kw = row['KeyWord']\n",
        " \n",
        "  try:\n",
        "      pf1 = pf.replace(\"dataset\", \"littletodolist\")\n",
        "  except:\n",
        "      pf1 = \"1\"\n",
        "  littletodolist = todolist[(todolist.KeyWord == kw)].copy()\n",
        "  formula2do = \"littletodolist['Result'] = \" + pf1\n",
        "  print(kw)\n",
        "  print(formula2do)\n",
        "  exec(formula2do)\n",
        "  ##print(littletodolist)\n",
        "  ##try:\n",
        "  ##bigresults = pd.concat([bigresults, littletodolist], ignore_index=True).drop_duplicates().reset_index(drop=True)\n",
        "  bigresults = pd.concat([bigresults, littletodolist]) ##, ignore_index=True).drop_duplicates().reset_index(drop=True)\n",
        "  ##except:\n",
        "  #  bigresults = bigresults"
      ],
      "execution_count": null,
      "outputs": []
    },
    {
      "cell_type": "code",
      "metadata": {
        "id": "JuZ4_YEMP-24"
      },
      "source": [
        "littletodolist['Result'] = np.where(littletodolist['CellType'] == 'Text', 1, 0)"
      ],
      "execution_count": null,
      "outputs": []
    },
    {
      "cell_type": "markdown",
      "metadata": {
        "id": "5ZW7-6-vkaXi"
      },
      "source": [
        "# Add a sequence to the Results for use in Reporting"
      ]
    },
    {
      "cell_type": "code",
      "metadata": {
        "id": "-aG5EY7ygGeG"
      },
      "source": [
        "bigresults['ResultID'] = bigresults.index"
      ],
      "execution_count": null,
      "outputs": []
    },
    {
      "cell_type": "code",
      "metadata": {
        "id": "q4WPoT2MY7jP"
      },
      "source": [
        "bigresults.head(5)"
      ],
      "execution_count": null,
      "outputs": []
    },
    {
      "cell_type": "markdown",
      "metadata": {
        "id": "kbW0Ez8Ekme7"
      },
      "source": [
        "# Narrow down Results to useful columnns"
      ]
    },
    {
      "cell_type": "code",
      "metadata": {
        "id": "11nWw0D2ZPHE"
      },
      "source": [
        "usefulresults = pd.DataFrame()\n",
        "usefulresults = pd.DataFrame(bigresults, columns=['DataSet','FieldID','RowID','ColumnID','CellValue','CellType','CheckPerformed', 'Result'])\n",
        "usefulresults.head()"
      ],
      "execution_count": null,
      "outputs": []
    },
    {
      "cell_type": "markdown",
      "metadata": {
        "id": "fo-KMY41k1sc"
      },
      "source": [
        "# Summarise Results"
      ]
    },
    {
      "cell_type": "code",
      "metadata": {
        "id": "M64p5-e9acRg"
      },
      "source": [
        "resultssummary = pd.DataFrame()\n",
        "# index = pd.MultiIndex.from_arrays(arrays, names=['first', 'second'])\n",
        "# resultssummary.head()\n",
        "\n",
        "resultssummary = bigresults[['DataSet','FieldID','CheckPerformed', 'Result', 'ResultID']].groupby(['DataSet', 'FieldID', 'CheckPerformed']).agg(['count'])\n",
        "resultssummary.head(5)"
      ],
      "execution_count": null,
      "outputs": []
    },
    {
      "cell_type": "markdown",
      "metadata": {
        "id": "OL-ZYUKOk_cL"
      },
      "source": [
        "# Pivot Results"
      ]
    },
    {
      "cell_type": "code",
      "metadata": {
        "id": "9Fdea1NEhYZD"
      },
      "source": [
        "# rownamearray = pd.array(['DataSet','FieldID'], dtype=str)\n",
        "# newct = pd.crosstab(bigresults.DataSet,bigresults.FieldID,bigresults.CheckPerformed,bigresults.Result,rownames=rownamearray, colnames=['Result'])\n",
        "\n",
        "newct = bigresults.pivot_table(index = ['DataSet','FieldID','CheckPerformed'], values = 'ResultID',columns = 'Result', aggfunc = 'count')\n",
        "newct.head()"
      ],
      "execution_count": null,
      "outputs": []
    },
    {
      "cell_type": "markdown",
      "metadata": {
        "id": "XFE1o7UrlFt1"
      },
      "source": [
        "# Plot Stack Bar"
      ]
    },
    {
      "cell_type": "markdown",
      "metadata": {
        "id": "uG7YNRpnoOd9"
      },
      "source": [
        "## Show Stack"
      ]
    },
    {
      "cell_type": "code",
      "metadata": {
        "id": "CzE4y5f5n_b4"
      },
      "source": [
        "newct.plot(kind='barh', stacked=True)"
      ],
      "execution_count": null,
      "outputs": []
    },
    {
      "cell_type": "markdown",
      "metadata": {
        "id": "wGi1BW3WJ7Rr"
      },
      "source": [
        ""
      ]
    },
    {
      "cell_type": "markdown",
      "metadata": {
        "id": "fDyvSHkTJ2CZ"
      },
      "source": [
        ""
      ]
    }
  ]
}