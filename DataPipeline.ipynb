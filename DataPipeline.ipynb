{
  "nbformat": 4,
  "nbformat_minor": 0,
  "metadata": {
    "colab": {
      "name": "MiniConveyorWorking.ipynb",
      "provenance": [],
      "collapsed_sections": [
        "3p8PgjiP0_jY",
        "Bpj2hKhdnGID",
        "GS0NpiKjmlHl",
        "ynhtQQ2H1FgY",
        "gNHjUDxf1KwS",
        "cPktYeFX1Ujq",
        "lChn_UkJZAk1",
        "x_awgfWUgAb2",
        "8IH4GVrigMRd",
        "_BT3jBxRgmOX",
        "qA4u066Zg0Mk",
        "2sZQyqiuhDZc",
        "0if3QQALhaOq",
        "gyZbtquUhhvL",
        "8mbxThrshpF1",
        "xKOG9aHgi8Pj",
        "6aBvm7yzjNqw",
        "wR-RHXokjaoG",
        "AWxtq24ijmSo",
        "lmplCWV-kH6H",
        "5ZW7-6-vkaXi",
        "kbW0Ez8Ekme7",
        "fo-KMY41k1sc",
        "OL-ZYUKOk_cL"
      ],
      "toc_visible": true,
      "include_colab_link": true
    },
    "kernelspec": {
      "display_name": "Python 3",
      "language": "python",
      "name": "python3"
    },
    "language_info": {
      "codemirror_mode": {
        "name": "ipython",
        "version": 3
      },
      "file_extension": ".py",
      "mimetype": "text/x-python",
      "name": "python",
      "nbconvert_exporter": "python",
      "pygments_lexer": "ipython3",
      "version": "3.8.2"
    }
  },
  "cells": [
    {
      "cell_type": "markdown",
      "metadata": {
        "id": "view-in-github",
        "colab_type": "text"
      },
      "source": [
        "<a href=\"https://colab.research.google.com/github/andrewcgaitskell/celldb/blob/master/DataPipeline.ipynb\" target=\"_parent\"><img src=\"https://colab.research.google.com/assets/colab-badge.svg\" alt=\"Open In Colab\"/></a>"
      ]
    },
    {
      "cell_type": "markdown",
      "metadata": {
        "id": "-mDz5ZTQ0x1l"
      },
      "source": [
        ""
      ]
    },
    {
      "cell_type": "markdown",
      "metadata": {
        "id": "x1pvdyLtafeF"
      },
      "source": [
        "# Install Libraries"
      ]
    },
    {
      "cell_type": "code",
      "metadata": {
        "id": "AadAQppWP-0p"
      },
      "source": [
        "import pandas as pd\n",
        "import numpy as np"
      ],
      "execution_count": 69,
      "outputs": []
    },
    {
      "cell_type": "code",
      "metadata": {
        "id": "vr-1xOUaP-0u",
        "colab": {
          "base_uri": "https://localhost:8080/"
        },
        "outputId": "a71deb83-b62b-4067-ccb2-b4386bbd7e31"
      },
      "source": [
        "!pip install xlsxwriter\n",
        "!pip install xlrd\n",
        "!pip install matplotlib\n",
        "import xlsxwriter\n",
        "import xlrd\n",
        "import matplotlib"
      ],
      "execution_count": 70,
      "outputs": [
        {
          "output_type": "stream",
          "text": [
            "Requirement already satisfied: xlsxwriter in /usr/local/lib/python3.6/dist-packages (1.3.7)\n",
            "Requirement already satisfied: xlrd in /usr/local/lib/python3.6/dist-packages (1.1.0)\n",
            "Requirement already satisfied: matplotlib in /usr/local/lib/python3.6/dist-packages (3.2.2)\n",
            "Requirement already satisfied: pyparsing!=2.0.4,!=2.1.2,!=2.1.6,>=2.0.1 in /usr/local/lib/python3.6/dist-packages (from matplotlib) (2.4.7)\n",
            "Requirement already satisfied: numpy>=1.11 in /usr/local/lib/python3.6/dist-packages (from matplotlib) (1.19.5)\n",
            "Requirement already satisfied: python-dateutil>=2.1 in /usr/local/lib/python3.6/dist-packages (from matplotlib) (2.8.1)\n",
            "Requirement already satisfied: kiwisolver>=1.0.1 in /usr/local/lib/python3.6/dist-packages (from matplotlib) (1.3.1)\n",
            "Requirement already satisfied: cycler>=0.10 in /usr/local/lib/python3.6/dist-packages (from matplotlib) (0.10.0)\n",
            "Requirement already satisfied: six>=1.5 in /usr/local/lib/python3.6/dist-packages (from python-dateutil>=2.1->matplotlib) (1.15.0)\n"
          ],
          "name": "stdout"
        }
      ]
    },
    {
      "cell_type": "code",
      "metadata": {
        "colab": {
          "base_uri": "https://localhost:8080/"
        },
        "id": "hLYT-tE51EEK",
        "outputId": "876b7e44-36ee-4741-b90b-00651e9ba079"
      },
      "source": [
        "from google.colab import drive\n",
        "drive.mount('/content/drive')"
      ],
      "execution_count": 71,
      "outputs": [
        {
          "output_type": "stream",
          "text": [
            "Drive already mounted at /content/drive; to attempt to forcibly remount, call drive.mount(\"/content/drive\", force_remount=True).\n"
          ],
          "name": "stdout"
        }
      ]
    },
    {
      "cell_type": "markdown",
      "metadata": {
        "id": "3p8PgjiP0_jY"
      },
      "source": [
        "# Introduction"
      ]
    },
    {
      "cell_type": "code",
      "metadata": {
        "id": "fcUz8nPa4Hh5"
      },
      "source": [
        "from datetime import datetime\n",
        "import os"
      ],
      "execution_count": 72,
      "outputs": []
    },
    {
      "cell_type": "code",
      "metadata": {
        "colab": {
          "base_uri": "https://localhost:8080/"
        },
        "id": "2WPJmc-VvjJ6",
        "outputId": "75f74422-f28c-4427-a093-d92c9f9a9d00"
      },
      "source": [
        "from datetime import datetime\n",
        "my_date = datetime.now()\n",
        "print(my_date.isoformat())"
      ],
      "execution_count": 73,
      "outputs": [
        {
          "output_type": "stream",
          "text": [
            "2021-01-29T16:36:28.604705\n"
          ],
          "name": "stdout"
        }
      ]
    },
    {
      "cell_type": "code",
      "metadata": {
        "colab": {
          "base_uri": "https://localhost:8080/"
        },
        "id": "g4hWXLKOv8Ko",
        "outputId": "43865765-8af3-4dde-f596-5eae1a993404"
      },
      "source": [
        "print(my_date.strftime('%Y-%m-%dT%H:%M:%S.%f%z'))"
      ],
      "execution_count": 74,
      "outputs": [
        {
          "output_type": "stream",
          "text": [
            "2021-01-29T16:36:28.604705\n"
          ],
          "name": "stdout"
        }
      ]
    },
    {
      "cell_type": "code",
      "metadata": {
        "colab": {
          "base_uri": "https://localhost:8080/",
          "height": 35
        },
        "id": "tBDgMHTowFzq",
        "outputId": "ea89e0ba-0bf4-4904-f3e6-22be0556710e"
      },
      "source": [
        "runid = \"R\" + my_date.strftime('%Y%m%d%H%M%S%f%z')\n",
        "runid"
      ],
      "execution_count": 75,
      "outputs": [
        {
          "output_type": "execute_result",
          "data": {
            "application/vnd.google.colaboratory.intrinsic+json": {
              "type": "string"
            },
            "text/plain": [
              "'R20210129163628604705'"
            ]
          },
          "metadata": {
            "tags": []
          },
          "execution_count": 75
        }
      ]
    },
    {
      "cell_type": "code",
      "metadata": {
        "colab": {
          "base_uri": "https://localhost:8080/"
        },
        "id": "ltPCV36nP-00",
        "outputId": "7b126b87-282d-4b32-ed07-13376b5939c2"
      },
      "source": [
        "dirname = os.getcwd()\n",
        "print(dirname)"
      ],
      "execution_count": 76,
      "outputs": [
        {
          "output_type": "stream",
          "text": [
            "/content\n"
          ],
          "name": "stdout"
        }
      ]
    },
    {
      "cell_type": "code",
      "metadata": {
        "id": "Wlg6CawSku84"
      },
      "source": [
        ""
      ],
      "execution_count": 76,
      "outputs": []
    },
    {
      "cell_type": "markdown",
      "metadata": {
        "id": "ZTb5uStIkw6B"
      },
      "source": [
        "## Upload File"
      ]
    },
    {
      "cell_type": "markdown",
      "metadata": {
        "id": "ynhtQQ2H1FgY"
      },
      "source": [
        "# Excel Data Types"
      ]
    },
    {
      "cell_type": "markdown",
      "metadata": {
        "id": "zKpghyfbfs1q"
      },
      "source": [
        "The following functions are use to work out the data type of an excel cell."
      ]
    },
    {
      "cell_type": "code",
      "metadata": {
        "id": "gS1sVfVX4bRL"
      },
      "source": [
        "def validate_date(date_text):\n",
        "    try:\n",
        "        format_string = '%Y-%m-%d %H:%M:%S'\n",
        "        datetime.strptime(date_text, format_string)\n",
        "        return \"OK\"\n",
        "    except ValueError:\n",
        "        return None\n",
        "\n",
        "def GetDataType(row_in):\n",
        "    valueasstring = str(row_in['CellValue'])\n",
        "    if validate_date(valueasstring) != None:\n",
        "        return 'Date'\n",
        "    elif valueasstring.isnumeric():\n",
        "        return 'Number'\n",
        "    else:\n",
        "        return 'Text'\n",
        "\n",
        "def add1_2row(row_in):\n",
        "    return row_in['RowID'] + 1\n",
        "\n",
        "\n",
        "def add1_2column(row_in):\n",
        "    return row_in['ColumnID'] + 1"
      ],
      "execution_count": 77,
      "outputs": []
    },
    {
      "cell_type": "code",
      "metadata": {
        "id": "tzOnyRt7kfpN"
      },
      "source": [
        "#from ipywidgets import FileUpload\n",
        "#upload = FileUpload()\n",
        "#upload"
      ],
      "execution_count": 78,
      "outputs": []
    },
    {
      "cell_type": "code",
      "metadata": {
        "id": "oK3e6oyZ5hh4"
      },
      "source": [
        "import io\n",
        "#filedf = pd.read_excel(upload.data[0],sheet_name=None, header=None, encoding='utf-8', errors='ignore')\n",
        "#filedf = pd.read_excel(upload.data[0],sheet_name=None, header=None)\n",
        "filedf = pd.read_excel('/content/drive/MyDrive/Work/Data/Data.xlsx',sheet_name=None, header=None)\n",
        "#/content/drive/MyDrive/Work/Data/Data.xlsx"
      ],
      "execution_count": 79,
      "outputs": []
    },
    {
      "cell_type": "code",
      "metadata": {
        "id": "8y-f7KyPmbxn"
      },
      "source": [
        "#filedf"
      ],
      "execution_count": 80,
      "outputs": []
    },
    {
      "cell_type": "markdown",
      "metadata": {
        "id": "cPktYeFX1Ujq"
      },
      "source": [
        "# Read All Sheets into Data Frame"
      ]
    },
    {
      "cell_type": "code",
      "metadata": {
        "id": "VYKox_Ng6J0Y"
      },
      "source": [
        "sheetnames = list(filedf.keys())"
      ],
      "execution_count": 81,
      "outputs": []
    },
    {
      "cell_type": "code",
      "metadata": {
        "colab": {
          "base_uri": "https://localhost:8080/"
        },
        "id": "lVh1ixup6WEB",
        "outputId": "a93c3b47-e47c-4539-ff25-6e8ef9260048"
      },
      "source": [
        "print(sheetnames)"
      ],
      "execution_count": 82,
      "outputs": [
        {
          "output_type": "stream",
          "text": [
            "['AgeGenderSheet', 'HomeSheet', 'JobSheet', 'MaritalDepartmentSheet', 'DataMap', 'TemplateValidationMap', 'DataSet', 'Rules', 'Palette', 'PickList']\n"
          ],
          "name": "stdout"
        }
      ]
    },
    {
      "cell_type": "markdown",
      "metadata": {
        "id": "HG-wdyrgq7t6"
      },
      "source": [
        "Each Sheet is retrieved into Dataframes\n",
        "\n",
        "DataMapDF = specdf['DataMap']\n",
        "TemplateValidationMapDF = specdf['TemplateValidationMap']\n",
        "DataSetDF = specdf['DataSet']\n",
        "RulesDF = specdf['Rules']\n",
        "PaletteDF = specdf['Palette']\n",
        "PickListDF = specdf['PickList']\n",
        "datadf = pd.DataFrame()\n"
      ]
    },
    {
      "cell_type": "code",
      "metadata": {
        "id": "lkW7iL0g86Xh"
      },
      "source": [
        ""
      ],
      "execution_count": 82,
      "outputs": []
    },
    {
      "cell_type": "code",
      "metadata": {
        "id": "yqDK2CM281w_"
      },
      "source": [
        ""
      ],
      "execution_count": 82,
      "outputs": []
    },
    {
      "cell_type": "markdown",
      "metadata": {
        "id": "eF7j_IEBgR0U"
      },
      "source": [
        "The following converts the whole spreadsheet into a cell database and this is used throughout for all data frame population."
      ]
    },
    {
      "cell_type": "code",
      "metadata": {
        "id": "T2Y0O5ZYzv_K"
      },
      "source": [
        "celldbstagedf = pd.DataFrame()\n",
        "sheetdf = filedf['DataMap'].copy()\n",
        "sheetdf[\"RowID\"] = sheetdf.index\n",
        "#sheetdf"
      ],
      "execution_count": 83,
      "outputs": []
    },
    {
      "cell_type": "code",
      "metadata": {
        "id": "ts-N1j3I7qdg"
      },
      "source": [
        "for currentsheetname in sheetnames:\n",
        "\n",
        "    sheetdf = filedf[currentsheetname].copy()\n",
        "    sheetdf[\"RowID\"] = sheetdf.index\n",
        "    celldb = pd.melt(sheetdf, id_vars=['RowID'])\n",
        "    celldb = celldb.rename(columns={\"variable\": \"ColumnID\", \"value\": \"CellValue\"})\n",
        "    celldb[\"CellType\"] = \"Unset\"\n",
        "    celldb[\"FileName\"] = runid\n",
        "    celldb[\"SheetName\"] = currentsheetname\n",
        "    \n",
        "    celldb[\"ColumnID\"] = celldb[\"ColumnID\"]\n",
        "\n",
        "    try:\n",
        "        celldb[\"CellType\"] = celldb.apply(GetDataType, axis=1)\n",
        "        celldb[\"RowID\"] = celldb.apply(add1_2row, axis=1)\n",
        "        celldb[\"ColumnID\"] = celldb.apply(add1_2column, axis=1)\n",
        "\n",
        "    except:\n",
        "\n",
        "        celldb[\"CellType\"] = 'unknown'\n",
        "        celldb[\"RowID\"] = 0\n",
        "        celldb[\"ColumnID\"] = 0\n",
        "\n",
        "    celldbstagedf = celldbstagedf.append(celldb, ignore_index=True)\n",
        "\n",
        "    celldb = pd.DataFrame()\n",
        "\n"
      ],
      "execution_count": 84,
      "outputs": []
    },
    {
      "cell_type": "code",
      "metadata": {
        "id": "k_3i157_72QV"
      },
      "source": [
        "fullcelldb = celldbstagedf.copy()"
      ],
      "execution_count": 85,
      "outputs": []
    },
    {
      "cell_type": "code",
      "metadata": {
        "id": "gWEQWuO1xcvB"
      },
      "source": [
        "#df = celldbstagedf[celldbstagedf['SheetName']=='AgeGenderSheet']\n",
        "parametersheets = ['DataMap', 'TemplateValidationMap', 'DataSet', 'Rules', 'Palette', 'PickList']\n",
        "DatasetCells = fullcelldb[~fullcelldb.SheetName.isin(parametersheets)]\n",
        "#DatasetCells\n",
        "\n",
        "#df[~df.country.isin(countries_to_keep)]"
      ],
      "execution_count": 86,
      "outputs": []
    },
    {
      "cell_type": "markdown",
      "metadata": {
        "id": "lChn_UkJZAk1"
      },
      "source": [
        "# Get Picklist Values"
      ]
    },
    {
      "cell_type": "markdown",
      "metadata": {
        "id": "t5ghg_PvYeSH"
      },
      "source": [
        "Picklist are like a mini Master Data Management System\n",
        "\n",
        "They define the acceptable values for a partcular Field in Excel\n",
        "\n",
        "The challenge here was to check one column to a another column that contained a list.  I go there in the end."
      ]
    },
    {
      "cell_type": "code",
      "metadata": {
        "id": "r0sO9VyetelZ"
      },
      "source": [
        "PickListCells = pd.DataFrame()\n",
        "# This process uses the full cell database as the column headings are the Picklist Names\n",
        "PickListCells = fullcelldb[(fullcelldb['SheetName'] == 'PickList')].copy()\n",
        "# PickListCellsList = PickListCells.groupby('ColumnID')['CellValue'].apply(lambda group_series: group_series.tolist()).reset_index()\n",
        "\n",
        "PickListCellsList = PickListCells.groupby('ColumnID').agg({'CellValue':lambda x: list(x)})\n",
        "\n",
        "# these were odd, but glad I work them out, it is important to realise that these are operations on a number of rows, not just one\n",
        "# maybe it was the axis that made the difference!\n",
        "PickListCellsList['KeyWord'] = PickListCellsList.apply(lambda row : row['CellValue'][0], axis = 1)\n",
        "PickListCellsList['FormulaKeyWord'] = PickListCellsList.apply(lambda row : 'PickList', axis = 1)\n",
        "PickListCellsList['List'] = PickListCellsList.apply(lambda row : row['CellValue'][1:], axis = 1)\n",
        "# PickListCellsList['KeyWord'] = PickListCellsList['CellValue']\n",
        "#PickListCellsList= pd.DataFrame(PickListCellsList, columns=['KeyWord', 'List'])\n",
        "PickListCellsList = pd.DataFrame(PickListCellsList, columns=['KeyWord', 'FormulaKeyWord', 'List'])\n",
        "#PickListCellsList.head()"
      ],
      "execution_count": 87,
      "outputs": []
    },
    {
      "cell_type": "code",
      "metadata": {
        "id": "6OG1yqBvV3m8"
      },
      "source": [
        "# These were attempts at creating a suitable list for the function to check to\n",
        "\n",
        "# PickListCellsList['Result'] = PickListCellsList['KeyWord'].isin(PickListCellsList['List']).map({True: 0, False: 1})\n",
        "\n",
        "# PickListCellsList['Result'] = PickListCellsList['KeyWord'].str.contains('|'.join(PickListCellsList['List']))\n",
        "# PickListCellsList['Result'] = PickListCellsList['KeyWord'].str.contains('|'.join(x) for x in PickListCellsList['List'])\n",
        "# [\"\".join(x) for x in lst]\n",
        "# PickListCellsList['ListAsString'] = PickListCellsList['List'].str.join('-')\n",
        "# PickListCellsList['ListAsTuple'] = tuple(PickListCellsList['CellValue'])\n"
      ],
      "execution_count": 88,
      "outputs": []
    },
    {
      "cell_type": "code",
      "metadata": {
        "id": "94BawuhvSCe8"
      },
      "source": [
        "#MyList = pd.DataFrame()\n",
        "#MyList =  PickListCellsList\n",
        "# still do not know why the following DOES NOT WORK!\n",
        "# MyList['Result'] = PickListCellsList['ListAsString'].isin(PickListCellsList['KeyWord'])\n",
        "\n",
        "# leaving this as a rememberance of the 6 hours spent on this!\n",
        "# MyList['Result1'] = PickListCellsList['KeyWord'].apply(lambda x: any(i in x for i in PickListCellsList['List']))\n",
        "# MyList['Result2'] = PickListCellsList['ListAsString'].str.contains(PickListCellsList['KeyWord'])\n",
        "# mask = df['A'].apply(lambda x: any(i in x for i in search_list))\n",
        "# PickListCellsList['Result2'] = PickListCellsList['ListAsTuple'].str.contains(PickListCellsList['KeyWord'])\n",
        "# PickListCellsList['Result2'] = PickListCellsList['KeyWord'].str.contains(tuple(PickListCellsList['List']))\n",
        "# PickListCellsList['ListAsTuple'].isin(PickListCellsList['KeyWord'])\n",
        "# MyList['Result2'] = PickListCellsList['List'].apply(lambda x: True if (PickListCellsList.KeyWord in x).any() else False)\n",
        "######### MyList['sing'] = 'Single'\n",
        "# MyList['res1'] = MyList.apply(lambda ts: any(ts == 'Single'), axis=1)\n",
        "# MyList['res2'] = MyList.apply(lambda ts: MyList['KeyWord'].str.contains('Single'), axis=1)\n",
        "######### MyList['res3'] = MyList.apply(lambda x: x['sing'] in x['ListAsTuple'], axis=1)  ###############\n",
        "######### MyList['res4'] = MyList.apply(lambda x: x['sing'] in x['List'], axis=1).map({True: 1, False: 0}) ###############\n",
        "# # # # dataset.apply(lambda x: x['CellValue'] in x['PickList'], axis=1).map({True: 1, False: 0})\n",
        "# data['Activity].str.contains('skin diving')\n",
        "# lambda x : True if (x > 10 and x < 20) else False\n",
        "#MyList.head()\n",
        "# https://stackoverflow.com/questions/48460234/pandas-apply-valueerror-the-truth-value-of-a-series-is-ambigous"
      ],
      "execution_count": 89,
      "outputs": []
    },
    {
      "cell_type": "markdown",
      "metadata": {
        "id": "x_awgfWUgAb2"
      },
      "source": [
        "# Get Data Map"
      ]
    },
    {
      "cell_type": "code",
      "metadata": {
        "id": "5wSue_afTLJq"
      },
      "source": [
        "DataMapCells = pd.DataFrame()\n",
        "DataMapCells = fullcelldb[(fullcelldb['SheetName'] == 'DataMap')].copy()\n",
        "#DataMapCells.head()"
      ],
      "execution_count": 90,
      "outputs": []
    },
    {
      "cell_type": "markdown",
      "metadata": {
        "id": "zdWkGWSmL6ru"
      },
      "source": [
        "Below extracts a Sheet from the cell database and reshapes it to it original tabular form."
      ]
    },
    {
      "cell_type": "code",
      "metadata": {
        "id": "oPSRDxU8t_Mc",
        "colab": {
          "base_uri": "https://localhost:8080/"
        },
        "outputId": "a0c862fd-39b4-4d1b-bf3a-0a828a0d969e"
      },
      "source": [
        "DataMap = pd.DataFrame()\n",
        "DataMap = DataMapCells.pivot_table(index = ['RowID'], values = 'CellValue',columns = 'ColumnID', aggfunc = 'max')\n",
        "ColumnHeadings = DataMap.iloc[0]\n",
        "ColumnHeadingsList = list(ColumnHeadings)\n",
        "print(ColumnHeadingsList)\n",
        "ColumnHeadingsListTuple = enumerate(ColumnHeadingsList,start=1)\n",
        "ColumnHeadingsListDict = dict(ColumnHeadingsListTuple)\n",
        "print(ColumnHeadingsListDict)\n",
        "DataMap = DataMap.rename(columns=ColumnHeadingsListDict)\n",
        "DataMap = DataMap.drop([1])\n",
        "#DataMap.head()"
      ],
      "execution_count": 91,
      "outputs": [
        {
          "output_type": "stream",
          "text": [
            "['SheetName', 'ReferenceText', 'RowFromReferenceText', 'ColumnFromReferenceText', 'TemplateText', 'DataGroup', 'DataCategory', 'DataScope', 'Column Header', 'Dataset']\n",
            "{1: 'SheetName', 2: 'ReferenceText', 3: 'RowFromReferenceText', 4: 'ColumnFromReferenceText', 5: 'TemplateText', 6: 'DataGroup', 7: 'DataCategory', 8: 'DataScope', 9: 'Column Header', 10: 'Dataset'}\n"
          ],
          "name": "stdout"
        }
      ]
    },
    {
      "cell_type": "markdown",
      "metadata": {
        "id": "8IH4GVrigMRd"
      },
      "source": [
        "# Make Rules Database"
      ]
    },
    {
      "cell_type": "code",
      "metadata": {
        "id": "bG71l_G8-HAn"
      },
      "source": [
        "RulesCells = pd.DataFrame()\n",
        "RulesCells = fullcelldb[(fullcelldb['SheetName'] == 'Rules')].copy()\n",
        "#RulesCells.head()"
      ],
      "execution_count": 92,
      "outputs": []
    },
    {
      "cell_type": "code",
      "metadata": {
        "colab": {
          "base_uri": "https://localhost:8080/",
          "height": 263
        },
        "id": "PVTdctJH-8bR",
        "outputId": "76cfe5a5-e9eb-45a1-8c82-3c1fe5350306"
      },
      "source": [
        "RulesMatrix = pd.DataFrame()\n",
        "RulesMatrix = RulesCells.pivot_table(index = ['RowID'], values = 'CellValue',columns = 'ColumnID', aggfunc = 'max')\n",
        "ColumnHeadings = RulesMatrix.iloc[0]\n",
        "ColumnHeadingsList = list(ColumnHeadings)\n",
        "print(ColumnHeadingsList)\n",
        "ColumnHeadingsListTuple = enumerate(ColumnHeadingsList,start=1)\n",
        "ColumnHeadingsListDict = dict(ColumnHeadingsListTuple)\n",
        "print(ColumnHeadingsListDict)\n",
        "RulesMatrix = RulesMatrix.rename(columns=ColumnHeadingsListDict)\n",
        "RulesMatrix = RulesMatrix.drop([1])\n",
        "RulesMatrix.head()"
      ],
      "execution_count": 93,
      "outputs": [
        {
          "output_type": "stream",
          "text": [
            "['RuleID', 'DataSet', 'FieldID', 'DataType', 'Format', 'RangeFrom', 'RangeTo', 'Null', 'Length', 'PickList', 'Rule1', 'Rule2', 'Rule3']\n",
            "{1: 'RuleID', 2: 'DataSet', 3: 'FieldID', 4: 'DataType', 5: 'Format', 6: 'RangeFrom', 7: 'RangeTo', 8: 'Null', 9: 'Length', 10: 'PickList', 11: 'Rule1', 12: 'Rule2', 13: 'Rule3'}\n"
          ],
          "name": "stdout"
        },
        {
          "output_type": "execute_result",
          "data": {
            "text/html": [
              "<div>\n",
              "<style scoped>\n",
              "    .dataframe tbody tr th:only-of-type {\n",
              "        vertical-align: middle;\n",
              "    }\n",
              "\n",
              "    .dataframe tbody tr th {\n",
              "        vertical-align: top;\n",
              "    }\n",
              "\n",
              "    .dataframe thead th {\n",
              "        text-align: right;\n",
              "    }\n",
              "</style>\n",
              "<table border=\"1\" class=\"dataframe\">\n",
              "  <thead>\n",
              "    <tr style=\"text-align: right;\">\n",
              "      <th>ColumnID</th>\n",
              "      <th>RuleID</th>\n",
              "      <th>DataSet</th>\n",
              "      <th>FieldID</th>\n",
              "      <th>DataType</th>\n",
              "      <th>Format</th>\n",
              "      <th>RangeFrom</th>\n",
              "      <th>RangeTo</th>\n",
              "      <th>Null</th>\n",
              "      <th>Length</th>\n",
              "      <th>PickList</th>\n",
              "      <th>Rule1</th>\n",
              "      <th>Rule2</th>\n",
              "      <th>Rule3</th>\n",
              "    </tr>\n",
              "    <tr>\n",
              "      <th>RowID</th>\n",
              "      <th></th>\n",
              "      <th></th>\n",
              "      <th></th>\n",
              "      <th></th>\n",
              "      <th></th>\n",
              "      <th></th>\n",
              "      <th></th>\n",
              "      <th></th>\n",
              "      <th></th>\n",
              "      <th></th>\n",
              "      <th></th>\n",
              "      <th></th>\n",
              "      <th></th>\n",
              "    </tr>\n",
              "  </thead>\n",
              "  <tbody>\n",
              "    <tr>\n",
              "      <th>2</th>\n",
              "      <td>1</td>\n",
              "      <td>Ages</td>\n",
              "      <td>Name</td>\n",
              "      <td>Text</td>\n",
              "      <td>NaN</td>\n",
              "      <td>NaN</td>\n",
              "      <td>NaN</td>\n",
              "      <td>N</td>\n",
              "      <td>NaN</td>\n",
              "      <td>NaN</td>\n",
              "      <td>NaN</td>\n",
              "      <td>NaN</td>\n",
              "      <td>NaN</td>\n",
              "    </tr>\n",
              "    <tr>\n",
              "      <th>3</th>\n",
              "      <td>2</td>\n",
              "      <td>Ages</td>\n",
              "      <td>Age</td>\n",
              "      <td>Number</td>\n",
              "      <td>NaN</td>\n",
              "      <td>NaN</td>\n",
              "      <td>NaN</td>\n",
              "      <td>N</td>\n",
              "      <td>NaN</td>\n",
              "      <td>NaN</td>\n",
              "      <td>Positive</td>\n",
              "      <td>GreaterThanTen</td>\n",
              "      <td>NaN</td>\n",
              "    </tr>\n",
              "    <tr>\n",
              "      <th>4</th>\n",
              "      <td>3</td>\n",
              "      <td>Genders</td>\n",
              "      <td>Name</td>\n",
              "      <td>Text</td>\n",
              "      <td>NaN</td>\n",
              "      <td>NaN</td>\n",
              "      <td>NaN</td>\n",
              "      <td>N</td>\n",
              "      <td>NaN</td>\n",
              "      <td>NaN</td>\n",
              "      <td>NaN</td>\n",
              "      <td>NaN</td>\n",
              "      <td>NaN</td>\n",
              "    </tr>\n",
              "    <tr>\n",
              "      <th>5</th>\n",
              "      <td>4</td>\n",
              "      <td>Genders</td>\n",
              "      <td>Gender</td>\n",
              "      <td>Text</td>\n",
              "      <td>NaN</td>\n",
              "      <td>NaN</td>\n",
              "      <td>NaN</td>\n",
              "      <td>N</td>\n",
              "      <td>NaN</td>\n",
              "      <td>Gender</td>\n",
              "      <td>NaN</td>\n",
              "      <td>NaN</td>\n",
              "      <td>NaN</td>\n",
              "    </tr>\n",
              "    <tr>\n",
              "      <th>6</th>\n",
              "      <td>5</td>\n",
              "      <td>DoB</td>\n",
              "      <td>Name</td>\n",
              "      <td>Text</td>\n",
              "      <td>NaN</td>\n",
              "      <td>NaN</td>\n",
              "      <td>NaN</td>\n",
              "      <td>N</td>\n",
              "      <td>NaN</td>\n",
              "      <td>NaN</td>\n",
              "      <td>NaN</td>\n",
              "      <td>NaN</td>\n",
              "      <td>NaN</td>\n",
              "    </tr>\n",
              "  </tbody>\n",
              "</table>\n",
              "</div>"
            ],
            "text/plain": [
              "ColumnID RuleID  DataSet FieldID  ...     Rule1           Rule2 Rule3\n",
              "RowID                             ...                                \n",
              "2             1     Ages    Name  ...       NaN             NaN   NaN\n",
              "3             2     Ages     Age  ...  Positive  GreaterThanTen   NaN\n",
              "4             3  Genders    Name  ...       NaN             NaN   NaN\n",
              "5             4  Genders  Gender  ...       NaN             NaN   NaN\n",
              "6             5      DoB    Name  ...       NaN             NaN   NaN\n",
              "\n",
              "[5 rows x 13 columns]"
            ]
          },
          "metadata": {
            "tags": []
          },
          "execution_count": 93
        }
      ]
    },
    {
      "cell_type": "code",
      "metadata": {
        "id": "pJGHXeJwMdE7",
        "colab": {
          "base_uri": "https://localhost:8080/",
          "height": 227
        },
        "outputId": "11142bea-709f-403f-cadc-9d3825325ecb"
      },
      "source": [
        "RulesMatrix.head()"
      ],
      "execution_count": 94,
      "outputs": [
        {
          "output_type": "execute_result",
          "data": {
            "text/html": [
              "<div>\n",
              "<style scoped>\n",
              "    .dataframe tbody tr th:only-of-type {\n",
              "        vertical-align: middle;\n",
              "    }\n",
              "\n",
              "    .dataframe tbody tr th {\n",
              "        vertical-align: top;\n",
              "    }\n",
              "\n",
              "    .dataframe thead th {\n",
              "        text-align: right;\n",
              "    }\n",
              "</style>\n",
              "<table border=\"1\" class=\"dataframe\">\n",
              "  <thead>\n",
              "    <tr style=\"text-align: right;\">\n",
              "      <th>ColumnID</th>\n",
              "      <th>RuleID</th>\n",
              "      <th>DataSet</th>\n",
              "      <th>FieldID</th>\n",
              "      <th>DataType</th>\n",
              "      <th>Format</th>\n",
              "      <th>RangeFrom</th>\n",
              "      <th>RangeTo</th>\n",
              "      <th>Null</th>\n",
              "      <th>Length</th>\n",
              "      <th>PickList</th>\n",
              "      <th>Rule1</th>\n",
              "      <th>Rule2</th>\n",
              "      <th>Rule3</th>\n",
              "    </tr>\n",
              "    <tr>\n",
              "      <th>RowID</th>\n",
              "      <th></th>\n",
              "      <th></th>\n",
              "      <th></th>\n",
              "      <th></th>\n",
              "      <th></th>\n",
              "      <th></th>\n",
              "      <th></th>\n",
              "      <th></th>\n",
              "      <th></th>\n",
              "      <th></th>\n",
              "      <th></th>\n",
              "      <th></th>\n",
              "      <th></th>\n",
              "    </tr>\n",
              "  </thead>\n",
              "  <tbody>\n",
              "    <tr>\n",
              "      <th>2</th>\n",
              "      <td>1</td>\n",
              "      <td>Ages</td>\n",
              "      <td>Name</td>\n",
              "      <td>Text</td>\n",
              "      <td>NaN</td>\n",
              "      <td>NaN</td>\n",
              "      <td>NaN</td>\n",
              "      <td>N</td>\n",
              "      <td>NaN</td>\n",
              "      <td>NaN</td>\n",
              "      <td>NaN</td>\n",
              "      <td>NaN</td>\n",
              "      <td>NaN</td>\n",
              "    </tr>\n",
              "    <tr>\n",
              "      <th>3</th>\n",
              "      <td>2</td>\n",
              "      <td>Ages</td>\n",
              "      <td>Age</td>\n",
              "      <td>Number</td>\n",
              "      <td>NaN</td>\n",
              "      <td>NaN</td>\n",
              "      <td>NaN</td>\n",
              "      <td>N</td>\n",
              "      <td>NaN</td>\n",
              "      <td>NaN</td>\n",
              "      <td>Positive</td>\n",
              "      <td>GreaterThanTen</td>\n",
              "      <td>NaN</td>\n",
              "    </tr>\n",
              "    <tr>\n",
              "      <th>4</th>\n",
              "      <td>3</td>\n",
              "      <td>Genders</td>\n",
              "      <td>Name</td>\n",
              "      <td>Text</td>\n",
              "      <td>NaN</td>\n",
              "      <td>NaN</td>\n",
              "      <td>NaN</td>\n",
              "      <td>N</td>\n",
              "      <td>NaN</td>\n",
              "      <td>NaN</td>\n",
              "      <td>NaN</td>\n",
              "      <td>NaN</td>\n",
              "      <td>NaN</td>\n",
              "    </tr>\n",
              "    <tr>\n",
              "      <th>5</th>\n",
              "      <td>4</td>\n",
              "      <td>Genders</td>\n",
              "      <td>Gender</td>\n",
              "      <td>Text</td>\n",
              "      <td>NaN</td>\n",
              "      <td>NaN</td>\n",
              "      <td>NaN</td>\n",
              "      <td>N</td>\n",
              "      <td>NaN</td>\n",
              "      <td>Gender</td>\n",
              "      <td>NaN</td>\n",
              "      <td>NaN</td>\n",
              "      <td>NaN</td>\n",
              "    </tr>\n",
              "    <tr>\n",
              "      <th>6</th>\n",
              "      <td>5</td>\n",
              "      <td>DoB</td>\n",
              "      <td>Name</td>\n",
              "      <td>Text</td>\n",
              "      <td>NaN</td>\n",
              "      <td>NaN</td>\n",
              "      <td>NaN</td>\n",
              "      <td>N</td>\n",
              "      <td>NaN</td>\n",
              "      <td>NaN</td>\n",
              "      <td>NaN</td>\n",
              "      <td>NaN</td>\n",
              "      <td>NaN</td>\n",
              "    </tr>\n",
              "  </tbody>\n",
              "</table>\n",
              "</div>"
            ],
            "text/plain": [
              "ColumnID RuleID  DataSet FieldID  ...     Rule1           Rule2 Rule3\n",
              "RowID                             ...                                \n",
              "2             1     Ages    Name  ...       NaN             NaN   NaN\n",
              "3             2     Ages     Age  ...  Positive  GreaterThanTen   NaN\n",
              "4             3  Genders    Name  ...       NaN             NaN   NaN\n",
              "5             4  Genders  Gender  ...       NaN             NaN   NaN\n",
              "6             5      DoB    Name  ...       NaN             NaN   NaN\n",
              "\n",
              "[5 rows x 13 columns]"
            ]
          },
          "metadata": {
            "tags": []
          },
          "execution_count": 94
        }
      ]
    },
    {
      "cell_type": "markdown",
      "metadata": {
        "id": "2w0CkOgoMmRS"
      },
      "source": [
        "The above is the Rules definition sheet. It used KeyWords to define the checks.  Below forms a list of KeyWords that are relevant to a particular field in a DataSet"
      ]
    },
    {
      "cell_type": "code",
      "metadata": {
        "id": "6Q_4gGPS9rtm",
        "colab": {
          "base_uri": "https://localhost:8080/",
          "height": 406
        },
        "outputId": "57b8611a-9e21-45d1-e421-a88ceb698c91"
      },
      "source": [
        "Rules2Apply = pd.DataFrame()\n",
        "Rules2Apply = pd.melt(RulesMatrix, id_vars=['RuleID', 'DataSet', 'FieldID'])\n",
        "Rules2Apply"
      ],
      "execution_count": 95,
      "outputs": [
        {
          "output_type": "execute_result",
          "data": {
            "text/html": [
              "<div>\n",
              "<style scoped>\n",
              "    .dataframe tbody tr th:only-of-type {\n",
              "        vertical-align: middle;\n",
              "    }\n",
              "\n",
              "    .dataframe tbody tr th {\n",
              "        vertical-align: top;\n",
              "    }\n",
              "\n",
              "    .dataframe thead th {\n",
              "        text-align: right;\n",
              "    }\n",
              "</style>\n",
              "<table border=\"1\" class=\"dataframe\">\n",
              "  <thead>\n",
              "    <tr style=\"text-align: right;\">\n",
              "      <th></th>\n",
              "      <th>RuleID</th>\n",
              "      <th>DataSet</th>\n",
              "      <th>FieldID</th>\n",
              "      <th>ColumnID</th>\n",
              "      <th>value</th>\n",
              "    </tr>\n",
              "  </thead>\n",
              "  <tbody>\n",
              "    <tr>\n",
              "      <th>0</th>\n",
              "      <td>1</td>\n",
              "      <td>Ages</td>\n",
              "      <td>Name</td>\n",
              "      <td>DataType</td>\n",
              "      <td>Text</td>\n",
              "    </tr>\n",
              "    <tr>\n",
              "      <th>1</th>\n",
              "      <td>2</td>\n",
              "      <td>Ages</td>\n",
              "      <td>Age</td>\n",
              "      <td>DataType</td>\n",
              "      <td>Number</td>\n",
              "    </tr>\n",
              "    <tr>\n",
              "      <th>2</th>\n",
              "      <td>3</td>\n",
              "      <td>Genders</td>\n",
              "      <td>Name</td>\n",
              "      <td>DataType</td>\n",
              "      <td>Text</td>\n",
              "    </tr>\n",
              "    <tr>\n",
              "      <th>3</th>\n",
              "      <td>4</td>\n",
              "      <td>Genders</td>\n",
              "      <td>Gender</td>\n",
              "      <td>DataType</td>\n",
              "      <td>Text</td>\n",
              "    </tr>\n",
              "    <tr>\n",
              "      <th>4</th>\n",
              "      <td>5</td>\n",
              "      <td>DoB</td>\n",
              "      <td>Name</td>\n",
              "      <td>DataType</td>\n",
              "      <td>Text</td>\n",
              "    </tr>\n",
              "    <tr>\n",
              "      <th>...</th>\n",
              "      <td>...</td>\n",
              "      <td>...</td>\n",
              "      <td>...</td>\n",
              "      <td>...</td>\n",
              "      <td>...</td>\n",
              "    </tr>\n",
              "    <tr>\n",
              "      <th>145</th>\n",
              "      <td>11</td>\n",
              "      <td>Jobs</td>\n",
              "      <td>Job_Title</td>\n",
              "      <td>Rule3</td>\n",
              "      <td>NaN</td>\n",
              "    </tr>\n",
              "    <tr>\n",
              "      <th>146</th>\n",
              "      <td>12</td>\n",
              "      <td>Jobs</td>\n",
              "      <td>Employee_Name</td>\n",
              "      <td>Rule3</td>\n",
              "      <td>NaN</td>\n",
              "    </tr>\n",
              "    <tr>\n",
              "      <th>147</th>\n",
              "      <td>13</td>\n",
              "      <td>Jobs</td>\n",
              "      <td>ID</td>\n",
              "      <td>Rule3</td>\n",
              "      <td>NaN</td>\n",
              "    </tr>\n",
              "    <tr>\n",
              "      <th>148</th>\n",
              "      <td>14</td>\n",
              "      <td>HomeLocation</td>\n",
              "      <td>Employee</td>\n",
              "      <td>Rule3</td>\n",
              "      <td>NaN</td>\n",
              "    </tr>\n",
              "    <tr>\n",
              "      <th>149</th>\n",
              "      <td>15</td>\n",
              "      <td>HomeLocation</td>\n",
              "      <td>Location</td>\n",
              "      <td>Rule3</td>\n",
              "      <td>NaN</td>\n",
              "    </tr>\n",
              "  </tbody>\n",
              "</table>\n",
              "<p>150 rows × 5 columns</p>\n",
              "</div>"
            ],
            "text/plain": [
              "    RuleID       DataSet        FieldID  ColumnID   value\n",
              "0        1          Ages           Name  DataType    Text\n",
              "1        2          Ages            Age  DataType  Number\n",
              "2        3       Genders           Name  DataType    Text\n",
              "3        4       Genders         Gender  DataType    Text\n",
              "4        5           DoB           Name  DataType    Text\n",
              "..     ...           ...            ...       ...     ...\n",
              "145     11          Jobs      Job_Title     Rule3     NaN\n",
              "146     12          Jobs  Employee_Name     Rule3     NaN\n",
              "147     13          Jobs             ID     Rule3     NaN\n",
              "148     14  HomeLocation       Employee     Rule3     NaN\n",
              "149     15  HomeLocation       Location     Rule3     NaN\n",
              "\n",
              "[150 rows x 5 columns]"
            ]
          },
          "metadata": {
            "tags": []
          },
          "execution_count": 95
        }
      ]
    },
    {
      "cell_type": "code",
      "metadata": {
        "colab": {
          "base_uri": "https://localhost:8080/"
        },
        "id": "aCaDKIibzb6g",
        "outputId": "a5d6c50f-e2d1-49cb-ef0e-d1d6f8c740a7"
      },
      "source": [
        "Rules2Apply.value.unique()"
      ],
      "execution_count": 96,
      "outputs": [
        {
          "output_type": "execute_result",
          "data": {
            "text/plain": [
              "array(['Text', 'Number', 'Date', nan, 'N', 'Gender', 'MaritalStatus',\n",
              "       'HomeLocation', 'Positive', 'GreaterThanTen'], dtype=object)"
            ]
          },
          "metadata": {
            "tags": []
          },
          "execution_count": 96
        }
      ]
    },
    {
      "cell_type": "code",
      "metadata": {
        "colab": {
          "base_uri": "https://localhost:8080/"
        },
        "id": "pO7Vk8ByAilp",
        "outputId": "efd20d1a-e7a5-47c0-a017-980f752b0dbc"
      },
      "source": [
        "Rules2Apply = Rules2Apply.rename(columns={\"ColumnID\": \"RuleType\", \"value\": \"KeyWord\"})\n",
        "Rules2Apply = Rules2Apply[Rules2Apply.KeyWord.notnull()]\n",
        "Rules2Apply.KeyWord.unique()"
      ],
      "execution_count": 97,
      "outputs": [
        {
          "output_type": "execute_result",
          "data": {
            "text/plain": [
              "array(['Text', 'Number', 'Date', 'N', 'Gender', 'MaritalStatus',\n",
              "       'HomeLocation', 'Positive', 'GreaterThanTen'], dtype=object)"
            ]
          },
          "metadata": {
            "tags": []
          },
          "execution_count": 97
        }
      ]
    },
    {
      "cell_type": "code",
      "metadata": {
        "colab": {
          "base_uri": "https://localhost:8080/"
        },
        "id": "Pk_3P_qR_79e",
        "outputId": "85a4bc61-469b-47e1-fe2e-a4c0bb196e77"
      },
      "source": [
        "# df['A'] = df.apply(lambda x: x['B'] if x['A']==0 else x['A'], axis=1)\n",
        "# The following adds the KeyWord Null into the Rules list - if Null is N, this means Nulls are Not Allowed\n",
        "Rules2Apply['KeyWord'] = Rules2Apply.apply(lambda x: x['RuleType'] if x['KeyWord']=='N' else x['KeyWord'], axis=1)\n",
        "#Rules2Apply['New'] = Rules2Apply.apply(lambda x: x['RuleType'] if x['KeyWord']=='N' else x['KeyWord'], axis=1)\n",
        "Rules2Apply.KeyWord.unique()"
      ],
      "execution_count": 98,
      "outputs": [
        {
          "output_type": "execute_result",
          "data": {
            "text/plain": [
              "array(['Text', 'Number', 'Date', 'Null', 'Gender', 'MaritalStatus',\n",
              "       'HomeLocation', 'Positive', 'GreaterThanTen'], dtype=object)"
            ]
          },
          "metadata": {
            "tags": []
          },
          "execution_count": 98
        }
      ]
    },
    {
      "cell_type": "code",
      "metadata": {
        "colab": {
          "base_uri": "https://localhost:8080/",
          "height": 167
        },
        "id": "Oqi_izXP0ntN",
        "outputId": "2cd7ae78-f4c4-4590-9401-a082c254f96e"
      },
      "source": [
        "PickListCellsList"
      ],
      "execution_count": 99,
      "outputs": [
        {
          "output_type": "execute_result",
          "data": {
            "text/html": [
              "<div>\n",
              "<style scoped>\n",
              "    .dataframe tbody tr th:only-of-type {\n",
              "        vertical-align: middle;\n",
              "    }\n",
              "\n",
              "    .dataframe tbody tr th {\n",
              "        vertical-align: top;\n",
              "    }\n",
              "\n",
              "    .dataframe thead th {\n",
              "        text-align: right;\n",
              "    }\n",
              "</style>\n",
              "<table border=\"1\" class=\"dataframe\">\n",
              "  <thead>\n",
              "    <tr style=\"text-align: right;\">\n",
              "      <th></th>\n",
              "      <th>KeyWord</th>\n",
              "      <th>FormulaKeyWord</th>\n",
              "      <th>List</th>\n",
              "    </tr>\n",
              "    <tr>\n",
              "      <th>ColumnID</th>\n",
              "      <th></th>\n",
              "      <th></th>\n",
              "      <th></th>\n",
              "    </tr>\n",
              "  </thead>\n",
              "  <tbody>\n",
              "    <tr>\n",
              "      <th>1</th>\n",
              "      <td>MaritalStatus</td>\n",
              "      <td>PickList</td>\n",
              "      <td>[Single, Married]</td>\n",
              "    </tr>\n",
              "    <tr>\n",
              "      <th>2</th>\n",
              "      <td>HomeLocation</td>\n",
              "      <td>PickList</td>\n",
              "      <td>[London, Liverpool]</td>\n",
              "    </tr>\n",
              "    <tr>\n",
              "      <th>3</th>\n",
              "      <td>Gender</td>\n",
              "      <td>PickList</td>\n",
              "      <td>[Male, Female]</td>\n",
              "    </tr>\n",
              "  </tbody>\n",
              "</table>\n",
              "</div>"
            ],
            "text/plain": [
              "                KeyWord FormulaKeyWord                 List\n",
              "ColumnID                                                   \n",
              "1         MaritalStatus       PickList    [Single, Married]\n",
              "2          HomeLocation       PickList  [London, Liverpool]\n",
              "3                Gender       PickList       [Male, Female]"
            ]
          },
          "metadata": {
            "tags": []
          },
          "execution_count": 99
        }
      ]
    },
    {
      "cell_type": "code",
      "metadata": {
        "colab": {
          "base_uri": "https://localhost:8080/",
          "height": 1000
        },
        "id": "Rn7lUvCkASTp",
        "outputId": "57fa7489-64f7-44c7-92f4-801fd779c5a7"
      },
      "source": [
        "Rules2Apply = pd.merge(Rules2Apply,PickListCellsList, on=['KeyWord'],how='left')\n",
        "\n",
        "Rules2Apply"
      ],
      "execution_count": 100,
      "outputs": [
        {
          "output_type": "execute_result",
          "data": {
            "text/html": [
              "<div>\n",
              "<style scoped>\n",
              "    .dataframe tbody tr th:only-of-type {\n",
              "        vertical-align: middle;\n",
              "    }\n",
              "\n",
              "    .dataframe tbody tr th {\n",
              "        vertical-align: top;\n",
              "    }\n",
              "\n",
              "    .dataframe thead th {\n",
              "        text-align: right;\n",
              "    }\n",
              "</style>\n",
              "<table border=\"1\" class=\"dataframe\">\n",
              "  <thead>\n",
              "    <tr style=\"text-align: right;\">\n",
              "      <th></th>\n",
              "      <th>RuleID</th>\n",
              "      <th>DataSet</th>\n",
              "      <th>FieldID</th>\n",
              "      <th>RuleType</th>\n",
              "      <th>KeyWord</th>\n",
              "      <th>FormulaKeyWord</th>\n",
              "      <th>List</th>\n",
              "    </tr>\n",
              "  </thead>\n",
              "  <tbody>\n",
              "    <tr>\n",
              "      <th>0</th>\n",
              "      <td>1</td>\n",
              "      <td>Ages</td>\n",
              "      <td>Name</td>\n",
              "      <td>DataType</td>\n",
              "      <td>Text</td>\n",
              "      <td>NaN</td>\n",
              "      <td>NaN</td>\n",
              "    </tr>\n",
              "    <tr>\n",
              "      <th>1</th>\n",
              "      <td>2</td>\n",
              "      <td>Ages</td>\n",
              "      <td>Age</td>\n",
              "      <td>DataType</td>\n",
              "      <td>Number</td>\n",
              "      <td>NaN</td>\n",
              "      <td>NaN</td>\n",
              "    </tr>\n",
              "    <tr>\n",
              "      <th>2</th>\n",
              "      <td>3</td>\n",
              "      <td>Genders</td>\n",
              "      <td>Name</td>\n",
              "      <td>DataType</td>\n",
              "      <td>Text</td>\n",
              "      <td>NaN</td>\n",
              "      <td>NaN</td>\n",
              "    </tr>\n",
              "    <tr>\n",
              "      <th>3</th>\n",
              "      <td>4</td>\n",
              "      <td>Genders</td>\n",
              "      <td>Gender</td>\n",
              "      <td>DataType</td>\n",
              "      <td>Text</td>\n",
              "      <td>NaN</td>\n",
              "      <td>NaN</td>\n",
              "    </tr>\n",
              "    <tr>\n",
              "      <th>4</th>\n",
              "      <td>5</td>\n",
              "      <td>DoB</td>\n",
              "      <td>Name</td>\n",
              "      <td>DataType</td>\n",
              "      <td>Text</td>\n",
              "      <td>NaN</td>\n",
              "      <td>NaN</td>\n",
              "    </tr>\n",
              "    <tr>\n",
              "      <th>5</th>\n",
              "      <td>6</td>\n",
              "      <td>DoB</td>\n",
              "      <td>DoB</td>\n",
              "      <td>DataType</td>\n",
              "      <td>Date</td>\n",
              "      <td>NaN</td>\n",
              "      <td>NaN</td>\n",
              "    </tr>\n",
              "    <tr>\n",
              "      <th>6</th>\n",
              "      <td>7</td>\n",
              "      <td>MaritalStatus</td>\n",
              "      <td>Name</td>\n",
              "      <td>DataType</td>\n",
              "      <td>Text</td>\n",
              "      <td>NaN</td>\n",
              "      <td>NaN</td>\n",
              "    </tr>\n",
              "    <tr>\n",
              "      <th>7</th>\n",
              "      <td>8</td>\n",
              "      <td>MaritalStatus</td>\n",
              "      <td>Status</td>\n",
              "      <td>DataType</td>\n",
              "      <td>Text</td>\n",
              "      <td>NaN</td>\n",
              "      <td>NaN</td>\n",
              "    </tr>\n",
              "    <tr>\n",
              "      <th>8</th>\n",
              "      <td>9</td>\n",
              "      <td>DepartmentTable</td>\n",
              "      <td>Name</td>\n",
              "      <td>DataType</td>\n",
              "      <td>Text</td>\n",
              "      <td>NaN</td>\n",
              "      <td>NaN</td>\n",
              "    </tr>\n",
              "    <tr>\n",
              "      <th>9</th>\n",
              "      <td>10</td>\n",
              "      <td>DepartmentTable</td>\n",
              "      <td>Department</td>\n",
              "      <td>DataType</td>\n",
              "      <td>Text</td>\n",
              "      <td>NaN</td>\n",
              "      <td>NaN</td>\n",
              "    </tr>\n",
              "    <tr>\n",
              "      <th>10</th>\n",
              "      <td>11</td>\n",
              "      <td>Jobs</td>\n",
              "      <td>Job_Title</td>\n",
              "      <td>DataType</td>\n",
              "      <td>Text</td>\n",
              "      <td>NaN</td>\n",
              "      <td>NaN</td>\n",
              "    </tr>\n",
              "    <tr>\n",
              "      <th>11</th>\n",
              "      <td>12</td>\n",
              "      <td>Jobs</td>\n",
              "      <td>Employee_Name</td>\n",
              "      <td>DataType</td>\n",
              "      <td>Text</td>\n",
              "      <td>NaN</td>\n",
              "      <td>NaN</td>\n",
              "    </tr>\n",
              "    <tr>\n",
              "      <th>12</th>\n",
              "      <td>13</td>\n",
              "      <td>Jobs</td>\n",
              "      <td>ID</td>\n",
              "      <td>DataType</td>\n",
              "      <td>Number</td>\n",
              "      <td>NaN</td>\n",
              "      <td>NaN</td>\n",
              "    </tr>\n",
              "    <tr>\n",
              "      <th>13</th>\n",
              "      <td>14</td>\n",
              "      <td>HomeLocation</td>\n",
              "      <td>Employee</td>\n",
              "      <td>DataType</td>\n",
              "      <td>Text</td>\n",
              "      <td>NaN</td>\n",
              "      <td>NaN</td>\n",
              "    </tr>\n",
              "    <tr>\n",
              "      <th>14</th>\n",
              "      <td>15</td>\n",
              "      <td>HomeLocation</td>\n",
              "      <td>Location</td>\n",
              "      <td>DataType</td>\n",
              "      <td>Text</td>\n",
              "      <td>NaN</td>\n",
              "      <td>NaN</td>\n",
              "    </tr>\n",
              "    <tr>\n",
              "      <th>15</th>\n",
              "      <td>1</td>\n",
              "      <td>Ages</td>\n",
              "      <td>Name</td>\n",
              "      <td>Null</td>\n",
              "      <td>Null</td>\n",
              "      <td>NaN</td>\n",
              "      <td>NaN</td>\n",
              "    </tr>\n",
              "    <tr>\n",
              "      <th>16</th>\n",
              "      <td>2</td>\n",
              "      <td>Ages</td>\n",
              "      <td>Age</td>\n",
              "      <td>Null</td>\n",
              "      <td>Null</td>\n",
              "      <td>NaN</td>\n",
              "      <td>NaN</td>\n",
              "    </tr>\n",
              "    <tr>\n",
              "      <th>17</th>\n",
              "      <td>3</td>\n",
              "      <td>Genders</td>\n",
              "      <td>Name</td>\n",
              "      <td>Null</td>\n",
              "      <td>Null</td>\n",
              "      <td>NaN</td>\n",
              "      <td>NaN</td>\n",
              "    </tr>\n",
              "    <tr>\n",
              "      <th>18</th>\n",
              "      <td>4</td>\n",
              "      <td>Genders</td>\n",
              "      <td>Gender</td>\n",
              "      <td>Null</td>\n",
              "      <td>Null</td>\n",
              "      <td>NaN</td>\n",
              "      <td>NaN</td>\n",
              "    </tr>\n",
              "    <tr>\n",
              "      <th>19</th>\n",
              "      <td>5</td>\n",
              "      <td>DoB</td>\n",
              "      <td>Name</td>\n",
              "      <td>Null</td>\n",
              "      <td>Null</td>\n",
              "      <td>NaN</td>\n",
              "      <td>NaN</td>\n",
              "    </tr>\n",
              "    <tr>\n",
              "      <th>20</th>\n",
              "      <td>6</td>\n",
              "      <td>DoB</td>\n",
              "      <td>DoB</td>\n",
              "      <td>Null</td>\n",
              "      <td>Null</td>\n",
              "      <td>NaN</td>\n",
              "      <td>NaN</td>\n",
              "    </tr>\n",
              "    <tr>\n",
              "      <th>21</th>\n",
              "      <td>7</td>\n",
              "      <td>MaritalStatus</td>\n",
              "      <td>Name</td>\n",
              "      <td>Null</td>\n",
              "      <td>Null</td>\n",
              "      <td>NaN</td>\n",
              "      <td>NaN</td>\n",
              "    </tr>\n",
              "    <tr>\n",
              "      <th>22</th>\n",
              "      <td>8</td>\n",
              "      <td>MaritalStatus</td>\n",
              "      <td>Status</td>\n",
              "      <td>Null</td>\n",
              "      <td>Null</td>\n",
              "      <td>NaN</td>\n",
              "      <td>NaN</td>\n",
              "    </tr>\n",
              "    <tr>\n",
              "      <th>23</th>\n",
              "      <td>9</td>\n",
              "      <td>DepartmentTable</td>\n",
              "      <td>Name</td>\n",
              "      <td>Null</td>\n",
              "      <td>Null</td>\n",
              "      <td>NaN</td>\n",
              "      <td>NaN</td>\n",
              "    </tr>\n",
              "    <tr>\n",
              "      <th>24</th>\n",
              "      <td>10</td>\n",
              "      <td>DepartmentTable</td>\n",
              "      <td>Department</td>\n",
              "      <td>Null</td>\n",
              "      <td>Null</td>\n",
              "      <td>NaN</td>\n",
              "      <td>NaN</td>\n",
              "    </tr>\n",
              "    <tr>\n",
              "      <th>25</th>\n",
              "      <td>11</td>\n",
              "      <td>Jobs</td>\n",
              "      <td>Job_Title</td>\n",
              "      <td>Null</td>\n",
              "      <td>Null</td>\n",
              "      <td>NaN</td>\n",
              "      <td>NaN</td>\n",
              "    </tr>\n",
              "    <tr>\n",
              "      <th>26</th>\n",
              "      <td>12</td>\n",
              "      <td>Jobs</td>\n",
              "      <td>Employee_Name</td>\n",
              "      <td>Null</td>\n",
              "      <td>Null</td>\n",
              "      <td>NaN</td>\n",
              "      <td>NaN</td>\n",
              "    </tr>\n",
              "    <tr>\n",
              "      <th>27</th>\n",
              "      <td>13</td>\n",
              "      <td>Jobs</td>\n",
              "      <td>ID</td>\n",
              "      <td>Null</td>\n",
              "      <td>Null</td>\n",
              "      <td>NaN</td>\n",
              "      <td>NaN</td>\n",
              "    </tr>\n",
              "    <tr>\n",
              "      <th>28</th>\n",
              "      <td>14</td>\n",
              "      <td>HomeLocation</td>\n",
              "      <td>Employee</td>\n",
              "      <td>Null</td>\n",
              "      <td>Null</td>\n",
              "      <td>NaN</td>\n",
              "      <td>NaN</td>\n",
              "    </tr>\n",
              "    <tr>\n",
              "      <th>29</th>\n",
              "      <td>15</td>\n",
              "      <td>HomeLocation</td>\n",
              "      <td>Location</td>\n",
              "      <td>Null</td>\n",
              "      <td>Null</td>\n",
              "      <td>NaN</td>\n",
              "      <td>NaN</td>\n",
              "    </tr>\n",
              "    <tr>\n",
              "      <th>30</th>\n",
              "      <td>4</td>\n",
              "      <td>Genders</td>\n",
              "      <td>Gender</td>\n",
              "      <td>PickList</td>\n",
              "      <td>Gender</td>\n",
              "      <td>PickList</td>\n",
              "      <td>[Male, Female]</td>\n",
              "    </tr>\n",
              "    <tr>\n",
              "      <th>31</th>\n",
              "      <td>8</td>\n",
              "      <td>MaritalStatus</td>\n",
              "      <td>Status</td>\n",
              "      <td>PickList</td>\n",
              "      <td>MaritalStatus</td>\n",
              "      <td>PickList</td>\n",
              "      <td>[Single, Married]</td>\n",
              "    </tr>\n",
              "    <tr>\n",
              "      <th>32</th>\n",
              "      <td>15</td>\n",
              "      <td>HomeLocation</td>\n",
              "      <td>Location</td>\n",
              "      <td>PickList</td>\n",
              "      <td>HomeLocation</td>\n",
              "      <td>PickList</td>\n",
              "      <td>[London, Liverpool]</td>\n",
              "    </tr>\n",
              "    <tr>\n",
              "      <th>33</th>\n",
              "      <td>2</td>\n",
              "      <td>Ages</td>\n",
              "      <td>Age</td>\n",
              "      <td>Rule1</td>\n",
              "      <td>Positive</td>\n",
              "      <td>NaN</td>\n",
              "      <td>NaN</td>\n",
              "    </tr>\n",
              "    <tr>\n",
              "      <th>34</th>\n",
              "      <td>2</td>\n",
              "      <td>Ages</td>\n",
              "      <td>Age</td>\n",
              "      <td>Rule2</td>\n",
              "      <td>GreaterThanTen</td>\n",
              "      <td>NaN</td>\n",
              "      <td>NaN</td>\n",
              "    </tr>\n",
              "  </tbody>\n",
              "</table>\n",
              "</div>"
            ],
            "text/plain": [
              "   RuleID          DataSet  ... FormulaKeyWord                 List\n",
              "0       1             Ages  ...            NaN                  NaN\n",
              "1       2             Ages  ...            NaN                  NaN\n",
              "2       3          Genders  ...            NaN                  NaN\n",
              "3       4          Genders  ...            NaN                  NaN\n",
              "4       5              DoB  ...            NaN                  NaN\n",
              "5       6              DoB  ...            NaN                  NaN\n",
              "6       7    MaritalStatus  ...            NaN                  NaN\n",
              "7       8    MaritalStatus  ...            NaN                  NaN\n",
              "8       9  DepartmentTable  ...            NaN                  NaN\n",
              "9      10  DepartmentTable  ...            NaN                  NaN\n",
              "10     11             Jobs  ...            NaN                  NaN\n",
              "11     12             Jobs  ...            NaN                  NaN\n",
              "12     13             Jobs  ...            NaN                  NaN\n",
              "13     14     HomeLocation  ...            NaN                  NaN\n",
              "14     15     HomeLocation  ...            NaN                  NaN\n",
              "15      1             Ages  ...            NaN                  NaN\n",
              "16      2             Ages  ...            NaN                  NaN\n",
              "17      3          Genders  ...            NaN                  NaN\n",
              "18      4          Genders  ...            NaN                  NaN\n",
              "19      5              DoB  ...            NaN                  NaN\n",
              "20      6              DoB  ...            NaN                  NaN\n",
              "21      7    MaritalStatus  ...            NaN                  NaN\n",
              "22      8    MaritalStatus  ...            NaN                  NaN\n",
              "23      9  DepartmentTable  ...            NaN                  NaN\n",
              "24     10  DepartmentTable  ...            NaN                  NaN\n",
              "25     11             Jobs  ...            NaN                  NaN\n",
              "26     12             Jobs  ...            NaN                  NaN\n",
              "27     13             Jobs  ...            NaN                  NaN\n",
              "28     14     HomeLocation  ...            NaN                  NaN\n",
              "29     15     HomeLocation  ...            NaN                  NaN\n",
              "30      4          Genders  ...       PickList       [Male, Female]\n",
              "31      8    MaritalStatus  ...       PickList    [Single, Married]\n",
              "32     15     HomeLocation  ...       PickList  [London, Liverpool]\n",
              "33      2             Ages  ...            NaN                  NaN\n",
              "34      2             Ages  ...            NaN                  NaN\n",
              "\n",
              "[35 rows x 7 columns]"
            ]
          },
          "metadata": {
            "tags": []
          },
          "execution_count": 100
        }
      ]
    },
    {
      "cell_type": "markdown",
      "metadata": {
        "id": "_BT3jBxRgmOX"
      },
      "source": [
        "# Add Code and Formulae to Rules Database"
      ]
    },
    {
      "cell_type": "markdown",
      "metadata": {
        "id": "FjPsx40uNGbC"
      },
      "source": [
        "Palette defines the Rule Text and Rule Formula."
      ]
    },
    {
      "cell_type": "code",
      "metadata": {
        "colab": {
          "base_uri": "https://localhost:8080/",
          "height": 197
        },
        "id": "IMxdvA1QKNB2",
        "outputId": "d3ccf70e-4f92-41a6-f2bb-f08684d7d776"
      },
      "source": [
        "PaletteCells = pd.DataFrame()\n",
        "PaletteCells = fullcelldb[(fullcelldb['SheetName'] == 'Palette')].copy()\n",
        "PaletteCells.head()"
      ],
      "execution_count": 101,
      "outputs": [
        {
          "output_type": "execute_result",
          "data": {
            "text/html": [
              "<div>\n",
              "<style scoped>\n",
              "    .dataframe tbody tr th:only-of-type {\n",
              "        vertical-align: middle;\n",
              "    }\n",
              "\n",
              "    .dataframe tbody tr th {\n",
              "        vertical-align: top;\n",
              "    }\n",
              "\n",
              "    .dataframe thead th {\n",
              "        text-align: right;\n",
              "    }\n",
              "</style>\n",
              "<table border=\"1\" class=\"dataframe\">\n",
              "  <thead>\n",
              "    <tr style=\"text-align: right;\">\n",
              "      <th></th>\n",
              "      <th>RowID</th>\n",
              "      <th>ColumnID</th>\n",
              "      <th>CellValue</th>\n",
              "      <th>CellType</th>\n",
              "      <th>FileName</th>\n",
              "      <th>SheetName</th>\n",
              "    </tr>\n",
              "  </thead>\n",
              "  <tbody>\n",
              "    <tr>\n",
              "      <th>917</th>\n",
              "      <td>1</td>\n",
              "      <td>1</td>\n",
              "      <td>KeyWord</td>\n",
              "      <td>Text</td>\n",
              "      <td>R20210129163628604705</td>\n",
              "      <td>Palette</td>\n",
              "    </tr>\n",
              "    <tr>\n",
              "      <th>918</th>\n",
              "      <td>2</td>\n",
              "      <td>1</td>\n",
              "      <td>Date</td>\n",
              "      <td>Text</td>\n",
              "      <td>R20210129163628604705</td>\n",
              "      <td>Palette</td>\n",
              "    </tr>\n",
              "    <tr>\n",
              "      <th>919</th>\n",
              "      <td>3</td>\n",
              "      <td>1</td>\n",
              "      <td>Number</td>\n",
              "      <td>Text</td>\n",
              "      <td>R20210129163628604705</td>\n",
              "      <td>Palette</td>\n",
              "    </tr>\n",
              "    <tr>\n",
              "      <th>920</th>\n",
              "      <td>4</td>\n",
              "      <td>1</td>\n",
              "      <td>Text</td>\n",
              "      <td>Text</td>\n",
              "      <td>R20210129163628604705</td>\n",
              "      <td>Palette</td>\n",
              "    </tr>\n",
              "    <tr>\n",
              "      <th>921</th>\n",
              "      <td>5</td>\n",
              "      <td>1</td>\n",
              "      <td>NotNull</td>\n",
              "      <td>Text</td>\n",
              "      <td>R20210129163628604705</td>\n",
              "      <td>Palette</td>\n",
              "    </tr>\n",
              "  </tbody>\n",
              "</table>\n",
              "</div>"
            ],
            "text/plain": [
              "     RowID  ColumnID CellValue CellType               FileName SheetName\n",
              "917      1         1   KeyWord     Text  R20210129163628604705   Palette\n",
              "918      2         1      Date     Text  R20210129163628604705   Palette\n",
              "919      3         1    Number     Text  R20210129163628604705   Palette\n",
              "920      4         1      Text     Text  R20210129163628604705   Palette\n",
              "921      5         1   NotNull     Text  R20210129163628604705   Palette"
            ]
          },
          "metadata": {
            "tags": []
          },
          "execution_count": 101
        }
      ]
    },
    {
      "cell_type": "code",
      "metadata": {
        "colab": {
          "base_uri": "https://localhost:8080/",
          "height": 346
        },
        "id": "IBUxKoYtKsoN",
        "outputId": "4bbc661c-ccff-4667-fa2a-7a448e725777"
      },
      "source": [
        "Palette = pd.DataFrame()\n",
        "Palette = PaletteCells.pivot_table(index = ['RowID'], values = 'CellValue',columns = 'ColumnID', aggfunc = 'max')\n",
        "ColumnHeadings = Palette.iloc[0]\n",
        "ColumnHeadingsList = list(ColumnHeadings)\n",
        "print(ColumnHeadingsList)\n",
        "ColumnHeadingsListTuple = enumerate(ColumnHeadingsList,start=1)\n",
        "ColumnHeadingsListDict = dict(ColumnHeadingsListTuple)\n",
        "print(ColumnHeadingsListDict)\n",
        "Palette = Palette.rename(columns=ColumnHeadingsListDict)\n",
        "Palette = Palette.drop([1])\n",
        "Palette.head()"
      ],
      "execution_count": 102,
      "outputs": [
        {
          "output_type": "stream",
          "text": [
            "['KeyWord', 'Rule', 'CheckPerformed', 'ErrorMessage', 'AlteryxDataType', 'AlteryxFormula', 'RemedialAction', 'SQLFormula', 'PythonFormula']\n",
            "{1: 'KeyWord', 2: 'Rule', 3: 'CheckPerformed', 4: 'ErrorMessage', 5: 'AlteryxDataType', 6: 'AlteryxFormula', 7: 'RemedialAction', 8: 'SQLFormula', 9: 'PythonFormula'}\n"
          ],
          "name": "stdout"
        },
        {
          "output_type": "execute_result",
          "data": {
            "text/html": [
              "<div>\n",
              "<style scoped>\n",
              "    .dataframe tbody tr th:only-of-type {\n",
              "        vertical-align: middle;\n",
              "    }\n",
              "\n",
              "    .dataframe tbody tr th {\n",
              "        vertical-align: top;\n",
              "    }\n",
              "\n",
              "    .dataframe thead th {\n",
              "        text-align: right;\n",
              "    }\n",
              "</style>\n",
              "<table border=\"1\" class=\"dataframe\">\n",
              "  <thead>\n",
              "    <tr style=\"text-align: right;\">\n",
              "      <th>ColumnID</th>\n",
              "      <th>KeyWord</th>\n",
              "      <th>Rule</th>\n",
              "      <th>CheckPerformed</th>\n",
              "      <th>ErrorMessage</th>\n",
              "      <th>AlteryxDataType</th>\n",
              "      <th>AlteryxFormula</th>\n",
              "      <th>RemedialAction</th>\n",
              "      <th>SQLFormula</th>\n",
              "      <th>PythonFormula</th>\n",
              "    </tr>\n",
              "    <tr>\n",
              "      <th>RowID</th>\n",
              "      <th></th>\n",
              "      <th></th>\n",
              "      <th></th>\n",
              "      <th></th>\n",
              "      <th></th>\n",
              "      <th></th>\n",
              "      <th></th>\n",
              "      <th></th>\n",
              "      <th></th>\n",
              "    </tr>\n",
              "  </thead>\n",
              "  <tbody>\n",
              "    <tr>\n",
              "      <th>2</th>\n",
              "      <td>Date</td>\n",
              "      <td>Must Be Date</td>\n",
              "      <td>Data Type is Date</td>\n",
              "      <td>Date Not Entered</td>\n",
              "      <td>Date</td>\n",
              "      <td>Length([CellValue]) &gt; 0 and [CellType] = \"Date\"</td>\n",
              "      <td>Enter Date</td>\n",
              "      <td>case when IsNULL([CellValue],'XX') = 'XX' then...</td>\n",
              "      <td>np.where(dataset['CellType'] == 'Date', 1, 0)</td>\n",
              "    </tr>\n",
              "    <tr>\n",
              "      <th>3</th>\n",
              "      <td>Number</td>\n",
              "      <td>Must Be Number</td>\n",
              "      <td>Data Type is Number</td>\n",
              "      <td>Number Not Entered</td>\n",
              "      <td>Double</td>\n",
              "      <td>Length([CellValue]) &gt; 0 and [CellType] = \"Number\"</td>\n",
              "      <td>Enter Number</td>\n",
              "      <td>case when IsNULL([CellValue],'XX') = 'XX' then...</td>\n",
              "      <td>np.where(dataset['CellType'] == 'Number', 1, 0)</td>\n",
              "    </tr>\n",
              "    <tr>\n",
              "      <th>4</th>\n",
              "      <td>Text</td>\n",
              "      <td>Must Be Text</td>\n",
              "      <td>Data Type is Text</td>\n",
              "      <td>Text Not Entered</td>\n",
              "      <td>V_String</td>\n",
              "      <td>Length([CellValue]) &gt; 0 and Contains([CellType...</td>\n",
              "      <td>Enter as Text</td>\n",
              "      <td>case when IsNULL([CellValue],'XX') = 'XX' then...</td>\n",
              "      <td>np.where(dataset['CellType'] == 'Text', 1, 0)</td>\n",
              "    </tr>\n",
              "    <tr>\n",
              "      <th>5</th>\n",
              "      <td>NotNull</td>\n",
              "      <td>Must Not Be Null</td>\n",
              "      <td>Field cannot be Null</td>\n",
              "      <td>No Data in Field</td>\n",
              "      <td>NaN</td>\n",
              "      <td>Length([CellValue]) &gt; 0</td>\n",
              "      <td>Enter Required Data</td>\n",
              "      <td>case when IsNULL([CellValue],'XX') != 'XX' the...</td>\n",
              "      <td>dataset['CellValue'].isnull().map({True: 0, Fa...</td>\n",
              "    </tr>\n",
              "    <tr>\n",
              "      <th>6</th>\n",
              "      <td>1OrGreater</td>\n",
              "      <td>Must be 1 or greater</td>\n",
              "      <td>Number is 1 or greater</td>\n",
              "      <td>Number is below 1</td>\n",
              "      <td>NaN</td>\n",
              "      <td>ToNumber([CellValue])&gt;=1</td>\n",
              "      <td>Enter value 1 or greater</td>\n",
              "      <td>case when TRY_CAST([CellValue] as INT)&gt;=1 then...</td>\n",
              "      <td>NaN</td>\n",
              "    </tr>\n",
              "  </tbody>\n",
              "</table>\n",
              "</div>"
            ],
            "text/plain": [
              "ColumnID     KeyWord  ...                                      PythonFormula\n",
              "RowID                 ...                                                   \n",
              "2               Date  ...      np.where(dataset['CellType'] == 'Date', 1, 0)\n",
              "3             Number  ...    np.where(dataset['CellType'] == 'Number', 1, 0)\n",
              "4               Text  ...      np.where(dataset['CellType'] == 'Text', 1, 0)\n",
              "5            NotNull  ...  dataset['CellValue'].isnull().map({True: 0, Fa...\n",
              "6         1OrGreater  ...                                                NaN\n",
              "\n",
              "[5 rows x 9 columns]"
            ]
          },
          "metadata": {
            "tags": []
          },
          "execution_count": 102
        }
      ]
    },
    {
      "cell_type": "code",
      "metadata": {
        "colab": {
          "base_uri": "https://localhost:8080/",
          "height": 406
        },
        "id": "Vpb-DPKbV_nB",
        "outputId": "d350d6e7-7540-47a3-9e7f-d8b7e95265a2"
      },
      "source": [
        "DatasetCells = pd.DataFrame()\n",
        "DatasetCells = fullcelldb[(fullcelldb['SheetName'] == 'DataSet')].copy()\n",
        "DatasetCells"
      ],
      "execution_count": 103,
      "outputs": [
        {
          "output_type": "execute_result",
          "data": {
            "text/html": [
              "<div>\n",
              "<style scoped>\n",
              "    .dataframe tbody tr th:only-of-type {\n",
              "        vertical-align: middle;\n",
              "    }\n",
              "\n",
              "    .dataframe tbody tr th {\n",
              "        vertical-align: top;\n",
              "    }\n",
              "\n",
              "    .dataframe thead th {\n",
              "        text-align: right;\n",
              "    }\n",
              "</style>\n",
              "<table border=\"1\" class=\"dataframe\">\n",
              "  <thead>\n",
              "    <tr style=\"text-align: right;\">\n",
              "      <th></th>\n",
              "      <th>RowID</th>\n",
              "      <th>ColumnID</th>\n",
              "      <th>CellValue</th>\n",
              "      <th>CellType</th>\n",
              "      <th>FileName</th>\n",
              "      <th>SheetName</th>\n",
              "    </tr>\n",
              "  </thead>\n",
              "  <tbody>\n",
              "    <tr>\n",
              "      <th>549</th>\n",
              "      <td>1</td>\n",
              "      <td>1</td>\n",
              "      <td>DataSet</td>\n",
              "      <td>Text</td>\n",
              "      <td>R20210129163628604705</td>\n",
              "      <td>DataSet</td>\n",
              "    </tr>\n",
              "    <tr>\n",
              "      <th>550</th>\n",
              "      <td>2</td>\n",
              "      <td>1</td>\n",
              "      <td>Ages</td>\n",
              "      <td>Text</td>\n",
              "      <td>R20210129163628604705</td>\n",
              "      <td>DataSet</td>\n",
              "    </tr>\n",
              "    <tr>\n",
              "      <th>551</th>\n",
              "      <td>3</td>\n",
              "      <td>1</td>\n",
              "      <td>Ages</td>\n",
              "      <td>Text</td>\n",
              "      <td>R20210129163628604705</td>\n",
              "      <td>DataSet</td>\n",
              "    </tr>\n",
              "    <tr>\n",
              "      <th>552</th>\n",
              "      <td>4</td>\n",
              "      <td>1</td>\n",
              "      <td>Genders</td>\n",
              "      <td>Text</td>\n",
              "      <td>R20210129163628604705</td>\n",
              "      <td>DataSet</td>\n",
              "    </tr>\n",
              "    <tr>\n",
              "      <th>553</th>\n",
              "      <td>5</td>\n",
              "      <td>1</td>\n",
              "      <td>Genders</td>\n",
              "      <td>Text</td>\n",
              "      <td>R20210129163628604705</td>\n",
              "      <td>DataSet</td>\n",
              "    </tr>\n",
              "    <tr>\n",
              "      <th>...</th>\n",
              "      <td>...</td>\n",
              "      <td>...</td>\n",
              "      <td>...</td>\n",
              "      <td>...</td>\n",
              "      <td>...</td>\n",
              "      <td>...</td>\n",
              "    </tr>\n",
              "    <tr>\n",
              "      <th>704</th>\n",
              "      <td>12</td>\n",
              "      <td>10</td>\n",
              "      <td>NaN</td>\n",
              "      <td>Text</td>\n",
              "      <td>R20210129163628604705</td>\n",
              "      <td>DataSet</td>\n",
              "    </tr>\n",
              "    <tr>\n",
              "      <th>705</th>\n",
              "      <td>13</td>\n",
              "      <td>10</td>\n",
              "      <td>NaN</td>\n",
              "      <td>Text</td>\n",
              "      <td>R20210129163628604705</td>\n",
              "      <td>DataSet</td>\n",
              "    </tr>\n",
              "    <tr>\n",
              "      <th>706</th>\n",
              "      <td>14</td>\n",
              "      <td>10</td>\n",
              "      <td>NaN</td>\n",
              "      <td>Text</td>\n",
              "      <td>R20210129163628604705</td>\n",
              "      <td>DataSet</td>\n",
              "    </tr>\n",
              "    <tr>\n",
              "      <th>707</th>\n",
              "      <td>15</td>\n",
              "      <td>10</td>\n",
              "      <td>NaN</td>\n",
              "      <td>Text</td>\n",
              "      <td>R20210129163628604705</td>\n",
              "      <td>DataSet</td>\n",
              "    </tr>\n",
              "    <tr>\n",
              "      <th>708</th>\n",
              "      <td>16</td>\n",
              "      <td>10</td>\n",
              "      <td>NaN</td>\n",
              "      <td>Text</td>\n",
              "      <td>R20210129163628604705</td>\n",
              "      <td>DataSet</td>\n",
              "    </tr>\n",
              "  </tbody>\n",
              "</table>\n",
              "<p>160 rows × 6 columns</p>\n",
              "</div>"
            ],
            "text/plain": [
              "     RowID  ColumnID CellValue CellType               FileName SheetName\n",
              "549      1         1   DataSet     Text  R20210129163628604705   DataSet\n",
              "550      2         1      Ages     Text  R20210129163628604705   DataSet\n",
              "551      3         1      Ages     Text  R20210129163628604705   DataSet\n",
              "552      4         1   Genders     Text  R20210129163628604705   DataSet\n",
              "553      5         1   Genders     Text  R20210129163628604705   DataSet\n",
              "..     ...       ...       ...      ...                    ...       ...\n",
              "704     12        10       NaN     Text  R20210129163628604705   DataSet\n",
              "705     13        10       NaN     Text  R20210129163628604705   DataSet\n",
              "706     14        10       NaN     Text  R20210129163628604705   DataSet\n",
              "707     15        10       NaN     Text  R20210129163628604705   DataSet\n",
              "708     16        10       NaN     Text  R20210129163628604705   DataSet\n",
              "\n",
              "[160 rows x 6 columns]"
            ]
          },
          "metadata": {
            "tags": []
          },
          "execution_count": 103
        }
      ]
    },
    {
      "cell_type": "code",
      "metadata": {
        "colab": {
          "base_uri": "https://localhost:8080/",
          "height": 283
        },
        "id": "3TnVFs_9WCqc",
        "outputId": "d009e1bb-7b33-447d-d4b0-d9e545fa6670"
      },
      "source": [
        "Datasets = pd.DataFrame()\n",
        "Datasets = DatasetCells.pivot_table(index = ['RowID'], values = 'CellValue',columns = 'ColumnID', aggfunc = 'max')\n",
        "ColumnHeadings = Datasets.iloc[0]\n",
        "ColumnHeadingsList = list(ColumnHeadings)\n",
        "print(ColumnHeadingsList)\n",
        "ColumnHeadingsListTuple = enumerate(ColumnHeadingsList,start=1)\n",
        "ColumnHeadingsListDict = dict(ColumnHeadingsListTuple)\n",
        "print(ColumnHeadingsListDict)\n",
        "Datasets = Datasets.rename(columns=ColumnHeadingsListDict)\n",
        "Datasets = Datasets.drop([1])\n",
        "Datasets.head()"
      ],
      "execution_count": 104,
      "outputs": [
        {
          "output_type": "stream",
          "text": [
            "['DataSet', 'SheetName', 'ReferenceTextStart', 'ReferenceTextEnd', 'RowFromReferenceText', 'ColumnFromReferenceText', 'FieldPosition', 'FieldID', 'FieldDescription', 'TableOrientation']\n",
            "{1: 'DataSet', 2: 'SheetName', 3: 'ReferenceTextStart', 4: 'ReferenceTextEnd', 5: 'RowFromReferenceText', 6: 'ColumnFromReferenceText', 7: 'FieldPosition', 8: 'FieldID', 9: 'FieldDescription', 10: 'TableOrientation'}\n"
          ],
          "name": "stdout"
        },
        {
          "output_type": "execute_result",
          "data": {
            "text/html": [
              "<div>\n",
              "<style scoped>\n",
              "    .dataframe tbody tr th:only-of-type {\n",
              "        vertical-align: middle;\n",
              "    }\n",
              "\n",
              "    .dataframe tbody tr th {\n",
              "        vertical-align: top;\n",
              "    }\n",
              "\n",
              "    .dataframe thead th {\n",
              "        text-align: right;\n",
              "    }\n",
              "</style>\n",
              "<table border=\"1\" class=\"dataframe\">\n",
              "  <thead>\n",
              "    <tr style=\"text-align: right;\">\n",
              "      <th>ColumnID</th>\n",
              "      <th>DataSet</th>\n",
              "      <th>SheetName</th>\n",
              "      <th>ReferenceTextStart</th>\n",
              "      <th>ReferenceTextEnd</th>\n",
              "      <th>RowFromReferenceText</th>\n",
              "      <th>ColumnFromReferenceText</th>\n",
              "      <th>FieldPosition</th>\n",
              "      <th>FieldID</th>\n",
              "      <th>FieldDescription</th>\n",
              "      <th>TableOrientation</th>\n",
              "    </tr>\n",
              "    <tr>\n",
              "      <th>RowID</th>\n",
              "      <th></th>\n",
              "      <th></th>\n",
              "      <th></th>\n",
              "      <th></th>\n",
              "      <th></th>\n",
              "      <th></th>\n",
              "      <th></th>\n",
              "      <th></th>\n",
              "      <th></th>\n",
              "      <th></th>\n",
              "    </tr>\n",
              "  </thead>\n",
              "  <tbody>\n",
              "    <tr>\n",
              "      <th>2</th>\n",
              "      <td>Ages</td>\n",
              "      <td>AgeGenderSheet</td>\n",
              "      <td>Age Table</td>\n",
              "      <td>Gender Table</td>\n",
              "      <td>2</td>\n",
              "      <td>1</td>\n",
              "      <td>1</td>\n",
              "      <td>Name</td>\n",
              "      <td>Name</td>\n",
              "      <td>Down</td>\n",
              "    </tr>\n",
              "    <tr>\n",
              "      <th>3</th>\n",
              "      <td>Ages</td>\n",
              "      <td>AgeGenderSheet</td>\n",
              "      <td>Age Table</td>\n",
              "      <td>Gender Table</td>\n",
              "      <td>2</td>\n",
              "      <td>2</td>\n",
              "      <td>2</td>\n",
              "      <td>Age</td>\n",
              "      <td>Age</td>\n",
              "      <td>Down</td>\n",
              "    </tr>\n",
              "    <tr>\n",
              "      <th>4</th>\n",
              "      <td>Genders</td>\n",
              "      <td>AgeGenderSheet</td>\n",
              "      <td>Gender Table</td>\n",
              "      <td>DOB Table</td>\n",
              "      <td>2</td>\n",
              "      <td>0</td>\n",
              "      <td>1</td>\n",
              "      <td>Name</td>\n",
              "      <td>Name</td>\n",
              "      <td>Down</td>\n",
              "    </tr>\n",
              "    <tr>\n",
              "      <th>5</th>\n",
              "      <td>Genders</td>\n",
              "      <td>AgeGenderSheet</td>\n",
              "      <td>Gender Table</td>\n",
              "      <td>DOB Table</td>\n",
              "      <td>2</td>\n",
              "      <td>1</td>\n",
              "      <td>2</td>\n",
              "      <td>Gender</td>\n",
              "      <td>Gender</td>\n",
              "      <td>Down</td>\n",
              "    </tr>\n",
              "    <tr>\n",
              "      <th>6</th>\n",
              "      <td>DoB</td>\n",
              "      <td>AgeGenderSheet</td>\n",
              "      <td>DOB Table</td>\n",
              "      <td>NaN</td>\n",
              "      <td>2</td>\n",
              "      <td>0</td>\n",
              "      <td>1</td>\n",
              "      <td>Name</td>\n",
              "      <td>Name</td>\n",
              "      <td>Down</td>\n",
              "    </tr>\n",
              "  </tbody>\n",
              "</table>\n",
              "</div>"
            ],
            "text/plain": [
              "ColumnID  DataSet       SheetName  ... FieldDescription TableOrientation\n",
              "RowID                              ...                                  \n",
              "2            Ages  AgeGenderSheet  ...             Name             Down\n",
              "3            Ages  AgeGenderSheet  ...              Age             Down\n",
              "4         Genders  AgeGenderSheet  ...             Name             Down\n",
              "5         Genders  AgeGenderSheet  ...           Gender             Down\n",
              "6             DoB  AgeGenderSheet  ...             Name             Down\n",
              "\n",
              "[5 rows x 10 columns]"
            ]
          },
          "metadata": {
            "tags": []
          },
          "execution_count": 104
        }
      ]
    },
    {
      "cell_type": "code",
      "metadata": {
        "id": "qKr38LQxP-19"
      },
      "source": [
        "\n",
        "#palette = pd.merge(palette, PaletteDF, on=['KeyWord'],how='left')\n"
      ],
      "execution_count": 105,
      "outputs": []
    },
    {
      "cell_type": "code",
      "metadata": {
        "colab": {
          "base_uri": "https://localhost:8080/",
          "height": 217
        },
        "id": "mzEGFcjvLUiR",
        "outputId": "5091b46c-4a96-4970-f6d2-300762106bd3"
      },
      "source": [
        "Tests2Do = pd.merge(Datasets, Rules2Apply, on=['FieldID', 'DataSet'])\n",
        "Tests2Do['KeyWord'] = Tests2Do.apply(lambda x: x['FormulaKeyWord'] if x['FormulaKeyWord']=='PickList' else x['KeyWord'], axis=1)\n",
        "Tests2Do.head(5)"
      ],
      "execution_count": 106,
      "outputs": [
        {
          "output_type": "execute_result",
          "data": {
            "text/html": [
              "<div>\n",
              "<style scoped>\n",
              "    .dataframe tbody tr th:only-of-type {\n",
              "        vertical-align: middle;\n",
              "    }\n",
              "\n",
              "    .dataframe tbody tr th {\n",
              "        vertical-align: top;\n",
              "    }\n",
              "\n",
              "    .dataframe thead th {\n",
              "        text-align: right;\n",
              "    }\n",
              "</style>\n",
              "<table border=\"1\" class=\"dataframe\">\n",
              "  <thead>\n",
              "    <tr style=\"text-align: right;\">\n",
              "      <th></th>\n",
              "      <th>DataSet</th>\n",
              "      <th>SheetName</th>\n",
              "      <th>ReferenceTextStart</th>\n",
              "      <th>ReferenceTextEnd</th>\n",
              "      <th>RowFromReferenceText</th>\n",
              "      <th>ColumnFromReferenceText</th>\n",
              "      <th>FieldPosition</th>\n",
              "      <th>FieldID</th>\n",
              "      <th>FieldDescription</th>\n",
              "      <th>TableOrientation</th>\n",
              "      <th>RuleID</th>\n",
              "      <th>RuleType</th>\n",
              "      <th>KeyWord</th>\n",
              "      <th>FormulaKeyWord</th>\n",
              "      <th>List</th>\n",
              "    </tr>\n",
              "  </thead>\n",
              "  <tbody>\n",
              "    <tr>\n",
              "      <th>0</th>\n",
              "      <td>Ages</td>\n",
              "      <td>AgeGenderSheet</td>\n",
              "      <td>Age Table</td>\n",
              "      <td>Gender Table</td>\n",
              "      <td>2</td>\n",
              "      <td>1</td>\n",
              "      <td>1</td>\n",
              "      <td>Name</td>\n",
              "      <td>Name</td>\n",
              "      <td>Down</td>\n",
              "      <td>1</td>\n",
              "      <td>DataType</td>\n",
              "      <td>Text</td>\n",
              "      <td>NaN</td>\n",
              "      <td>NaN</td>\n",
              "    </tr>\n",
              "    <tr>\n",
              "      <th>1</th>\n",
              "      <td>Ages</td>\n",
              "      <td>AgeGenderSheet</td>\n",
              "      <td>Age Table</td>\n",
              "      <td>Gender Table</td>\n",
              "      <td>2</td>\n",
              "      <td>1</td>\n",
              "      <td>1</td>\n",
              "      <td>Name</td>\n",
              "      <td>Name</td>\n",
              "      <td>Down</td>\n",
              "      <td>1</td>\n",
              "      <td>Null</td>\n",
              "      <td>Null</td>\n",
              "      <td>NaN</td>\n",
              "      <td>NaN</td>\n",
              "    </tr>\n",
              "    <tr>\n",
              "      <th>2</th>\n",
              "      <td>Ages</td>\n",
              "      <td>AgeGenderSheet</td>\n",
              "      <td>Age Table</td>\n",
              "      <td>Gender Table</td>\n",
              "      <td>2</td>\n",
              "      <td>2</td>\n",
              "      <td>2</td>\n",
              "      <td>Age</td>\n",
              "      <td>Age</td>\n",
              "      <td>Down</td>\n",
              "      <td>2</td>\n",
              "      <td>DataType</td>\n",
              "      <td>Number</td>\n",
              "      <td>NaN</td>\n",
              "      <td>NaN</td>\n",
              "    </tr>\n",
              "    <tr>\n",
              "      <th>3</th>\n",
              "      <td>Ages</td>\n",
              "      <td>AgeGenderSheet</td>\n",
              "      <td>Age Table</td>\n",
              "      <td>Gender Table</td>\n",
              "      <td>2</td>\n",
              "      <td>2</td>\n",
              "      <td>2</td>\n",
              "      <td>Age</td>\n",
              "      <td>Age</td>\n",
              "      <td>Down</td>\n",
              "      <td>2</td>\n",
              "      <td>Null</td>\n",
              "      <td>Null</td>\n",
              "      <td>NaN</td>\n",
              "      <td>NaN</td>\n",
              "    </tr>\n",
              "    <tr>\n",
              "      <th>4</th>\n",
              "      <td>Ages</td>\n",
              "      <td>AgeGenderSheet</td>\n",
              "      <td>Age Table</td>\n",
              "      <td>Gender Table</td>\n",
              "      <td>2</td>\n",
              "      <td>2</td>\n",
              "      <td>2</td>\n",
              "      <td>Age</td>\n",
              "      <td>Age</td>\n",
              "      <td>Down</td>\n",
              "      <td>2</td>\n",
              "      <td>Rule1</td>\n",
              "      <td>Positive</td>\n",
              "      <td>NaN</td>\n",
              "      <td>NaN</td>\n",
              "    </tr>\n",
              "  </tbody>\n",
              "</table>\n",
              "</div>"
            ],
            "text/plain": [
              "  DataSet       SheetName ReferenceTextStart  ...   KeyWord FormulaKeyWord List\n",
              "0    Ages  AgeGenderSheet          Age Table  ...      Text            NaN  NaN\n",
              "1    Ages  AgeGenderSheet          Age Table  ...      Null            NaN  NaN\n",
              "2    Ages  AgeGenderSheet          Age Table  ...    Number            NaN  NaN\n",
              "3    Ages  AgeGenderSheet          Age Table  ...      Null            NaN  NaN\n",
              "4    Ages  AgeGenderSheet          Age Table  ...  Positive            NaN  NaN\n",
              "\n",
              "[5 rows x 15 columns]"
            ]
          },
          "metadata": {
            "tags": []
          },
          "execution_count": 106
        }
      ]
    },
    {
      "cell_type": "code",
      "metadata": {
        "id": "agn-y_XpjZQM",
        "scrolled": false,
        "colab": {
          "base_uri": "https://localhost:8080/",
          "height": 384
        },
        "outputId": "52133780-df7a-4999-e57b-ba3376382b31"
      },
      "source": [
        "Tests2DoWithFormula = pd.merge(Tests2Do, Palette, on=['KeyWord'])\n",
        "Tests2DoWithFormula.head()"
      ],
      "execution_count": 107,
      "outputs": [
        {
          "output_type": "execute_result",
          "data": {
            "text/html": [
              "<div>\n",
              "<style scoped>\n",
              "    .dataframe tbody tr th:only-of-type {\n",
              "        vertical-align: middle;\n",
              "    }\n",
              "\n",
              "    .dataframe tbody tr th {\n",
              "        vertical-align: top;\n",
              "    }\n",
              "\n",
              "    .dataframe thead th {\n",
              "        text-align: right;\n",
              "    }\n",
              "</style>\n",
              "<table border=\"1\" class=\"dataframe\">\n",
              "  <thead>\n",
              "    <tr style=\"text-align: right;\">\n",
              "      <th></th>\n",
              "      <th>DataSet</th>\n",
              "      <th>SheetName</th>\n",
              "      <th>ReferenceTextStart</th>\n",
              "      <th>ReferenceTextEnd</th>\n",
              "      <th>RowFromReferenceText</th>\n",
              "      <th>ColumnFromReferenceText</th>\n",
              "      <th>FieldPosition</th>\n",
              "      <th>FieldID</th>\n",
              "      <th>FieldDescription</th>\n",
              "      <th>TableOrientation</th>\n",
              "      <th>RuleID</th>\n",
              "      <th>RuleType</th>\n",
              "      <th>KeyWord</th>\n",
              "      <th>FormulaKeyWord</th>\n",
              "      <th>List</th>\n",
              "      <th>Rule</th>\n",
              "      <th>CheckPerformed</th>\n",
              "      <th>ErrorMessage</th>\n",
              "      <th>AlteryxDataType</th>\n",
              "      <th>AlteryxFormula</th>\n",
              "      <th>RemedialAction</th>\n",
              "      <th>SQLFormula</th>\n",
              "      <th>PythonFormula</th>\n",
              "    </tr>\n",
              "  </thead>\n",
              "  <tbody>\n",
              "    <tr>\n",
              "      <th>0</th>\n",
              "      <td>Ages</td>\n",
              "      <td>AgeGenderSheet</td>\n",
              "      <td>Age Table</td>\n",
              "      <td>Gender Table</td>\n",
              "      <td>2</td>\n",
              "      <td>1</td>\n",
              "      <td>1</td>\n",
              "      <td>Name</td>\n",
              "      <td>Name</td>\n",
              "      <td>Down</td>\n",
              "      <td>1</td>\n",
              "      <td>DataType</td>\n",
              "      <td>Text</td>\n",
              "      <td>NaN</td>\n",
              "      <td>NaN</td>\n",
              "      <td>Must Be Text</td>\n",
              "      <td>Data Type is Text</td>\n",
              "      <td>Text Not Entered</td>\n",
              "      <td>V_String</td>\n",
              "      <td>Length([CellValue]) &gt; 0 and Contains([CellType...</td>\n",
              "      <td>Enter as Text</td>\n",
              "      <td>case when IsNULL([CellValue],'XX') = 'XX' then...</td>\n",
              "      <td>np.where(dataset['CellType'] == 'Text', 1, 0)</td>\n",
              "    </tr>\n",
              "    <tr>\n",
              "      <th>1</th>\n",
              "      <td>Genders</td>\n",
              "      <td>AgeGenderSheet</td>\n",
              "      <td>Gender Table</td>\n",
              "      <td>DOB Table</td>\n",
              "      <td>2</td>\n",
              "      <td>0</td>\n",
              "      <td>1</td>\n",
              "      <td>Name</td>\n",
              "      <td>Name</td>\n",
              "      <td>Down</td>\n",
              "      <td>3</td>\n",
              "      <td>DataType</td>\n",
              "      <td>Text</td>\n",
              "      <td>NaN</td>\n",
              "      <td>NaN</td>\n",
              "      <td>Must Be Text</td>\n",
              "      <td>Data Type is Text</td>\n",
              "      <td>Text Not Entered</td>\n",
              "      <td>V_String</td>\n",
              "      <td>Length([CellValue]) &gt; 0 and Contains([CellType...</td>\n",
              "      <td>Enter as Text</td>\n",
              "      <td>case when IsNULL([CellValue],'XX') = 'XX' then...</td>\n",
              "      <td>np.where(dataset['CellType'] == 'Text', 1, 0)</td>\n",
              "    </tr>\n",
              "    <tr>\n",
              "      <th>2</th>\n",
              "      <td>Genders</td>\n",
              "      <td>AgeGenderSheet</td>\n",
              "      <td>Gender Table</td>\n",
              "      <td>DOB Table</td>\n",
              "      <td>2</td>\n",
              "      <td>1</td>\n",
              "      <td>2</td>\n",
              "      <td>Gender</td>\n",
              "      <td>Gender</td>\n",
              "      <td>Down</td>\n",
              "      <td>4</td>\n",
              "      <td>DataType</td>\n",
              "      <td>Text</td>\n",
              "      <td>NaN</td>\n",
              "      <td>NaN</td>\n",
              "      <td>Must Be Text</td>\n",
              "      <td>Data Type is Text</td>\n",
              "      <td>Text Not Entered</td>\n",
              "      <td>V_String</td>\n",
              "      <td>Length([CellValue]) &gt; 0 and Contains([CellType...</td>\n",
              "      <td>Enter as Text</td>\n",
              "      <td>case when IsNULL([CellValue],'XX') = 'XX' then...</td>\n",
              "      <td>np.where(dataset['CellType'] == 'Text', 1, 0)</td>\n",
              "    </tr>\n",
              "    <tr>\n",
              "      <th>3</th>\n",
              "      <td>DoB</td>\n",
              "      <td>AgeGenderSheet</td>\n",
              "      <td>DOB Table</td>\n",
              "      <td>NaN</td>\n",
              "      <td>2</td>\n",
              "      <td>0</td>\n",
              "      <td>1</td>\n",
              "      <td>Name</td>\n",
              "      <td>Name</td>\n",
              "      <td>Down</td>\n",
              "      <td>5</td>\n",
              "      <td>DataType</td>\n",
              "      <td>Text</td>\n",
              "      <td>NaN</td>\n",
              "      <td>NaN</td>\n",
              "      <td>Must Be Text</td>\n",
              "      <td>Data Type is Text</td>\n",
              "      <td>Text Not Entered</td>\n",
              "      <td>V_String</td>\n",
              "      <td>Length([CellValue]) &gt; 0 and Contains([CellType...</td>\n",
              "      <td>Enter as Text</td>\n",
              "      <td>case when IsNULL([CellValue],'XX') = 'XX' then...</td>\n",
              "      <td>np.where(dataset['CellType'] == 'Text', 1, 0)</td>\n",
              "    </tr>\n",
              "    <tr>\n",
              "      <th>4</th>\n",
              "      <td>MaritalStatus</td>\n",
              "      <td>MaritalDepartmentSheet</td>\n",
              "      <td>Marital Status Table</td>\n",
              "      <td>NaN</td>\n",
              "      <td>2</td>\n",
              "      <td>0</td>\n",
              "      <td>1</td>\n",
              "      <td>Name</td>\n",
              "      <td>Name</td>\n",
              "      <td>NaN</td>\n",
              "      <td>7</td>\n",
              "      <td>DataType</td>\n",
              "      <td>Text</td>\n",
              "      <td>NaN</td>\n",
              "      <td>NaN</td>\n",
              "      <td>Must Be Text</td>\n",
              "      <td>Data Type is Text</td>\n",
              "      <td>Text Not Entered</td>\n",
              "      <td>V_String</td>\n",
              "      <td>Length([CellValue]) &gt; 0 and Contains([CellType...</td>\n",
              "      <td>Enter as Text</td>\n",
              "      <td>case when IsNULL([CellValue],'XX') = 'XX' then...</td>\n",
              "      <td>np.where(dataset['CellType'] == 'Text', 1, 0)</td>\n",
              "    </tr>\n",
              "  </tbody>\n",
              "</table>\n",
              "</div>"
            ],
            "text/plain": [
              "         DataSet  ...                                  PythonFormula\n",
              "0           Ages  ...  np.where(dataset['CellType'] == 'Text', 1, 0)\n",
              "1        Genders  ...  np.where(dataset['CellType'] == 'Text', 1, 0)\n",
              "2        Genders  ...  np.where(dataset['CellType'] == 'Text', 1, 0)\n",
              "3            DoB  ...  np.where(dataset['CellType'] == 'Text', 1, 0)\n",
              "4  MaritalStatus  ...  np.where(dataset['CellType'] == 'Text', 1, 0)\n",
              "\n",
              "[5 rows x 23 columns]"
            ]
          },
          "metadata": {
            "tags": []
          },
          "execution_count": 107
        }
      ]
    },
    {
      "cell_type": "markdown",
      "metadata": {
        "id": "qA4u066Zg0Mk"
      },
      "source": [
        "# Get Start Anchor Cells"
      ]
    },
    {
      "cell_type": "markdown",
      "metadata": {
        "id": "c-Q7nZsaNliz"
      },
      "source": [
        "Start Anchors are where tables are mapped from, every dataset in the spreadsheet must be anchored to a uniquely identifiable cell in a particular sheet."
      ]
    },
    {
      "cell_type": "code",
      "metadata": {
        "id": "yzZcf-vY9wpZ",
        "colab": {
          "base_uri": "https://localhost:8080/",
          "height": 227
        },
        "outputId": "828b31d8-a3b8-422c-bb33-1291895a89b7"
      },
      "source": [
        "startanchors = pd.DataFrame()\n",
        "startanchors = pd.DataFrame(Datasets, columns=['DataSet', 'SheetName', 'ReferenceTextStart'])\n",
        "startanchors = startanchors.rename(columns={\"ReferenceTextStart\": \"CellValue\"})\n",
        "startanchors = startanchors.drop_duplicates()\n",
        "startanchors.head()\n"
      ],
      "execution_count": 108,
      "outputs": [
        {
          "output_type": "execute_result",
          "data": {
            "text/html": [
              "<div>\n",
              "<style scoped>\n",
              "    .dataframe tbody tr th:only-of-type {\n",
              "        vertical-align: middle;\n",
              "    }\n",
              "\n",
              "    .dataframe tbody tr th {\n",
              "        vertical-align: top;\n",
              "    }\n",
              "\n",
              "    .dataframe thead th {\n",
              "        text-align: right;\n",
              "    }\n",
              "</style>\n",
              "<table border=\"1\" class=\"dataframe\">\n",
              "  <thead>\n",
              "    <tr style=\"text-align: right;\">\n",
              "      <th></th>\n",
              "      <th>DataSet</th>\n",
              "      <th>SheetName</th>\n",
              "      <th>CellValue</th>\n",
              "    </tr>\n",
              "    <tr>\n",
              "      <th>RowID</th>\n",
              "      <th></th>\n",
              "      <th></th>\n",
              "      <th></th>\n",
              "    </tr>\n",
              "  </thead>\n",
              "  <tbody>\n",
              "    <tr>\n",
              "      <th>2</th>\n",
              "      <td>Ages</td>\n",
              "      <td>AgeGenderSheet</td>\n",
              "      <td>Age Table</td>\n",
              "    </tr>\n",
              "    <tr>\n",
              "      <th>4</th>\n",
              "      <td>Genders</td>\n",
              "      <td>AgeGenderSheet</td>\n",
              "      <td>Gender Table</td>\n",
              "    </tr>\n",
              "    <tr>\n",
              "      <th>6</th>\n",
              "      <td>DoB</td>\n",
              "      <td>AgeGenderSheet</td>\n",
              "      <td>DOB Table</td>\n",
              "    </tr>\n",
              "    <tr>\n",
              "      <th>8</th>\n",
              "      <td>MaritalStatus</td>\n",
              "      <td>MaritalDepartmentSheet</td>\n",
              "      <td>Marital Status Table</td>\n",
              "    </tr>\n",
              "    <tr>\n",
              "      <th>10</th>\n",
              "      <td>Department</td>\n",
              "      <td>MaritalDepartmentSheet</td>\n",
              "      <td>Department Table</td>\n",
              "    </tr>\n",
              "  </tbody>\n",
              "</table>\n",
              "</div>"
            ],
            "text/plain": [
              "             DataSet               SheetName             CellValue\n",
              "RowID                                                             \n",
              "2               Ages          AgeGenderSheet             Age Table\n",
              "4            Genders          AgeGenderSheet          Gender Table\n",
              "6                DoB          AgeGenderSheet             DOB Table\n",
              "8      MaritalStatus  MaritalDepartmentSheet  Marital Status Table\n",
              "10        Department  MaritalDepartmentSheet      Department Table"
            ]
          },
          "metadata": {
            "tags": []
          },
          "execution_count": 108
        }
      ]
    },
    {
      "cell_type": "markdown",
      "metadata": {
        "id": "2sZQyqiuhDZc"
      },
      "source": [
        "# Get All End Anchor Cells"
      ]
    },
    {
      "cell_type": "markdown",
      "metadata": {
        "id": "EEcTX6mKN6eA"
      },
      "source": [
        "End anchors are where a dataset finishes. Probably at the next Start Anchor.\n",
        "This does mean that blank rows are validated and one needs to filter these out later. "
      ]
    },
    {
      "cell_type": "code",
      "metadata": {
        "id": "YcNpmVwGDvEm",
        "colab": {
          "base_uri": "https://localhost:8080/",
          "height": 227
        },
        "outputId": "a545e105-f576-4cc5-849d-67664b893a1a"
      },
      "source": [
        "endanchors = pd.DataFrame()\n",
        "endanchors = pd.DataFrame(Datasets, columns=['DataSet', 'SheetName', 'ReferenceTextEnd'])\n",
        "endanchors = endanchors.rename(columns={\"ReferenceTextEnd\": \"CellValue\"})\n",
        "endanchors = endanchors.drop_duplicates()\n",
        "endanchors.head()"
      ],
      "execution_count": 109,
      "outputs": [
        {
          "output_type": "execute_result",
          "data": {
            "text/html": [
              "<div>\n",
              "<style scoped>\n",
              "    .dataframe tbody tr th:only-of-type {\n",
              "        vertical-align: middle;\n",
              "    }\n",
              "\n",
              "    .dataframe tbody tr th {\n",
              "        vertical-align: top;\n",
              "    }\n",
              "\n",
              "    .dataframe thead th {\n",
              "        text-align: right;\n",
              "    }\n",
              "</style>\n",
              "<table border=\"1\" class=\"dataframe\">\n",
              "  <thead>\n",
              "    <tr style=\"text-align: right;\">\n",
              "      <th></th>\n",
              "      <th>DataSet</th>\n",
              "      <th>SheetName</th>\n",
              "      <th>CellValue</th>\n",
              "    </tr>\n",
              "    <tr>\n",
              "      <th>RowID</th>\n",
              "      <th></th>\n",
              "      <th></th>\n",
              "      <th></th>\n",
              "    </tr>\n",
              "  </thead>\n",
              "  <tbody>\n",
              "    <tr>\n",
              "      <th>2</th>\n",
              "      <td>Ages</td>\n",
              "      <td>AgeGenderSheet</td>\n",
              "      <td>Gender Table</td>\n",
              "    </tr>\n",
              "    <tr>\n",
              "      <th>4</th>\n",
              "      <td>Genders</td>\n",
              "      <td>AgeGenderSheet</td>\n",
              "      <td>DOB Table</td>\n",
              "    </tr>\n",
              "    <tr>\n",
              "      <th>6</th>\n",
              "      <td>DoB</td>\n",
              "      <td>AgeGenderSheet</td>\n",
              "      <td>NaN</td>\n",
              "    </tr>\n",
              "    <tr>\n",
              "      <th>8</th>\n",
              "      <td>MaritalStatus</td>\n",
              "      <td>MaritalDepartmentSheet</td>\n",
              "      <td>NaN</td>\n",
              "    </tr>\n",
              "    <tr>\n",
              "      <th>10</th>\n",
              "      <td>Department</td>\n",
              "      <td>MaritalDepartmentSheet</td>\n",
              "      <td>NaN</td>\n",
              "    </tr>\n",
              "  </tbody>\n",
              "</table>\n",
              "</div>"
            ],
            "text/plain": [
              "             DataSet               SheetName     CellValue\n",
              "RowID                                                     \n",
              "2               Ages          AgeGenderSheet  Gender Table\n",
              "4            Genders          AgeGenderSheet     DOB Table\n",
              "6                DoB          AgeGenderSheet           NaN\n",
              "8      MaritalStatus  MaritalDepartmentSheet           NaN\n",
              "10        Department  MaritalDepartmentSheet           NaN"
            ]
          },
          "metadata": {
            "tags": []
          },
          "execution_count": 109
        }
      ]
    },
    {
      "cell_type": "markdown",
      "metadata": {
        "id": "0if3QQALhaOq"
      },
      "source": [
        "# Find Start Anchors"
      ]
    },
    {
      "cell_type": "markdown",
      "metadata": {
        "id": "tkT3RUFuOVh-"
      },
      "source": [
        "Now we look for the start and finish anchor cells for each dataset."
      ]
    },
    {
      "cell_type": "code",
      "metadata": {
        "id": "_ZhaXHgY9732",
        "colab": {
          "base_uri": "https://localhost:8080/",
          "height": 197
        },
        "outputId": "b21addc6-bcd0-432c-fd32-77ac87be3a1d"
      },
      "source": [
        "findstartanchors = pd.DataFrame()\n",
        "findstartanchors = pd.merge(startanchors, fullcelldb, on=['SheetName', 'CellValue'])\n",
        "findstartanchors = findstartanchors.rename(columns={\"RowID\": \"AnchorRow\", \"ColumnID\": \"AnchorColumn\"})\n",
        "findstartanchors = pd.DataFrame(findstartanchors, columns=['DataSet', 'SheetName', 'AnchorRow', 'AnchorColumn'])\n",
        "findstartanchors.head()"
      ],
      "execution_count": 110,
      "outputs": [
        {
          "output_type": "execute_result",
          "data": {
            "text/html": [
              "<div>\n",
              "<style scoped>\n",
              "    .dataframe tbody tr th:only-of-type {\n",
              "        vertical-align: middle;\n",
              "    }\n",
              "\n",
              "    .dataframe tbody tr th {\n",
              "        vertical-align: top;\n",
              "    }\n",
              "\n",
              "    .dataframe thead th {\n",
              "        text-align: right;\n",
              "    }\n",
              "</style>\n",
              "<table border=\"1\" class=\"dataframe\">\n",
              "  <thead>\n",
              "    <tr style=\"text-align: right;\">\n",
              "      <th></th>\n",
              "      <th>DataSet</th>\n",
              "      <th>SheetName</th>\n",
              "      <th>AnchorRow</th>\n",
              "      <th>AnchorColumn</th>\n",
              "    </tr>\n",
              "  </thead>\n",
              "  <tbody>\n",
              "    <tr>\n",
              "      <th>0</th>\n",
              "      <td>Ages</td>\n",
              "      <td>AgeGenderSheet</td>\n",
              "      <td>5</td>\n",
              "      <td>2</td>\n",
              "    </tr>\n",
              "    <tr>\n",
              "      <th>1</th>\n",
              "      <td>Genders</td>\n",
              "      <td>AgeGenderSheet</td>\n",
              "      <td>14</td>\n",
              "      <td>4</td>\n",
              "    </tr>\n",
              "    <tr>\n",
              "      <th>2</th>\n",
              "      <td>DoB</td>\n",
              "      <td>AgeGenderSheet</td>\n",
              "      <td>23</td>\n",
              "      <td>1</td>\n",
              "    </tr>\n",
              "    <tr>\n",
              "      <th>3</th>\n",
              "      <td>MaritalStatus</td>\n",
              "      <td>MaritalDepartmentSheet</td>\n",
              "      <td>3</td>\n",
              "      <td>1</td>\n",
              "    </tr>\n",
              "    <tr>\n",
              "      <th>4</th>\n",
              "      <td>Department</td>\n",
              "      <td>MaritalDepartmentSheet</td>\n",
              "      <td>2</td>\n",
              "      <td>5</td>\n",
              "    </tr>\n",
              "  </tbody>\n",
              "</table>\n",
              "</div>"
            ],
            "text/plain": [
              "         DataSet               SheetName  AnchorRow  AnchorColumn\n",
              "0           Ages          AgeGenderSheet          5             2\n",
              "1        Genders          AgeGenderSheet         14             4\n",
              "2            DoB          AgeGenderSheet         23             1\n",
              "3  MaritalStatus  MaritalDepartmentSheet          3             1\n",
              "4     Department  MaritalDepartmentSheet          2             5"
            ]
          },
          "metadata": {
            "tags": []
          },
          "execution_count": 110
        }
      ]
    },
    {
      "cell_type": "markdown",
      "metadata": {
        "id": "gyZbtquUhhvL"
      },
      "source": [
        "# Find End Anchors"
      ]
    },
    {
      "cell_type": "markdown",
      "metadata": {
        "id": "-FAdPT1ZO2lC"
      },
      "source": [
        "Some datasets have no finish anchors as they are the last table in the sheet."
      ]
    },
    {
      "cell_type": "code",
      "metadata": {
        "id": "PhHBF2ChEC0f",
        "colab": {
          "base_uri": "https://localhost:8080/",
          "height": 107
        },
        "outputId": "e65abd3b-e2cd-400c-8021-4a243d9f80a5"
      },
      "source": [
        "findendanchors = pd.DataFrame()\n",
        "findendanchors = pd.merge(endanchors, fullcelldb, on=['SheetName', 'CellValue'])\n",
        "findendanchors = findendanchors.rename(columns={\"RowID\": \"EndRow\"})\n",
        "findendanchors = findendanchors[findendanchors.CellValue.notnull()]\n",
        "findendanchors = pd.DataFrame(findendanchors, columns=['DataSet', 'SheetName', 'EndRow'])\n",
        "findendanchors.head()\n"
      ],
      "execution_count": 111,
      "outputs": [
        {
          "output_type": "execute_result",
          "data": {
            "text/html": [
              "<div>\n",
              "<style scoped>\n",
              "    .dataframe tbody tr th:only-of-type {\n",
              "        vertical-align: middle;\n",
              "    }\n",
              "\n",
              "    .dataframe tbody tr th {\n",
              "        vertical-align: top;\n",
              "    }\n",
              "\n",
              "    .dataframe thead th {\n",
              "        text-align: right;\n",
              "    }\n",
              "</style>\n",
              "<table border=\"1\" class=\"dataframe\">\n",
              "  <thead>\n",
              "    <tr style=\"text-align: right;\">\n",
              "      <th></th>\n",
              "      <th>DataSet</th>\n",
              "      <th>SheetName</th>\n",
              "      <th>EndRow</th>\n",
              "    </tr>\n",
              "  </thead>\n",
              "  <tbody>\n",
              "    <tr>\n",
              "      <th>0</th>\n",
              "      <td>Ages</td>\n",
              "      <td>AgeGenderSheet</td>\n",
              "      <td>14</td>\n",
              "    </tr>\n",
              "    <tr>\n",
              "      <th>1</th>\n",
              "      <td>Genders</td>\n",
              "      <td>AgeGenderSheet</td>\n",
              "      <td>23</td>\n",
              "    </tr>\n",
              "  </tbody>\n",
              "</table>\n",
              "</div>"
            ],
            "text/plain": [
              "   DataSet       SheetName  EndRow\n",
              "0     Ages  AgeGenderSheet      14\n",
              "1  Genders  AgeGenderSheet      23"
            ]
          },
          "metadata": {
            "tags": []
          },
          "execution_count": 111
        }
      ]
    },
    {
      "cell_type": "markdown",
      "metadata": {
        "id": "8mbxThrshpF1"
      },
      "source": [
        "# Join Anchors Together"
      ]
    },
    {
      "cell_type": "markdown",
      "metadata": {
        "id": "eqq-eNb4PDY2"
      },
      "source": [
        "Join the anchors to allow them to be joined with the data table\n",
        "As stated above, some DataSets have NaN as the EndRow as there is no further data in the sheet"
      ]
    },
    {
      "cell_type": "code",
      "metadata": {
        "id": "6E8J3-NIEFx1",
        "colab": {
          "base_uri": "https://localhost:8080/",
          "height": 197
        },
        "outputId": "012e72be-0b45-4e75-d55e-231b0c3a8b8f"
      },
      "source": [
        "anchors = pd.DataFrame()\n",
        "anchors = pd.merge(findstartanchors, findendanchors, on=['DataSet', 'SheetName'], how='left')\n",
        "anchors.head()"
      ],
      "execution_count": 112,
      "outputs": [
        {
          "output_type": "execute_result",
          "data": {
            "text/html": [
              "<div>\n",
              "<style scoped>\n",
              "    .dataframe tbody tr th:only-of-type {\n",
              "        vertical-align: middle;\n",
              "    }\n",
              "\n",
              "    .dataframe tbody tr th {\n",
              "        vertical-align: top;\n",
              "    }\n",
              "\n",
              "    .dataframe thead th {\n",
              "        text-align: right;\n",
              "    }\n",
              "</style>\n",
              "<table border=\"1\" class=\"dataframe\">\n",
              "  <thead>\n",
              "    <tr style=\"text-align: right;\">\n",
              "      <th></th>\n",
              "      <th>DataSet</th>\n",
              "      <th>SheetName</th>\n",
              "      <th>AnchorRow</th>\n",
              "      <th>AnchorColumn</th>\n",
              "      <th>EndRow</th>\n",
              "    </tr>\n",
              "  </thead>\n",
              "  <tbody>\n",
              "    <tr>\n",
              "      <th>0</th>\n",
              "      <td>Ages</td>\n",
              "      <td>AgeGenderSheet</td>\n",
              "      <td>5</td>\n",
              "      <td>2</td>\n",
              "      <td>14.0</td>\n",
              "    </tr>\n",
              "    <tr>\n",
              "      <th>1</th>\n",
              "      <td>Genders</td>\n",
              "      <td>AgeGenderSheet</td>\n",
              "      <td>14</td>\n",
              "      <td>4</td>\n",
              "      <td>23.0</td>\n",
              "    </tr>\n",
              "    <tr>\n",
              "      <th>2</th>\n",
              "      <td>DoB</td>\n",
              "      <td>AgeGenderSheet</td>\n",
              "      <td>23</td>\n",
              "      <td>1</td>\n",
              "      <td>NaN</td>\n",
              "    </tr>\n",
              "    <tr>\n",
              "      <th>3</th>\n",
              "      <td>MaritalStatus</td>\n",
              "      <td>MaritalDepartmentSheet</td>\n",
              "      <td>3</td>\n",
              "      <td>1</td>\n",
              "      <td>NaN</td>\n",
              "    </tr>\n",
              "    <tr>\n",
              "      <th>4</th>\n",
              "      <td>Department</td>\n",
              "      <td>MaritalDepartmentSheet</td>\n",
              "      <td>2</td>\n",
              "      <td>5</td>\n",
              "      <td>NaN</td>\n",
              "    </tr>\n",
              "  </tbody>\n",
              "</table>\n",
              "</div>"
            ],
            "text/plain": [
              "         DataSet               SheetName  AnchorRow  AnchorColumn  EndRow\n",
              "0           Ages          AgeGenderSheet          5             2    14.0\n",
              "1        Genders          AgeGenderSheet         14             4    23.0\n",
              "2            DoB          AgeGenderSheet         23             1     NaN\n",
              "3  MaritalStatus  MaritalDepartmentSheet          3             1     NaN\n",
              "4     Department  MaritalDepartmentSheet          2             5     NaN"
            ]
          },
          "metadata": {
            "tags": []
          },
          "execution_count": 112
        }
      ]
    },
    {
      "cell_type": "markdown",
      "metadata": {
        "id": "caBieiT0hzvd"
      },
      "source": [
        "# Using Anchors and Dataset Create Map to Find Data"
      ]
    },
    {
      "cell_type": "markdown",
      "metadata": {
        "id": "kzxw4ev-Pu3m"
      },
      "source": [
        "The DataSet defines where the DataSets can be found from the Start Anchor Cells\n",
        "The following joins the found cells with the DataSet map."
      ]
    },
    {
      "cell_type": "code",
      "metadata": {
        "id": "operLLjLbI2m"
      },
      "source": [
        ""
      ],
      "execution_count": 112,
      "outputs": []
    },
    {
      "cell_type": "code",
      "metadata": {
        "id": "4ByjhNDIbJDY"
      },
      "source": [
        ""
      ],
      "execution_count": 112,
      "outputs": []
    },
    {
      "cell_type": "code",
      "metadata": {
        "id": "VuxWXfJWEW3p"
      },
      "source": [
        "datasetmap = pd.DataFrame()\n",
        "datasetmap = pd.merge(Datasets, anchors, on=['DataSet', 'SheetName'], how='left')\n",
        "datasetmap = pd.DataFrame(datasetmap,\n",
        "                          columns=['DataSet', 'SheetName', 'FieldID',\n",
        "                                   'AnchorRow', 'AnchorColumn','EndRow',\n",
        "                                   'RowFromReferenceText',\n",
        "                                   'ColumnFromReferenceText','FieldPosition'])\n"
      ],
      "execution_count": 113,
      "outputs": []
    },
    {
      "cell_type": "markdown",
      "metadata": {
        "id": "xZ8OPn7hiN9u"
      },
      "source": [
        "## Show Dataset Map"
      ]
    },
    {
      "cell_type": "code",
      "metadata": {
        "id": "2naN6CoOiLaS",
        "colab": {
          "base_uri": "https://localhost:8080/",
          "height": 197
        },
        "outputId": "347dbbae-1c0d-460d-800f-028b6b3384b4"
      },
      "source": [
        "datasetmap.head()"
      ],
      "execution_count": 114,
      "outputs": [
        {
          "output_type": "execute_result",
          "data": {
            "text/html": [
              "<div>\n",
              "<style scoped>\n",
              "    .dataframe tbody tr th:only-of-type {\n",
              "        vertical-align: middle;\n",
              "    }\n",
              "\n",
              "    .dataframe tbody tr th {\n",
              "        vertical-align: top;\n",
              "    }\n",
              "\n",
              "    .dataframe thead th {\n",
              "        text-align: right;\n",
              "    }\n",
              "</style>\n",
              "<table border=\"1\" class=\"dataframe\">\n",
              "  <thead>\n",
              "    <tr style=\"text-align: right;\">\n",
              "      <th></th>\n",
              "      <th>DataSet</th>\n",
              "      <th>SheetName</th>\n",
              "      <th>FieldID</th>\n",
              "      <th>AnchorRow</th>\n",
              "      <th>AnchorColumn</th>\n",
              "      <th>EndRow</th>\n",
              "      <th>RowFromReferenceText</th>\n",
              "      <th>ColumnFromReferenceText</th>\n",
              "      <th>FieldPosition</th>\n",
              "    </tr>\n",
              "  </thead>\n",
              "  <tbody>\n",
              "    <tr>\n",
              "      <th>0</th>\n",
              "      <td>Ages</td>\n",
              "      <td>AgeGenderSheet</td>\n",
              "      <td>Name</td>\n",
              "      <td>5</td>\n",
              "      <td>2</td>\n",
              "      <td>14.0</td>\n",
              "      <td>2</td>\n",
              "      <td>1</td>\n",
              "      <td>1</td>\n",
              "    </tr>\n",
              "    <tr>\n",
              "      <th>1</th>\n",
              "      <td>Ages</td>\n",
              "      <td>AgeGenderSheet</td>\n",
              "      <td>Age</td>\n",
              "      <td>5</td>\n",
              "      <td>2</td>\n",
              "      <td>14.0</td>\n",
              "      <td>2</td>\n",
              "      <td>2</td>\n",
              "      <td>2</td>\n",
              "    </tr>\n",
              "    <tr>\n",
              "      <th>2</th>\n",
              "      <td>Genders</td>\n",
              "      <td>AgeGenderSheet</td>\n",
              "      <td>Name</td>\n",
              "      <td>14</td>\n",
              "      <td>4</td>\n",
              "      <td>23.0</td>\n",
              "      <td>2</td>\n",
              "      <td>0</td>\n",
              "      <td>1</td>\n",
              "    </tr>\n",
              "    <tr>\n",
              "      <th>3</th>\n",
              "      <td>Genders</td>\n",
              "      <td>AgeGenderSheet</td>\n",
              "      <td>Gender</td>\n",
              "      <td>14</td>\n",
              "      <td>4</td>\n",
              "      <td>23.0</td>\n",
              "      <td>2</td>\n",
              "      <td>1</td>\n",
              "      <td>2</td>\n",
              "    </tr>\n",
              "    <tr>\n",
              "      <th>4</th>\n",
              "      <td>DoB</td>\n",
              "      <td>AgeGenderSheet</td>\n",
              "      <td>Name</td>\n",
              "      <td>23</td>\n",
              "      <td>1</td>\n",
              "      <td>NaN</td>\n",
              "      <td>2</td>\n",
              "      <td>0</td>\n",
              "      <td>1</td>\n",
              "    </tr>\n",
              "  </tbody>\n",
              "</table>\n",
              "</div>"
            ],
            "text/plain": [
              "   DataSet       SheetName  ... ColumnFromReferenceText  FieldPosition\n",
              "0     Ages  AgeGenderSheet  ...                       1              1\n",
              "1     Ages  AgeGenderSheet  ...                       2              2\n",
              "2  Genders  AgeGenderSheet  ...                       0              1\n",
              "3  Genders  AgeGenderSheet  ...                       1              2\n",
              "4      DoB  AgeGenderSheet  ...                       0              1\n",
              "\n",
              "[5 rows x 9 columns]"
            ]
          },
          "metadata": {
            "tags": []
          },
          "execution_count": 114
        }
      ]
    },
    {
      "cell_type": "markdown",
      "metadata": {
        "id": "Hbu2bb7Did9L"
      },
      "source": [
        "# Find where Data Starts and what Columns Fields are In"
      ]
    },
    {
      "cell_type": "markdown",
      "metadata": {
        "id": "vnrMNep_QL42"
      },
      "source": [
        "One needs to now calculate the actual rows and columns of where the DataSet is.\n",
        "The above table is relative to the Anchor Cells"
      ]
    },
    {
      "cell_type": "code",
      "metadata": {
        "id": "lRIxlGL_-Dmj",
        "colab": {
          "base_uri": "https://localhost:8080/",
          "height": 426
        },
        "outputId": "7a81f13f-8c55-40f6-d953-aa4690092d48"
      },
      "source": [
        "datasetmap['StartRow'] = datasetmap['AnchorRow'] + datasetmap['RowFromReferenceText']\n",
        "datasetmap['FieldColumn'] = datasetmap['AnchorColumn'] + datasetmap['ColumnFromReferenceText']\n",
        "dataset = pd.DataFrame()\n",
        "dataset = pd.merge(fullcelldb, datasetmap, on=['SheetName'], how='left')\n",
        "## the above may seem a cartesian join and may need to be looked at if this slows the process down\n",
        "dataset"
      ],
      "execution_count": 115,
      "outputs": [
        {
          "output_type": "execute_result",
          "data": {
            "text/html": [
              "<div>\n",
              "<style scoped>\n",
              "    .dataframe tbody tr th:only-of-type {\n",
              "        vertical-align: middle;\n",
              "    }\n",
              "\n",
              "    .dataframe tbody tr th {\n",
              "        vertical-align: top;\n",
              "    }\n",
              "\n",
              "    .dataframe thead th {\n",
              "        text-align: right;\n",
              "    }\n",
              "</style>\n",
              "<table border=\"1\" class=\"dataframe\">\n",
              "  <thead>\n",
              "    <tr style=\"text-align: right;\">\n",
              "      <th></th>\n",
              "      <th>RowID</th>\n",
              "      <th>ColumnID</th>\n",
              "      <th>CellValue</th>\n",
              "      <th>CellType</th>\n",
              "      <th>FileName</th>\n",
              "      <th>SheetName</th>\n",
              "      <th>DataSet</th>\n",
              "      <th>FieldID</th>\n",
              "      <th>AnchorRow</th>\n",
              "      <th>AnchorColumn</th>\n",
              "      <th>EndRow</th>\n",
              "      <th>RowFromReferenceText</th>\n",
              "      <th>ColumnFromReferenceText</th>\n",
              "      <th>FieldPosition</th>\n",
              "      <th>StartRow</th>\n",
              "      <th>FieldColumn</th>\n",
              "    </tr>\n",
              "  </thead>\n",
              "  <tbody>\n",
              "    <tr>\n",
              "      <th>0</th>\n",
              "      <td>1</td>\n",
              "      <td>1</td>\n",
              "      <td>NaN</td>\n",
              "      <td>Text</td>\n",
              "      <td>R20210129163628604705</td>\n",
              "      <td>AgeGenderSheet</td>\n",
              "      <td>Ages</td>\n",
              "      <td>Name</td>\n",
              "      <td>5.0</td>\n",
              "      <td>2.0</td>\n",
              "      <td>14.0</td>\n",
              "      <td>2</td>\n",
              "      <td>1</td>\n",
              "      <td>1</td>\n",
              "      <td>7</td>\n",
              "      <td>3</td>\n",
              "    </tr>\n",
              "    <tr>\n",
              "      <th>1</th>\n",
              "      <td>1</td>\n",
              "      <td>1</td>\n",
              "      <td>NaN</td>\n",
              "      <td>Text</td>\n",
              "      <td>R20210129163628604705</td>\n",
              "      <td>AgeGenderSheet</td>\n",
              "      <td>Ages</td>\n",
              "      <td>Age</td>\n",
              "      <td>5.0</td>\n",
              "      <td>2.0</td>\n",
              "      <td>14.0</td>\n",
              "      <td>2</td>\n",
              "      <td>2</td>\n",
              "      <td>2</td>\n",
              "      <td>7</td>\n",
              "      <td>4</td>\n",
              "    </tr>\n",
              "    <tr>\n",
              "      <th>2</th>\n",
              "      <td>1</td>\n",
              "      <td>1</td>\n",
              "      <td>NaN</td>\n",
              "      <td>Text</td>\n",
              "      <td>R20210129163628604705</td>\n",
              "      <td>AgeGenderSheet</td>\n",
              "      <td>Genders</td>\n",
              "      <td>Name</td>\n",
              "      <td>14.0</td>\n",
              "      <td>4.0</td>\n",
              "      <td>23.0</td>\n",
              "      <td>2</td>\n",
              "      <td>0</td>\n",
              "      <td>1</td>\n",
              "      <td>16</td>\n",
              "      <td>4</td>\n",
              "    </tr>\n",
              "    <tr>\n",
              "      <th>3</th>\n",
              "      <td>1</td>\n",
              "      <td>1</td>\n",
              "      <td>NaN</td>\n",
              "      <td>Text</td>\n",
              "      <td>R20210129163628604705</td>\n",
              "      <td>AgeGenderSheet</td>\n",
              "      <td>Genders</td>\n",
              "      <td>Gender</td>\n",
              "      <td>14.0</td>\n",
              "      <td>4.0</td>\n",
              "      <td>23.0</td>\n",
              "      <td>2</td>\n",
              "      <td>1</td>\n",
              "      <td>2</td>\n",
              "      <td>16</td>\n",
              "      <td>5</td>\n",
              "    </tr>\n",
              "    <tr>\n",
              "      <th>4</th>\n",
              "      <td>1</td>\n",
              "      <td>1</td>\n",
              "      <td>NaN</td>\n",
              "      <td>Text</td>\n",
              "      <td>R20210129163628604705</td>\n",
              "      <td>AgeGenderSheet</td>\n",
              "      <td>DoB</td>\n",
              "      <td>Name</td>\n",
              "      <td>23.0</td>\n",
              "      <td>1.0</td>\n",
              "      <td>NaN</td>\n",
              "      <td>2</td>\n",
              "      <td>0</td>\n",
              "      <td>1</td>\n",
              "      <td>25</td>\n",
              "      <td>1</td>\n",
              "    </tr>\n",
              "    <tr>\n",
              "      <th>...</th>\n",
              "      <td>...</td>\n",
              "      <td>...</td>\n",
              "      <td>...</td>\n",
              "      <td>...</td>\n",
              "      <td>...</td>\n",
              "      <td>...</td>\n",
              "      <td>...</td>\n",
              "      <td>...</td>\n",
              "      <td>...</td>\n",
              "      <td>...</td>\n",
              "      <td>...</td>\n",
              "      <td>...</td>\n",
              "      <td>...</td>\n",
              "      <td>...</td>\n",
              "      <td>...</td>\n",
              "      <td>...</td>\n",
              "    </tr>\n",
              "    <tr>\n",
              "      <th>2044</th>\n",
              "      <td>2</td>\n",
              "      <td>2</td>\n",
              "      <td>London</td>\n",
              "      <td>Text</td>\n",
              "      <td>R20210129163628604705</td>\n",
              "      <td>PickList</td>\n",
              "      <td>NaN</td>\n",
              "      <td>NaN</td>\n",
              "      <td>NaN</td>\n",
              "      <td>NaN</td>\n",
              "      <td>NaN</td>\n",
              "      <td>NaN</td>\n",
              "      <td>NaN</td>\n",
              "      <td>NaN</td>\n",
              "      <td>NaN</td>\n",
              "      <td>NaN</td>\n",
              "    </tr>\n",
              "    <tr>\n",
              "      <th>2045</th>\n",
              "      <td>3</td>\n",
              "      <td>2</td>\n",
              "      <td>Liverpool</td>\n",
              "      <td>Text</td>\n",
              "      <td>R20210129163628604705</td>\n",
              "      <td>PickList</td>\n",
              "      <td>NaN</td>\n",
              "      <td>NaN</td>\n",
              "      <td>NaN</td>\n",
              "      <td>NaN</td>\n",
              "      <td>NaN</td>\n",
              "      <td>NaN</td>\n",
              "      <td>NaN</td>\n",
              "      <td>NaN</td>\n",
              "      <td>NaN</td>\n",
              "      <td>NaN</td>\n",
              "    </tr>\n",
              "    <tr>\n",
              "      <th>2046</th>\n",
              "      <td>1</td>\n",
              "      <td>3</td>\n",
              "      <td>Gender</td>\n",
              "      <td>Text</td>\n",
              "      <td>R20210129163628604705</td>\n",
              "      <td>PickList</td>\n",
              "      <td>NaN</td>\n",
              "      <td>NaN</td>\n",
              "      <td>NaN</td>\n",
              "      <td>NaN</td>\n",
              "      <td>NaN</td>\n",
              "      <td>NaN</td>\n",
              "      <td>NaN</td>\n",
              "      <td>NaN</td>\n",
              "      <td>NaN</td>\n",
              "      <td>NaN</td>\n",
              "    </tr>\n",
              "    <tr>\n",
              "      <th>2047</th>\n",
              "      <td>2</td>\n",
              "      <td>3</td>\n",
              "      <td>Male</td>\n",
              "      <td>Text</td>\n",
              "      <td>R20210129163628604705</td>\n",
              "      <td>PickList</td>\n",
              "      <td>NaN</td>\n",
              "      <td>NaN</td>\n",
              "      <td>NaN</td>\n",
              "      <td>NaN</td>\n",
              "      <td>NaN</td>\n",
              "      <td>NaN</td>\n",
              "      <td>NaN</td>\n",
              "      <td>NaN</td>\n",
              "      <td>NaN</td>\n",
              "      <td>NaN</td>\n",
              "    </tr>\n",
              "    <tr>\n",
              "      <th>2048</th>\n",
              "      <td>3</td>\n",
              "      <td>3</td>\n",
              "      <td>Female</td>\n",
              "      <td>Text</td>\n",
              "      <td>R20210129163628604705</td>\n",
              "      <td>PickList</td>\n",
              "      <td>NaN</td>\n",
              "      <td>NaN</td>\n",
              "      <td>NaN</td>\n",
              "      <td>NaN</td>\n",
              "      <td>NaN</td>\n",
              "      <td>NaN</td>\n",
              "      <td>NaN</td>\n",
              "      <td>NaN</td>\n",
              "      <td>NaN</td>\n",
              "      <td>NaN</td>\n",
              "    </tr>\n",
              "  </tbody>\n",
              "</table>\n",
              "<p>2049 rows × 16 columns</p>\n",
              "</div>"
            ],
            "text/plain": [
              "      RowID  ColumnID  CellValue  ... FieldPosition StartRow FieldColumn\n",
              "0         1         1        NaN  ...             1        7           3\n",
              "1         1         1        NaN  ...             2        7           4\n",
              "2         1         1        NaN  ...             1       16           4\n",
              "3         1         1        NaN  ...             2       16           5\n",
              "4         1         1        NaN  ...             1       25           1\n",
              "...     ...       ...        ...  ...           ...      ...         ...\n",
              "2044      2         2     London  ...           NaN      NaN         NaN\n",
              "2045      3         2  Liverpool  ...           NaN      NaN         NaN\n",
              "2046      1         3     Gender  ...           NaN      NaN         NaN\n",
              "2047      2         3       Male  ...           NaN      NaN         NaN\n",
              "2048      3         3     Female  ...           NaN      NaN         NaN\n",
              "\n",
              "[2049 rows x 16 columns]"
            ]
          },
          "metadata": {
            "tags": []
          },
          "execution_count": 115
        }
      ]
    },
    {
      "cell_type": "markdown",
      "metadata": {
        "id": "QmkyP0boiu0Q"
      },
      "source": [
        "# Filter Out Data after End Anchor Row"
      ]
    },
    {
      "cell_type": "code",
      "metadata": {
        "id": "LGngEEjLQewC"
      },
      "source": [
        "dataset = dataset[(dataset.RowID >= dataset.StartRow) &\n",
        "(dataset.ColumnID == dataset.FieldColumn) &\n",
        "((dataset.RowID < dataset.EndRow) | pd.isnull(dataset.EndRow))]\n",
        "# the | above is an OR as if there is no EndRow for the dataset you want to\n",
        "# allow the data through"
      ],
      "execution_count": 116,
      "outputs": []
    },
    {
      "cell_type": "code",
      "metadata": {
        "id": "gDXO67NGrRHe",
        "colab": {
          "base_uri": "https://localhost:8080/",
          "height": 460
        },
        "outputId": "ab62ef37-2812-4eb7-c63b-874499f58aa1"
      },
      "source": [
        "dataset"
      ],
      "execution_count": 117,
      "outputs": [
        {
          "output_type": "execute_result",
          "data": {
            "text/html": [
              "<div>\n",
              "<style scoped>\n",
              "    .dataframe tbody tr th:only-of-type {\n",
              "        vertical-align: middle;\n",
              "    }\n",
              "\n",
              "    .dataframe tbody tr th {\n",
              "        vertical-align: top;\n",
              "    }\n",
              "\n",
              "    .dataframe thead th {\n",
              "        text-align: right;\n",
              "    }\n",
              "</style>\n",
              "<table border=\"1\" class=\"dataframe\">\n",
              "  <thead>\n",
              "    <tr style=\"text-align: right;\">\n",
              "      <th></th>\n",
              "      <th>RowID</th>\n",
              "      <th>ColumnID</th>\n",
              "      <th>CellValue</th>\n",
              "      <th>CellType</th>\n",
              "      <th>FileName</th>\n",
              "      <th>SheetName</th>\n",
              "      <th>DataSet</th>\n",
              "      <th>FieldID</th>\n",
              "      <th>AnchorRow</th>\n",
              "      <th>AnchorColumn</th>\n",
              "      <th>EndRow</th>\n",
              "      <th>RowFromReferenceText</th>\n",
              "      <th>ColumnFromReferenceText</th>\n",
              "      <th>FieldPosition</th>\n",
              "      <th>StartRow</th>\n",
              "      <th>FieldColumn</th>\n",
              "    </tr>\n",
              "  </thead>\n",
              "  <tbody>\n",
              "    <tr>\n",
              "      <th>148</th>\n",
              "      <td>25</td>\n",
              "      <td>1</td>\n",
              "      <td>Paul</td>\n",
              "      <td>Text</td>\n",
              "      <td>R20210129163628604705</td>\n",
              "      <td>AgeGenderSheet</td>\n",
              "      <td>DoB</td>\n",
              "      <td>Name</td>\n",
              "      <td>23.0</td>\n",
              "      <td>1.0</td>\n",
              "      <td>NaN</td>\n",
              "      <td>2</td>\n",
              "      <td>0</td>\n",
              "      <td>1</td>\n",
              "      <td>25</td>\n",
              "      <td>1</td>\n",
              "    </tr>\n",
              "    <tr>\n",
              "      <th>154</th>\n",
              "      <td>26</td>\n",
              "      <td>1</td>\n",
              "      <td>Ringo</td>\n",
              "      <td>Text</td>\n",
              "      <td>R20210129163628604705</td>\n",
              "      <td>AgeGenderSheet</td>\n",
              "      <td>DoB</td>\n",
              "      <td>Name</td>\n",
              "      <td>23.0</td>\n",
              "      <td>1.0</td>\n",
              "      <td>NaN</td>\n",
              "      <td>2</td>\n",
              "      <td>0</td>\n",
              "      <td>1</td>\n",
              "      <td>25</td>\n",
              "      <td>1</td>\n",
              "    </tr>\n",
              "    <tr>\n",
              "      <th>160</th>\n",
              "      <td>27</td>\n",
              "      <td>1</td>\n",
              "      <td>Brian</td>\n",
              "      <td>Text</td>\n",
              "      <td>R20210129163628604705</td>\n",
              "      <td>AgeGenderSheet</td>\n",
              "      <td>DoB</td>\n",
              "      <td>Name</td>\n",
              "      <td>23.0</td>\n",
              "      <td>1.0</td>\n",
              "      <td>NaN</td>\n",
              "      <td>2</td>\n",
              "      <td>0</td>\n",
              "      <td>1</td>\n",
              "      <td>25</td>\n",
              "      <td>1</td>\n",
              "    </tr>\n",
              "    <tr>\n",
              "      <th>311</th>\n",
              "      <td>25</td>\n",
              "      <td>2</td>\n",
              "      <td>1955-07-01 00:00:00</td>\n",
              "      <td>Date</td>\n",
              "      <td>R20210129163628604705</td>\n",
              "      <td>AgeGenderSheet</td>\n",
              "      <td>DoB</td>\n",
              "      <td>DoB</td>\n",
              "      <td>23.0</td>\n",
              "      <td>1.0</td>\n",
              "      <td>NaN</td>\n",
              "      <td>2</td>\n",
              "      <td>1</td>\n",
              "      <td>2</td>\n",
              "      <td>25</td>\n",
              "      <td>2</td>\n",
              "    </tr>\n",
              "    <tr>\n",
              "      <th>317</th>\n",
              "      <td>26</td>\n",
              "      <td>2</td>\n",
              "      <td>1996-01-09 00:00:00</td>\n",
              "      <td>Date</td>\n",
              "      <td>R20210129163628604705</td>\n",
              "      <td>AgeGenderSheet</td>\n",
              "      <td>DoB</td>\n",
              "      <td>DoB</td>\n",
              "      <td>23.0</td>\n",
              "      <td>1.0</td>\n",
              "      <td>NaN</td>\n",
              "      <td>2</td>\n",
              "      <td>1</td>\n",
              "      <td>2</td>\n",
              "      <td>25</td>\n",
              "      <td>2</td>\n",
              "    </tr>\n",
              "    <tr>\n",
              "      <th>...</th>\n",
              "      <td>...</td>\n",
              "      <td>...</td>\n",
              "      <td>...</td>\n",
              "      <td>...</td>\n",
              "      <td>...</td>\n",
              "      <td>...</td>\n",
              "      <td>...</td>\n",
              "      <td>...</td>\n",
              "      <td>...</td>\n",
              "      <td>...</td>\n",
              "      <td>...</td>\n",
              "      <td>...</td>\n",
              "      <td>...</td>\n",
              "      <td>...</td>\n",
              "      <td>...</td>\n",
              "      <td>...</td>\n",
              "    </tr>\n",
              "    <tr>\n",
              "      <th>1146</th>\n",
              "      <td>7</td>\n",
              "      <td>5</td>\n",
              "      <td>NaN</td>\n",
              "      <td>Text</td>\n",
              "      <td>R20210129163628604705</td>\n",
              "      <td>MaritalDepartmentSheet</td>\n",
              "      <td>Department</td>\n",
              "      <td>Name</td>\n",
              "      <td>2.0</td>\n",
              "      <td>5.0</td>\n",
              "      <td>NaN</td>\n",
              "      <td>2</td>\n",
              "      <td>0</td>\n",
              "      <td>1</td>\n",
              "      <td>4</td>\n",
              "      <td>5</td>\n",
              "    </tr>\n",
              "    <tr>\n",
              "      <th>1163</th>\n",
              "      <td>4</td>\n",
              "      <td>6</td>\n",
              "      <td>Production</td>\n",
              "      <td>Text</td>\n",
              "      <td>R20210129163628604705</td>\n",
              "      <td>MaritalDepartmentSheet</td>\n",
              "      <td>Department</td>\n",
              "      <td>Department</td>\n",
              "      <td>2.0</td>\n",
              "      <td>5.0</td>\n",
              "      <td>NaN</td>\n",
              "      <td>2</td>\n",
              "      <td>1</td>\n",
              "      <td>2</td>\n",
              "      <td>4</td>\n",
              "      <td>6</td>\n",
              "    </tr>\n",
              "    <tr>\n",
              "      <th>1167</th>\n",
              "      <td>5</td>\n",
              "      <td>6</td>\n",
              "      <td>IT</td>\n",
              "      <td>Text</td>\n",
              "      <td>R20210129163628604705</td>\n",
              "      <td>MaritalDepartmentSheet</td>\n",
              "      <td>Department</td>\n",
              "      <td>Department</td>\n",
              "      <td>2.0</td>\n",
              "      <td>5.0</td>\n",
              "      <td>NaN</td>\n",
              "      <td>2</td>\n",
              "      <td>1</td>\n",
              "      <td>2</td>\n",
              "      <td>4</td>\n",
              "      <td>6</td>\n",
              "    </tr>\n",
              "    <tr>\n",
              "      <th>1171</th>\n",
              "      <td>6</td>\n",
              "      <td>6</td>\n",
              "      <td>Accounts</td>\n",
              "      <td>Text</td>\n",
              "      <td>R20210129163628604705</td>\n",
              "      <td>MaritalDepartmentSheet</td>\n",
              "      <td>Department</td>\n",
              "      <td>Department</td>\n",
              "      <td>2.0</td>\n",
              "      <td>5.0</td>\n",
              "      <td>NaN</td>\n",
              "      <td>2</td>\n",
              "      <td>1</td>\n",
              "      <td>2</td>\n",
              "      <td>4</td>\n",
              "      <td>6</td>\n",
              "    </tr>\n",
              "    <tr>\n",
              "      <th>1175</th>\n",
              "      <td>7</td>\n",
              "      <td>6</td>\n",
              "      <td>NaN</td>\n",
              "      <td>Text</td>\n",
              "      <td>R20210129163628604705</td>\n",
              "      <td>MaritalDepartmentSheet</td>\n",
              "      <td>Department</td>\n",
              "      <td>Department</td>\n",
              "      <td>2.0</td>\n",
              "      <td>5.0</td>\n",
              "      <td>NaN</td>\n",
              "      <td>2</td>\n",
              "      <td>1</td>\n",
              "      <td>2</td>\n",
              "      <td>4</td>\n",
              "      <td>6</td>\n",
              "    </tr>\n",
              "  </tbody>\n",
              "</table>\n",
              "<p>63 rows × 16 columns</p>\n",
              "</div>"
            ],
            "text/plain": [
              "      RowID  ColumnID            CellValue  ... FieldPosition StartRow FieldColumn\n",
              "148      25         1                 Paul  ...             1       25           1\n",
              "154      26         1                Ringo  ...             1       25           1\n",
              "160      27         1                Brian  ...             1       25           1\n",
              "311      25         2  1955-07-01 00:00:00  ...             2       25           2\n",
              "317      26         2  1996-01-09 00:00:00  ...             2       25           2\n",
              "...     ...       ...                  ...  ...           ...      ...         ...\n",
              "1146      7         5                  NaN  ...             1        4           5\n",
              "1163      4         6           Production  ...             2        4           6\n",
              "1167      5         6                   IT  ...             2        4           6\n",
              "1171      6         6             Accounts  ...             2        4           6\n",
              "1175      7         6                  NaN  ...             2        4           6\n",
              "\n",
              "[63 rows x 16 columns]"
            ]
          },
          "metadata": {
            "tags": []
          },
          "execution_count": 117
        }
      ]
    },
    {
      "cell_type": "markdown",
      "metadata": {
        "id": "xKOG9aHgi8Pj"
      },
      "source": [
        "# Create a CellValue as Number for use in Formulae"
      ]
    },
    {
      "cell_type": "code",
      "metadata": {
        "id": "PPgn6jcNEu_I",
        "colab": {
          "base_uri": "https://localhost:8080/",
          "height": 197
        },
        "outputId": "61582d03-9d41-42e7-d8c3-e8f29ca1f6b2"
      },
      "source": [
        "dataset = pd.DataFrame(dataset,columns=['DataSet', 'SheetName', 'FieldID', 'RowID', 'ColumnID','CellValue', 'CellType'])\n",
        "dataset['CellValueAsNumber'] = pd.to_numeric(dataset['CellValue'], errors='coerce')\n",
        "dataset.head(5)"
      ],
      "execution_count": 118,
      "outputs": [
        {
          "output_type": "execute_result",
          "data": {
            "text/html": [
              "<div>\n",
              "<style scoped>\n",
              "    .dataframe tbody tr th:only-of-type {\n",
              "        vertical-align: middle;\n",
              "    }\n",
              "\n",
              "    .dataframe tbody tr th {\n",
              "        vertical-align: top;\n",
              "    }\n",
              "\n",
              "    .dataframe thead th {\n",
              "        text-align: right;\n",
              "    }\n",
              "</style>\n",
              "<table border=\"1\" class=\"dataframe\">\n",
              "  <thead>\n",
              "    <tr style=\"text-align: right;\">\n",
              "      <th></th>\n",
              "      <th>DataSet</th>\n",
              "      <th>SheetName</th>\n",
              "      <th>FieldID</th>\n",
              "      <th>RowID</th>\n",
              "      <th>ColumnID</th>\n",
              "      <th>CellValue</th>\n",
              "      <th>CellType</th>\n",
              "      <th>CellValueAsNumber</th>\n",
              "    </tr>\n",
              "  </thead>\n",
              "  <tbody>\n",
              "    <tr>\n",
              "      <th>148</th>\n",
              "      <td>DoB</td>\n",
              "      <td>AgeGenderSheet</td>\n",
              "      <td>Name</td>\n",
              "      <td>25</td>\n",
              "      <td>1</td>\n",
              "      <td>Paul</td>\n",
              "      <td>Text</td>\n",
              "      <td>NaN</td>\n",
              "    </tr>\n",
              "    <tr>\n",
              "      <th>154</th>\n",
              "      <td>DoB</td>\n",
              "      <td>AgeGenderSheet</td>\n",
              "      <td>Name</td>\n",
              "      <td>26</td>\n",
              "      <td>1</td>\n",
              "      <td>Ringo</td>\n",
              "      <td>Text</td>\n",
              "      <td>NaN</td>\n",
              "    </tr>\n",
              "    <tr>\n",
              "      <th>160</th>\n",
              "      <td>DoB</td>\n",
              "      <td>AgeGenderSheet</td>\n",
              "      <td>Name</td>\n",
              "      <td>27</td>\n",
              "      <td>1</td>\n",
              "      <td>Brian</td>\n",
              "      <td>Text</td>\n",
              "      <td>NaN</td>\n",
              "    </tr>\n",
              "    <tr>\n",
              "      <th>311</th>\n",
              "      <td>DoB</td>\n",
              "      <td>AgeGenderSheet</td>\n",
              "      <td>DoB</td>\n",
              "      <td>25</td>\n",
              "      <td>2</td>\n",
              "      <td>1955-07-01 00:00:00</td>\n",
              "      <td>Date</td>\n",
              "      <td>NaN</td>\n",
              "    </tr>\n",
              "    <tr>\n",
              "      <th>317</th>\n",
              "      <td>DoB</td>\n",
              "      <td>AgeGenderSheet</td>\n",
              "      <td>DoB</td>\n",
              "      <td>26</td>\n",
              "      <td>2</td>\n",
              "      <td>1996-01-09 00:00:00</td>\n",
              "      <td>Date</td>\n",
              "      <td>NaN</td>\n",
              "    </tr>\n",
              "  </tbody>\n",
              "</table>\n",
              "</div>"
            ],
            "text/plain": [
              "    DataSet       SheetName  ... CellType  CellValueAsNumber\n",
              "148     DoB  AgeGenderSheet  ...     Text                NaN\n",
              "154     DoB  AgeGenderSheet  ...     Text                NaN\n",
              "160     DoB  AgeGenderSheet  ...     Text                NaN\n",
              "311     DoB  AgeGenderSheet  ...     Date                NaN\n",
              "317     DoB  AgeGenderSheet  ...     Date                NaN\n",
              "\n",
              "[5 rows x 8 columns]"
            ]
          },
          "metadata": {
            "tags": []
          },
          "execution_count": 118
        }
      ]
    },
    {
      "cell_type": "markdown",
      "metadata": {
        "id": "6aBvm7yzjNqw"
      },
      "source": [
        "# Create a List of Checks to do"
      ]
    },
    {
      "cell_type": "code",
      "metadata": {
        "id": "wFszD5cR8H_7",
        "scrolled": false,
        "colab": {
          "base_uri": "https://localhost:8080/",
          "height": 384
        },
        "outputId": "54738698-4db4-4460-b1fd-6aadca5fddc0"
      },
      "source": [
        "todolist = pd.DataFrame()\n",
        "todolist = pd.merge(dataset, Tests2DoWithFormula, on=['DataSet', 'FieldID'])\n",
        "todolist.head(5)"
      ],
      "execution_count": 119,
      "outputs": [
        {
          "output_type": "execute_result",
          "data": {
            "text/html": [
              "<div>\n",
              "<style scoped>\n",
              "    .dataframe tbody tr th:only-of-type {\n",
              "        vertical-align: middle;\n",
              "    }\n",
              "\n",
              "    .dataframe tbody tr th {\n",
              "        vertical-align: top;\n",
              "    }\n",
              "\n",
              "    .dataframe thead th {\n",
              "        text-align: right;\n",
              "    }\n",
              "</style>\n",
              "<table border=\"1\" class=\"dataframe\">\n",
              "  <thead>\n",
              "    <tr style=\"text-align: right;\">\n",
              "      <th></th>\n",
              "      <th>DataSet</th>\n",
              "      <th>SheetName_x</th>\n",
              "      <th>FieldID</th>\n",
              "      <th>RowID</th>\n",
              "      <th>ColumnID</th>\n",
              "      <th>CellValue</th>\n",
              "      <th>CellType</th>\n",
              "      <th>CellValueAsNumber</th>\n",
              "      <th>SheetName_y</th>\n",
              "      <th>ReferenceTextStart</th>\n",
              "      <th>ReferenceTextEnd</th>\n",
              "      <th>RowFromReferenceText</th>\n",
              "      <th>ColumnFromReferenceText</th>\n",
              "      <th>FieldPosition</th>\n",
              "      <th>FieldDescription</th>\n",
              "      <th>TableOrientation</th>\n",
              "      <th>RuleID</th>\n",
              "      <th>RuleType</th>\n",
              "      <th>KeyWord</th>\n",
              "      <th>FormulaKeyWord</th>\n",
              "      <th>List</th>\n",
              "      <th>Rule</th>\n",
              "      <th>CheckPerformed</th>\n",
              "      <th>ErrorMessage</th>\n",
              "      <th>AlteryxDataType</th>\n",
              "      <th>AlteryxFormula</th>\n",
              "      <th>RemedialAction</th>\n",
              "      <th>SQLFormula</th>\n",
              "      <th>PythonFormula</th>\n",
              "    </tr>\n",
              "  </thead>\n",
              "  <tbody>\n",
              "    <tr>\n",
              "      <th>0</th>\n",
              "      <td>DoB</td>\n",
              "      <td>AgeGenderSheet</td>\n",
              "      <td>Name</td>\n",
              "      <td>25</td>\n",
              "      <td>1</td>\n",
              "      <td>Paul</td>\n",
              "      <td>Text</td>\n",
              "      <td>NaN</td>\n",
              "      <td>AgeGenderSheet</td>\n",
              "      <td>DOB Table</td>\n",
              "      <td>NaN</td>\n",
              "      <td>2</td>\n",
              "      <td>0</td>\n",
              "      <td>1</td>\n",
              "      <td>Name</td>\n",
              "      <td>Down</td>\n",
              "      <td>5</td>\n",
              "      <td>DataType</td>\n",
              "      <td>Text</td>\n",
              "      <td>NaN</td>\n",
              "      <td>NaN</td>\n",
              "      <td>Must Be Text</td>\n",
              "      <td>Data Type is Text</td>\n",
              "      <td>Text Not Entered</td>\n",
              "      <td>V_String</td>\n",
              "      <td>Length([CellValue]) &gt; 0 and Contains([CellType...</td>\n",
              "      <td>Enter as Text</td>\n",
              "      <td>case when IsNULL([CellValue],'XX') = 'XX' then...</td>\n",
              "      <td>np.where(dataset['CellType'] == 'Text', 1, 0)</td>\n",
              "    </tr>\n",
              "    <tr>\n",
              "      <th>1</th>\n",
              "      <td>DoB</td>\n",
              "      <td>AgeGenderSheet</td>\n",
              "      <td>Name</td>\n",
              "      <td>26</td>\n",
              "      <td>1</td>\n",
              "      <td>Ringo</td>\n",
              "      <td>Text</td>\n",
              "      <td>NaN</td>\n",
              "      <td>AgeGenderSheet</td>\n",
              "      <td>DOB Table</td>\n",
              "      <td>NaN</td>\n",
              "      <td>2</td>\n",
              "      <td>0</td>\n",
              "      <td>1</td>\n",
              "      <td>Name</td>\n",
              "      <td>Down</td>\n",
              "      <td>5</td>\n",
              "      <td>DataType</td>\n",
              "      <td>Text</td>\n",
              "      <td>NaN</td>\n",
              "      <td>NaN</td>\n",
              "      <td>Must Be Text</td>\n",
              "      <td>Data Type is Text</td>\n",
              "      <td>Text Not Entered</td>\n",
              "      <td>V_String</td>\n",
              "      <td>Length([CellValue]) &gt; 0 and Contains([CellType...</td>\n",
              "      <td>Enter as Text</td>\n",
              "      <td>case when IsNULL([CellValue],'XX') = 'XX' then...</td>\n",
              "      <td>np.where(dataset['CellType'] == 'Text', 1, 0)</td>\n",
              "    </tr>\n",
              "    <tr>\n",
              "      <th>2</th>\n",
              "      <td>DoB</td>\n",
              "      <td>AgeGenderSheet</td>\n",
              "      <td>Name</td>\n",
              "      <td>27</td>\n",
              "      <td>1</td>\n",
              "      <td>Brian</td>\n",
              "      <td>Text</td>\n",
              "      <td>NaN</td>\n",
              "      <td>AgeGenderSheet</td>\n",
              "      <td>DOB Table</td>\n",
              "      <td>NaN</td>\n",
              "      <td>2</td>\n",
              "      <td>0</td>\n",
              "      <td>1</td>\n",
              "      <td>Name</td>\n",
              "      <td>Down</td>\n",
              "      <td>5</td>\n",
              "      <td>DataType</td>\n",
              "      <td>Text</td>\n",
              "      <td>NaN</td>\n",
              "      <td>NaN</td>\n",
              "      <td>Must Be Text</td>\n",
              "      <td>Data Type is Text</td>\n",
              "      <td>Text Not Entered</td>\n",
              "      <td>V_String</td>\n",
              "      <td>Length([CellValue]) &gt; 0 and Contains([CellType...</td>\n",
              "      <td>Enter as Text</td>\n",
              "      <td>case when IsNULL([CellValue],'XX') = 'XX' then...</td>\n",
              "      <td>np.where(dataset['CellType'] == 'Text', 1, 0)</td>\n",
              "    </tr>\n",
              "    <tr>\n",
              "      <th>3</th>\n",
              "      <td>DoB</td>\n",
              "      <td>AgeGenderSheet</td>\n",
              "      <td>DoB</td>\n",
              "      <td>25</td>\n",
              "      <td>2</td>\n",
              "      <td>1955-07-01 00:00:00</td>\n",
              "      <td>Date</td>\n",
              "      <td>NaN</td>\n",
              "      <td>AgeGenderSheet</td>\n",
              "      <td>DOB Table</td>\n",
              "      <td>NaN</td>\n",
              "      <td>2</td>\n",
              "      <td>1</td>\n",
              "      <td>2</td>\n",
              "      <td>D.O.B</td>\n",
              "      <td>Down</td>\n",
              "      <td>6</td>\n",
              "      <td>DataType</td>\n",
              "      <td>Date</td>\n",
              "      <td>NaN</td>\n",
              "      <td>NaN</td>\n",
              "      <td>Must Be Date</td>\n",
              "      <td>Data Type is Date</td>\n",
              "      <td>Date Not Entered</td>\n",
              "      <td>Date</td>\n",
              "      <td>Length([CellValue]) &gt; 0 and [CellType] = \"Date\"</td>\n",
              "      <td>Enter Date</td>\n",
              "      <td>case when IsNULL([CellValue],'XX') = 'XX' then...</td>\n",
              "      <td>np.where(dataset['CellType'] == 'Date', 1, 0)</td>\n",
              "    </tr>\n",
              "    <tr>\n",
              "      <th>4</th>\n",
              "      <td>DoB</td>\n",
              "      <td>AgeGenderSheet</td>\n",
              "      <td>DoB</td>\n",
              "      <td>26</td>\n",
              "      <td>2</td>\n",
              "      <td>1996-01-09 00:00:00</td>\n",
              "      <td>Date</td>\n",
              "      <td>NaN</td>\n",
              "      <td>AgeGenderSheet</td>\n",
              "      <td>DOB Table</td>\n",
              "      <td>NaN</td>\n",
              "      <td>2</td>\n",
              "      <td>1</td>\n",
              "      <td>2</td>\n",
              "      <td>D.O.B</td>\n",
              "      <td>Down</td>\n",
              "      <td>6</td>\n",
              "      <td>DataType</td>\n",
              "      <td>Date</td>\n",
              "      <td>NaN</td>\n",
              "      <td>NaN</td>\n",
              "      <td>Must Be Date</td>\n",
              "      <td>Data Type is Date</td>\n",
              "      <td>Date Not Entered</td>\n",
              "      <td>Date</td>\n",
              "      <td>Length([CellValue]) &gt; 0 and [CellType] = \"Date\"</td>\n",
              "      <td>Enter Date</td>\n",
              "      <td>case when IsNULL([CellValue],'XX') = 'XX' then...</td>\n",
              "      <td>np.where(dataset['CellType'] == 'Date', 1, 0)</td>\n",
              "    </tr>\n",
              "  </tbody>\n",
              "</table>\n",
              "</div>"
            ],
            "text/plain": [
              "  DataSet  ...                                  PythonFormula\n",
              "0     DoB  ...  np.where(dataset['CellType'] == 'Text', 1, 0)\n",
              "1     DoB  ...  np.where(dataset['CellType'] == 'Text', 1, 0)\n",
              "2     DoB  ...  np.where(dataset['CellType'] == 'Text', 1, 0)\n",
              "3     DoB  ...  np.where(dataset['CellType'] == 'Date', 1, 0)\n",
              "4     DoB  ...  np.where(dataset['CellType'] == 'Date', 1, 0)\n",
              "\n",
              "[5 rows x 29 columns]"
            ]
          },
          "metadata": {
            "tags": []
          },
          "execution_count": 119
        }
      ]
    },
    {
      "cell_type": "markdown",
      "metadata": {
        "id": "wR-RHXokjaoG"
      },
      "source": [
        "# Create a List of distinct formula to apply"
      ]
    },
    {
      "cell_type": "code",
      "metadata": {
        "id": "4mxczy-qINQv",
        "colab": {
          "base_uri": "https://localhost:8080/",
          "height": 227
        },
        "outputId": "83e242cb-56fe-491e-c46b-d60155c19a7a"
      },
      "source": [
        "formulas = pd.DataFrame()\n",
        "formulas = pd.DataFrame(todolist, columns=['KeyWord','PythonFormula'])\n",
        "formulas = formulas.drop_duplicates()\n",
        "formulas.head(10)"
      ],
      "execution_count": 120,
      "outputs": [
        {
          "output_type": "execute_result",
          "data": {
            "text/html": [
              "<div>\n",
              "<style scoped>\n",
              "    .dataframe tbody tr th:only-of-type {\n",
              "        vertical-align: middle;\n",
              "    }\n",
              "\n",
              "    .dataframe tbody tr th {\n",
              "        vertical-align: top;\n",
              "    }\n",
              "\n",
              "    .dataframe thead th {\n",
              "        text-align: right;\n",
              "    }\n",
              "</style>\n",
              "<table border=\"1\" class=\"dataframe\">\n",
              "  <thead>\n",
              "    <tr style=\"text-align: right;\">\n",
              "      <th></th>\n",
              "      <th>KeyWord</th>\n",
              "      <th>PythonFormula</th>\n",
              "    </tr>\n",
              "  </thead>\n",
              "  <tbody>\n",
              "    <tr>\n",
              "      <th>0</th>\n",
              "      <td>Text</td>\n",
              "      <td>np.where(dataset['CellType'] == 'Text', 1, 0)</td>\n",
              "    </tr>\n",
              "    <tr>\n",
              "      <th>3</th>\n",
              "      <td>Date</td>\n",
              "      <td>np.where(dataset['CellType'] == 'Date', 1, 0)</td>\n",
              "    </tr>\n",
              "    <tr>\n",
              "      <th>13</th>\n",
              "      <td>Number</td>\n",
              "      <td>np.where(dataset['CellType'] == 'Number', 1, 0)</td>\n",
              "    </tr>\n",
              "    <tr>\n",
              "      <th>14</th>\n",
              "      <td>Positive</td>\n",
              "      <td>np.where(dataset['CellValueAsNumber'] &gt; 0, 1, 0)</td>\n",
              "    </tr>\n",
              "    <tr>\n",
              "      <th>15</th>\n",
              "      <td>GreaterThanTen</td>\n",
              "      <td>np.where(dataset['CellValueAsNumber'] &gt; 10, 1, 0)</td>\n",
              "    </tr>\n",
              "    <tr>\n",
              "      <th>42</th>\n",
              "      <td>PickList</td>\n",
              "      <td>NaN</td>\n",
              "    </tr>\n",
              "  </tbody>\n",
              "</table>\n",
              "</div>"
            ],
            "text/plain": [
              "           KeyWord                                      PythonFormula\n",
              "0             Text      np.where(dataset['CellType'] == 'Text', 1, 0)\n",
              "3             Date      np.where(dataset['CellType'] == 'Date', 1, 0)\n",
              "13          Number    np.where(dataset['CellType'] == 'Number', 1, 0)\n",
              "14        Positive   np.where(dataset['CellValueAsNumber'] > 0, 1, 0)\n",
              "15  GreaterThanTen  np.where(dataset['CellValueAsNumber'] > 10, 1, 0)\n",
              "42        PickList                                                NaN"
            ]
          },
          "metadata": {
            "tags": []
          },
          "execution_count": 120
        }
      ]
    },
    {
      "cell_type": "markdown",
      "metadata": {
        "id": "AWxtq24ijmSo"
      },
      "source": [
        "# Prepare Results Table"
      ]
    },
    {
      "cell_type": "code",
      "metadata": {
        "id": "enT7iwuL8Y6l"
      },
      "source": [
        "global bigresults\n",
        "littletodolist = pd.DataFrame()\n",
        "littletodolistworking = pd.DataFrame()\n",
        "bigresults = pd.DataFrame()\n"
      ],
      "execution_count": 121,
      "outputs": []
    },
    {
      "cell_type": "code",
      "metadata": {
        "id": "ovWR4reTJYbB"
      },
      "source": [
        "# this was an important test as if you do not have copy you get an error as it believes\n",
        "# you are trying to change a view\n",
        "#littletodolist = todolist[(todolist.KeyWord == 'PickList')].copy()\n",
        "#littletodolist.head(100)\n",
        "#filterdf = pd.DataFrame()\n",
        "#filterdf = todolist[(todolist.KeyWord == 'PickList')].copy()\n",
        "#filterdf.head()"
      ],
      "execution_count": 122,
      "outputs": []
    },
    {
      "cell_type": "code",
      "metadata": {
        "id": "W2Viik1bKFx2"
      },
      "source": [
        "# littletodolist.loc[littletodolist.KeyWord == 'Text', 'Result'] = np.where(littletodolist['CellType'] == 'Text', 1, 0)"
      ],
      "execution_count": 123,
      "outputs": []
    },
    {
      "cell_type": "markdown",
      "metadata": {
        "id": "lmplCWV-kH6H"
      },
      "source": [
        "# Loop through each Formula and apply to the To Do List"
      ]
    },
    {
      "cell_type": "code",
      "metadata": {
        "id": "f8L4NV-9P-2w"
      },
      "source": [
        "todolist = todolist.rename(columns={'CellValue_x': 'CellValue'})\n",
        "##todolist.columns"
      ],
      "execution_count": 124,
      "outputs": []
    },
    {
      "cell_type": "code",
      "metadata": {
        "id": "1qIWlNZUFDBP",
        "colab": {
          "base_uri": "https://localhost:8080/"
        },
        "outputId": "15f84254-afca-4edd-8c38-83c87f365f68"
      },
      "source": [
        "for index, row in formulas.iterrows():\n",
        "  # print(row['KeyWord'],row['PythonFormula'])\n",
        "\n",
        "  pf = row['PythonFormula']\n",
        "  kw = row['KeyWord']\n",
        " \n",
        "  try:\n",
        "      pf1 = pf.replace(\"dataset\", \"littletodolist\")\n",
        "  except:\n",
        "      pf1 = \"1\"\n",
        "  littletodolist = todolist[(todolist.KeyWord == kw)].copy()\n",
        "  formula2do = \"littletodolist['Result'] = \" + pf1\n",
        "  print(kw)\n",
        "  print(formula2do)\n",
        "  exec(formula2do)\n",
        "  ##print(littletodolist)\n",
        "  ##try:\n",
        "  ##bigresults = pd.concat([bigresults, littletodolist], ignore_index=True).drop_duplicates().reset_index(drop=True)\n",
        "  bigresults = pd.concat([bigresults, littletodolist]) ##, ignore_index=True).drop_duplicates().reset_index(drop=True)\n",
        "  ##except:\n",
        "  #  bigresults = bigresults"
      ],
      "execution_count": 125,
      "outputs": [
        {
          "output_type": "stream",
          "text": [
            "Text\n",
            "littletodolist['Result'] = np.where(littletodolist['CellType'] == 'Text', 1, 0)\n",
            "Date\n",
            "littletodolist['Result'] = np.where(littletodolist['CellType'] == 'Date', 1, 0)\n",
            "Number\n",
            "littletodolist['Result'] = np.where(littletodolist['CellType'] == 'Number', 1, 0)\n",
            "Positive\n",
            "littletodolist['Result'] = np.where(littletodolist['CellValueAsNumber'] > 0, 1, 0)\n",
            "GreaterThanTen\n",
            "littletodolist['Result'] = np.where(littletodolist['CellValueAsNumber'] > 10, 1, 0)\n",
            "PickList\n",
            "littletodolist['Result'] = 1\n"
          ],
          "name": "stdout"
        }
      ]
    },
    {
      "cell_type": "code",
      "metadata": {
        "id": "JuZ4_YEMP-24"
      },
      "source": [
        "littletodolist['Result'] = np.where(littletodolist['CellType'] == 'Text', 1, 0)"
      ],
      "execution_count": 126,
      "outputs": []
    },
    {
      "cell_type": "markdown",
      "metadata": {
        "id": "5ZW7-6-vkaXi"
      },
      "source": [
        "# Add a sequence to the Results for use in Reporting"
      ]
    },
    {
      "cell_type": "code",
      "metadata": {
        "id": "-aG5EY7ygGeG"
      },
      "source": [
        "bigresults['ResultID'] = bigresults.index"
      ],
      "execution_count": 127,
      "outputs": []
    },
    {
      "cell_type": "code",
      "metadata": {
        "id": "q4WPoT2MY7jP",
        "colab": {
          "base_uri": "https://localhost:8080/",
          "height": 384
        },
        "outputId": "7b141c60-e583-405e-f9e4-42877bb483f2"
      },
      "source": [
        "bigresults.head(5)"
      ],
      "execution_count": 128,
      "outputs": [
        {
          "output_type": "execute_result",
          "data": {
            "text/html": [
              "<div>\n",
              "<style scoped>\n",
              "    .dataframe tbody tr th:only-of-type {\n",
              "        vertical-align: middle;\n",
              "    }\n",
              "\n",
              "    .dataframe tbody tr th {\n",
              "        vertical-align: top;\n",
              "    }\n",
              "\n",
              "    .dataframe thead th {\n",
              "        text-align: right;\n",
              "    }\n",
              "</style>\n",
              "<table border=\"1\" class=\"dataframe\">\n",
              "  <thead>\n",
              "    <tr style=\"text-align: right;\">\n",
              "      <th></th>\n",
              "      <th>DataSet</th>\n",
              "      <th>SheetName_x</th>\n",
              "      <th>FieldID</th>\n",
              "      <th>RowID</th>\n",
              "      <th>ColumnID</th>\n",
              "      <th>CellValue</th>\n",
              "      <th>CellType</th>\n",
              "      <th>CellValueAsNumber</th>\n",
              "      <th>SheetName_y</th>\n",
              "      <th>ReferenceTextStart</th>\n",
              "      <th>ReferenceTextEnd</th>\n",
              "      <th>RowFromReferenceText</th>\n",
              "      <th>ColumnFromReferenceText</th>\n",
              "      <th>FieldPosition</th>\n",
              "      <th>FieldDescription</th>\n",
              "      <th>TableOrientation</th>\n",
              "      <th>RuleID</th>\n",
              "      <th>RuleType</th>\n",
              "      <th>KeyWord</th>\n",
              "      <th>FormulaKeyWord</th>\n",
              "      <th>List</th>\n",
              "      <th>Rule</th>\n",
              "      <th>CheckPerformed</th>\n",
              "      <th>ErrorMessage</th>\n",
              "      <th>AlteryxDataType</th>\n",
              "      <th>AlteryxFormula</th>\n",
              "      <th>RemedialAction</th>\n",
              "      <th>SQLFormula</th>\n",
              "      <th>PythonFormula</th>\n",
              "      <th>Result</th>\n",
              "      <th>ResultID</th>\n",
              "    </tr>\n",
              "  </thead>\n",
              "  <tbody>\n",
              "    <tr>\n",
              "      <th>0</th>\n",
              "      <td>DoB</td>\n",
              "      <td>AgeGenderSheet</td>\n",
              "      <td>Name</td>\n",
              "      <td>25</td>\n",
              "      <td>1</td>\n",
              "      <td>Paul</td>\n",
              "      <td>Text</td>\n",
              "      <td>NaN</td>\n",
              "      <td>AgeGenderSheet</td>\n",
              "      <td>DOB Table</td>\n",
              "      <td>NaN</td>\n",
              "      <td>2</td>\n",
              "      <td>0</td>\n",
              "      <td>1</td>\n",
              "      <td>Name</td>\n",
              "      <td>Down</td>\n",
              "      <td>5</td>\n",
              "      <td>DataType</td>\n",
              "      <td>Text</td>\n",
              "      <td>NaN</td>\n",
              "      <td>NaN</td>\n",
              "      <td>Must Be Text</td>\n",
              "      <td>Data Type is Text</td>\n",
              "      <td>Text Not Entered</td>\n",
              "      <td>V_String</td>\n",
              "      <td>Length([CellValue]) &gt; 0 and Contains([CellType...</td>\n",
              "      <td>Enter as Text</td>\n",
              "      <td>case when IsNULL([CellValue],'XX') = 'XX' then...</td>\n",
              "      <td>np.where(dataset['CellType'] == 'Text', 1, 0)</td>\n",
              "      <td>1</td>\n",
              "      <td>0</td>\n",
              "    </tr>\n",
              "    <tr>\n",
              "      <th>1</th>\n",
              "      <td>DoB</td>\n",
              "      <td>AgeGenderSheet</td>\n",
              "      <td>Name</td>\n",
              "      <td>26</td>\n",
              "      <td>1</td>\n",
              "      <td>Ringo</td>\n",
              "      <td>Text</td>\n",
              "      <td>NaN</td>\n",
              "      <td>AgeGenderSheet</td>\n",
              "      <td>DOB Table</td>\n",
              "      <td>NaN</td>\n",
              "      <td>2</td>\n",
              "      <td>0</td>\n",
              "      <td>1</td>\n",
              "      <td>Name</td>\n",
              "      <td>Down</td>\n",
              "      <td>5</td>\n",
              "      <td>DataType</td>\n",
              "      <td>Text</td>\n",
              "      <td>NaN</td>\n",
              "      <td>NaN</td>\n",
              "      <td>Must Be Text</td>\n",
              "      <td>Data Type is Text</td>\n",
              "      <td>Text Not Entered</td>\n",
              "      <td>V_String</td>\n",
              "      <td>Length([CellValue]) &gt; 0 and Contains([CellType...</td>\n",
              "      <td>Enter as Text</td>\n",
              "      <td>case when IsNULL([CellValue],'XX') = 'XX' then...</td>\n",
              "      <td>np.where(dataset['CellType'] == 'Text', 1, 0)</td>\n",
              "      <td>1</td>\n",
              "      <td>1</td>\n",
              "    </tr>\n",
              "    <tr>\n",
              "      <th>2</th>\n",
              "      <td>DoB</td>\n",
              "      <td>AgeGenderSheet</td>\n",
              "      <td>Name</td>\n",
              "      <td>27</td>\n",
              "      <td>1</td>\n",
              "      <td>Brian</td>\n",
              "      <td>Text</td>\n",
              "      <td>NaN</td>\n",
              "      <td>AgeGenderSheet</td>\n",
              "      <td>DOB Table</td>\n",
              "      <td>NaN</td>\n",
              "      <td>2</td>\n",
              "      <td>0</td>\n",
              "      <td>1</td>\n",
              "      <td>Name</td>\n",
              "      <td>Down</td>\n",
              "      <td>5</td>\n",
              "      <td>DataType</td>\n",
              "      <td>Text</td>\n",
              "      <td>NaN</td>\n",
              "      <td>NaN</td>\n",
              "      <td>Must Be Text</td>\n",
              "      <td>Data Type is Text</td>\n",
              "      <td>Text Not Entered</td>\n",
              "      <td>V_String</td>\n",
              "      <td>Length([CellValue]) &gt; 0 and Contains([CellType...</td>\n",
              "      <td>Enter as Text</td>\n",
              "      <td>case when IsNULL([CellValue],'XX') = 'XX' then...</td>\n",
              "      <td>np.where(dataset['CellType'] == 'Text', 1, 0)</td>\n",
              "      <td>1</td>\n",
              "      <td>2</td>\n",
              "    </tr>\n",
              "    <tr>\n",
              "      <th>6</th>\n",
              "      <td>Ages</td>\n",
              "      <td>AgeGenderSheet</td>\n",
              "      <td>Name</td>\n",
              "      <td>7</td>\n",
              "      <td>3</td>\n",
              "      <td>Paul</td>\n",
              "      <td>Text</td>\n",
              "      <td>NaN</td>\n",
              "      <td>AgeGenderSheet</td>\n",
              "      <td>Age Table</td>\n",
              "      <td>Gender Table</td>\n",
              "      <td>2</td>\n",
              "      <td>1</td>\n",
              "      <td>1</td>\n",
              "      <td>Name</td>\n",
              "      <td>Down</td>\n",
              "      <td>1</td>\n",
              "      <td>DataType</td>\n",
              "      <td>Text</td>\n",
              "      <td>NaN</td>\n",
              "      <td>NaN</td>\n",
              "      <td>Must Be Text</td>\n",
              "      <td>Data Type is Text</td>\n",
              "      <td>Text Not Entered</td>\n",
              "      <td>V_String</td>\n",
              "      <td>Length([CellValue]) &gt; 0 and Contains([CellType...</td>\n",
              "      <td>Enter as Text</td>\n",
              "      <td>case when IsNULL([CellValue],'XX') = 'XX' then...</td>\n",
              "      <td>np.where(dataset['CellType'] == 'Text', 1, 0)</td>\n",
              "      <td>1</td>\n",
              "      <td>6</td>\n",
              "    </tr>\n",
              "    <tr>\n",
              "      <th>7</th>\n",
              "      <td>Ages</td>\n",
              "      <td>AgeGenderSheet</td>\n",
              "      <td>Name</td>\n",
              "      <td>8</td>\n",
              "      <td>3</td>\n",
              "      <td>Ringo</td>\n",
              "      <td>Text</td>\n",
              "      <td>NaN</td>\n",
              "      <td>AgeGenderSheet</td>\n",
              "      <td>Age Table</td>\n",
              "      <td>Gender Table</td>\n",
              "      <td>2</td>\n",
              "      <td>1</td>\n",
              "      <td>1</td>\n",
              "      <td>Name</td>\n",
              "      <td>Down</td>\n",
              "      <td>1</td>\n",
              "      <td>DataType</td>\n",
              "      <td>Text</td>\n",
              "      <td>NaN</td>\n",
              "      <td>NaN</td>\n",
              "      <td>Must Be Text</td>\n",
              "      <td>Data Type is Text</td>\n",
              "      <td>Text Not Entered</td>\n",
              "      <td>V_String</td>\n",
              "      <td>Length([CellValue]) &gt; 0 and Contains([CellType...</td>\n",
              "      <td>Enter as Text</td>\n",
              "      <td>case when IsNULL([CellValue],'XX') = 'XX' then...</td>\n",
              "      <td>np.where(dataset['CellType'] == 'Text', 1, 0)</td>\n",
              "      <td>1</td>\n",
              "      <td>7</td>\n",
              "    </tr>\n",
              "  </tbody>\n",
              "</table>\n",
              "</div>"
            ],
            "text/plain": [
              "  DataSet     SheetName_x  ... Result  ResultID\n",
              "0     DoB  AgeGenderSheet  ...      1         0\n",
              "1     DoB  AgeGenderSheet  ...      1         1\n",
              "2     DoB  AgeGenderSheet  ...      1         2\n",
              "6    Ages  AgeGenderSheet  ...      1         6\n",
              "7    Ages  AgeGenderSheet  ...      1         7\n",
              "\n",
              "[5 rows x 31 columns]"
            ]
          },
          "metadata": {
            "tags": []
          },
          "execution_count": 128
        }
      ]
    },
    {
      "cell_type": "markdown",
      "metadata": {
        "id": "kbW0Ez8Ekme7"
      },
      "source": [
        "# Narrow down Results to useful columnns"
      ]
    },
    {
      "cell_type": "code",
      "metadata": {
        "id": "11nWw0D2ZPHE",
        "colab": {
          "base_uri": "https://localhost:8080/",
          "height": 197
        },
        "outputId": "3f575740-3e34-45c3-d7a3-ba4b14716626"
      },
      "source": [
        "usefulresults = pd.DataFrame()\n",
        "usefulresults = pd.DataFrame(bigresults, columns=['DataSet','FieldID','RowID','ColumnID','CellValue','CellType','CheckPerformed', 'Result'])\n",
        "usefulresults.head()"
      ],
      "execution_count": 129,
      "outputs": [
        {
          "output_type": "execute_result",
          "data": {
            "text/html": [
              "<div>\n",
              "<style scoped>\n",
              "    .dataframe tbody tr th:only-of-type {\n",
              "        vertical-align: middle;\n",
              "    }\n",
              "\n",
              "    .dataframe tbody tr th {\n",
              "        vertical-align: top;\n",
              "    }\n",
              "\n",
              "    .dataframe thead th {\n",
              "        text-align: right;\n",
              "    }\n",
              "</style>\n",
              "<table border=\"1\" class=\"dataframe\">\n",
              "  <thead>\n",
              "    <tr style=\"text-align: right;\">\n",
              "      <th></th>\n",
              "      <th>DataSet</th>\n",
              "      <th>FieldID</th>\n",
              "      <th>RowID</th>\n",
              "      <th>ColumnID</th>\n",
              "      <th>CellValue</th>\n",
              "      <th>CellType</th>\n",
              "      <th>CheckPerformed</th>\n",
              "      <th>Result</th>\n",
              "    </tr>\n",
              "  </thead>\n",
              "  <tbody>\n",
              "    <tr>\n",
              "      <th>0</th>\n",
              "      <td>DoB</td>\n",
              "      <td>Name</td>\n",
              "      <td>25</td>\n",
              "      <td>1</td>\n",
              "      <td>Paul</td>\n",
              "      <td>Text</td>\n",
              "      <td>Data Type is Text</td>\n",
              "      <td>1</td>\n",
              "    </tr>\n",
              "    <tr>\n",
              "      <th>1</th>\n",
              "      <td>DoB</td>\n",
              "      <td>Name</td>\n",
              "      <td>26</td>\n",
              "      <td>1</td>\n",
              "      <td>Ringo</td>\n",
              "      <td>Text</td>\n",
              "      <td>Data Type is Text</td>\n",
              "      <td>1</td>\n",
              "    </tr>\n",
              "    <tr>\n",
              "      <th>2</th>\n",
              "      <td>DoB</td>\n",
              "      <td>Name</td>\n",
              "      <td>27</td>\n",
              "      <td>1</td>\n",
              "      <td>Brian</td>\n",
              "      <td>Text</td>\n",
              "      <td>Data Type is Text</td>\n",
              "      <td>1</td>\n",
              "    </tr>\n",
              "    <tr>\n",
              "      <th>6</th>\n",
              "      <td>Ages</td>\n",
              "      <td>Name</td>\n",
              "      <td>7</td>\n",
              "      <td>3</td>\n",
              "      <td>Paul</td>\n",
              "      <td>Text</td>\n",
              "      <td>Data Type is Text</td>\n",
              "      <td>1</td>\n",
              "    </tr>\n",
              "    <tr>\n",
              "      <th>7</th>\n",
              "      <td>Ages</td>\n",
              "      <td>Name</td>\n",
              "      <td>8</td>\n",
              "      <td>3</td>\n",
              "      <td>Ringo</td>\n",
              "      <td>Text</td>\n",
              "      <td>Data Type is Text</td>\n",
              "      <td>1</td>\n",
              "    </tr>\n",
              "  </tbody>\n",
              "</table>\n",
              "</div>"
            ],
            "text/plain": [
              "  DataSet FieldID  RowID  ...  CellType     CheckPerformed Result\n",
              "0     DoB    Name     25  ...      Text  Data Type is Text      1\n",
              "1     DoB    Name     26  ...      Text  Data Type is Text      1\n",
              "2     DoB    Name     27  ...      Text  Data Type is Text      1\n",
              "6    Ages    Name      7  ...      Text  Data Type is Text      1\n",
              "7    Ages    Name      8  ...      Text  Data Type is Text      1\n",
              "\n",
              "[5 rows x 8 columns]"
            ]
          },
          "metadata": {
            "tags": []
          },
          "execution_count": 129
        }
      ]
    },
    {
      "cell_type": "markdown",
      "metadata": {
        "id": "fo-KMY41k1sc"
      },
      "source": [
        "# Summarise Results"
      ]
    },
    {
      "cell_type": "code",
      "metadata": {
        "id": "M64p5-e9acRg",
        "colab": {
          "base_uri": "https://localhost:8080/",
          "height": 257
        },
        "outputId": "e5465252-53ef-4acc-9b7e-d5e7e6f41190"
      },
      "source": [
        "resultssummary = pd.DataFrame()\n",
        "# index = pd.MultiIndex.from_arrays(arrays, names=['first', 'second'])\n",
        "# resultssummary.head()\n",
        "\n",
        "resultssummary = bigresults[['DataSet','FieldID','CheckPerformed', 'Result', 'ResultID']].groupby(['DataSet', 'FieldID', 'CheckPerformed']).agg(['count'])\n",
        "resultssummary.head(5)"
      ],
      "execution_count": 130,
      "outputs": [
        {
          "output_type": "execute_result",
          "data": {
            "text/html": [
              "<div>\n",
              "<style scoped>\n",
              "    .dataframe tbody tr th:only-of-type {\n",
              "        vertical-align: middle;\n",
              "    }\n",
              "\n",
              "    .dataframe tbody tr th {\n",
              "        vertical-align: top;\n",
              "    }\n",
              "\n",
              "    .dataframe thead tr th {\n",
              "        text-align: left;\n",
              "    }\n",
              "\n",
              "    .dataframe thead tr:last-of-type th {\n",
              "        text-align: right;\n",
              "    }\n",
              "</style>\n",
              "<table border=\"1\" class=\"dataframe\">\n",
              "  <thead>\n",
              "    <tr>\n",
              "      <th></th>\n",
              "      <th></th>\n",
              "      <th></th>\n",
              "      <th>Result</th>\n",
              "      <th>ResultID</th>\n",
              "    </tr>\n",
              "    <tr>\n",
              "      <th></th>\n",
              "      <th></th>\n",
              "      <th></th>\n",
              "      <th>count</th>\n",
              "      <th>count</th>\n",
              "    </tr>\n",
              "    <tr>\n",
              "      <th>DataSet</th>\n",
              "      <th>FieldID</th>\n",
              "      <th>CheckPerformed</th>\n",
              "      <th></th>\n",
              "      <th></th>\n",
              "    </tr>\n",
              "  </thead>\n",
              "  <tbody>\n",
              "    <tr>\n",
              "      <th rowspan=\"4\" valign=\"top\">Ages</th>\n",
              "      <th rowspan=\"3\" valign=\"top\">Age</th>\n",
              "      <th>Data Type is Number</th>\n",
              "      <td>7</td>\n",
              "      <td>7</td>\n",
              "    </tr>\n",
              "    <tr>\n",
              "      <th>Greater than 10</th>\n",
              "      <td>7</td>\n",
              "      <td>7</td>\n",
              "    </tr>\n",
              "    <tr>\n",
              "      <th>Number is Positive</th>\n",
              "      <td>7</td>\n",
              "      <td>7</td>\n",
              "    </tr>\n",
              "    <tr>\n",
              "      <th>Name</th>\n",
              "      <th>Data Type is Text</th>\n",
              "      <td>7</td>\n",
              "      <td>7</td>\n",
              "    </tr>\n",
              "    <tr>\n",
              "      <th>DoB</th>\n",
              "      <th>DoB</th>\n",
              "      <th>Data Type is Date</th>\n",
              "      <td>3</td>\n",
              "      <td>3</td>\n",
              "    </tr>\n",
              "  </tbody>\n",
              "</table>\n",
              "</div>"
            ],
            "text/plain": [
              "                                    Result ResultID\n",
              "                                     count    count\n",
              "DataSet FieldID CheckPerformed                     \n",
              "Ages    Age     Data Type is Number      7        7\n",
              "                Greater than 10          7        7\n",
              "                Number is Positive       7        7\n",
              "        Name    Data Type is Text        7        7\n",
              "DoB     DoB     Data Type is Date        3        3"
            ]
          },
          "metadata": {
            "tags": []
          },
          "execution_count": 130
        }
      ]
    },
    {
      "cell_type": "markdown",
      "metadata": {
        "id": "OL-ZYUKOk_cL"
      },
      "source": [
        "# Pivot Results"
      ]
    },
    {
      "cell_type": "code",
      "metadata": {
        "id": "9Fdea1NEhYZD",
        "colab": {
          "base_uri": "https://localhost:8080/",
          "height": 617
        },
        "outputId": "5dc7e9c2-e8ef-4448-d294-7da3639540e2"
      },
      "source": [
        "# rownamearray = pd.array(['DataSet','FieldID'], dtype=str)\n",
        "# newct = pd.crosstab(bigresults.DataSet,bigresults.FieldID,bigresults.CheckPerformed,bigresults.Result,rownames=rownamearray, colnames=['Result'])\n",
        "\n",
        "newct = bigresults.pivot_table(index = ['DataSet','FieldID','CheckPerformed'], values = 'ResultID',columns = 'Result', aggfunc = 'count')\n",
        "newct"
      ],
      "execution_count": 134,
      "outputs": [
        {
          "output_type": "execute_result",
          "data": {
            "text/html": [
              "<div>\n",
              "<style scoped>\n",
              "    .dataframe tbody tr th:only-of-type {\n",
              "        vertical-align: middle;\n",
              "    }\n",
              "\n",
              "    .dataframe tbody tr th {\n",
              "        vertical-align: top;\n",
              "    }\n",
              "\n",
              "    .dataframe thead th {\n",
              "        text-align: right;\n",
              "    }\n",
              "</style>\n",
              "<table border=\"1\" class=\"dataframe\">\n",
              "  <thead>\n",
              "    <tr style=\"text-align: right;\">\n",
              "      <th></th>\n",
              "      <th></th>\n",
              "      <th>Result</th>\n",
              "      <th>0</th>\n",
              "      <th>1</th>\n",
              "    </tr>\n",
              "    <tr>\n",
              "      <th>DataSet</th>\n",
              "      <th>FieldID</th>\n",
              "      <th>CheckPerformed</th>\n",
              "      <th></th>\n",
              "      <th></th>\n",
              "    </tr>\n",
              "  </thead>\n",
              "  <tbody>\n",
              "    <tr>\n",
              "      <th rowspan=\"4\" valign=\"top\">Ages</th>\n",
              "      <th rowspan=\"3\" valign=\"top\">Age</th>\n",
              "      <th>Data Type is Number</th>\n",
              "      <td>5.0</td>\n",
              "      <td>2.0</td>\n",
              "    </tr>\n",
              "    <tr>\n",
              "      <th>Greater than 10</th>\n",
              "      <td>5.0</td>\n",
              "      <td>2.0</td>\n",
              "    </tr>\n",
              "    <tr>\n",
              "      <th>Number is Positive</th>\n",
              "      <td>5.0</td>\n",
              "      <td>2.0</td>\n",
              "    </tr>\n",
              "    <tr>\n",
              "      <th>Name</th>\n",
              "      <th>Data Type is Text</th>\n",
              "      <td>NaN</td>\n",
              "      <td>7.0</td>\n",
              "    </tr>\n",
              "    <tr>\n",
              "      <th rowspan=\"2\" valign=\"top\">DoB</th>\n",
              "      <th>DoB</th>\n",
              "      <th>Data Type is Date</th>\n",
              "      <td>1.0</td>\n",
              "      <td>2.0</td>\n",
              "    </tr>\n",
              "    <tr>\n",
              "      <th>Name</th>\n",
              "      <th>Data Type is Text</th>\n",
              "      <td>NaN</td>\n",
              "      <td>3.0</td>\n",
              "    </tr>\n",
              "    <tr>\n",
              "      <th rowspan=\"3\" valign=\"top\">Genders</th>\n",
              "      <th rowspan=\"2\" valign=\"top\">Gender</th>\n",
              "      <th>Data Type is Text</th>\n",
              "      <td>NaN</td>\n",
              "      <td>7.0</td>\n",
              "    </tr>\n",
              "    <tr>\n",
              "      <th>Validate to Picklist</th>\n",
              "      <td>NaN</td>\n",
              "      <td>7.0</td>\n",
              "    </tr>\n",
              "    <tr>\n",
              "      <th>Name</th>\n",
              "      <th>Data Type is Text</th>\n",
              "      <td>NaN</td>\n",
              "      <td>7.0</td>\n",
              "    </tr>\n",
              "    <tr>\n",
              "      <th rowspan=\"3\" valign=\"top\">HomeLocation</th>\n",
              "      <th>Employee</th>\n",
              "      <th>Data Type is Text</th>\n",
              "      <td>NaN</td>\n",
              "      <td>3.0</td>\n",
              "    </tr>\n",
              "    <tr>\n",
              "      <th rowspan=\"2\" valign=\"top\">Location</th>\n",
              "      <th>Data Type is Text</th>\n",
              "      <td>NaN</td>\n",
              "      <td>3.0</td>\n",
              "    </tr>\n",
              "    <tr>\n",
              "      <th>Validate to Picklist</th>\n",
              "      <td>NaN</td>\n",
              "      <td>3.0</td>\n",
              "    </tr>\n",
              "    <tr>\n",
              "      <th rowspan=\"3\" valign=\"top\">Jobs</th>\n",
              "      <th>Employee_Name</th>\n",
              "      <th>Data Type is Text</th>\n",
              "      <td>NaN</td>\n",
              "      <td>3.0</td>\n",
              "    </tr>\n",
              "    <tr>\n",
              "      <th>ID</th>\n",
              "      <th>Data Type is Number</th>\n",
              "      <td>1.0</td>\n",
              "      <td>2.0</td>\n",
              "    </tr>\n",
              "    <tr>\n",
              "      <th>Job_Title</th>\n",
              "      <th>Data Type is Text</th>\n",
              "      <td>NaN</td>\n",
              "      <td>3.0</td>\n",
              "    </tr>\n",
              "    <tr>\n",
              "      <th rowspan=\"3\" valign=\"top\">MaritalStatus</th>\n",
              "      <th>Name</th>\n",
              "      <th>Data Type is Text</th>\n",
              "      <td>NaN</td>\n",
              "      <td>3.0</td>\n",
              "    </tr>\n",
              "    <tr>\n",
              "      <th rowspan=\"2\" valign=\"top\">Status</th>\n",
              "      <th>Data Type is Text</th>\n",
              "      <td>NaN</td>\n",
              "      <td>3.0</td>\n",
              "    </tr>\n",
              "    <tr>\n",
              "      <th>Validate to Picklist</th>\n",
              "      <td>NaN</td>\n",
              "      <td>3.0</td>\n",
              "    </tr>\n",
              "  </tbody>\n",
              "</table>\n",
              "</div>"
            ],
            "text/plain": [
              "Result                                              0    1\n",
              "DataSet       FieldID       CheckPerformed                \n",
              "Ages          Age           Data Type is Number   5.0  2.0\n",
              "                            Greater than 10       5.0  2.0\n",
              "                            Number is Positive    5.0  2.0\n",
              "              Name          Data Type is Text     NaN  7.0\n",
              "DoB           DoB           Data Type is Date     1.0  2.0\n",
              "              Name          Data Type is Text     NaN  3.0\n",
              "Genders       Gender        Data Type is Text     NaN  7.0\n",
              "                            Validate to Picklist  NaN  7.0\n",
              "              Name          Data Type is Text     NaN  7.0\n",
              "HomeLocation  Employee      Data Type is Text     NaN  3.0\n",
              "              Location      Data Type is Text     NaN  3.0\n",
              "                            Validate to Picklist  NaN  3.0\n",
              "Jobs          Employee_Name Data Type is Text     NaN  3.0\n",
              "              ID            Data Type is Number   1.0  2.0\n",
              "              Job_Title     Data Type is Text     NaN  3.0\n",
              "MaritalStatus Name          Data Type is Text     NaN  3.0\n",
              "              Status        Data Type is Text     NaN  3.0\n",
              "                            Validate to Picklist  NaN  3.0"
            ]
          },
          "metadata": {
            "tags": []
          },
          "execution_count": 134
        }
      ]
    },
    {
      "cell_type": "markdown",
      "metadata": {
        "id": "XFE1o7UrlFt1"
      },
      "source": [
        "# Plot Stack Bar"
      ]
    },
    {
      "cell_type": "markdown",
      "metadata": {
        "id": "uG7YNRpnoOd9"
      },
      "source": [
        "## Show Stack"
      ]
    },
    {
      "cell_type": "code",
      "metadata": {
        "id": "CzE4y5f5n_b4",
        "colab": {
          "base_uri": "https://localhost:8080/",
          "height": 282
        },
        "outputId": "96443e74-859a-44dd-9195-52b3fb166a32"
      },
      "source": [
        "newct.plot(kind='barh', stacked=True)"
      ],
      "execution_count": 132,
      "outputs": [
        {
          "output_type": "execute_result",
          "data": {
            "text/plain": [
              "<matplotlib.axes._subplots.AxesSubplot at 0x7f6f2db78ef0>"
            ]
          },
          "metadata": {
            "tags": []
          },
          "execution_count": 132
        },
        {
          "output_type": "display_data",
          "data": {
            "image/png": "[encoded data removed]",
            "text/plain": [
              "<Figure size 432x288 with 1 Axes>"
            ]
          },
          "metadata": {
            "tags": [],
            "needs_background": "light"
          }
        }
      ]
    },
    {
      "cell_type": "markdown",
      "metadata": {
        "id": "wGi1BW3WJ7Rr"
      },
      "source": [
        ""
      ]
    },
    {
      "cell_type": "markdown",
      "metadata": {
        "id": "fDyvSHkTJ2CZ"
      },
      "source": [
        ""
      ]
    }
  ]
}