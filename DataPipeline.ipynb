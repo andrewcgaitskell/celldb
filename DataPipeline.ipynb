{
  "nbformat": 4,
  "nbformat_minor": 0,
  "metadata": {
    "colab": {
      "name": "MiniConveyorWorking.ipynb",
      "provenance": [],
      "collapsed_sections": [
        "3p8PgjiP0_jY",
        "Bpj2hKhdnGID",
        "GS0NpiKjmlHl",
        "ynhtQQ2H1FgY",
        "gNHjUDxf1KwS",
        "cPktYeFX1Ujq",
        "lChn_UkJZAk1",
        "x_awgfWUgAb2",
        "8IH4GVrigMRd",
        "_BT3jBxRgmOX",
        "qA4u066Zg0Mk",
        "2sZQyqiuhDZc",
        "0if3QQALhaOq",
        "gyZbtquUhhvL",
        "8mbxThrshpF1",
        "xKOG9aHgi8Pj",
        "6aBvm7yzjNqw",
        "wR-RHXokjaoG",
        "AWxtq24ijmSo",
        "lmplCWV-kH6H",
        "5ZW7-6-vkaXi",
        "kbW0Ez8Ekme7",
        "fo-KMY41k1sc",
        "OL-ZYUKOk_cL"
      ],
      "toc_visible": true,
      "include_colab_link": true
    },
    "kernelspec": {
      "display_name": "Python 3",
      "language": "python",
      "name": "python3"
    },
    "language_info": {
      "codemirror_mode": {
        "name": "ipython",
        "version": 3
      },
      "file_extension": ".py",
      "mimetype": "text/x-python",
      "name": "python",
      "nbconvert_exporter": "python",
      "pygments_lexer": "ipython3",
      "version": "3.8.2"
    },
    "widgets": {
      "application/vnd.jupyter.widget-state+json": {
        "31a86a572107479ca63346166131e13d": {
          "model_module": "@jupyter-widgets/controls",
          "model_name": "FileUploadModel",
          "state": {
            "_counter": 1,
            "_dom_classes": [],
            "_model_module": "@jupyter-widgets/controls",
            "_model_module_version": "1.5.0",
            "_model_name": "FileUploadModel",
            "_view_count": null,
            "_view_module": "@jupyter-widgets/controls",
            "_view_module_version": "1.5.0",
            "_view_name": "FileUploadView",
            "accept": "",
            "button_style": "",
            "data": [
              null
            ],
            "description": "Upload",
            "description_tooltip": null,
            "disabled": false,
            "error": "",
            "icon": "upload",
            "layout": "IPY_MODEL_cfb9ad1923ee4ec5b2e946977e9f543d",
            "metadata": [
              {
                "lastModified": 1592218755336,
                "name": "Data.xlsx",
                "size": 114138,
                "type": "application/vnd.openxmlformats-officedocument.spreadsheetml.sheet"
              }
            ],
            "multiple": false,
            "style": "IPY_MODEL_da81ffee312a4e138f0e240e185122bb"
          }
        },
        "da81ffee312a4e138f0e240e185122bb": {
          "model_module": "@jupyter-widgets/controls",
          "model_name": "ButtonStyleModel",
          "state": {
            "_model_module": "@jupyter-widgets/controls",
            "_model_module_version": "1.5.0",
            "_model_name": "ButtonStyleModel",
            "_view_count": null,
            "_view_module": "@jupyter-widgets/base",
            "_view_module_version": "1.2.0",
            "_view_name": "StyleView",
            "button_color": null,
            "font_weight": ""
          }
        },
        "cfb9ad1923ee4ec5b2e946977e9f543d": {
          "model_module": "@jupyter-widgets/base",
          "model_name": "LayoutModel",
          "state": {
            "_model_module": "@jupyter-widgets/base",
            "_model_module_version": "1.2.0",
            "_model_name": "LayoutModel",
            "_view_count": null,
            "_view_module": "@jupyter-widgets/base",
            "_view_module_version": "1.2.0",
            "_view_name": "LayoutView",
            "align_content": null,
            "align_items": null,
            "align_self": null,
            "border": null,
            "bottom": null,
            "display": null,
            "flex": null,
            "flex_flow": null,
            "grid_area": null,
            "grid_auto_columns": null,
            "grid_auto_flow": null,
            "grid_auto_rows": null,
            "grid_column": null,
            "grid_gap": null,
            "grid_row": null,
            "grid_template_areas": null,
            "grid_template_columns": null,
            "grid_template_rows": null,
            "height": null,
            "justify_content": null,
            "justify_items": null,
            "left": null,
            "margin": null,
            "max_height": null,
            "max_width": null,
            "min_height": null,
            "min_width": null,
            "object_fit": null,
            "object_position": null,
            "order": null,
            "overflow": null,
            "overflow_x": null,
            "overflow_y": null,
            "padding": null,
            "right": null,
            "top": null,
            "visibility": null,
            "width": null
          }
        }
      }
    }
  },
  "cells": [
    {
      "cell_type": "markdown",
      "metadata": {
        "id": "view-in-github",
        "colab_type": "text"
      },
      "source": [
        "<a href=\"https://colab.research.google.com/github/andrewcgaitskell/celldb/blob/master/DataPipeline.ipynb\" target=\"_parent\"><img src=\"https://colab.research.google.com/assets/colab-badge.svg\" alt=\"Open In Colab\"/></a>"
      ]
    },
    {
      "cell_type": "markdown",
      "metadata": {
        "id": "-mDz5ZTQ0x1l"
      },
      "source": [
        ""
      ]
    },
    {
      "cell_type": "markdown",
      "metadata": {
        "id": "x1pvdyLtafeF"
      },
      "source": [
        "# Install Libraries"
      ]
    },
    {
      "cell_type": "code",
      "metadata": {
        "id": "AadAQppWP-0p"
      },
      "source": [
        "import pandas as pd\n",
        "import numpy as np"
      ],
      "execution_count": null,
      "outputs": []
    },
    {
      "cell_type": "code",
      "metadata": {
        "id": "vr-1xOUaP-0u"
      },
      "source": [
        "import xlsxwriter\n",
        "import xlrd\n",
        "import matplotlib"
      ],
      "execution_count": null,
      "outputs": []
    },
    {
      "cell_type": "markdown",
      "metadata": {
        "id": "3p8PgjiP0_jY"
      },
      "source": [
        "# Introduction"
      ]
    },
    {
      "cell_type": "code",
      "metadata": {
        "id": "fcUz8nPa4Hh5"
      },
      "source": [
        "from datetime import datetime\n",
        "import os"
      ],
      "execution_count": null,
      "outputs": []
    },
    {
      "cell_type": "code",
      "metadata": {
        "colab": {
          "base_uri": "https://localhost:8080/",
          "height": 34
        },
        "id": "2WPJmc-VvjJ6",
        "outputId": "b40c2859-30d2-496b-940b-1e71ba2cd80d"
      },
      "source": [
        "from datetime import datetime\n",
        "my_date = datetime.now()\n",
        "print(my_date.isoformat())"
      ],
      "execution_count": null,
      "outputs": [
        {
          "output_type": "stream",
          "text": [
            "2020-06-15T15:18:53.632557\n"
          ],
          "name": "stdout"
        }
      ]
    },
    {
      "cell_type": "code",
      "metadata": {
        "colab": {
          "base_uri": "https://localhost:8080/",
          "height": 34
        },
        "id": "g4hWXLKOv8Ko",
        "outputId": "38893a1f-6e80-4352-c9df-43ecb17a08fb"
      },
      "source": [
        "print(my_date.strftime('%Y-%m-%dT%H:%M:%S.%f%z'))"
      ],
      "execution_count": null,
      "outputs": [
        {
          "output_type": "stream",
          "text": [
            "2020-06-15T15:18:53.632557\n"
          ],
          "name": "stdout"
        }
      ]
    },
    {
      "cell_type": "code",
      "metadata": {
        "colab": {
          "base_uri": "https://localhost:8080/",
          "height": 34
        },
        "id": "tBDgMHTowFzq",
        "outputId": "a8d8ac29-343d-4629-ceac-30cd18843c36"
      },
      "source": [
        "runid = \"R\" + my_date.strftime('%Y%m%d%H%M%S%f%z')\n",
        "runid"
      ],
      "execution_count": null,
      "outputs": [
        {
          "output_type": "execute_result",
          "data": {
            "text/plain": [
              "'R20200615151853632557'"
            ]
          },
          "metadata": {
            "tags": []
          },
          "execution_count": 42
        }
      ]
    },
    {
      "cell_type": "code",
      "metadata": {
        "colab": {
          "base_uri": "https://localhost:8080/",
          "height": 34
        },
        "id": "ltPCV36nP-00",
        "outputId": "a277e9fb-dd4d-48ea-8c20-ab75d6c74fca"
      },
      "source": [
        "dirname = os.getcwd()\n",
        "print(dirname)"
      ],
      "execution_count": null,
      "outputs": [
        {
          "output_type": "stream",
          "text": [
            "/home/ubuntu/celldb\n"
          ],
          "name": "stdout"
        }
      ]
    },
    {
      "cell_type": "code",
      "metadata": {
        "id": "Wlg6CawSku84"
      },
      "source": [
        ""
      ],
      "execution_count": null,
      "outputs": []
    },
    {
      "cell_type": "markdown",
      "metadata": {
        "id": "ZTb5uStIkw6B"
      },
      "source": [
        "## Upload File"
      ]
    },
    {
      "cell_type": "markdown",
      "metadata": {
        "id": "ynhtQQ2H1FgY"
      },
      "source": [
        "# Excel Data Types"
      ]
    },
    {
      "cell_type": "markdown",
      "metadata": {
        "id": "zKpghyfbfs1q"
      },
      "source": [
        "The following functions are use to work out the data type of an excel cell."
      ]
    },
    {
      "cell_type": "code",
      "metadata": {
        "id": "gS1sVfVX4bRL"
      },
      "source": [
        "def validate_date(date_text):\n",
        "    try:\n",
        "        format_string = '%Y-%m-%d %H:%M:%S'\n",
        "        datetime.strptime(date_text, format_string)\n",
        "        return \"OK\"\n",
        "    except ValueError:\n",
        "        return None\n",
        "\n",
        "def GetDataType(row_in):\n",
        "    valueasstring = str(row_in['CellValue'])\n",
        "    if validate_date(valueasstring) != None:\n",
        "        return 'Date'\n",
        "    elif valueasstring.isnumeric():\n",
        "        return 'Number'\n",
        "    else:\n",
        "        return 'Text'\n",
        "\n",
        "def add1_2row(row_in):\n",
        "    return row_in['RowID'] + 1\n",
        "\n",
        "\n",
        "def add1_2column(row_in):\n",
        "    return row_in['ColumnID'] + 1"
      ],
      "execution_count": null,
      "outputs": []
    },
    {
      "cell_type": "code",
      "metadata": {
        "colab": {
          "base_uri": "https://localhost:8080/",
          "height": 48,
          "referenced_widgets": [
            "31a86a572107479ca63346166131e13d",
            "da81ffee312a4e138f0e240e185122bb",
            "cfb9ad1923ee4ec5b2e946977e9f543d"
          ]
        },
        "id": "tzOnyRt7kfpN",
        "outputId": "c0c27445-df3a-4380-e34c-08eae1cca712"
      },
      "source": [
        "from ipywidgets import FileUpload\n",
        "upload = FileUpload()\n",
        "upload"
      ],
      "execution_count": null,
      "outputs": [
        {
          "output_type": "display_data",
          "data": {
            "application/vnd.jupyter.widget-view+json": {
              "model_id": "8044b0b06a84416cb2a5e1f610ec00db",
              "version_major": 2,
              "version_minor": 0
            },
            "text/plain": [
              "FileUpload(value={}, description='Upload')"
            ]
          },
          "metadata": {
            "tags": []
          }
        }
      ]
    },
    {
      "cell_type": "code",
      "metadata": {
        "id": "oK3e6oyZ5hh4"
      },
      "source": [
        "import io\n",
        "filedf = pd.read_excel(upload.data[0],sheet_name=None, header=None, encoding='utf-8', errors='ignore')\n"
      ],
      "execution_count": null,
      "outputs": []
    },
    {
      "cell_type": "code",
      "metadata": {
        "colab": {
          "base_uri": "https://localhost:8080/",
          "height": 1000
        },
        "id": "8y-f7KyPmbxn",
        "outputId": "27305da7-6381-4473-936d-f25ca454dfa9"
      },
      "source": [
        "filedf"
      ],
      "execution_count": null,
      "outputs": [
        {
          "output_type": "execute_result",
          "data": {
            "text/plain": [
              "{'AgeGenderSheet':             0                    1      2             3                  4\n",
              " 0         NaN                  NaN    NaN           NaN                NaN\n",
              " 1         NaN                  NaN    NaN           NaN                NaN\n",
              " 2         NaN                  NaN    NaN           NaN                NaN\n",
              " 3         NaN                  NaN    NaN           NaN                NaN\n",
              " 4         NaN            Age Table    NaN           NaN                NaN\n",
              " 5         NaN                  NaN   Name           Age                NaN\n",
              " 6         NaN                  NaN   Paul           -52                NaN\n",
              " 7         NaN                  NaN  Ringo            22                NaN\n",
              " 8         NaN                  NaN  Brian            89                NaN\n",
              " 9         NaN                  NaN    NaN           NaN                NaN\n",
              " 10        NaN                  NaN    NaN           NaN                NaN\n",
              " 11        NaN                  NaN    NaN           NaN                NaN\n",
              " 12        NaN                  NaN    NaN           NaN                NaN\n",
              " 13        NaN                  NaN    NaN  Gender Table                NaN\n",
              " 14        NaN                  NaN    NaN          Name             Gender\n",
              " 15        NaN                  NaN    NaN          Paul               Male\n",
              " 16        NaN                  NaN    NaN         Ringo  Prefer not to say\n",
              " 17        NaN                  NaN    NaN         Brian               Male\n",
              " 18        NaN                  NaN    NaN           NaN                NaN\n",
              " 19        NaN                  NaN    NaN           NaN                NaN\n",
              " 20        NaN                  NaN    NaN           NaN                NaN\n",
              " 21        NaN                  NaN    NaN           NaN                NaN\n",
              " 22  DOB Table                  NaN    NaN           NaN                NaN\n",
              " 23       Name                D.O.B    NaN           NaN                NaN\n",
              " 24       Paul  1955-07-01 00:00:00    NaN           NaN                NaN\n",
              " 25      Ringo  1996-01-09 00:00:00    NaN           NaN                NaN\n",
              " 26      Brian           7th Aug 28    NaN           NaN                NaN,\n",
              " 'HomeSheet':                       0          1\n",
              " 0                   NaN        NaN\n",
              " 1                   NaN        NaN\n",
              " 2                   NaN        NaN\n",
              " 3                   NaN        NaN\n",
              " 4                   NaN        NaN\n",
              " 5                   NaN        NaN\n",
              " 6                   NaN        NaN\n",
              " 7   Home Location Table        NaN\n",
              " 8              Employee   Location\n",
              " 9                 Brian     London\n",
              " 10                Ringo  Liverpool\n",
              " 11                 Paul  Blackpool,\n",
              " 'JobSheet':     0   1                      2              3    4\n",
              " 0 NaN NaN                    NaN            NaN  NaN\n",
              " 1 NaN NaN                    NaN            NaN  NaN\n",
              " 2 NaN NaN                    NaN            NaN  NaN\n",
              " 3 NaN NaN                    NaN            NaN  NaN\n",
              " 4 NaN NaN                    NaN            NaN  NaN\n",
              " 5 NaN NaN  Job Description Table            NaN  NaN\n",
              " 6 NaN NaN              Job Title  Employee Name   ID\n",
              " 7 NaN NaN     Production Manager           Paul    A\n",
              " 8 NaN NaN             Programmer          Ringo    1\n",
              " 9 NaN NaN             Accountant          Brian    2,\n",
              " 'MaritalDepartmentSheet':                       0                  1   2   3                 4  \\\n",
              " 0                   NaN                NaN NaN NaN               NaN   \n",
              " 1                   NaN                NaN NaN NaN  Department Table   \n",
              " 2  Marital Status Table                NaN NaN NaN              Name   \n",
              " 3                  Name             Status NaN NaN              Paul   \n",
              " 4                  Paul            Married NaN NaN             Ringo   \n",
              " 5                 Ringo  Civil Partnership NaN NaN             Brian   \n",
              " 6                 Brian             Single NaN NaN               NaN   \n",
              " \n",
              "             5  \n",
              " 0         NaN  \n",
              " 1         NaN  \n",
              " 2  Department  \n",
              " 3  Production  \n",
              " 4          IT  \n",
              " 5    Accounts  \n",
              " 6         NaN  ,\n",
              " 'DataMap':                          0                      1                     2  \\\n",
              " 0                SheetName          ReferenceText  RowFromReferenceText   \n",
              " 1           AgeGenderSheet              Age Table                     2   \n",
              " 2           AgeGenderSheet              Age Table                     2   \n",
              " 3           AgeGenderSheet           Gender Table                     2   \n",
              " 4           AgeGenderSheet           Gender Table                     2   \n",
              " 5           AgeGenderSheet              DOB Table                     2   \n",
              " 6           AgeGenderSheet              DOB Table                     2   \n",
              " 7   MaritalDepartmentSheet   Marital Status Table                     2   \n",
              " 8   MaritalDepartmentSheet   Marital Status Table                     2   \n",
              " 9   MaritalDepartmentSheet       Department Table                     2   \n",
              " 10  MaritalDepartmentSheet       Department Table                     2   \n",
              " 11                JobSheet  Job Description Table                     2   \n",
              " 12                JobSheet  Job Description Table                     2   \n",
              " 13                JobSheet  Job Description Table                     2   \n",
              " 14               HomeSheet    Home Location Table                     2   \n",
              " 15               HomeSheet    Home Location Table                     2   \n",
              " \n",
              "                           3              4               5             6  \\\n",
              " 0   ColumnFromReferenceText   TemplateText       DataGroup  DataCategory   \n",
              " 1                         1           Name            Ages           NaN   \n",
              " 2                         2            Age            Ages           NaN   \n",
              " 3                         0           Name         Genders           NaN   \n",
              " 4                         1         Gender         Genders           NaN   \n",
              " 5                         0           Name             DoB           NaN   \n",
              " 6                         1          D.O.B             DoB           NaN   \n",
              " 7                         0           Name  Marital Status           NaN   \n",
              " 8                         1         Status  Marital Status           NaN   \n",
              " 9                         0           Name      Department           NaN   \n",
              " 10                        1     Department      Department           NaN   \n",
              " 11                        0      Job Title            Jobs           NaN   \n",
              " 12                        1  Employee Name            Jobs           NaN   \n",
              " 13                        2             ID            Jobs           NaN   \n",
              " 14                        0       Employee   Home Location           NaN   \n",
              " 15                        1       Location   Home Location           NaN   \n",
              " \n",
              "             7              8              9  \n",
              " 0   DataScope  Column Header        Dataset  \n",
              " 1         NaN           Name           Ages  \n",
              " 2         NaN            Age           Ages  \n",
              " 3         NaN           Name        Genders  \n",
              " 4         NaN         Gender        Genders  \n",
              " 5         NaN           Name            DoB  \n",
              " 6         NaN          D.O.B            DoB  \n",
              " 7         NaN           Name  MaritalStatus  \n",
              " 8         NaN         Status  MaritalStatus  \n",
              " 9         NaN           Name     Department  \n",
              " 10        NaN     Department     Department  \n",
              " 11        NaN      Job Title           Jobs  \n",
              " 12        NaN  Employee Name           Jobs  \n",
              " 13        NaN             ID           Jobs  \n",
              " 14        NaN       Employee   HomeLocation  \n",
              " 15        NaN       Location   HomeLocation  ,\n",
              " 'TemplateValidationMap':                          0                 1                      2  \\\n",
              " 0                SheetName           DataSet          ReferenceText   \n",
              " 1           AgeGenderSheet              Ages              Age Table   \n",
              " 2           AgeGenderSheet              Ages              Age Table   \n",
              " 3           AgeGenderSheet              Ages              Age Table   \n",
              " 4           AgeGenderSheet           Genders           Gender Table   \n",
              " 5           AgeGenderSheet           Genders           Gender Table   \n",
              " 6           AgeGenderSheet           Genders           Gender Table   \n",
              " 7           AgeGenderSheet               DoB              DOB Table   \n",
              " 8           AgeGenderSheet               DoB              DOB Table   \n",
              " 9           AgeGenderSheet               DoB              DOB Table   \n",
              " 10  MaritalDepartmentSheet    Marital Status   Marital Status Table   \n",
              " 11  MaritalDepartmentSheet    Marital Status   Marital Status Table   \n",
              " 12  MaritalDepartmentSheet    Marital Status   Marital Status Table   \n",
              " 13  MaritalDepartmentSheet  Department Table       Department Table   \n",
              " 14  MaritalDepartmentSheet  Department Table       Department Table   \n",
              " 15  MaritalDepartmentSheet  Department Table       Department Table   \n",
              " 16                JobSheet              Jobs  Job Description Table   \n",
              " 17                JobSheet              Jobs  Job Description Table   \n",
              " 18                JobSheet              Jobs  Job Description Table   \n",
              " 19                JobSheet              Jobs  Job Description Table   \n",
              " 20               HomeSheet      HomeLocation    Home Location Table   \n",
              " 21               HomeSheet      HomeLocation    Home Location Table   \n",
              " 22               HomeSheet      HomeLocation    Home Location Table   \n",
              " \n",
              "                        3                        4                      5  \n",
              " 0   RowFromReferenceText  ColumnFromReferenceText           TemplateText  \n",
              " 1                      0                        0              Age Table  \n",
              " 2                      1                        1                   Name  \n",
              " 3                      1                        2                    Age  \n",
              " 4                      0                        0           Gender Table  \n",
              " 5                      1                        0                   Name  \n",
              " 6                      1                        1                 Gender  \n",
              " 7                      0                        0              DOB Table  \n",
              " 8                      1                        0                   Name  \n",
              " 9                      2                        1                  D.O.B  \n",
              " 10                     0                        0   Marital Status Table  \n",
              " 11                     1                        0                   Name  \n",
              " 12                     1                        1                 Status  \n",
              " 13                     0                        0       Department Table  \n",
              " 14                     1                        0                   Name  \n",
              " 15                     1                        1             Department  \n",
              " 16                     0                        0  Job Description Table  \n",
              " 17                     1                        0              Job Title  \n",
              " 18                     1                        1          Employee Name  \n",
              " 19                     1                        2                     ID  \n",
              " 20                     0                        0    Home Location Table  \n",
              " 21                     1                        0               Employee  \n",
              " 22                     1                        1               Location  ,\n",
              " 'DataSet':                 0                       1                      2  \\\n",
              " 0         DataSet               SheetName     ReferenceTextStart   \n",
              " 1            Ages          AgeGenderSheet              Age Table   \n",
              " 2            Ages          AgeGenderSheet              Age Table   \n",
              " 3         Genders          AgeGenderSheet           Gender Table   \n",
              " 4         Genders          AgeGenderSheet           Gender Table   \n",
              " 5             DoB          AgeGenderSheet              DOB Table   \n",
              " 6             DoB          AgeGenderSheet              DOB Table   \n",
              " 7   MaritalStatus  MaritalDepartmentSheet   Marital Status Table   \n",
              " 8   MaritalStatus  MaritalDepartmentSheet   Marital Status Table   \n",
              " 9      Department  MaritalDepartmentSheet       Department Table   \n",
              " 10     Department  MaritalDepartmentSheet       Department Table   \n",
              " 11           Jobs                JobSheet  Job Description Table   \n",
              " 12           Jobs                JobSheet  Job Description Table   \n",
              " 13           Jobs                JobSheet  Job Description Table   \n",
              " 14   HomeLocation               HomeSheet    Home Location Table   \n",
              " 15   HomeLocation               HomeSheet    Home Location Table   \n",
              " \n",
              "                    3                     4                        5  \\\n",
              " 0   ReferenceTextEnd  RowFromReferenceText  ColumnFromReferenceText   \n",
              " 1       Gender Table                     2                        1   \n",
              " 2       Gender Table                     2                        2   \n",
              " 3          DOB Table                     2                        0   \n",
              " 4          DOB Table                     2                        1   \n",
              " 5                NaN                     2                        0   \n",
              " 6                NaN                     2                        1   \n",
              " 7                NaN                     2                        0   \n",
              " 8                NaN                     2                        1   \n",
              " 9                NaN                     2                        0   \n",
              " 10               NaN                     2                        1   \n",
              " 11               NaN                     2                        0   \n",
              " 12               NaN                     2                        1   \n",
              " 13               NaN                     2                        2   \n",
              " 14               NaN                     2                        0   \n",
              " 15               NaN                     2                        1   \n",
              " \n",
              "                 6              7                 8                 9  \n",
              " 0   FieldPosition        FieldID  FieldDescription  TableOrientation  \n",
              " 1               1           Name              Name              Down  \n",
              " 2               2            Age               Age              Down  \n",
              " 3               1           Name              Name              Down  \n",
              " 4               2         Gender            Gender              Down  \n",
              " 5               1           Name              Name              Down  \n",
              " 6               2            DoB             D.O.B              Down  \n",
              " 7               1           Name              Name               NaN  \n",
              " 8               2         Status            Status               NaN  \n",
              " 9               1           Name              Name               NaN  \n",
              " 10              2     Department        Department               NaN  \n",
              " 11              1      Job_Title         Job Title               NaN  \n",
              " 12              2  Employee_Name     Employee Name               NaN  \n",
              " 13              3             ID                ID               NaN  \n",
              " 14              1       Employee          Employee               NaN  \n",
              " 15              2       Location          Location               NaN  ,\n",
              " 'Rules':         0                1              2         3       4          5   \\\n",
              " 0   RuleID          DataSet        FieldID  DataType  Format  RangeFrom   \n",
              " 1        1             Ages           Name      Text     NaN        NaN   \n",
              " 2        2             Ages            Age    Number     NaN        NaN   \n",
              " 3        3          Genders           Name      Text     NaN        NaN   \n",
              " 4        4          Genders         Gender      Text     NaN        NaN   \n",
              " 5        5              DoB           Name      Text     NaN        NaN   \n",
              " 6        6              DoB            DoB      Date     NaN        NaN   \n",
              " 7        7    MaritalStatus           Name      Text     NaN        NaN   \n",
              " 8        8    MaritalStatus         Status      Text     NaN        NaN   \n",
              " 9        9  DepartmentTable           Name      Text     NaN        NaN   \n",
              " 10      10  DepartmentTable     Department      Text     NaN        NaN   \n",
              " 11      11             Jobs      Job_Title      Text     NaN        NaN   \n",
              " 12      12             Jobs  Employee_Name      Text     NaN        NaN   \n",
              " 13      13             Jobs             ID    Number     NaN        NaN   \n",
              " 14      14     HomeLocation       Employee      Text     NaN        NaN   \n",
              " 15      15     HomeLocation       Location      Text     NaN        NaN   \n",
              " \n",
              "          6     7       8              9         10              11     12  \n",
              " 0   RangeTo  Null  Length       PickList     Rule1           Rule2  Rule3  \n",
              " 1       NaN     N     NaN            NaN       NaN             NaN    NaN  \n",
              " 2       NaN     N     NaN            NaN  Positive  GreaterThanTen    NaN  \n",
              " 3       NaN     N     NaN            NaN       NaN             NaN    NaN  \n",
              " 4       NaN     N     NaN         Gender       NaN             NaN    NaN  \n",
              " 5       NaN     N     NaN            NaN       NaN             NaN    NaN  \n",
              " 6       NaN     N     NaN            NaN       NaN             NaN    NaN  \n",
              " 7       NaN     N     NaN            NaN       NaN             NaN    NaN  \n",
              " 8       NaN     N     NaN  MaritalStatus       NaN             NaN    NaN  \n",
              " 9       NaN     N     NaN            NaN       NaN             NaN    NaN  \n",
              " 10      NaN     N     NaN            NaN       NaN             NaN    NaN  \n",
              " 11      NaN     N     NaN            NaN       NaN             NaN    NaN  \n",
              " 12      NaN     N     NaN            NaN       NaN             NaN    NaN  \n",
              " 13      NaN     N     NaN            NaN       NaN             NaN    NaN  \n",
              " 14      NaN     N     NaN            NaN       NaN             NaN    NaN  \n",
              " 15      NaN     N     NaN   HomeLocation       NaN             NaN    NaN  ,\n",
              " 'Palette':                        0                                                  1  \\\n",
              " 0                KeyWord                                               Rule   \n",
              " 1                   Date                                       Must Be Date   \n",
              " 2                 Number                                     Must Be Number   \n",
              " 3                   Text                                       Must Be Text   \n",
              " 4                NotNull                                   Must Not Be Null   \n",
              " 5             1OrGreater                               Must be 1 or greater   \n",
              " 6               Positive                                   Must Be Positive   \n",
              " 7            NotNegative                               Must Not Be Negative   \n",
              " 8       FieldSizeMaximum                               Cannot Exceed Length   \n",
              " 9       FieldSizeMinimum                                 Must Exceed Length   \n",
              " 10       FieldSizeLength                               Must Be Exact Length   \n",
              " 11              PickList                                Must Be in Picklist   \n",
              " 12               Pattern                                 Must Match Pattern   \n",
              " 13             DateRange                                   Must Be in Range   \n",
              " 14     IsAllAlphaNumeric                        Only Contain Alpha Numerics   \n",
              " 15                 Email                              Must be Email Address   \n",
              " 16         ShortPostCode  Must contain only the first part of the Post Code   \n",
              " 17  GreaterThanRangeFrom                             Greater than RangeFrom   \n",
              " 18                  Less                                  Less than RangeTo   \n",
              " 19              PostCode                            Must be PostCode format   \n",
              " 20            NoDayInDoB                              No Day entered in DoB   \n",
              " 21        GreaterThanTen                           Must be greater than ten   \n",
              " \n",
              "                                                     2  \\\n",
              " 0                                      CheckPerformed   \n",
              " 1                                   Data Type is Date   \n",
              " 2                                 Data Type is Number   \n",
              " 3                                   Data Type is Text   \n",
              " 4                                Field cannot be Null   \n",
              " 5                              Number is 1 or greater   \n",
              " 6                                  Number is Positive   \n",
              " 7                              Number is Not Negative   \n",
              " 8                                 Field Limit Checked   \n",
              " 9                          Minimum Field Size Checked   \n",
              " 10                           Checked Exact Field Size   \n",
              " 11                               Validate to Picklist   \n",
              " 12                                Validate to Pattern   \n",
              " 13                                 Date Range Checked   \n",
              " 14                              Data is Alpha Numeric   \n",
              " 15                 Data is Formatted as Email address   \n",
              " 16  Length >1 AND length <5 AND First character mu...   \n",
              " 17                             Greater than RangeFrom   \n",
              " 18                                  Less than RangeTo   \n",
              " 19                    CellValue formatted as PostCode   \n",
              " 20                    Check that 01 is only day value   \n",
              " 21                                    Greater than 10   \n",
              " \n",
              "                                    3                4  \\\n",
              " 0                       ErrorMessage  AlteryxDataType   \n",
              " 1                   Date Not Entered             Date   \n",
              " 2                 Number Not Entered           Double   \n",
              " 3                   Text Not Entered         V_String   \n",
              " 4                   No Data in Field              NaN   \n",
              " 5                  Number is below 1              NaN   \n",
              " 6                Number Not Positive              NaN   \n",
              " 7                 Number is Negative              NaN   \n",
              " 8            Data in Field Too Large              NaN   \n",
              " 9            Data in Field Too Small              NaN   \n",
              " 10           Data Entered Wrong Size              NaN   \n",
              " 11             Value Not in Picklist              NaN   \n",
              " 12           Value Not Match Pattern              NaN   \n",
              " 13                Date Outside Range              NaN   \n",
              " 14            Data Not Alpha Numeric              NaN   \n",
              " 15  Data not in email address format              NaN   \n",
              " 16      Postcode Entered Incorrectly              NaN   \n",
              " 17                     Value too low              NaN   \n",
              " 18                    Value too high              NaN   \n",
              " 19                    Not a PostCode              NaN   \n",
              " 20       Day of month entered in DoB              NaN   \n",
              " 21               Not Greater than 10              NaN   \n",
              " \n",
              "                                                     5  \\\n",
              " 0                                      AlteryxFormula   \n",
              " 1     Length([CellValue]) > 0 and [CellType] = \"Date\"   \n",
              " 2   Length([CellValue]) > 0 and [CellType] = \"Number\"   \n",
              " 3   Length([CellValue]) > 0 and Contains([CellType...   \n",
              " 4                             Length([CellValue]) > 0   \n",
              " 5                            ToNumber([CellValue])>=1   \n",
              " 6                            ToNumber([CellValue])>=0   \n",
              " 7                            ToNumber([CellValue])>-1   \n",
              " 8           Length([CellValue]) <= ToNumber([Length])   \n",
              " 9          Length([CellValue]) >=  ToNumber([Length])   \n",
              " 10          Length([CellValue]) =  ToNumber([Length])   \n",
              " 11                 Contains([ListValues],[CellValue])   \n",
              " 12          REGEX_Match([CellValue],\"\\u\\u\\d\\d\\u\\u\\u\")   \n",
              " 13  DateTimeParse([CellValue],\"%Y-%m-%d\") > DateTi...   \n",
              " 14                     REGEX_Match([CellValue],\"\\w+\")   \n",
              " 15  REGEX_Match([CellValue],\"[\\.\\w-]+)@((?:[\\w-]+\\...   \n",
              " 16  Length([CellValue]) <= ToNumber([RangeTo]) AND...   \n",
              " 17       ToNumber([CellValue])>=ToNumber([RangeFrom])   \n",
              " 18         ToNumber([CellValue])<=ToNumber([RangeTo])   \n",
              " 19  Length([CellValue]) <= ToNumber([RangeTo]) AND...   \n",
              " 20                       DateTimeDay([CellValue]) = 1   \n",
              " 21                           ToNumber([CellValue])>10   \n",
              " \n",
              "                                        6  \\\n",
              " 0                         RemedialAction   \n",
              " 1                             Enter Date   \n",
              " 2                           Enter Number   \n",
              " 3                          Enter as Text   \n",
              " 4                    Enter Required Data   \n",
              " 5               Enter value 1 or greater   \n",
              " 6                  Enter Positive Number   \n",
              " 7              Enter Non Negative Number   \n",
              " 8                 Decrease Size of Entry   \n",
              " 9                 Increase Size of Entry   \n",
              " 10            Enter Correctly Sized Data   \n",
              " 11                  Enter Using Picklist   \n",
              " 12                Enter Matching Pattern   \n",
              " 13                   Enter Date in Range   \n",
              " 14              Enter Alpha Numeric Data   \n",
              " 15            Enter a full email address   \n",
              " 16  Enter only first section of Postcode   \n",
              " 17                  Value must be larger   \n",
              " 18                 Value must be smaller   \n",
              " 19                 Enter a full PostCode   \n",
              " 20                   Remove Day from DoB   \n",
              " 21             Enter Age Greater Than 10   \n",
              " \n",
              "                                                     7  \\\n",
              " 0                                          SQLFormula   \n",
              " 1   case when IsNULL([CellValue],'XX') = 'XX' then...   \n",
              " 2   case when IsNULL([CellValue],'XX') = 'XX' then...   \n",
              " 3   case when IsNULL([CellValue],'XX') = 'XX' then...   \n",
              " 4   case when IsNULL([CellValue],'XX') != 'XX' the...   \n",
              " 5   case when TRY_CAST([CellValue] as INT)>=1 then...   \n",
              " 6   case when TRY_CAST([CellValue] as INT)>0 then ...   \n",
              " 7   case when TRY_CAST([CellValue] as INT)>-1 then...   \n",
              " 8   case when Len([CellValue]) <= TRY_CAST([Length...   \n",
              " 9   case when Len([CellValue]) >= TRY_CAST([Length...   \n",
              " 10  case when Len([CellValue]) = TRY_CAST([Length]...   \n",
              " 11  case when CHARINDEX([CellValue],[PicklistValue...   \n",
              " 12  case when CellValue LIKE '[A-Z][A-Z][0-9][0-9]...   \n",
              " 13  case when TRY_CAST([CellValue] as date) > TRY_...   \n",
              " 14  case when [CellValue] LIKE '%[^a-z0-9A-Z]%' th...   \n",
              " 15  case when [CellValue] LIKE '%[^a-z0-9A-Z@]%' t...   \n",
              " 16  case when Len([CellValue]) <= TRY_CAST([RangeT...   \n",
              " 17  case when Len([CellValue]) >= TRY_CAST([RangeF...   \n",
              " 18  case when Len([CellValue]) <= TRY_CAST([RangeT...   \n",
              " 19  case when Len([CellValue]) <= TRY_CAST([RangeT...   \n",
              " 20   case when Day([CellValue]) = 1 then 1 else 0 end   \n",
              " 21  case when TRY_CAST([CellValue] as INT)>10 then...   \n",
              " \n",
              "                                                     8  \n",
              " 0                                       PythonFormula  \n",
              " 1       np.where(dataset['CellType'] == 'Date', 1, 0)  \n",
              " 2     np.where(dataset['CellType'] == 'Number', 1, 0)  \n",
              " 3       np.where(dataset['CellType'] == 'Text', 1, 0)  \n",
              " 4   dataset['CellValue'].isnull().map({True: 0, Fa...  \n",
              " 5                                                 NaN  \n",
              " 6    np.where(dataset['CellValueAsNumber'] > 0, 1, 0)  \n",
              " 7                                                 NaN  \n",
              " 8                                                 NaN  \n",
              " 9                                                 NaN  \n",
              " 10                                                NaN  \n",
              " 11  dataset.apply(lambda x: x['CellValue'] in x['P...  \n",
              " 12                                                NaN  \n",
              " 13                                                NaN  \n",
              " 14                                                NaN  \n",
              " 15                                                NaN  \n",
              " 16                                                NaN  \n",
              " 17                                                NaN  \n",
              " 18                                                NaN  \n",
              " 19                                                NaN  \n",
              " 20                                                NaN  \n",
              " 21  np.where(dataset['CellValueAsNumber'] > 10, 1, 0)  ,\n",
              " 'PickList':                0             1       2\n",
              " 0  MaritalStatus  HomeLocation  Gender\n",
              " 1         Single        London    Male\n",
              " 2        Married     Liverpool  Female}"
            ]
          },
          "metadata": {
            "tags": []
          },
          "execution_count": 54
        }
      ]
    },
    {
      "cell_type": "markdown",
      "metadata": {
        "id": "cPktYeFX1Ujq"
      },
      "source": [
        "# Read All Sheets into Data Frame"
      ]
    },
    {
      "cell_type": "code",
      "metadata": {
        "id": "VYKox_Ng6J0Y"
      },
      "source": [
        "sheetnames = list(filedf.keys())"
      ],
      "execution_count": null,
      "outputs": []
    },
    {
      "cell_type": "code",
      "metadata": {
        "colab": {
          "base_uri": "https://localhost:8080/",
          "height": 34
        },
        "id": "lVh1ixup6WEB",
        "outputId": "401db3c5-211d-4d64-f7e6-a1d044ca5da9"
      },
      "source": [
        "print(sheetnames)"
      ],
      "execution_count": null,
      "outputs": [
        {
          "output_type": "stream",
          "text": [
            "['AgeGenderSheet', 'HomeSheet', 'JobSheet', 'MaritalDepartmentSheet', 'DataMap', 'TemplateValidationMap', 'DataSet', 'Rules', 'Palette', 'PickList']\n"
          ],
          "name": "stdout"
        }
      ]
    },
    {
      "cell_type": "markdown",
      "metadata": {
        "id": "HG-wdyrgq7t6"
      },
      "source": [
        "Each Sheet is retrieved into Dataframes\n",
        "\n",
        "DataMapDF = specdf['DataMap']\n",
        "TemplateValidationMapDF = specdf['TemplateValidationMap']\n",
        "DataSetDF = specdf['DataSet']\n",
        "RulesDF = specdf['Rules']\n",
        "PaletteDF = specdf['Palette']\n",
        "PickListDF = specdf['PickList']\n",
        "datadf = pd.DataFrame()\n"
      ]
    },
    {
      "cell_type": "markdown",
      "metadata": {
        "id": "eF7j_IEBgR0U"
      },
      "source": [
        "The following converts the whole spreadsheet into a cell database and this is used throughout for all data frame population."
      ]
    },
    {
      "cell_type": "code",
      "metadata": {
        "id": "T2Y0O5ZYzv_K",
        "outputId": "a5fe33e3-8dd9-4d47-dec0-d551090639fb"
      },
      "source": [
        "celldbstagedf = pd.DataFrame()\n",
        "sheetdf = filedf['DataMap'].copy()\n",
        "sheetdf[\"RowID\"] = sheetdf.index\n",
        "sheetdf"
      ],
      "execution_count": null,
      "outputs": [
        {
          "output_type": "execute_result",
          "data": {
            "text/html": [
              "<div>\n",
              "<style scoped>\n",
              "    .dataframe tbody tr th:only-of-type {\n",
              "        vertical-align: middle;\n",
              "    }\n",
              "\n",
              "    .dataframe tbody tr th {\n",
              "        vertical-align: top;\n",
              "    }\n",
              "\n",
              "    .dataframe thead th {\n",
              "        text-align: right;\n",
              "    }\n",
              "</style>\n",
              "<table border=\"1\" class=\"dataframe\">\n",
              "  <thead>\n",
              "    <tr style=\"text-align: right;\">\n",
              "      <th></th>\n",
              "      <th>0</th>\n",
              "      <th>1</th>\n",
              "      <th>2</th>\n",
              "      <th>3</th>\n",
              "      <th>4</th>\n",
              "      <th>5</th>\n",
              "      <th>6</th>\n",
              "      <th>7</th>\n",
              "      <th>8</th>\n",
              "      <th>9</th>\n",
              "      <th>RowID</th>\n",
              "    </tr>\n",
              "  </thead>\n",
              "  <tbody>\n",
              "    <tr>\n",
              "      <th>0</th>\n",
              "      <td>SheetName</td>\n",
              "      <td>ReferenceText</td>\n",
              "      <td>RowFromReferenceText</td>\n",
              "      <td>ColumnFromReferenceText</td>\n",
              "      <td>TemplateText</td>\n",
              "      <td>DataGroup</td>\n",
              "      <td>DataCategory</td>\n",
              "      <td>DataScope</td>\n",
              "      <td>Column Header</td>\n",
              "      <td>Dataset</td>\n",
              "      <td>0</td>\n",
              "    </tr>\n",
              "    <tr>\n",
              "      <th>1</th>\n",
              "      <td>AgeGenderSheet</td>\n",
              "      <td>Age Table</td>\n",
              "      <td>2</td>\n",
              "      <td>1</td>\n",
              "      <td>Name</td>\n",
              "      <td>Ages</td>\n",
              "      <td>NaN</td>\n",
              "      <td>NaN</td>\n",
              "      <td>Name</td>\n",
              "      <td>Ages</td>\n",
              "      <td>1</td>\n",
              "    </tr>\n",
              "    <tr>\n",
              "      <th>2</th>\n",
              "      <td>AgeGenderSheet</td>\n",
              "      <td>Age Table</td>\n",
              "      <td>2</td>\n",
              "      <td>2</td>\n",
              "      <td>Age</td>\n",
              "      <td>Ages</td>\n",
              "      <td>NaN</td>\n",
              "      <td>NaN</td>\n",
              "      <td>Age</td>\n",
              "      <td>Ages</td>\n",
              "      <td>2</td>\n",
              "    </tr>\n",
              "    <tr>\n",
              "      <th>3</th>\n",
              "      <td>AgeGenderSheet</td>\n",
              "      <td>Gender Table</td>\n",
              "      <td>2</td>\n",
              "      <td>0</td>\n",
              "      <td>Name</td>\n",
              "      <td>Genders</td>\n",
              "      <td>NaN</td>\n",
              "      <td>NaN</td>\n",
              "      <td>Name</td>\n",
              "      <td>Genders</td>\n",
              "      <td>3</td>\n",
              "    </tr>\n",
              "    <tr>\n",
              "      <th>4</th>\n",
              "      <td>AgeGenderSheet</td>\n",
              "      <td>Gender Table</td>\n",
              "      <td>2</td>\n",
              "      <td>1</td>\n",
              "      <td>Gender</td>\n",
              "      <td>Genders</td>\n",
              "      <td>NaN</td>\n",
              "      <td>NaN</td>\n",
              "      <td>Gender</td>\n",
              "      <td>Genders</td>\n",
              "      <td>4</td>\n",
              "    </tr>\n",
              "    <tr>\n",
              "      <th>5</th>\n",
              "      <td>AgeGenderSheet</td>\n",
              "      <td>DOB Table</td>\n",
              "      <td>2</td>\n",
              "      <td>0</td>\n",
              "      <td>Name</td>\n",
              "      <td>DoB</td>\n",
              "      <td>NaN</td>\n",
              "      <td>NaN</td>\n",
              "      <td>Name</td>\n",
              "      <td>DoB</td>\n",
              "      <td>5</td>\n",
              "    </tr>\n",
              "    <tr>\n",
              "      <th>6</th>\n",
              "      <td>AgeGenderSheet</td>\n",
              "      <td>DOB Table</td>\n",
              "      <td>2</td>\n",
              "      <td>1</td>\n",
              "      <td>D.O.B</td>\n",
              "      <td>DoB</td>\n",
              "      <td>NaN</td>\n",
              "      <td>NaN</td>\n",
              "      <td>D.O.B</td>\n",
              "      <td>DoB</td>\n",
              "      <td>6</td>\n",
              "    </tr>\n",
              "    <tr>\n",
              "      <th>7</th>\n",
              "      <td>MaritalDepartmentSheet</td>\n",
              "      <td>Marital Status Table</td>\n",
              "      <td>2</td>\n",
              "      <td>0</td>\n",
              "      <td>Name</td>\n",
              "      <td>Marital Status</td>\n",
              "      <td>NaN</td>\n",
              "      <td>NaN</td>\n",
              "      <td>Name</td>\n",
              "      <td>MaritalStatus</td>\n",
              "      <td>7</td>\n",
              "    </tr>\n",
              "    <tr>\n",
              "      <th>8</th>\n",
              "      <td>MaritalDepartmentSheet</td>\n",
              "      <td>Marital Status Table</td>\n",
              "      <td>2</td>\n",
              "      <td>1</td>\n",
              "      <td>Status</td>\n",
              "      <td>Marital Status</td>\n",
              "      <td>NaN</td>\n",
              "      <td>NaN</td>\n",
              "      <td>Status</td>\n",
              "      <td>MaritalStatus</td>\n",
              "      <td>8</td>\n",
              "    </tr>\n",
              "    <tr>\n",
              "      <th>9</th>\n",
              "      <td>MaritalDepartmentSheet</td>\n",
              "      <td>Department Table</td>\n",
              "      <td>2</td>\n",
              "      <td>0</td>\n",
              "      <td>Name</td>\n",
              "      <td>Department</td>\n",
              "      <td>NaN</td>\n",
              "      <td>NaN</td>\n",
              "      <td>Name</td>\n",
              "      <td>Department</td>\n",
              "      <td>9</td>\n",
              "    </tr>\n",
              "    <tr>\n",
              "      <th>10</th>\n",
              "      <td>MaritalDepartmentSheet</td>\n",
              "      <td>Department Table</td>\n",
              "      <td>2</td>\n",
              "      <td>1</td>\n",
              "      <td>Department</td>\n",
              "      <td>Department</td>\n",
              "      <td>NaN</td>\n",
              "      <td>NaN</td>\n",
              "      <td>Department</td>\n",
              "      <td>Department</td>\n",
              "      <td>10</td>\n",
              "    </tr>\n",
              "    <tr>\n",
              "      <th>11</th>\n",
              "      <td>JobSheet</td>\n",
              "      <td>Job Description Table</td>\n",
              "      <td>2</td>\n",
              "      <td>0</td>\n",
              "      <td>Job Title</td>\n",
              "      <td>Jobs</td>\n",
              "      <td>NaN</td>\n",
              "      <td>NaN</td>\n",
              "      <td>Job Title</td>\n",
              "      <td>Jobs</td>\n",
              "      <td>11</td>\n",
              "    </tr>\n",
              "    <tr>\n",
              "      <th>12</th>\n",
              "      <td>JobSheet</td>\n",
              "      <td>Job Description Table</td>\n",
              "      <td>2</td>\n",
              "      <td>1</td>\n",
              "      <td>Employee Name</td>\n",
              "      <td>Jobs</td>\n",
              "      <td>NaN</td>\n",
              "      <td>NaN</td>\n",
              "      <td>Employee Name</td>\n",
              "      <td>Jobs</td>\n",
              "      <td>12</td>\n",
              "    </tr>\n",
              "    <tr>\n",
              "      <th>13</th>\n",
              "      <td>JobSheet</td>\n",
              "      <td>Job Description Table</td>\n",
              "      <td>2</td>\n",
              "      <td>2</td>\n",
              "      <td>ID</td>\n",
              "      <td>Jobs</td>\n",
              "      <td>NaN</td>\n",
              "      <td>NaN</td>\n",
              "      <td>ID</td>\n",
              "      <td>Jobs</td>\n",
              "      <td>13</td>\n",
              "    </tr>\n",
              "    <tr>\n",
              "      <th>14</th>\n",
              "      <td>HomeSheet</td>\n",
              "      <td>Home Location Table</td>\n",
              "      <td>2</td>\n",
              "      <td>0</td>\n",
              "      <td>Employee</td>\n",
              "      <td>Home Location</td>\n",
              "      <td>NaN</td>\n",
              "      <td>NaN</td>\n",
              "      <td>Employee</td>\n",
              "      <td>HomeLocation</td>\n",
              "      <td>14</td>\n",
              "    </tr>\n",
              "    <tr>\n",
              "      <th>15</th>\n",
              "      <td>HomeSheet</td>\n",
              "      <td>Home Location Table</td>\n",
              "      <td>2</td>\n",
              "      <td>1</td>\n",
              "      <td>Location</td>\n",
              "      <td>Home Location</td>\n",
              "      <td>NaN</td>\n",
              "      <td>NaN</td>\n",
              "      <td>Location</td>\n",
              "      <td>HomeLocation</td>\n",
              "      <td>15</td>\n",
              "    </tr>\n",
              "  </tbody>\n",
              "</table>\n",
              "</div>"
            ],
            "text/plain": [
              "                         0                      1                     2  \\\n",
              "0                SheetName          ReferenceText  RowFromReferenceText   \n",
              "1           AgeGenderSheet              Age Table                     2   \n",
              "2           AgeGenderSheet              Age Table                     2   \n",
              "3           AgeGenderSheet           Gender Table                     2   \n",
              "4           AgeGenderSheet           Gender Table                     2   \n",
              "5           AgeGenderSheet              DOB Table                     2   \n",
              "6           AgeGenderSheet              DOB Table                     2   \n",
              "7   MaritalDepartmentSheet   Marital Status Table                     2   \n",
              "8   MaritalDepartmentSheet   Marital Status Table                     2   \n",
              "9   MaritalDepartmentSheet       Department Table                     2   \n",
              "10  MaritalDepartmentSheet       Department Table                     2   \n",
              "11                JobSheet  Job Description Table                     2   \n",
              "12                JobSheet  Job Description Table                     2   \n",
              "13                JobSheet  Job Description Table                     2   \n",
              "14               HomeSheet    Home Location Table                     2   \n",
              "15               HomeSheet    Home Location Table                     2   \n",
              "\n",
              "                          3              4               5             6  \\\n",
              "0   ColumnFromReferenceText   TemplateText       DataGroup  DataCategory   \n",
              "1                         1           Name            Ages           NaN   \n",
              "2                         2            Age            Ages           NaN   \n",
              "3                         0           Name         Genders           NaN   \n",
              "4                         1         Gender         Genders           NaN   \n",
              "5                         0           Name             DoB           NaN   \n",
              "6                         1          D.O.B             DoB           NaN   \n",
              "7                         0           Name  Marital Status           NaN   \n",
              "8                         1         Status  Marital Status           NaN   \n",
              "9                         0           Name      Department           NaN   \n",
              "10                        1     Department      Department           NaN   \n",
              "11                        0      Job Title            Jobs           NaN   \n",
              "12                        1  Employee Name            Jobs           NaN   \n",
              "13                        2             ID            Jobs           NaN   \n",
              "14                        0       Employee   Home Location           NaN   \n",
              "15                        1       Location   Home Location           NaN   \n",
              "\n",
              "            7              8              9  RowID  \n",
              "0   DataScope  Column Header        Dataset      0  \n",
              "1         NaN           Name           Ages      1  \n",
              "2         NaN            Age           Ages      2  \n",
              "3         NaN           Name        Genders      3  \n",
              "4         NaN         Gender        Genders      4  \n",
              "5         NaN           Name            DoB      5  \n",
              "6         NaN          D.O.B            DoB      6  \n",
              "7         NaN           Name  MaritalStatus      7  \n",
              "8         NaN         Status  MaritalStatus      8  \n",
              "9         NaN           Name     Department      9  \n",
              "10        NaN     Department     Department     10  \n",
              "11        NaN      Job Title           Jobs     11  \n",
              "12        NaN  Employee Name           Jobs     12  \n",
              "13        NaN             ID           Jobs     13  \n",
              "14        NaN       Employee   HomeLocation     14  \n",
              "15        NaN       Location   HomeLocation     15  "
            ]
          },
          "metadata": {
            "tags": []
          },
          "execution_count": 57
        }
      ]
    },
    {
      "cell_type": "code",
      "metadata": {
        "id": "ts-N1j3I7qdg"
      },
      "source": [
        "for currentsheetname in sheetnames:\n",
        "\n",
        "    sheetdf = filedf[currentsheetname].copy()\n",
        "    sheetdf[\"RowID\"] = sheetdf.index\n",
        "    celldb = pd.melt(sheetdf, id_vars=['RowID'])\n",
        "    celldb = celldb.rename(columns={\"variable\": \"ColumnID\", \"value\": \"CellValue\"})\n",
        "    celldb[\"CellType\"] = \"Unset\"\n",
        "    celldb[\"FileName\"] = runid\n",
        "    celldb[\"SheetName\"] = currentsheetname\n",
        "    \n",
        "    celldb[\"ColumnID\"] = celldb[\"ColumnID\"]\n",
        "\n",
        "    try:\n",
        "        celldb[\"CellType\"] = celldb.apply(GetDataType, axis=1)\n",
        "        celldb[\"RowID\"] = celldb.apply(add1_2row, axis=1)\n",
        "        celldb[\"ColumnID\"] = celldb.apply(add1_2column, axis=1)\n",
        "\n",
        "    except:\n",
        "\n",
        "        celldb[\"CellType\"] = 'unknown'\n",
        "        celldb[\"RowID\"] = 0\n",
        "        celldb[\"ColumnID\"] = 0\n",
        "\n",
        "    celldbstagedf = celldbstagedf.append(celldb, ignore_index=True)\n",
        "\n",
        "    celldb = pd.DataFrame()\n",
        "\n"
      ],
      "execution_count": null,
      "outputs": []
    },
    {
      "cell_type": "code",
      "metadata": {
        "id": "gWEQWuO1xcvB",
        "outputId": "1a713d1a-6833-458c-c5c9-96cc1f069031"
      },
      "source": [
        "df = celldbstagedf[celldbstagedf['SheetName']=='AgeGenderSheet']\n",
        "df"
      ],
      "execution_count": null,
      "outputs": [
        {
          "output_type": "execute_result",
          "data": {
            "text/html": [
              "<div>\n",
              "<style scoped>\n",
              "    .dataframe tbody tr th:only-of-type {\n",
              "        vertical-align: middle;\n",
              "    }\n",
              "\n",
              "    .dataframe tbody tr th {\n",
              "        vertical-align: top;\n",
              "    }\n",
              "\n",
              "    .dataframe thead th {\n",
              "        text-align: right;\n",
              "    }\n",
              "</style>\n",
              "<table border=\"1\" class=\"dataframe\">\n",
              "  <thead>\n",
              "    <tr style=\"text-align: right;\">\n",
              "      <th></th>\n",
              "      <th>RowID</th>\n",
              "      <th>ColumnID</th>\n",
              "      <th>CellValue</th>\n",
              "      <th>CellType</th>\n",
              "      <th>FileName</th>\n",
              "      <th>SheetName</th>\n",
              "    </tr>\n",
              "  </thead>\n",
              "  <tbody>\n",
              "    <tr>\n",
              "      <th>0</th>\n",
              "      <td>0</td>\n",
              "      <td>0</td>\n",
              "      <td>NaN</td>\n",
              "      <td>Text</td>\n",
              "      <td>R20200615151853632557</td>\n",
              "      <td>AgeGenderSheet</td>\n",
              "    </tr>\n",
              "    <tr>\n",
              "      <th>1</th>\n",
              "      <td>1</td>\n",
              "      <td>0</td>\n",
              "      <td>NaN</td>\n",
              "      <td>Text</td>\n",
              "      <td>R20200615151853632557</td>\n",
              "      <td>AgeGenderSheet</td>\n",
              "    </tr>\n",
              "    <tr>\n",
              "      <th>2</th>\n",
              "      <td>2</td>\n",
              "      <td>0</td>\n",
              "      <td>NaN</td>\n",
              "      <td>Text</td>\n",
              "      <td>R20200615151853632557</td>\n",
              "      <td>AgeGenderSheet</td>\n",
              "    </tr>\n",
              "    <tr>\n",
              "      <th>3</th>\n",
              "      <td>3</td>\n",
              "      <td>0</td>\n",
              "      <td>NaN</td>\n",
              "      <td>Text</td>\n",
              "      <td>R20200615151853632557</td>\n",
              "      <td>AgeGenderSheet</td>\n",
              "    </tr>\n",
              "    <tr>\n",
              "      <th>4</th>\n",
              "      <td>4</td>\n",
              "      <td>0</td>\n",
              "      <td>NaN</td>\n",
              "      <td>Text</td>\n",
              "      <td>R20200615151853632557</td>\n",
              "      <td>AgeGenderSheet</td>\n",
              "    </tr>\n",
              "    <tr>\n",
              "      <th>...</th>\n",
              "      <td>...</td>\n",
              "      <td>...</td>\n",
              "      <td>...</td>\n",
              "      <td>...</td>\n",
              "      <td>...</td>\n",
              "      <td>...</td>\n",
              "    </tr>\n",
              "    <tr>\n",
              "      <th>2378</th>\n",
              "      <td>23</td>\n",
              "      <td>5</td>\n",
              "      <td>NaN</td>\n",
              "      <td>Text</td>\n",
              "      <td>R20200615151853632557</td>\n",
              "      <td>AgeGenderSheet</td>\n",
              "    </tr>\n",
              "    <tr>\n",
              "      <th>2379</th>\n",
              "      <td>24</td>\n",
              "      <td>5</td>\n",
              "      <td>NaN</td>\n",
              "      <td>Text</td>\n",
              "      <td>R20200615151853632557</td>\n",
              "      <td>AgeGenderSheet</td>\n",
              "    </tr>\n",
              "    <tr>\n",
              "      <th>2380</th>\n",
              "      <td>25</td>\n",
              "      <td>5</td>\n",
              "      <td>NaN</td>\n",
              "      <td>Text</td>\n",
              "      <td>R20200615151853632557</td>\n",
              "      <td>AgeGenderSheet</td>\n",
              "    </tr>\n",
              "    <tr>\n",
              "      <th>2381</th>\n",
              "      <td>26</td>\n",
              "      <td>5</td>\n",
              "      <td>NaN</td>\n",
              "      <td>Text</td>\n",
              "      <td>R20200615151853632557</td>\n",
              "      <td>AgeGenderSheet</td>\n",
              "    </tr>\n",
              "    <tr>\n",
              "      <th>2382</th>\n",
              "      <td>27</td>\n",
              "      <td>5</td>\n",
              "      <td>NaN</td>\n",
              "      <td>Text</td>\n",
              "      <td>R20200615151853632557</td>\n",
              "      <td>AgeGenderSheet</td>\n",
              "    </tr>\n",
              "  </tbody>\n",
              "</table>\n",
              "<p>405 rows × 6 columns</p>\n",
              "</div>"
            ],
            "text/plain": [
              "      RowID  ColumnID CellValue CellType               FileName  \\\n",
              "0         0         0       NaN     Text  R20200615151853632557   \n",
              "1         1         0       NaN     Text  R20200615151853632557   \n",
              "2         2         0       NaN     Text  R20200615151853632557   \n",
              "3         3         0       NaN     Text  R20200615151853632557   \n",
              "4         4         0       NaN     Text  R20200615151853632557   \n",
              "...     ...       ...       ...      ...                    ...   \n",
              "2378     23         5       NaN     Text  R20200615151853632557   \n",
              "2379     24         5       NaN     Text  R20200615151853632557   \n",
              "2380     25         5       NaN     Text  R20200615151853632557   \n",
              "2381     26         5       NaN     Text  R20200615151853632557   \n",
              "2382     27         5       NaN     Text  R20200615151853632557   \n",
              "\n",
              "           SheetName  \n",
              "0     AgeGenderSheet  \n",
              "1     AgeGenderSheet  \n",
              "2     AgeGenderSheet  \n",
              "3     AgeGenderSheet  \n",
              "4     AgeGenderSheet  \n",
              "...              ...  \n",
              "2378  AgeGenderSheet  \n",
              "2379  AgeGenderSheet  \n",
              "2380  AgeGenderSheet  \n",
              "2381  AgeGenderSheet  \n",
              "2382  AgeGenderSheet  \n",
              "\n",
              "[405 rows x 6 columns]"
            ]
          },
          "metadata": {
            "tags": []
          },
          "execution_count": 63
        }
      ]
    },
    {
      "cell_type": "markdown",
      "metadata": {
        "id": "lChn_UkJZAk1"
      },
      "source": [
        "# Get Picklist Values"
      ]
    },
    {
      "cell_type": "markdown",
      "metadata": {
        "id": "t5ghg_PvYeSH"
      },
      "source": [
        "Picklist are like a mini Master Data Management System\n",
        "\n",
        "They define the acceptable values for a partcular Field in Excel\n",
        "\n",
        "The challenge here was to check one column to a another column that contained a list.  I go there in the end."
      ]
    },
    {
      "cell_type": "code",
      "metadata": {
        "id": "r0sO9VyetelZ"
      },
      "source": [
        "PickListCells = pd.DataFrame()\n",
        "# This process uses the full cell database as the column headings are the Picklist Names\n",
        "PickListCells = fullcelldb[(fullcelldb['SheetName'] == 'PickList')].copy()\n",
        "# PickListCellsList = PickListCells.groupby('ColumnID')['CellValue'].apply(lambda group_series: group_series.tolist()).reset_index()\n",
        "\n",
        "PickListCellsList = PickListCells.groupby('ColumnID').agg({'CellValue':lambda x: list(x)})\n",
        "\n",
        "# these were odd, but glad I work them out, it is important to realise that these are operations on a number of rows, not just one\n",
        "# maybe it was the axis that made the difference!\n",
        "PickListCellsList['KeyWord'] = PickListCellsList.apply(lambda row : row['CellValue'][0], axis = 1)\n",
        "PickListCellsList['FormulaKeyWord'] = PickListCellsList.apply(lambda row : 'PickList', axis = 1)\n",
        "PickListCellsList['List'] = PickListCellsList.apply(lambda row : row['CellValue'][1:], axis = 1)\n",
        "# PickListCellsList['KeyWord'] = PickListCellsList['CellValue']\n",
        "#PickListCellsList= pd.DataFrame(PickListCellsList, columns=['KeyWord', 'List'])\n",
        "PickListCellsList = pd.DataFrame(PickListCellsList, columns=['KeyWord', 'FormulaKeyWord', 'List'])\n",
        "PickListCellsList.head()"
      ],
      "execution_count": null,
      "outputs": []
    },
    {
      "cell_type": "code",
      "metadata": {
        "id": "6OG1yqBvV3m8"
      },
      "source": [
        "# These were attempts at creating a suitable list for the function to check to\n",
        "\n",
        "# PickListCellsList['Result'] = PickListCellsList['KeyWord'].isin(PickListCellsList['List']).map({True: 0, False: 1})\n",
        "\n",
        "# PickListCellsList['Result'] = PickListCellsList['KeyWord'].str.contains('|'.join(PickListCellsList['List']))\n",
        "# PickListCellsList['Result'] = PickListCellsList['KeyWord'].str.contains('|'.join(x) for x in PickListCellsList['List'])\n",
        "# [\"\".join(x) for x in lst]\n",
        "# PickListCellsList['ListAsString'] = PickListCellsList['List'].str.join('-')\n",
        "# PickListCellsList['ListAsTuple'] = tuple(PickListCellsList['CellValue'])\n"
      ],
      "execution_count": null,
      "outputs": []
    },
    {
      "cell_type": "code",
      "metadata": {
        "id": "94BawuhvSCe8"
      },
      "source": [
        "#MyList = pd.DataFrame()\n",
        "#MyList =  PickListCellsList\n",
        "# still do not know why the following DOES NOT WORK!\n",
        "# MyList['Result'] = PickListCellsList['ListAsString'].isin(PickListCellsList['KeyWord'])\n",
        "\n",
        "# leaving this as a rememberance of the 6 hours spent on this!\n",
        "# MyList['Result1'] = PickListCellsList['KeyWord'].apply(lambda x: any(i in x for i in PickListCellsList['List']))\n",
        "# MyList['Result2'] = PickListCellsList['ListAsString'].str.contains(PickListCellsList['KeyWord'])\n",
        "# mask = df['A'].apply(lambda x: any(i in x for i in search_list))\n",
        "# PickListCellsList['Result2'] = PickListCellsList['ListAsTuple'].str.contains(PickListCellsList['KeyWord'])\n",
        "# PickListCellsList['Result2'] = PickListCellsList['KeyWord'].str.contains(tuple(PickListCellsList['List']))\n",
        "# PickListCellsList['ListAsTuple'].isin(PickListCellsList['KeyWord'])\n",
        "# MyList['Result2'] = PickListCellsList['List'].apply(lambda x: True if (PickListCellsList.KeyWord in x).any() else False)\n",
        "######### MyList['sing'] = 'Single'\n",
        "# MyList['res1'] = MyList.apply(lambda ts: any(ts == 'Single'), axis=1)\n",
        "# MyList['res2'] = MyList.apply(lambda ts: MyList['KeyWord'].str.contains('Single'), axis=1)\n",
        "######### MyList['res3'] = MyList.apply(lambda x: x['sing'] in x['ListAsTuple'], axis=1)  ###############\n",
        "######### MyList['res4'] = MyList.apply(lambda x: x['sing'] in x['List'], axis=1).map({True: 1, False: 0}) ###############\n",
        "# # # # dataset.apply(lambda x: x['CellValue'] in x['PickList'], axis=1).map({True: 1, False: 0})\n",
        "# data['Activity].str.contains('skin diving')\n",
        "# lambda x : True if (x > 10 and x < 20) else False\n",
        "#MyList.head()\n",
        "# https://stackoverflow.com/questions/48460234/pandas-apply-valueerror-the-truth-value-of-a-series-is-ambigous"
      ],
      "execution_count": null,
      "outputs": []
    },
    {
      "cell_type": "markdown",
      "metadata": {
        "id": "x_awgfWUgAb2"
      },
      "source": [
        "# Get Data Map"
      ]
    },
    {
      "cell_type": "code",
      "metadata": {
        "id": "5wSue_afTLJq"
      },
      "source": [
        "DataMapCells = pd.DataFrame()\n",
        "DataMapCells = fullcelldb[(fullcelldb['SheetName'] == 'DataMap')].copy()\n",
        "DataMapCells.head()"
      ],
      "execution_count": null,
      "outputs": []
    },
    {
      "cell_type": "markdown",
      "metadata": {
        "id": "zdWkGWSmL6ru"
      },
      "source": [
        "Below extracts a Sheet from the cell database and reshapes it to it original tabular form."
      ]
    },
    {
      "cell_type": "code",
      "metadata": {
        "id": "oPSRDxU8t_Mc"
      },
      "source": [
        "DataMap = pd.DataFrame()\n",
        "DataMap = DataMapCells.pivot_table(index = ['RowID'], values = 'CellValue',columns = 'ColumnID', aggfunc = 'max')\n",
        "ColumnHeadings = DataMap.iloc[0]\n",
        "ColumnHeadingsList = list(ColumnHeadings)\n",
        "print(ColumnHeadingsList)\n",
        "ColumnHeadingsListTuple = enumerate(ColumnHeadingsList,start=1)\n",
        "ColumnHeadingsListDict = dict(ColumnHeadingsListTuple)\n",
        "print(ColumnHeadingsListDict)\n",
        "DataMap = DataMap.rename(columns=ColumnHeadingsListDict)\n",
        "DataMap = DataMap.drop([1])\n",
        "DataMap.head()"
      ],
      "execution_count": null,
      "outputs": []
    },
    {
      "cell_type": "markdown",
      "metadata": {
        "id": "8IH4GVrigMRd"
      },
      "source": [
        "# Make Rules Database"
      ]
    },
    {
      "cell_type": "code",
      "metadata": {
        "id": "pJGHXeJwMdE7"
      },
      "source": [
        "RulesDF.head()"
      ],
      "execution_count": null,
      "outputs": []
    },
    {
      "cell_type": "markdown",
      "metadata": {
        "id": "2w0CkOgoMmRS"
      },
      "source": [
        "The above is the Rules definition sheet. It used KeyWords to define the checks.  Below forms a list of KeyWords that are relevant to a particular field in a DataSet"
      ]
    },
    {
      "cell_type": "code",
      "metadata": {
        "id": "6Q_4gGPS9rtm"
      },
      "source": [
        "rulesdb = pd.DataFrame()\n",
        "rulesdb = pd.melt(RulesDF, id_vars=['RuleID', 'DataSet', 'FieldID'])\n",
        "rulesdb = rulesdb.rename(columns={\"variable\": \"RuleType\", \"value\": \"KeyWord\"})\n",
        "rulesdb = rulesdb[rulesdb.KeyWord.notnull()]\n",
        "# df['A'] = df.apply(lambda x: x['B'] if x['A']==0 else x['A'], axis=1)\n",
        "# The following adds the KeyWord Null into the Rules list - if Null is N, this means Nulls are Not Allowed\n",
        "rulesdb['KeyWord'] = rulesdb.apply(lambda x: x['RuleType'] if x['KeyWord']=='N' else x['KeyWord'], axis=1)\n",
        "\n",
        "PickListCellsList\n",
        "\n",
        "rulesdb = pd.merge(rulesdb,PickListCellsList, on=['KeyWord'],how='left')\n",
        "\n",
        "rulesdb.head(5)"
      ],
      "execution_count": null,
      "outputs": []
    },
    {
      "cell_type": "markdown",
      "metadata": {
        "id": "_BT3jBxRgmOX"
      },
      "source": [
        "# Add Code and Formulae to Rules Database"
      ]
    },
    {
      "cell_type": "markdown",
      "metadata": {
        "id": "FjPsx40uNGbC"
      },
      "source": [
        "Palette defines the Rule Text and Rule Formula.  We have implemented rules on Alteryx, SQL, Python & Javascript"
      ]
    },
    {
      "cell_type": "code",
      "metadata": {
        "id": "C5qzWLTy9uOh"
      },
      "source": [
        "palette = pd.DataFrame()\n",
        "palette = pd.merge(DataSetDF, rulesdb, on=['FieldID', 'DataSet'])\n",
        "palette['KeyWord'] = rulesdb.apply(lambda x: x['FormulaKeyWord'] if x['FormulaKeyWord']=='PickList' else x['KeyWord'], axis=1)\n",
        "palette.head(5)"
      ],
      "execution_count": null,
      "outputs": []
    },
    {
      "cell_type": "code",
      "metadata": {
        "id": "qKr38LQxP-19"
      },
      "source": [
        "\n",
        "palette = pd.merge(palette, PaletteDF, on=['KeyWord'],how='left')\n"
      ],
      "execution_count": null,
      "outputs": []
    },
    {
      "cell_type": "code",
      "metadata": {
        "id": "agn-y_XpjZQM",
        "scrolled": false
      },
      "source": [
        "palette.head(5)"
      ],
      "execution_count": null,
      "outputs": []
    },
    {
      "cell_type": "markdown",
      "metadata": {
        "id": "qA4u066Zg0Mk"
      },
      "source": [
        "# Get Start Anchor Cells"
      ]
    },
    {
      "cell_type": "markdown",
      "metadata": {
        "id": "c-Q7nZsaNliz"
      },
      "source": [
        "Start Anchors are where tables are mapped from, every dataset in the spreadsheet must be anchored to a uniquely identifiable cell in a particular sheet."
      ]
    },
    {
      "cell_type": "code",
      "metadata": {
        "id": "yzZcf-vY9wpZ"
      },
      "source": [
        "startanchors = pd.DataFrame()\n",
        "startanchors = pd.DataFrame(DataSetDF, columns=['DataSet', 'SheetName', 'ReferenceTextStart'])\n",
        "startanchors = startanchors.rename(columns={\"ReferenceTextStart\": \"CellValue\"})\n",
        "startanchors = startanchors.drop_duplicates()\n",
        "startanchors.head()\n"
      ],
      "execution_count": null,
      "outputs": []
    },
    {
      "cell_type": "markdown",
      "metadata": {
        "id": "2sZQyqiuhDZc"
      },
      "source": [
        "# Get All End Anchor Cells"
      ]
    },
    {
      "cell_type": "markdown",
      "metadata": {
        "id": "EEcTX6mKN6eA"
      },
      "source": [
        "End anchors are where a dataset finishes. Probably at the next Start Anchor.\n",
        "This does mean that blank rows are validated and one needs to filter these out later. "
      ]
    },
    {
      "cell_type": "code",
      "metadata": {
        "id": "YcNpmVwGDvEm"
      },
      "source": [
        "endanchors = pd.DataFrame()\n",
        "endanchors = pd.DataFrame(DataSetDF, columns=['DataSet', 'SheetName', 'ReferenceTextEnd'])\n",
        "endanchors = endanchors.rename(columns={\"ReferenceTextEnd\": \"CellValue\"})\n",
        "endanchors = endanchors.drop_duplicates()\n",
        "endanchors.head()"
      ],
      "execution_count": null,
      "outputs": []
    },
    {
      "cell_type": "markdown",
      "metadata": {
        "id": "0if3QQALhaOq"
      },
      "source": [
        "# Find Start Anchors"
      ]
    },
    {
      "cell_type": "markdown",
      "metadata": {
        "id": "tkT3RUFuOVh-"
      },
      "source": [
        "Now we look for the start and finish anchor cells for each dataset."
      ]
    },
    {
      "cell_type": "code",
      "metadata": {
        "id": "_ZhaXHgY9732"
      },
      "source": [
        "findstartanchors = pd.DataFrame()\n",
        "findstartanchors = pd.merge(startanchors, fullcelldfstage, on=['SheetName', 'CellValue'])\n",
        "findstartanchors = findstartanchors.rename(columns={\"RowID\": \"AnchorRow\", \"ColumnID\": \"AnchorColumn\"})\n",
        "findstartanchors = pd.DataFrame(findstartanchors, columns=['DataSet', 'SheetName', 'AnchorRow', 'AnchorColumn'])\n",
        "findstartanchors.head()"
      ],
      "execution_count": null,
      "outputs": []
    },
    {
      "cell_type": "markdown",
      "metadata": {
        "id": "gyZbtquUhhvL"
      },
      "source": [
        "# Find End Anchors"
      ]
    },
    {
      "cell_type": "markdown",
      "metadata": {
        "id": "-FAdPT1ZO2lC"
      },
      "source": [
        "Some datasets have no finish anchors as they are the last table in the sheet."
      ]
    },
    {
      "cell_type": "code",
      "metadata": {
        "id": "PhHBF2ChEC0f"
      },
      "source": [
        "findendanchors = pd.DataFrame()\n",
        "findendanchors = pd.merge(endanchors, fullcelldfstage, on=['SheetName', 'CellValue'])\n",
        "findendanchors = findendanchors.rename(columns={\"RowID\": \"EndRow\"})\n",
        "findendanchors = findendanchors[findendanchors.CellValue.notnull()]\n",
        "findendanchors = pd.DataFrame(findendanchors, columns=['DataSet', 'SheetName', 'EndRow'])\n",
        "findendanchors.head()\n"
      ],
      "execution_count": null,
      "outputs": []
    },
    {
      "cell_type": "markdown",
      "metadata": {
        "id": "8mbxThrshpF1"
      },
      "source": [
        "# Join Anchors Together"
      ]
    },
    {
      "cell_type": "markdown",
      "metadata": {
        "id": "eqq-eNb4PDY2"
      },
      "source": [
        "Join the anchors to allow them to be joined with the data table\n",
        "As stated above, some DataSets have NaN as the EndRow as there is no further data in the sheet"
      ]
    },
    {
      "cell_type": "code",
      "metadata": {
        "id": "6E8J3-NIEFx1"
      },
      "source": [
        "anchors = pd.DataFrame()\n",
        "anchors = pd.merge(findstartanchors, findendanchors, on=['DataSet', 'SheetName'], how='left')\n",
        "anchors.head()"
      ],
      "execution_count": null,
      "outputs": []
    },
    {
      "cell_type": "markdown",
      "metadata": {
        "id": "caBieiT0hzvd"
      },
      "source": [
        "# Using Anchors and Dataset Create Map to Find Data"
      ]
    },
    {
      "cell_type": "markdown",
      "metadata": {
        "id": "kzxw4ev-Pu3m"
      },
      "source": [
        "The DataSet defines where the DataSets can be found from the Start Anchor Cells\n",
        "The following joins the found cells with the DataSet map."
      ]
    },
    {
      "cell_type": "code",
      "metadata": {
        "id": "VuxWXfJWEW3p"
      },
      "source": [
        "datasetmap = pd.DataFrame()\n",
        "datasetmap = pd.merge(DataSetDF, anchors, on=['DataSet', 'SheetName'], how='left')\n",
        "datasetmap = pd.DataFrame(datasetmap,\n",
        "                          columns=['DataSet', 'SheetName', 'FieldID',\n",
        "                                   'AnchorRow', 'AnchorColumn','EndRow',\n",
        "                                   'RowFromReferenceText',\n",
        "                                   'ColumnFromReferenceText','FieldPosition'])\n"
      ],
      "execution_count": null,
      "outputs": []
    },
    {
      "cell_type": "markdown",
      "metadata": {
        "id": "xZ8OPn7hiN9u"
      },
      "source": [
        "## Show Dataset Map"
      ]
    },
    {
      "cell_type": "code",
      "metadata": {
        "id": "2naN6CoOiLaS"
      },
      "source": [
        "datasetmap.head()"
      ],
      "execution_count": null,
      "outputs": []
    },
    {
      "cell_type": "markdown",
      "metadata": {
        "id": "Hbu2bb7Did9L"
      },
      "source": [
        "# Find where Data Starts and what Columns Fields are In"
      ]
    },
    {
      "cell_type": "markdown",
      "metadata": {
        "id": "vnrMNep_QL42"
      },
      "source": [
        "One needs to now calculate the actual rows and columns of where the DataSet is.\n",
        "The above table is relative to the Anchor Cells"
      ]
    },
    {
      "cell_type": "code",
      "metadata": {
        "id": "lRIxlGL_-Dmj"
      },
      "source": [
        "datasetmap['StartRow'] = datasetmap['AnchorRow'] + datasetmap['RowFromReferenceText']\n",
        "datasetmap['FieldColumn'] = datasetmap['AnchorColumn'] + datasetmap['ColumnFromReferenceText']\n",
        "dataset = pd.DataFrame()\n",
        "dataset = pd.merge(fullcelldfstage, datasetmap, on=['SheetName'], how='left')\n",
        "## the above may seem a cartesian join and may need to be looked at if this slows the process down"
      ],
      "execution_count": null,
      "outputs": []
    },
    {
      "cell_type": "markdown",
      "metadata": {
        "id": "QmkyP0boiu0Q"
      },
      "source": [
        "# Filter Out Data after End Anchor Row"
      ]
    },
    {
      "cell_type": "code",
      "metadata": {
        "id": "LGngEEjLQewC"
      },
      "source": [
        "dataset = dataset[(dataset.RowID >= dataset.StartRow) &\n",
        "(dataset.ColumnID == dataset.FieldColumn) &\n",
        "((dataset.RowID < dataset.EndRow) | pd.isnull(dataset.EndRow))]\n",
        "# the | above is an OR as if there is no EndRow for the dataset you want to\n",
        "# allow the data through"
      ],
      "execution_count": null,
      "outputs": []
    },
    {
      "cell_type": "code",
      "metadata": {
        "id": "gDXO67NGrRHe"
      },
      "source": [
        "palette.head(5)"
      ],
      "execution_count": null,
      "outputs": []
    },
    {
      "cell_type": "markdown",
      "metadata": {
        "id": "xKOG9aHgi8Pj"
      },
      "source": [
        "# Create a CellValue as Number for use in Formulae"
      ]
    },
    {
      "cell_type": "code",
      "metadata": {
        "id": "PPgn6jcNEu_I"
      },
      "source": [
        "dataset = pd.DataFrame(dataset,columns=['DataSet', 'SheetName', 'FieldID', 'RowID', 'ColumnID','CellValue', 'CellType'])\n",
        "dataset['CellValueAsNumber'] = pd.to_numeric(dataset['CellValue'], errors='coerce')\n",
        "dataset.head(5)"
      ],
      "execution_count": null,
      "outputs": []
    },
    {
      "cell_type": "markdown",
      "metadata": {
        "id": "6aBvm7yzjNqw"
      },
      "source": [
        "# Create a List of Checks to do"
      ]
    },
    {
      "cell_type": "code",
      "metadata": {
        "id": "wFszD5cR8H_7",
        "scrolled": false
      },
      "source": [
        "todolist = pd.DataFrame()\n",
        "todolist = pd.merge(dataset, palette, on=['DataSet', 'FieldID'])\n",
        "todolist.head(5)"
      ],
      "execution_count": null,
      "outputs": []
    },
    {
      "cell_type": "markdown",
      "metadata": {
        "id": "wR-RHXokjaoG"
      },
      "source": [
        "# Create a List of distinct formula to apply"
      ]
    },
    {
      "cell_type": "code",
      "metadata": {
        "id": "4mxczy-qINQv"
      },
      "source": [
        "formulas = pd.DataFrame()\n",
        "formulas = pd.DataFrame(todolist, columns=['KeyWord','PythonFormula'])\n",
        "formulas = formulas.drop_duplicates()\n",
        "formulas.head(10)"
      ],
      "execution_count": null,
      "outputs": []
    },
    {
      "cell_type": "markdown",
      "metadata": {
        "id": "AWxtq24ijmSo"
      },
      "source": [
        "# Prepare Results Table"
      ]
    },
    {
      "cell_type": "code",
      "metadata": {
        "id": "enT7iwuL8Y6l"
      },
      "source": [
        "global bigresults\n",
        "littletodolist = pd.DataFrame()\n",
        "littletodolistworking = pd.DataFrame()\n",
        "bigresults = pd.DataFrame()\n"
      ],
      "execution_count": null,
      "outputs": []
    },
    {
      "cell_type": "code",
      "metadata": {
        "id": "ovWR4reTJYbB"
      },
      "source": [
        "# this was an important test as if you do not have copy you get an error as it believes\n",
        "# you are trying to change a view\n",
        "#littletodolist = todolist[(todolist.KeyWord == 'PickList')].copy()\n",
        "#littletodolist.head(100)\n",
        "#filterdf = pd.DataFrame()\n",
        "#filterdf = todolist[(todolist.KeyWord == 'PickList')].copy()\n",
        "#filterdf.head()"
      ],
      "execution_count": null,
      "outputs": []
    },
    {
      "cell_type": "code",
      "metadata": {
        "id": "W2Viik1bKFx2"
      },
      "source": [
        "# littletodolist.loc[littletodolist.KeyWord == 'Text', 'Result'] = np.where(littletodolist['CellType'] == 'Text', 1, 0)"
      ],
      "execution_count": null,
      "outputs": []
    },
    {
      "cell_type": "markdown",
      "metadata": {
        "id": "lmplCWV-kH6H"
      },
      "source": [
        "# Loop through each Formula and apply to the To Do List"
      ]
    },
    {
      "cell_type": "code",
      "metadata": {
        "id": "f8L4NV-9P-2w"
      },
      "source": [
        "todolist = todolist.rename(columns={'CellValue_x': 'CellValue'})\n",
        "##todolist.columns"
      ],
      "execution_count": null,
      "outputs": []
    },
    {
      "cell_type": "code",
      "metadata": {
        "id": "1qIWlNZUFDBP"
      },
      "source": [
        "for index, row in formulas.iterrows():\n",
        "  # print(row['KeyWord'],row['PythonFormula'])\n",
        "\n",
        "  pf = row['PythonFormula']\n",
        "  kw = row['KeyWord']\n",
        " \n",
        "  try:\n",
        "      pf1 = pf.replace(\"dataset\", \"littletodolist\")\n",
        "  except:\n",
        "      pf1 = \"1\"\n",
        "  littletodolist = todolist[(todolist.KeyWord == kw)].copy()\n",
        "  formula2do = \"littletodolist['Result'] = \" + pf1\n",
        "  print(kw)\n",
        "  print(formula2do)\n",
        "  exec(formula2do)\n",
        "  ##print(littletodolist)\n",
        "  ##try:\n",
        "  ##bigresults = pd.concat([bigresults, littletodolist], ignore_index=True).drop_duplicates().reset_index(drop=True)\n",
        "  bigresults = pd.concat([bigresults, littletodolist]) ##, ignore_index=True).drop_duplicates().reset_index(drop=True)\n",
        "  ##except:\n",
        "  #  bigresults = bigresults"
      ],
      "execution_count": null,
      "outputs": []
    },
    {
      "cell_type": "code",
      "metadata": {
        "id": "JuZ4_YEMP-24"
      },
      "source": [
        "littletodolist['Result'] = np.where(littletodolist['CellType'] == 'Text', 1, 0)"
      ],
      "execution_count": null,
      "outputs": []
    },
    {
      "cell_type": "markdown",
      "metadata": {
        "id": "5ZW7-6-vkaXi"
      },
      "source": [
        "# Add a sequence to the Results for use in Reporting"
      ]
    },
    {
      "cell_type": "code",
      "metadata": {
        "id": "-aG5EY7ygGeG"
      },
      "source": [
        "bigresults['ResultID'] = bigresults.index"
      ],
      "execution_count": null,
      "outputs": []
    },
    {
      "cell_type": "code",
      "metadata": {
        "id": "q4WPoT2MY7jP"
      },
      "source": [
        "bigresults.head(5)"
      ],
      "execution_count": null,
      "outputs": []
    },
    {
      "cell_type": "markdown",
      "metadata": {
        "id": "kbW0Ez8Ekme7"
      },
      "source": [
        "# Narrow down Results to useful columnns"
      ]
    },
    {
      "cell_type": "code",
      "metadata": {
        "id": "11nWw0D2ZPHE"
      },
      "source": [
        "usefulresults = pd.DataFrame()\n",
        "usefulresults = pd.DataFrame(bigresults, columns=['DataSet','FieldID','RowID','ColumnID','CellValue','CellType','CheckPerformed', 'Result'])\n",
        "usefulresults.head()"
      ],
      "execution_count": null,
      "outputs": []
    },
    {
      "cell_type": "markdown",
      "metadata": {
        "id": "fo-KMY41k1sc"
      },
      "source": [
        "# Summarise Results"
      ]
    },
    {
      "cell_type": "code",
      "metadata": {
        "id": "M64p5-e9acRg"
      },
      "source": [
        "resultssummary = pd.DataFrame()\n",
        "# index = pd.MultiIndex.from_arrays(arrays, names=['first', 'second'])\n",
        "# resultssummary.head()\n",
        "\n",
        "resultssummary = bigresults[['DataSet','FieldID','CheckPerformed', 'Result', 'ResultID']].groupby(['DataSet', 'FieldID', 'CheckPerformed']).agg(['count'])\n",
        "resultssummary.head(5)"
      ],
      "execution_count": null,
      "outputs": []
    },
    {
      "cell_type": "markdown",
      "metadata": {
        "id": "OL-ZYUKOk_cL"
      },
      "source": [
        "# Pivot Results"
      ]
    },
    {
      "cell_type": "code",
      "metadata": {
        "id": "9Fdea1NEhYZD"
      },
      "source": [
        "# rownamearray = pd.array(['DataSet','FieldID'], dtype=str)\n",
        "# newct = pd.crosstab(bigresults.DataSet,bigresults.FieldID,bigresults.CheckPerformed,bigresults.Result,rownames=rownamearray, colnames=['Result'])\n",
        "\n",
        "newct = bigresults.pivot_table(index = ['DataSet','FieldID','CheckPerformed'], values = 'ResultID',columns = 'Result', aggfunc = 'count')\n",
        "newct.head()"
      ],
      "execution_count": null,
      "outputs": []
    },
    {
      "cell_type": "markdown",
      "metadata": {
        "id": "XFE1o7UrlFt1"
      },
      "source": [
        "# Plot Stack Bar"
      ]
    },
    {
      "cell_type": "markdown",
      "metadata": {
        "id": "uG7YNRpnoOd9"
      },
      "source": [
        "## Show Stack"
      ]
    },
    {
      "cell_type": "code",
      "metadata": {
        "id": "CzE4y5f5n_b4"
      },
      "source": [
        "newct.plot(kind='barh', stacked=True)"
      ],
      "execution_count": null,
      "outputs": []
    },
    {
      "cell_type": "markdown",
      "metadata": {
        "id": "wGi1BW3WJ7Rr"
      },
      "source": [
        ""
      ]
    },
    {
      "cell_type": "markdown",
      "metadata": {
        "id": "fDyvSHkTJ2CZ"
      },
      "source": [
        ""
      ]
    }
  ]
}