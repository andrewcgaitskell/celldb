{
  "nbformat": 4,
  "nbformat_minor": 0,
  "metadata": {
    "colab": {
      "name": "MiniConveyorWorking.ipynb",
      "provenance": [],
      "collapsed_sections": [
        "3p8PgjiP0_jY",
        "Bpj2hKhdnGID",
        "GS0NpiKjmlHl",
        "ynhtQQ2H1FgY",
        "gNHjUDxf1KwS",
        "cPktYeFX1Ujq",
        "lChn_UkJZAk1",
        "x_awgfWUgAb2",
        "8IH4GVrigMRd",
        "_BT3jBxRgmOX",
        "qA4u066Zg0Mk",
        "2sZQyqiuhDZc",
        "0if3QQALhaOq",
        "gyZbtquUhhvL",
        "8mbxThrshpF1",
        "xKOG9aHgi8Pj",
        "6aBvm7yzjNqw",
        "wR-RHXokjaoG",
        "AWxtq24ijmSo",
        "lmplCWV-kH6H",
        "5ZW7-6-vkaXi",
        "kbW0Ez8Ekme7",
        "fo-KMY41k1sc",
        "OL-ZYUKOk_cL"
      ],
      "toc_visible": true,
      "include_colab_link": true
    },
    "kernelspec": {
      "display_name": "Python [conda env:NewEnvTest1]",
      "language": "python",
      "name": "conda-env-NewEnvTest1-py"
    },
    "language_info": {
      "codemirror_mode": {
        "name": "ipython",
        "version": 3
      },
      "file_extension": ".py",
      "mimetype": "text/x-python",
      "name": "python",
      "nbconvert_exporter": "python",
      "pygments_lexer": "ipython3",
      "version": "3.7.4"
    }
  },
  "cells": [
    {
      "cell_type": "markdown",
      "metadata": {
        "id": "view-in-github",
        "colab_type": "text"
      },
      "source": [
        "<a href=\"https://colab.research.google.com/github/andrewcgaitskell/excel-extractor/blob/master/MiniConveyorWorking.ipynb\" target=\"_parent\"><img src=\"https://colab.research.google.com/assets/colab-badge.svg\" alt=\"Open In Colab\"/></a>"
      ]
    },
    {
      "cell_type": "markdown",
      "metadata": {
        "colab_type": "text",
        "id": "-mDz5ZTQ0x1l"
      },
      "source": [
        ""
      ]
    },
    {
      "cell_type": "markdown",
      "metadata": {
        "id": "x1pvdyLtafeF",
        "colab_type": "text"
      },
      "source": [
        "# Install Libraries"
      ]
    },
    {
      "cell_type": "code",
      "metadata": {
        "id": "AadAQppWP-0p",
        "colab_type": "code",
        "outputId": "ce9feb3c-7b6b-4348-cf37-d9a84c6a8481",
        "colab": {
          "base_uri": "https://localhost:8080/",
          "height": 123
        }
      },
      "source": [
        "!pip install pandas\n",
        "import pandas as pd\n",
        "pd.__version__"
      ],
      "execution_count": 0,
      "outputs": [
        {
          "output_type": "stream",
          "text": [
            "Requirement already satisfied: pandas in /usr/local/lib/python3.6/dist-packages (0.25.3)\n",
            "Requirement already satisfied: pytz>=2017.2 in /usr/local/lib/python3.6/dist-packages (from pandas) (2018.9)\n",
            "Requirement already satisfied: numpy>=1.13.3 in /usr/local/lib/python3.6/dist-packages (from pandas) (1.17.4)\n",
            "Requirement already satisfied: python-dateutil>=2.6.1 in /usr/local/lib/python3.6/dist-packages (from pandas) (2.6.1)\n",
            "Requirement already satisfied: six>=1.5 in /usr/local/lib/python3.6/dist-packages (from python-dateutil>=2.6.1->pandas) (1.12.0)\n"
          ],
          "name": "stdout"
        },
        {
          "output_type": "execute_result",
          "data": {
            "text/plain": [
              "'0.25.3'"
            ]
          },
          "metadata": {
            "tags": []
          },
          "execution_count": 41
        }
      ]
    },
    {
      "cell_type": "code",
      "metadata": {
        "id": "UOfG4y1UP-0s",
        "colab_type": "code",
        "colab": {}
      },
      "source": [
        "#!conda install pandas -y\n",
        "##!pip install pandas==0.23.4"
      ],
      "execution_count": 0,
      "outputs": []
    },
    {
      "cell_type": "code",
      "metadata": {
        "id": "vr-1xOUaP-0u",
        "colab_type": "code",
        "outputId": "59ea8010-4464-4284-9db4-b68f5c28429d",
        "colab": {
          "base_uri": "https://localhost:8080/",
          "height": 214
        }
      },
      "source": [
        "!pip install xlsxwriter\n",
        "!pip install xlrd\n",
        "#!pip install azure.storage.blob\n",
        "!pip install matplotlib"
      ],
      "execution_count": 0,
      "outputs": [
        {
          "output_type": "stream",
          "text": [
            "Requirement already satisfied: xlsxwriter in /usr/local/lib/python3.6/dist-packages (1.2.5)\n",
            "Requirement already satisfied: xlrd in /usr/local/lib/python3.6/dist-packages (1.1.0)\n",
            "Requirement already satisfied: matplotlib in /usr/local/lib/python3.6/dist-packages (3.1.1)\n",
            "Requirement already satisfied: pyparsing!=2.0.4,!=2.1.2,!=2.1.6,>=2.0.1 in /usr/local/lib/python3.6/dist-packages (from matplotlib) (2.4.5)\n",
            "Requirement already satisfied: numpy>=1.11 in /usr/local/lib/python3.6/dist-packages (from matplotlib) (1.17.4)\n",
            "Requirement already satisfied: cycler>=0.10 in /usr/local/lib/python3.6/dist-packages (from matplotlib) (0.10.0)\n",
            "Requirement already satisfied: kiwisolver>=1.0.1 in /usr/local/lib/python3.6/dist-packages (from matplotlib) (1.1.0)\n",
            "Requirement already satisfied: python-dateutil>=2.1 in /usr/local/lib/python3.6/dist-packages (from matplotlib) (2.6.1)\n",
            "Requirement already satisfied: six in /usr/local/lib/python3.6/dist-packages (from cycler>=0.10->matplotlib) (1.12.0)\n",
            "Requirement already satisfied: setuptools in /usr/local/lib/python3.6/dist-packages (from kiwisolver>=1.0.1->matplotlib) (41.4.0)\n"
          ],
          "name": "stdout"
        }
      ]
    },
    {
      "cell_type": "markdown",
      "metadata": {
        "colab_type": "text",
        "id": "3p8PgjiP0_jY"
      },
      "source": [
        "# Introduction"
      ]
    },
    {
      "cell_type": "markdown",
      "metadata": {
        "colab_type": "text",
        "id": "2EKXAmLwfBuX"
      },
      "source": [
        "Now added direct link to Data in Drive rather than upload\n",
        "\n",
        "Built Picklists\n",
        "\n",
        "Need to Add Picklist Checks\n",
        "\n",
        "Template Validation Outstanding"
      ]
    },
    {
      "cell_type": "code",
      "metadata": {
        "colab_type": "code",
        "id": "fcUz8nPa4Hh5",
        "colab": {}
      },
      "source": [
        "import pandas as pd\n",
        "import numpy as np\n",
        "from datetime import datetime\n",
        "import xlsxwriter\n",
        "##import dbutils\n",
        "##from shutil import copyfile ## data bricks utility\n",
        "\n",
        "import matplotlib\n",
        "\n",
        "import os # import OS dependant functionality\n",
        "# from azure.storage.blob import BlockBlobService"
      ],
      "execution_count": 0,
      "outputs": []
    },
    {
      "cell_type": "code",
      "metadata": {
        "id": "ltPCV36nP-00",
        "colab_type": "code",
        "outputId": "a72bd785-bc3a-49c3-e171-ec4b0a58bea1",
        "colab": {
          "base_uri": "https://localhost:8080/",
          "height": 34
        }
      },
      "source": [
        "dirname = os.getcwd()\n",
        "print(dirname)"
      ],
      "execution_count": 0,
      "outputs": [
        {
          "output_type": "stream",
          "text": [
            "/content\n"
          ],
          "name": "stdout"
        }
      ]
    },
    {
      "cell_type": "code",
      "metadata": {
        "id": "u8p4W779P-02",
        "colab_type": "code",
        "colab": {}
      },
      "source": [
        "storage_account_name = 'blobname'\n",
        "storage_account_access_key = 'blobkey'"
      ],
      "execution_count": 0,
      "outputs": []
    },
    {
      "cell_type": "code",
      "metadata": {
        "id": "ovfxLc08P-04",
        "colab_type": "code",
        "colab": {}
      },
      "source": [
        "#block_blob_service = BlockBlobService(account_name=storage_account_name,\n",
        "#             account_key=storage_account_access_key)\n",
        "\n",
        "\n",
        "#container_name = 'data-dev'\n",
        "#print(\"\\nList blobs in the container\")\n",
        "#generator = block_blob_service.list_blobs(container_name)\n",
        "#for blob in generator:\n",
        "#    print(\"\\t Blob name: \" + blob.name)\n"
      ],
      "execution_count": 0,
      "outputs": []
    },
    {
      "cell_type": "code",
      "metadata": {
        "id": "0WaMtExgP-05",
        "colab_type": "code",
        "colab": {}
      },
      "source": [
        "#pd.__version__"
      ],
      "execution_count": 0,
      "outputs": []
    },
    {
      "cell_type": "code",
      "metadata": {
        "id": "UZ0goDpVP-07",
        "colab_type": "code",
        "colab": {}
      },
      "source": [
        "#block_blob_service.get_blob_to_path('data-dev','data/02/Data.xlsx', 'Data.xlsx')\n",
        "#drivedf = pd.DataFrame()\n",
        "#drivedf = pd.read_excel('Data.xlsx',sheet_name=None, header=0, encoding='utf-8', errors='ignore') ## careful sheet_name silently fails\n",
        "#sheetnames = list(drivedf.keys())\n",
        "#print(sheetnames)"
      ],
      "execution_count": 0,
      "outputs": []
    },
    {
      "cell_type": "markdown",
      "metadata": {
        "colab_type": "text",
        "id": "Bpj2hKhdnGID"
      },
      "source": [
        "# How to connect and copy a file from Blob Storage (Databricks Only)"
      ]
    },
    {
      "cell_type": "markdown",
      "metadata": {
        "colab_type": "text",
        "id": "GS0NpiKjmlHl"
      },
      "source": [
        "accountname = storage_account_name\n",
        "\n",
        "accountkey = storage_account_access_key \n",
        "\n",
        "fullname = \"fs.azure.account.key.\" +accountname+ \".blob.core.windows.net\"\n",
        "\n",
        "accountsource = \"wasbs://data-dev@agblobstoragetestmini.blob.core.windows.net\"\n",
        "\n",
        "dbutils.fs.mount(\n",
        "  source = accountsource,\n",
        "  mount_point = \"/mnt/temp\",\n",
        "  extra_configs = {fullname : accountkey}\n",
        ")\n",
        "\n",
        "wasbs://container@storageaccount.blob.core.windows.net\n",
        "\n",
        "extra_configs = `{\"fs.azure.account.key.<storageaccountname>.blob.core.windows.net\":blobKey})\n",
        "\n",
        "python\n"
      ]
    },
    {
      "cell_type": "markdown",
      "metadata": {
        "id": "ZFmogyJyP-0_",
        "colab_type": "text"
      },
      "source": [
        "workbook = xlsxwriter.Workbook('/local_disk0/tmp/excel.xlsx')\n",
        "\n",
        "worksheet = workbook.add_worksheet()\n",
        "\n",
        "worksheet.write(0, 0, \"Key\")\n",
        "\n",
        "worksheet.write(0, 1, \"Value\")\n",
        "\n",
        "workbook.close()\n",
        "\n",
        "copyfile('/local_disk0/tmp/excel.xlsx', '/dbfs/mnt/temp/Data1/excel.xlsx')\n",
        "\n",
        "## the /dbfs/ is very important in the above"
      ]
    },
    {
      "cell_type": "markdown",
      "metadata": {
        "colab_type": "text",
        "id": "ynhtQQ2H1FgY"
      },
      "source": [
        "# Excel Data Types"
      ]
    },
    {
      "cell_type": "markdown",
      "metadata": {
        "colab_type": "text",
        "id": "zKpghyfbfs1q"
      },
      "source": [
        "The following functions are use to work out the data type of an excel cell."
      ]
    },
    {
      "cell_type": "code",
      "metadata": {
        "colab_type": "code",
        "id": "gS1sVfVX4bRL",
        "colab": {}
      },
      "source": [
        "def validate_date(date_text):\n",
        "    try:\n",
        "        format_string = '%Y-%m-%d %H:%M:%S'\n",
        "        datetime.strptime(date_text, format_string)\n",
        "        return \"OK\"\n",
        "    except ValueError:\n",
        "        return None\n",
        "\n",
        "def GetDataType(row_in):\n",
        "    valueasstring = str(row_in['CellValue'])\n",
        "    if validate_date(valueasstring) != None:\n",
        "        return 'Date'\n",
        "    elif valueasstring.isnumeric():\n",
        "        return 'Number'\n",
        "    else:\n",
        "        return 'Text'\n",
        "\n",
        "def add1_2row(row_in):\n",
        "    return row_in['RowID'] + 1\n",
        "\n",
        "\n",
        "def add1_2column(row_in):\n",
        "    return row_in['ColumnID'] + 1"
      ],
      "execution_count": 0,
      "outputs": []
    },
    {
      "cell_type": "markdown",
      "metadata": {
        "colab_type": "text",
        "id": "gNHjUDxf1KwS"
      },
      "source": [
        "# Connect to File on Drive"
      ]
    },
    {
      "cell_type": "code",
      "metadata": {
        "colab_type": "code",
        "id": "X_7s5Y5Z0fgl",
        "colab": {}
      },
      "source": [
        "# Code to read csv file into Colaboratory:\n",
        "# !pip install -U -q PyDrive\n",
        "\n",
        "# from pydrive.auth import GoogleAuth\n",
        "\n",
        "# from pydrive.drive import GoogleDrive\n",
        "\n",
        "# from google.colab import auth\n",
        "\n",
        "# from oauth2client.client import GoogleCredentials\n",
        "\n",
        "# Authenticate and create the PyDrive client.\n",
        "# auth.authenticate_user()\n",
        "# gauth = GoogleAuth()\n",
        "\n",
        "# gauth.credentials = GoogleCredentials.get_application_default()\n",
        "\n",
        "# drive = GoogleDrive(gauth)\n"
      ],
      "execution_count": 0,
      "outputs": []
    },
    {
      "cell_type": "code",
      "metadata": {
        "colab_type": "code",
        "id": "Z2UePozK1BJA",
        "colab": {}
      },
      "source": [
        "# link = 'find out link to file from Google Drive'\n",
        "# fluff, id = link.split('=')\n",
        "# print (id) # Verify that you have everything after '='\n",
        "# downloaded = drive.CreateFile({'id':id}) \n",
        "# downloaded.GetContentFile('Data.xlsx')  \n",
        "# drivedf = pd.read_excel('Data.xlsx')"
      ],
      "execution_count": 0,
      "outputs": []
    },
    {
      "cell_type": "code",
      "metadata": {
        "colab_type": "code",
        "id": "dB7rIosr5bpj",
        "outputId": "45ec4593-e21d-45cd-d6da-64deee446bae",
        "colab": {
          "resources": {
            "http://localhost:8080/nbextensions/google.colab/files.js": {
              "data": "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",
              "ok": true,
              "headers": [
                [
                  "content-type",
                  "application/javascript"
                ]
              ],
              "status": 200,
              "status_text": ""
            }
          },
          "base_uri": "https://localhost:8080/",
          "height": 72
        }
      },
      "source": [
        "from google.colab import files\n",
        "uploaded = files.upload()"
      ],
      "execution_count": 0,
      "outputs": [
        {
          "output_type": "display_data",
          "data": {
            "text/html": [
              "\n",
              "     <input type=\"file\" id=\"files-05ac5ab1-7b4f-45d4-aa82-11e9a247762e\" name=\"files[]\" multiple disabled />\n",
              "     <output id=\"result-05ac5ab1-7b4f-45d4-aa82-11e9a247762e\">\n",
              "      Upload widget is only available when the cell has been executed in the\n",
              "      current browser session. Please rerun this cell to enable.\n",
              "      </output>\n",
              "      <script src=\"/nbextensions/google.colab/files.js\"></script> "
            ],
            "text/plain": [
              "<IPython.core.display.HTML object>"
            ]
          },
          "metadata": {
            "tags": []
          }
        },
        {
          "output_type": "stream",
          "text": [
            "Saving Data201911111135.xlsx to Data201911111135 (1).xlsx\n"
          ],
          "name": "stdout"
        }
      ]
    },
    {
      "cell_type": "code",
      "metadata": {
        "colab_type": "code",
        "id": "oK3e6oyZ5hh4",
        "colab": {}
      },
      "source": [
        "import io\n",
        "specdf = pd.read_excel(io.BytesIO(uploaded['Data201911111135.xlsx']),sheet_name=None, header=0, encoding='utf-8', errors='ignore')"
      ],
      "execution_count": 0,
      "outputs": []
    },
    {
      "cell_type": "markdown",
      "metadata": {
        "colab_type": "text",
        "id": "cPktYeFX1Ujq"
      },
      "source": [
        "# Read All Sheets into Data Frame"
      ]
    },
    {
      "cell_type": "markdown",
      "metadata": {
        "id": "b5PToSahP-1L",
        "colab_type": "text"
      },
      "source": [
        "Data.xlsx has been downloaded to a local drive - NOT THE C DRIVE OF THE VM"
      ]
    },
    {
      "cell_type": "code",
      "metadata": {
        "colab_type": "code",
        "id": "PM3eRwwe2QNd",
        "colab": {}
      },
      "source": [
        "# specdf = pd.read_excel('Data.xlsx',sheet_name=None, header=0, encoding='utf-8', errors='ignore')"
      ],
      "execution_count": 0,
      "outputs": []
    },
    {
      "cell_type": "markdown",
      "metadata": {
        "colab_type": "text",
        "id": "jCCN84I_f_gm"
      },
      "source": [
        "Please note that the sheetnames list did not work on a Mac running Anaconda"
      ]
    },
    {
      "cell_type": "code",
      "metadata": {
        "colab_type": "code",
        "id": "VYKox_Ng6J0Y",
        "colab": {}
      },
      "source": [
        "sheetnames = list(specdf.keys())"
      ],
      "execution_count": 0,
      "outputs": []
    },
    {
      "cell_type": "code",
      "metadata": {
        "colab_type": "code",
        "id": "lVh1ixup6WEB",
        "outputId": "99246f80-e5fc-472f-aad7-28056acbb529",
        "colab": {
          "base_uri": "https://localhost:8080/",
          "height": 54
        }
      },
      "source": [
        "print(sheetnames)"
      ],
      "execution_count": 0,
      "outputs": [
        {
          "output_type": "stream",
          "text": [
            "['AgeGenderSheet', 'HomeSheet', 'JobSheet', 'MaritalDepartmentSheet', 'DataMap', 'TemplateValidationMap', 'DataSet', 'Rules', 'Palette', 'PickList']\n"
          ],
          "name": "stdout"
        }
      ]
    },
    {
      "cell_type": "markdown",
      "metadata": {
        "colab_type": "text",
        "id": "HG-wdyrgq7t6"
      },
      "source": [
        "Each Sheet is retrieved into Dataframes\n",
        "\n",
        "The production version extracts all data from a cell database and pivots the result\n",
        "\n",
        "I have added code to do this transformation, but for clarity of code I am going to leave the following in the their original form."
      ]
    },
    {
      "cell_type": "code",
      "metadata": {
        "colab_type": "code",
        "id": "VTJqMe_T60IT",
        "colab": {}
      },
      "source": [
        "DataMapDF = specdf['DataMap']\n",
        "TemplateValidationMapDF = specdf['TemplateValidationMap']\n",
        "DataSetDF = specdf['DataSet']\n",
        "RulesDF = specdf['Rules']\n",
        "PaletteDF = specdf['Palette']\n",
        "# PickListDF = specdf['PickList']\n",
        "# datadf = pd.DataFrame()"
      ],
      "execution_count": 0,
      "outputs": []
    },
    {
      "cell_type": "code",
      "metadata": {
        "id": "pL2SmYtpP-1Y",
        "colab_type": "code",
        "outputId": "1f9530c7-9f14-421b-eb8f-98fe7bc9dee4",
        "colab": {
          "base_uri": "https://localhost:8080/",
          "height": 384
        }
      },
      "source": [
        "PaletteDF.head(5)"
      ],
      "execution_count": 0,
      "outputs": [
        {
          "output_type": "execute_result",
          "data": {
            "text/html": [
              "<div>\n",
              "<style scoped>\n",
              "    .dataframe tbody tr th:only-of-type {\n",
              "        vertical-align: middle;\n",
              "    }\n",
              "\n",
              "    .dataframe tbody tr th {\n",
              "        vertical-align: top;\n",
              "    }\n",
              "\n",
              "    .dataframe thead th {\n",
              "        text-align: right;\n",
              "    }\n",
              "</style>\n",
              "<table border=\"1\" class=\"dataframe\">\n",
              "  <thead>\n",
              "    <tr style=\"text-align: right;\">\n",
              "      <th></th>\n",
              "      <th>KeyWord</th>\n",
              "      <th>Rule</th>\n",
              "      <th>CheckPerformed</th>\n",
              "      <th>ErrorMessage</th>\n",
              "      <th>AlteryxDataType</th>\n",
              "      <th>AlteryxFormula</th>\n",
              "      <th>RemedialAction</th>\n",
              "      <th>SQLFormula</th>\n",
              "      <th>PythonFormula</th>\n",
              "    </tr>\n",
              "  </thead>\n",
              "  <tbody>\n",
              "    <tr>\n",
              "      <th>0</th>\n",
              "      <td>Date</td>\n",
              "      <td>Must Be Date</td>\n",
              "      <td>Data Type is Date</td>\n",
              "      <td>Date Not Entered</td>\n",
              "      <td>Date</td>\n",
              "      <td>Length([CellValue]) &gt; 0 and [CellType] = \"Date\"</td>\n",
              "      <td>Enter Date</td>\n",
              "      <td>case when IsNULL([CellValue],'XX') = 'XX' then...</td>\n",
              "      <td>np.where(dataset['CellType'] == 'Date', 1, 0)</td>\n",
              "    </tr>\n",
              "    <tr>\n",
              "      <th>1</th>\n",
              "      <td>Number</td>\n",
              "      <td>Must Be Number</td>\n",
              "      <td>Data Type is Number</td>\n",
              "      <td>Number Not Entered</td>\n",
              "      <td>Double</td>\n",
              "      <td>Length([CellValue]) &gt; 0 and [CellType] = \"Number\"</td>\n",
              "      <td>Enter Number</td>\n",
              "      <td>case when IsNULL([CellValue],'XX') = 'XX' then...</td>\n",
              "      <td>np.where(dataset['CellType'] == 'Number', 1, 0)</td>\n",
              "    </tr>\n",
              "    <tr>\n",
              "      <th>2</th>\n",
              "      <td>Text</td>\n",
              "      <td>Must Be Text</td>\n",
              "      <td>Data Type is Text</td>\n",
              "      <td>Text Not Entered</td>\n",
              "      <td>V_String</td>\n",
              "      <td>Length([CellValue]) &gt; 0 and Contains([CellType...</td>\n",
              "      <td>Enter as Text</td>\n",
              "      <td>case when IsNULL([CellValue],'XX') = 'XX' then...</td>\n",
              "      <td>np.where(dataset['CellType'] == 'Text', 1, 0)</td>\n",
              "    </tr>\n",
              "    <tr>\n",
              "      <th>3</th>\n",
              "      <td>Null</td>\n",
              "      <td>Must Not Be Null</td>\n",
              "      <td>Field cannot be Null</td>\n",
              "      <td>No Data in Field</td>\n",
              "      <td>NaN</td>\n",
              "      <td>Length([CellValue]) &gt; 0</td>\n",
              "      <td>Enter Required Data</td>\n",
              "      <td>case when IsNULL([CellValue],'XX') != 'XX' the...</td>\n",
              "      <td>dataset['CellValue'].isnull().map({True: 0, Fa...</td>\n",
              "    </tr>\n",
              "    <tr>\n",
              "      <th>4</th>\n",
              "      <td>1OrGreater</td>\n",
              "      <td>Must be 1 or greater</td>\n",
              "      <td>Number is 1 or greater</td>\n",
              "      <td>Number is below 1</td>\n",
              "      <td>NaN</td>\n",
              "      <td>ToNumber([CellValue])&gt;=1</td>\n",
              "      <td>Enter value 1 or greater</td>\n",
              "      <td>case when TRY_CAST([CellValue] as INT)&gt;=1 then...</td>\n",
              "      <td>NaN</td>\n",
              "    </tr>\n",
              "  </tbody>\n",
              "</table>\n",
              "</div>"
            ],
            "text/plain": [
              "      KeyWord  ...                                      PythonFormula\n",
              "0        Date  ...      np.where(dataset['CellType'] == 'Date', 1, 0)\n",
              "1      Number  ...    np.where(dataset['CellType'] == 'Number', 1, 0)\n",
              "2        Text  ...      np.where(dataset['CellType'] == 'Text', 1, 0)\n",
              "3        Null  ...  dataset['CellValue'].isnull().map({True: 0, Fa...\n",
              "4  1OrGreater  ...                                                NaN\n",
              "\n",
              "[5 rows x 9 columns]"
            ]
          },
          "metadata": {
            "tags": []
          },
          "execution_count": 57
        }
      ]
    },
    {
      "cell_type": "code",
      "metadata": {
        "colab_type": "code",
        "id": "ewtHKh0f66Fv",
        "colab": {}
      },
      "source": [
        "celldatadf = pd.DataFrame()\n",
        "# celldatadf = pd.read_excel(io.BytesIO(uploaded['Data.xlsx']), sheet_name=None, header=None, encoding='utf-8', errors='ignore')\n",
        "# celldatadf = pd.read_excel('Data.xlsx', sheet_name=None, header=None, encoding='utf-8', errors='ignore')\n",
        "# celldatadf = pd.read_excel('Data.xlsx', sheet_name=None, header=None, encoding='utf-8', errors='ignore')\n",
        "celldatadf = pd.read_excel(io.BytesIO(uploaded['Data201911111135.xlsx']),sheet_name=None, header=None, encoding='utf-8', errors='ignore')"
      ],
      "execution_count": 0,
      "outputs": []
    },
    {
      "cell_type": "markdown",
      "metadata": {
        "colab_type": "text",
        "id": "eF7j_IEBgR0U"
      },
      "source": [
        "The following converts the whole spreadsheet into a cell database and this is used throughout for all data frame population."
      ]
    },
    {
      "cell_type": "markdown",
      "metadata": {
        "colab_type": "text",
        "id": "S_AvPzV9graI"
      },
      "source": [
        "The following only selects the non spec data into this dataframe"
      ]
    },
    {
      "cell_type": "code",
      "metadata": {
        "colab_type": "code",
        "id": "ts-N1j3I7qdg",
        "colab": {}
      },
      "source": [
        "fullcelldfstage = pd.DataFrame()\n",
        "for currentsheetname in sheetnames:\n",
        "\n",
        "    if currentsheetname != 'hiddenSheet' and currentsheetname not in ('DataMap', 'TemplateValidationMap', 'DataSet', 'Rules', 'Palette', 'PickList'):\n",
        "\n",
        "        datadf = celldatadf[currentsheetname]\n",
        "        datadf[\"RowID\"] = datadf.index\n",
        "        celldb = pd.melt(datadf, id_vars=['RowID'])\n",
        "        celldb = celldb.rename(columns={\"variable\": \"ColumnID\", \"value\": \"CellValue\"})\n",
        "        celldb[\"CellType\"] = \"Unset\"\n",
        "        celldb[\"FileName\"] = \"FileName\"\n",
        "        celldb[\"SheetName\"] = currentsheetname\n",
        "\n",
        "        try:\n",
        "          celldb[\"CellType\"] = celldb.apply(GetDataType, axis=1)\n",
        "          celldb[\"RowID\"] = celldb.apply(add1_2row, axis=1)\n",
        "          celldb[\"ColumnID\"] = celldb.apply(add1_2column, axis=1)\n",
        "\n",
        "        except:\n",
        "\n",
        "            celldb[\"CellType\"] = 'unknown'\n",
        "            celldb[\"RowID\"] = 0\n",
        "            celldb[\"ColumnID\"] = 0\n",
        "\n",
        "        fullcelldfstage = fullcelldfstage.append(celldb, ignore_index=True)\n",
        "\n",
        "        celldb = pd.DataFrame()\n",
        "\n"
      ],
      "execution_count": 0,
      "outputs": []
    },
    {
      "cell_type": "markdown",
      "metadata": {
        "colab_type": "text",
        "id": "BYkTQESBgyCA"
      },
      "source": [
        "This one selects all the spreadsheet into a single data frame to allow for pivoting & transformation."
      ]
    },
    {
      "cell_type": "code",
      "metadata": {
        "colab_type": "code",
        "id": "MrIGD8vjrbdg",
        "outputId": "75e998ed-b498-4596-a6bc-b6b274e3ccf5",
        "colab": {
          "base_uri": "https://localhost:8080/",
          "height": 197
        }
      },
      "source": [
        "fullcelldb = pd.DataFrame()\n",
        "for currentsheetname in sheetnames:\n",
        "\n",
        "    if currentsheetname != 'hiddenSheet':\n",
        "\n",
        "        datadf = celldatadf[currentsheetname]\n",
        "        datadf[\"RowID\"] = datadf.index\n",
        "        celldb = pd.melt(datadf, id_vars=['RowID'])\n",
        "        celldb = celldb.rename(columns={\"variable\": \"ColumnID\", \"value\": \"CellValue\"})\n",
        "        celldb[\"CellType\"] = \"Unset\"\n",
        "        celldb[\"FileName\"] = \"FileName\"\n",
        "        celldb[\"SheetName\"] = currentsheetname\n",
        "\n",
        "        try:\n",
        "          celldb[\"CellType\"] = celldb.apply(GetDataType, axis=1)\n",
        "          celldb[\"RowID\"] = celldb.apply(add1_2row, axis=1)\n",
        "          celldb[\"ColumnID\"] = celldb.apply(add1_2column, axis=1)\n",
        "\n",
        "        except:\n",
        "\n",
        "            celldb[\"CellType\"] = 'unknown'\n",
        "            celldb[\"RowID\"] = 0\n",
        "            celldb[\"ColumnID\"] = 0\n",
        "\n",
        "        fullcelldb = fullcelldb.append(celldb, ignore_index=True)\n",
        "\n",
        "        celldb = pd.DataFrame()\n",
        "\n",
        "\n",
        "fullcelldb.head()"
      ],
      "execution_count": 0,
      "outputs": [
        {
          "output_type": "execute_result",
          "data": {
            "text/html": [
              "<div>\n",
              "<style scoped>\n",
              "    .dataframe tbody tr th:only-of-type {\n",
              "        vertical-align: middle;\n",
              "    }\n",
              "\n",
              "    .dataframe tbody tr th {\n",
              "        vertical-align: top;\n",
              "    }\n",
              "\n",
              "    .dataframe thead th {\n",
              "        text-align: right;\n",
              "    }\n",
              "</style>\n",
              "<table border=\"1\" class=\"dataframe\">\n",
              "  <thead>\n",
              "    <tr style=\"text-align: right;\">\n",
              "      <th></th>\n",
              "      <th>RowID</th>\n",
              "      <th>ColumnID</th>\n",
              "      <th>CellValue</th>\n",
              "      <th>CellType</th>\n",
              "      <th>FileName</th>\n",
              "      <th>SheetName</th>\n",
              "    </tr>\n",
              "  </thead>\n",
              "  <tbody>\n",
              "    <tr>\n",
              "      <th>0</th>\n",
              "      <td>1</td>\n",
              "      <td>1</td>\n",
              "      <td>NaN</td>\n",
              "      <td>Text</td>\n",
              "      <td>FileName</td>\n",
              "      <td>AgeGenderSheet</td>\n",
              "    </tr>\n",
              "    <tr>\n",
              "      <th>1</th>\n",
              "      <td>2</td>\n",
              "      <td>1</td>\n",
              "      <td>NaN</td>\n",
              "      <td>Text</td>\n",
              "      <td>FileName</td>\n",
              "      <td>AgeGenderSheet</td>\n",
              "    </tr>\n",
              "    <tr>\n",
              "      <th>2</th>\n",
              "      <td>3</td>\n",
              "      <td>1</td>\n",
              "      <td>NaN</td>\n",
              "      <td>Text</td>\n",
              "      <td>FileName</td>\n",
              "      <td>AgeGenderSheet</td>\n",
              "    </tr>\n",
              "    <tr>\n",
              "      <th>3</th>\n",
              "      <td>4</td>\n",
              "      <td>1</td>\n",
              "      <td>NaN</td>\n",
              "      <td>Text</td>\n",
              "      <td>FileName</td>\n",
              "      <td>AgeGenderSheet</td>\n",
              "    </tr>\n",
              "    <tr>\n",
              "      <th>4</th>\n",
              "      <td>5</td>\n",
              "      <td>1</td>\n",
              "      <td>NaN</td>\n",
              "      <td>Text</td>\n",
              "      <td>FileName</td>\n",
              "      <td>AgeGenderSheet</td>\n",
              "    </tr>\n",
              "  </tbody>\n",
              "</table>\n",
              "</div>"
            ],
            "text/plain": [
              "   RowID  ColumnID CellValue CellType  FileName       SheetName\n",
              "0      1         1       NaN     Text  FileName  AgeGenderSheet\n",
              "1      2         1       NaN     Text  FileName  AgeGenderSheet\n",
              "2      3         1       NaN     Text  FileName  AgeGenderSheet\n",
              "3      4         1       NaN     Text  FileName  AgeGenderSheet\n",
              "4      5         1       NaN     Text  FileName  AgeGenderSheet"
            ]
          },
          "metadata": {
            "tags": []
          },
          "execution_count": 60
        }
      ]
    },
    {
      "cell_type": "markdown",
      "metadata": {
        "colab_type": "text",
        "id": "lChn_UkJZAk1"
      },
      "source": [
        "# Get Picklist Values"
      ]
    },
    {
      "cell_type": "markdown",
      "metadata": {
        "colab_type": "text",
        "id": "t5ghg_PvYeSH"
      },
      "source": [
        "Picklist are like a mini Master Data Management System\n",
        "\n",
        "They define the acceptable values for a partcular Field in Excel\n",
        "\n",
        "The challenge here was to check one column to a another column that contained a list.  I go there in the end."
      ]
    },
    {
      "cell_type": "code",
      "metadata": {
        "colab_type": "code",
        "id": "r0sO9VyetelZ",
        "outputId": "795ff513-7763-4680-e0c0-1bfe33a57ae1",
        "colab": {
          "base_uri": "https://localhost:8080/",
          "height": 167
        }
      },
      "source": [
        "PickListCells = pd.DataFrame()\n",
        "# This process uses the full cell database as the column headings are the Picklist Names\n",
        "PickListCells = fullcelldb[(fullcelldb['SheetName'] == 'PickList')].copy()\n",
        "# PickListCellsList = PickListCells.groupby('ColumnID')['CellValue'].apply(lambda group_series: group_series.tolist()).reset_index()\n",
        "\n",
        "PickListCellsList = PickListCells.groupby('ColumnID').agg({'CellValue':lambda x: list(x)})\n",
        "\n",
        "# these were odd, but glad I work them out, it is important to realise that these are operations on a number of rows, not just one\n",
        "# maybe it was the axis that made the difference!\n",
        "PickListCellsList['KeyWord'] = PickListCellsList.apply(lambda row : row['CellValue'][0], axis = 1)\n",
        "PickListCellsList['FormulaKeyWord'] = PickListCellsList.apply(lambda row : 'PickList', axis = 1)\n",
        "PickListCellsList['List'] = PickListCellsList.apply(lambda row : row['CellValue'][1:], axis = 1)\n",
        "# PickListCellsList['KeyWord'] = PickListCellsList['CellValue']\n",
        "#PickListCellsList= pd.DataFrame(PickListCellsList, columns=['KeyWord', 'List'])\n",
        "PickListCellsList = pd.DataFrame(PickListCellsList, columns=['KeyWord', 'FormulaKeyWord', 'List'])\n",
        "PickListCellsList.head()"
      ],
      "execution_count": 0,
      "outputs": [
        {
          "output_type": "execute_result",
          "data": {
            "text/html": [
              "<div>\n",
              "<style scoped>\n",
              "    .dataframe tbody tr th:only-of-type {\n",
              "        vertical-align: middle;\n",
              "    }\n",
              "\n",
              "    .dataframe tbody tr th {\n",
              "        vertical-align: top;\n",
              "    }\n",
              "\n",
              "    .dataframe thead th {\n",
              "        text-align: right;\n",
              "    }\n",
              "</style>\n",
              "<table border=\"1\" class=\"dataframe\">\n",
              "  <thead>\n",
              "    <tr style=\"text-align: right;\">\n",
              "      <th></th>\n",
              "      <th>KeyWord</th>\n",
              "      <th>FormulaKeyWord</th>\n",
              "      <th>List</th>\n",
              "    </tr>\n",
              "    <tr>\n",
              "      <th>ColumnID</th>\n",
              "      <th></th>\n",
              "      <th></th>\n",
              "      <th></th>\n",
              "    </tr>\n",
              "  </thead>\n",
              "  <tbody>\n",
              "    <tr>\n",
              "      <th>1</th>\n",
              "      <td>MaritalStatus</td>\n",
              "      <td>PickList</td>\n",
              "      <td>[Single, Married]</td>\n",
              "    </tr>\n",
              "    <tr>\n",
              "      <th>2</th>\n",
              "      <td>HomeLocation</td>\n",
              "      <td>PickList</td>\n",
              "      <td>[London, Liverpool]</td>\n",
              "    </tr>\n",
              "    <tr>\n",
              "      <th>3</th>\n",
              "      <td>Gender</td>\n",
              "      <td>PickList</td>\n",
              "      <td>[Male, Female]</td>\n",
              "    </tr>\n",
              "  </tbody>\n",
              "</table>\n",
              "</div>"
            ],
            "text/plain": [
              "                KeyWord FormulaKeyWord                 List\n",
              "ColumnID                                                   \n",
              "1         MaritalStatus       PickList    [Single, Married]\n",
              "2          HomeLocation       PickList  [London, Liverpool]\n",
              "3                Gender       PickList       [Male, Female]"
            ]
          },
          "metadata": {
            "tags": []
          },
          "execution_count": 61
        }
      ]
    },
    {
      "cell_type": "code",
      "metadata": {
        "colab_type": "code",
        "id": "6OG1yqBvV3m8",
        "colab": {}
      },
      "source": [
        "# These were attempts at creating a suitable list for the function to check to\n",
        "\n",
        "# PickListCellsList['Result'] = PickListCellsList['KeyWord'].isin(PickListCellsList['List']).map({True: 0, False: 1})\n",
        "\n",
        "# PickListCellsList['Result'] = PickListCellsList['KeyWord'].str.contains('|'.join(PickListCellsList['List']))\n",
        "# PickListCellsList['Result'] = PickListCellsList['KeyWord'].str.contains('|'.join(x) for x in PickListCellsList['List'])\n",
        "# [\"\".join(x) for x in lst]\n",
        "# PickListCellsList['ListAsString'] = PickListCellsList['List'].str.join('-')\n",
        "# PickListCellsList['ListAsTuple'] = tuple(PickListCellsList['CellValue'])\n"
      ],
      "execution_count": 0,
      "outputs": []
    },
    {
      "cell_type": "code",
      "metadata": {
        "colab_type": "code",
        "id": "94BawuhvSCe8",
        "colab": {}
      },
      "source": [
        "#MyList = pd.DataFrame()\n",
        "#MyList =  PickListCellsList\n",
        "# still do not know why the following DOES NOT WORK!\n",
        "# MyList['Result'] = PickListCellsList['ListAsString'].isin(PickListCellsList['KeyWord'])\n",
        "\n",
        "# leaving this as a rememberance of the 6 hours spent on this!\n",
        "# MyList['Result1'] = PickListCellsList['KeyWord'].apply(lambda x: any(i in x for i in PickListCellsList['List']))\n",
        "# MyList['Result2'] = PickListCellsList['ListAsString'].str.contains(PickListCellsList['KeyWord'])\n",
        "# mask = df['A'].apply(lambda x: any(i in x for i in search_list))\n",
        "# PickListCellsList['Result2'] = PickListCellsList['ListAsTuple'].str.contains(PickListCellsList['KeyWord'])\n",
        "# PickListCellsList['Result2'] = PickListCellsList['KeyWord'].str.contains(tuple(PickListCellsList['List']))\n",
        "# PickListCellsList['ListAsTuple'].isin(PickListCellsList['KeyWord'])\n",
        "# MyList['Result2'] = PickListCellsList['List'].apply(lambda x: True if (PickListCellsList.KeyWord in x).any() else False)\n",
        "######### MyList['sing'] = 'Single'\n",
        "# MyList['res1'] = MyList.apply(lambda ts: any(ts == 'Single'), axis=1)\n",
        "# MyList['res2'] = MyList.apply(lambda ts: MyList['KeyWord'].str.contains('Single'), axis=1)\n",
        "######### MyList['res3'] = MyList.apply(lambda x: x['sing'] in x['ListAsTuple'], axis=1)  ###############\n",
        "######### MyList['res4'] = MyList.apply(lambda x: x['sing'] in x['List'], axis=1).map({True: 1, False: 0}) ###############\n",
        "# # # # dataset.apply(lambda x: x['CellValue'] in x['PickList'], axis=1).map({True: 1, False: 0})\n",
        "# data['Activity].str.contains('skin diving')\n",
        "# lambda x : True if (x > 10 and x < 20) else False\n",
        "#MyList.head()\n",
        "# https://stackoverflow.com/questions/48460234/pandas-apply-valueerror-the-truth-value-of-a-series-is-ambigous"
      ],
      "execution_count": 0,
      "outputs": []
    },
    {
      "cell_type": "markdown",
      "metadata": {
        "colab_type": "text",
        "id": "x_awgfWUgAb2"
      },
      "source": [
        "# Get Data Map"
      ]
    },
    {
      "cell_type": "code",
      "metadata": {
        "colab_type": "code",
        "id": "5wSue_afTLJq",
        "outputId": "6f6f4590-a424-47e4-9343-d386e8b2c714",
        "colab": {
          "base_uri": "https://localhost:8080/"
        }
      },
      "source": [
        "DataMapCells = pd.DataFrame()\n",
        "DataMapCells = fullcelldb[(fullcelldb['SheetName'] == 'DataMap')].copy()\n",
        "DataMapCells.head()"
      ],
      "execution_count": 0,
      "outputs": [
        {
          "output_type": "execute_result",
          "data": {
            "text/html": [
              "<div>\n",
              "<style scoped>\n",
              "    .dataframe tbody tr th:only-of-type {\n",
              "        vertical-align: middle;\n",
              "    }\n",
              "\n",
              "    .dataframe tbody tr th {\n",
              "        vertical-align: top;\n",
              "    }\n",
              "\n",
              "    .dataframe thead th {\n",
              "        text-align: right;\n",
              "    }\n",
              "</style>\n",
              "<table border=\"1\" class=\"dataframe\">\n",
              "  <thead>\n",
              "    <tr style=\"text-align: right;\">\n",
              "      <th></th>\n",
              "      <th>RowID</th>\n",
              "      <th>ColumnID</th>\n",
              "      <th>CellValue</th>\n",
              "      <th>CellType</th>\n",
              "      <th>FileName</th>\n",
              "      <th>SheetName</th>\n",
              "    </tr>\n",
              "  </thead>\n",
              "  <tbody>\n",
              "    <tr>\n",
              "      <th>251</th>\n",
              "      <td>1</td>\n",
              "      <td>1</td>\n",
              "      <td>SheetName</td>\n",
              "      <td>Text</td>\n",
              "      <td>FileName</td>\n",
              "      <td>DataMap</td>\n",
              "    </tr>\n",
              "    <tr>\n",
              "      <th>252</th>\n",
              "      <td>2</td>\n",
              "      <td>1</td>\n",
              "      <td>AgeGenderSheet</td>\n",
              "      <td>Text</td>\n",
              "      <td>FileName</td>\n",
              "      <td>DataMap</td>\n",
              "    </tr>\n",
              "    <tr>\n",
              "      <th>253</th>\n",
              "      <td>3</td>\n",
              "      <td>1</td>\n",
              "      <td>AgeGenderSheet</td>\n",
              "      <td>Text</td>\n",
              "      <td>FileName</td>\n",
              "      <td>DataMap</td>\n",
              "    </tr>\n",
              "    <tr>\n",
              "      <th>254</th>\n",
              "      <td>4</td>\n",
              "      <td>1</td>\n",
              "      <td>AgeGenderSheet</td>\n",
              "      <td>Text</td>\n",
              "      <td>FileName</td>\n",
              "      <td>DataMap</td>\n",
              "    </tr>\n",
              "    <tr>\n",
              "      <th>255</th>\n",
              "      <td>5</td>\n",
              "      <td>1</td>\n",
              "      <td>AgeGenderSheet</td>\n",
              "      <td>Text</td>\n",
              "      <td>FileName</td>\n",
              "      <td>DataMap</td>\n",
              "    </tr>\n",
              "  </tbody>\n",
              "</table>\n",
              "</div>"
            ],
            "text/plain": [
              "     RowID  ColumnID       CellValue CellType  FileName SheetName\n",
              "251      1         1       SheetName     Text  FileName   DataMap\n",
              "252      2         1  AgeGenderSheet     Text  FileName   DataMap\n",
              "253      3         1  AgeGenderSheet     Text  FileName   DataMap\n",
              "254      4         1  AgeGenderSheet     Text  FileName   DataMap\n",
              "255      5         1  AgeGenderSheet     Text  FileName   DataMap"
            ]
          },
          "metadata": {
            "tags": []
          },
          "execution_count": 63
        }
      ]
    },
    {
      "cell_type": "markdown",
      "metadata": {
        "colab_type": "text",
        "id": "zdWkGWSmL6ru"
      },
      "source": [
        "Below extracts a Sheet from the cell database and reshapes it to it original tabular form."
      ]
    },
    {
      "cell_type": "code",
      "metadata": {
        "colab_type": "code",
        "id": "oPSRDxU8t_Mc",
        "outputId": "05c0fae1-5b8d-4759-8f3e-9dd8a98b6043",
        "colab": {
          "base_uri": "https://localhost:8080/"
        }
      },
      "source": [
        "DataMap = pd.DataFrame()\n",
        "DataMap = DataMapCells.pivot_table(index = ['RowID'], values = 'CellValue',columns = 'ColumnID', aggfunc = 'max')\n",
        "ColumnHeadings = DataMap.iloc[0]\n",
        "ColumnHeadingsList = list(ColumnHeadings)\n",
        "print(ColumnHeadingsList)\n",
        "ColumnHeadingsListTuple = enumerate(ColumnHeadingsList,start=1)\n",
        "ColumnHeadingsListDict = dict(ColumnHeadingsListTuple)\n",
        "print(ColumnHeadingsListDict)\n",
        "DataMap = DataMap.rename(columns=ColumnHeadingsListDict)\n",
        "DataMap = DataMap.drop([1])\n",
        "DataMap.head()"
      ],
      "execution_count": 0,
      "outputs": [
        {
          "output_type": "stream",
          "text": [
            "['SheetName', 'ReferenceText', 'RowFromReferenceText', 'ColumnFromReferenceText', 'TemplateText', 'DataGroup', 'DataCategory', 'DataScope', 'Column Header', 'Dataset']\n",
            "{1: 'SheetName', 2: 'ReferenceText', 3: 'RowFromReferenceText', 4: 'ColumnFromReferenceText', 5: 'TemplateText', 6: 'DataGroup', 7: 'DataCategory', 8: 'DataScope', 9: 'Column Header', 10: 'Dataset'}\n"
          ],
          "name": "stdout"
        },
        {
          "output_type": "execute_result",
          "data": {
            "text/html": [
              "<div>\n",
              "<style scoped>\n",
              "    .dataframe tbody tr th:only-of-type {\n",
              "        vertical-align: middle;\n",
              "    }\n",
              "\n",
              "    .dataframe tbody tr th {\n",
              "        vertical-align: top;\n",
              "    }\n",
              "\n",
              "    .dataframe thead th {\n",
              "        text-align: right;\n",
              "    }\n",
              "</style>\n",
              "<table border=\"1\" class=\"dataframe\">\n",
              "  <thead>\n",
              "    <tr style=\"text-align: right;\">\n",
              "      <th>ColumnID</th>\n",
              "      <th>SheetName</th>\n",
              "      <th>ReferenceText</th>\n",
              "      <th>RowFromReferenceText</th>\n",
              "      <th>ColumnFromReferenceText</th>\n",
              "      <th>TemplateText</th>\n",
              "      <th>DataGroup</th>\n",
              "      <th>DataCategory</th>\n",
              "      <th>DataScope</th>\n",
              "      <th>Column Header</th>\n",
              "      <th>Dataset</th>\n",
              "    </tr>\n",
              "    <tr>\n",
              "      <th>RowID</th>\n",
              "      <th></th>\n",
              "      <th></th>\n",
              "      <th></th>\n",
              "      <th></th>\n",
              "      <th></th>\n",
              "      <th></th>\n",
              "      <th></th>\n",
              "      <th></th>\n",
              "      <th></th>\n",
              "      <th></th>\n",
              "    </tr>\n",
              "  </thead>\n",
              "  <tbody>\n",
              "    <tr>\n",
              "      <th>2</th>\n",
              "      <td>AgeGenderSheet</td>\n",
              "      <td>Age Table</td>\n",
              "      <td>2</td>\n",
              "      <td>1</td>\n",
              "      <td>Name</td>\n",
              "      <td>Ages</td>\n",
              "      <td>NaN</td>\n",
              "      <td>NaN</td>\n",
              "      <td>Name</td>\n",
              "      <td>Ages</td>\n",
              "    </tr>\n",
              "    <tr>\n",
              "      <th>3</th>\n",
              "      <td>AgeGenderSheet</td>\n",
              "      <td>Age Table</td>\n",
              "      <td>2</td>\n",
              "      <td>2</td>\n",
              "      <td>Age</td>\n",
              "      <td>Ages</td>\n",
              "      <td>NaN</td>\n",
              "      <td>NaN</td>\n",
              "      <td>Age</td>\n",
              "      <td>Ages</td>\n",
              "    </tr>\n",
              "    <tr>\n",
              "      <th>4</th>\n",
              "      <td>AgeGenderSheet</td>\n",
              "      <td>Gender Table</td>\n",
              "      <td>2</td>\n",
              "      <td>0</td>\n",
              "      <td>Name</td>\n",
              "      <td>Genders</td>\n",
              "      <td>NaN</td>\n",
              "      <td>NaN</td>\n",
              "      <td>Name</td>\n",
              "      <td>Genders</td>\n",
              "    </tr>\n",
              "    <tr>\n",
              "      <th>5</th>\n",
              "      <td>AgeGenderSheet</td>\n",
              "      <td>Gender Table</td>\n",
              "      <td>2</td>\n",
              "      <td>1</td>\n",
              "      <td>Gender</td>\n",
              "      <td>Genders</td>\n",
              "      <td>NaN</td>\n",
              "      <td>NaN</td>\n",
              "      <td>Gender</td>\n",
              "      <td>Genders</td>\n",
              "    </tr>\n",
              "    <tr>\n",
              "      <th>6</th>\n",
              "      <td>AgeGenderSheet</td>\n",
              "      <td>DOB Table</td>\n",
              "      <td>2</td>\n",
              "      <td>0</td>\n",
              "      <td>Name</td>\n",
              "      <td>DoB</td>\n",
              "      <td>NaN</td>\n",
              "      <td>NaN</td>\n",
              "      <td>Name</td>\n",
              "      <td>DoB</td>\n",
              "    </tr>\n",
              "  </tbody>\n",
              "</table>\n",
              "</div>"
            ],
            "text/plain": [
              "ColumnID       SheetName ReferenceText  ... Column Header  Dataset\n",
              "RowID                                   ...                       \n",
              "2         AgeGenderSheet     Age Table  ...          Name     Ages\n",
              "3         AgeGenderSheet     Age Table  ...           Age     Ages\n",
              "4         AgeGenderSheet  Gender Table  ...          Name  Genders\n",
              "5         AgeGenderSheet  Gender Table  ...        Gender  Genders\n",
              "6         AgeGenderSheet     DOB Table  ...          Name      DoB\n",
              "\n",
              "[5 rows x 10 columns]"
            ]
          },
          "metadata": {
            "tags": []
          },
          "execution_count": 64
        }
      ]
    },
    {
      "cell_type": "markdown",
      "metadata": {
        "colab_type": "text",
        "id": "8IH4GVrigMRd"
      },
      "source": [
        "# Make Rules Database"
      ]
    },
    {
      "cell_type": "code",
      "metadata": {
        "colab_type": "code",
        "id": "pJGHXeJwMdE7",
        "outputId": "c4819466-6310-4259-96f7-80b9fabfb93c",
        "colab": {
          "base_uri": "https://localhost:8080/"
        }
      },
      "source": [
        "RulesDF.head()"
      ],
      "execution_count": 0,
      "outputs": [
        {
          "output_type": "execute_result",
          "data": {
            "text/html": [
              "<div>\n",
              "<style scoped>\n",
              "    .dataframe tbody tr th:only-of-type {\n",
              "        vertical-align: middle;\n",
              "    }\n",
              "\n",
              "    .dataframe tbody tr th {\n",
              "        vertical-align: top;\n",
              "    }\n",
              "\n",
              "    .dataframe thead th {\n",
              "        text-align: right;\n",
              "    }\n",
              "</style>\n",
              "<table border=\"1\" class=\"dataframe\">\n",
              "  <thead>\n",
              "    <tr style=\"text-align: right;\">\n",
              "      <th></th>\n",
              "      <th>RuleID</th>\n",
              "      <th>DataSet</th>\n",
              "      <th>FieldID</th>\n",
              "      <th>DataType</th>\n",
              "      <th>Format</th>\n",
              "      <th>RangeFrom</th>\n",
              "      <th>RangeTo</th>\n",
              "      <th>Null</th>\n",
              "      <th>Length</th>\n",
              "      <th>PickList</th>\n",
              "      <th>Rule1</th>\n",
              "      <th>Rule2</th>\n",
              "      <th>Rule3</th>\n",
              "    </tr>\n",
              "  </thead>\n",
              "  <tbody>\n",
              "    <tr>\n",
              "      <th>0</th>\n",
              "      <td>1</td>\n",
              "      <td>Ages</td>\n",
              "      <td>Name</td>\n",
              "      <td>Text</td>\n",
              "      <td>NaN</td>\n",
              "      <td>NaN</td>\n",
              "      <td>NaN</td>\n",
              "      <td>N</td>\n",
              "      <td>NaN</td>\n",
              "      <td>NaN</td>\n",
              "      <td>NaN</td>\n",
              "      <td>NaN</td>\n",
              "      <td>NaN</td>\n",
              "    </tr>\n",
              "    <tr>\n",
              "      <th>1</th>\n",
              "      <td>2</td>\n",
              "      <td>Ages</td>\n",
              "      <td>Age</td>\n",
              "      <td>Number</td>\n",
              "      <td>NaN</td>\n",
              "      <td>NaN</td>\n",
              "      <td>NaN</td>\n",
              "      <td>N</td>\n",
              "      <td>NaN</td>\n",
              "      <td>NaN</td>\n",
              "      <td>Positive</td>\n",
              "      <td>GreaterThanTen</td>\n",
              "      <td>NaN</td>\n",
              "    </tr>\n",
              "    <tr>\n",
              "      <th>2</th>\n",
              "      <td>3</td>\n",
              "      <td>Genders</td>\n",
              "      <td>Name</td>\n",
              "      <td>Text</td>\n",
              "      <td>NaN</td>\n",
              "      <td>NaN</td>\n",
              "      <td>NaN</td>\n",
              "      <td>N</td>\n",
              "      <td>NaN</td>\n",
              "      <td>NaN</td>\n",
              "      <td>NaN</td>\n",
              "      <td>NaN</td>\n",
              "      <td>NaN</td>\n",
              "    </tr>\n",
              "    <tr>\n",
              "      <th>3</th>\n",
              "      <td>4</td>\n",
              "      <td>Genders</td>\n",
              "      <td>Gender</td>\n",
              "      <td>Text</td>\n",
              "      <td>NaN</td>\n",
              "      <td>NaN</td>\n",
              "      <td>NaN</td>\n",
              "      <td>N</td>\n",
              "      <td>NaN</td>\n",
              "      <td>Gender</td>\n",
              "      <td>NaN</td>\n",
              "      <td>NaN</td>\n",
              "      <td>NaN</td>\n",
              "    </tr>\n",
              "    <tr>\n",
              "      <th>4</th>\n",
              "      <td>5</td>\n",
              "      <td>DoB</td>\n",
              "      <td>Name</td>\n",
              "      <td>Text</td>\n",
              "      <td>NaN</td>\n",
              "      <td>NaN</td>\n",
              "      <td>NaN</td>\n",
              "      <td>N</td>\n",
              "      <td>NaN</td>\n",
              "      <td>NaN</td>\n",
              "      <td>NaN</td>\n",
              "      <td>NaN</td>\n",
              "      <td>NaN</td>\n",
              "    </tr>\n",
              "  </tbody>\n",
              "</table>\n",
              "</div>"
            ],
            "text/plain": [
              "   RuleID  DataSet FieldID DataType  ...  PickList     Rule1           Rule2 Rule3\n",
              "0       1     Ages    Name     Text  ...       NaN       NaN             NaN   NaN\n",
              "1       2     Ages     Age   Number  ...       NaN  Positive  GreaterThanTen   NaN\n",
              "2       3  Genders    Name     Text  ...       NaN       NaN             NaN   NaN\n",
              "3       4  Genders  Gender     Text  ...    Gender       NaN             NaN   NaN\n",
              "4       5      DoB    Name     Text  ...       NaN       NaN             NaN   NaN\n",
              "\n",
              "[5 rows x 13 columns]"
            ]
          },
          "metadata": {
            "tags": []
          },
          "execution_count": 65
        }
      ]
    },
    {
      "cell_type": "markdown",
      "metadata": {
        "colab_type": "text",
        "id": "2w0CkOgoMmRS"
      },
      "source": [
        "The above is the Rules definition sheet. It used KeyWords to define the checks.  Below forms a list of KeyWords that are relevant to a particular field in a DataSet"
      ]
    },
    {
      "cell_type": "code",
      "metadata": {
        "colab_type": "code",
        "id": "6Q_4gGPS9rtm",
        "outputId": "3ec9581e-c155-485d-e43f-81fa5057d67f",
        "colab": {
          "base_uri": "https://localhost:8080/"
        }
      },
      "source": [
        "rulesdb = pd.DataFrame()\n",
        "rulesdb = pd.melt(RulesDF, id_vars=['RuleID', 'DataSet', 'FieldID'])\n",
        "rulesdb = rulesdb.rename(columns={\"variable\": \"RuleType\", \"value\": \"KeyWord\"})\n",
        "rulesdb = rulesdb[rulesdb.KeyWord.notnull()]\n",
        "# df['A'] = df.apply(lambda x: x['B'] if x['A']==0 else x['A'], axis=1)\n",
        "# The following adds the KeyWord Null into the Rules list - if Null is N, this means Nulls are Not Allowed\n",
        "rulesdb['KeyWord'] = rulesdb.apply(lambda x: x['RuleType'] if x['KeyWord']=='N' else x['KeyWord'], axis=1)\n",
        "\n",
        "PickListCellsList\n",
        "\n",
        "rulesdb = pd.merge(rulesdb,PickListCellsList, on=['KeyWord'],how='left')\n",
        "\n",
        "rulesdb.head(5)"
      ],
      "execution_count": 0,
      "outputs": [
        {
          "output_type": "execute_result",
          "data": {
            "text/html": [
              "<div>\n",
              "<style scoped>\n",
              "    .dataframe tbody tr th:only-of-type {\n",
              "        vertical-align: middle;\n",
              "    }\n",
              "\n",
              "    .dataframe tbody tr th {\n",
              "        vertical-align: top;\n",
              "    }\n",
              "\n",
              "    .dataframe thead th {\n",
              "        text-align: right;\n",
              "    }\n",
              "</style>\n",
              "<table border=\"1\" class=\"dataframe\">\n",
              "  <thead>\n",
              "    <tr style=\"text-align: right;\">\n",
              "      <th></th>\n",
              "      <th>RuleID</th>\n",
              "      <th>DataSet</th>\n",
              "      <th>FieldID</th>\n",
              "      <th>RuleType</th>\n",
              "      <th>KeyWord</th>\n",
              "      <th>FormulaKeyWord</th>\n",
              "      <th>List</th>\n",
              "    </tr>\n",
              "  </thead>\n",
              "  <tbody>\n",
              "    <tr>\n",
              "      <th>0</th>\n",
              "      <td>1</td>\n",
              "      <td>Ages</td>\n",
              "      <td>Name</td>\n",
              "      <td>DataType</td>\n",
              "      <td>Text</td>\n",
              "      <td>NaN</td>\n",
              "      <td>NaN</td>\n",
              "    </tr>\n",
              "    <tr>\n",
              "      <th>1</th>\n",
              "      <td>2</td>\n",
              "      <td>Ages</td>\n",
              "      <td>Age</td>\n",
              "      <td>DataType</td>\n",
              "      <td>Number</td>\n",
              "      <td>NaN</td>\n",
              "      <td>NaN</td>\n",
              "    </tr>\n",
              "    <tr>\n",
              "      <th>2</th>\n",
              "      <td>3</td>\n",
              "      <td>Genders</td>\n",
              "      <td>Name</td>\n",
              "      <td>DataType</td>\n",
              "      <td>Text</td>\n",
              "      <td>NaN</td>\n",
              "      <td>NaN</td>\n",
              "    </tr>\n",
              "    <tr>\n",
              "      <th>3</th>\n",
              "      <td>4</td>\n",
              "      <td>Genders</td>\n",
              "      <td>Gender</td>\n",
              "      <td>DataType</td>\n",
              "      <td>Text</td>\n",
              "      <td>NaN</td>\n",
              "      <td>NaN</td>\n",
              "    </tr>\n",
              "    <tr>\n",
              "      <th>4</th>\n",
              "      <td>5</td>\n",
              "      <td>DoB</td>\n",
              "      <td>Name</td>\n",
              "      <td>DataType</td>\n",
              "      <td>Text</td>\n",
              "      <td>NaN</td>\n",
              "      <td>NaN</td>\n",
              "    </tr>\n",
              "  </tbody>\n",
              "</table>\n",
              "</div>"
            ],
            "text/plain": [
              "   RuleID  DataSet FieldID  RuleType KeyWord FormulaKeyWord List\n",
              "0       1     Ages    Name  DataType    Text            NaN  NaN\n",
              "1       2     Ages     Age  DataType  Number            NaN  NaN\n",
              "2       3  Genders    Name  DataType    Text            NaN  NaN\n",
              "3       4  Genders  Gender  DataType    Text            NaN  NaN\n",
              "4       5      DoB    Name  DataType    Text            NaN  NaN"
            ]
          },
          "metadata": {
            "tags": []
          },
          "execution_count": 66
        }
      ]
    },
    {
      "cell_type": "markdown",
      "metadata": {
        "colab_type": "text",
        "id": "_BT3jBxRgmOX"
      },
      "source": [
        "# Add Code and Formulae to Rules Database"
      ]
    },
    {
      "cell_type": "markdown",
      "metadata": {
        "colab_type": "text",
        "id": "FjPsx40uNGbC"
      },
      "source": [
        "Palette defines the Rule Text and Rule Formula.  We have implemented rules on Alteryx, SQL, Python & Javascript"
      ]
    },
    {
      "cell_type": "code",
      "metadata": {
        "colab_type": "code",
        "id": "C5qzWLTy9uOh",
        "outputId": "b9994445-438e-49bf-95f6-44763a316137",
        "colab": {
          "base_uri": "https://localhost:8080/"
        }
      },
      "source": [
        "palette = pd.DataFrame()\n",
        "palette = pd.merge(DataSetDF, rulesdb, on=['FieldID', 'DataSet'])\n",
        "palette['KeyWord'] = rulesdb.apply(lambda x: x['FormulaKeyWord'] if x['FormulaKeyWord']=='PickList' else x['KeyWord'], axis=1)\n",
        "palette.head(5)"
      ],
      "execution_count": 0,
      "outputs": [
        {
          "output_type": "execute_result",
          "data": {
            "text/html": [
              "<div>\n",
              "<style scoped>\n",
              "    .dataframe tbody tr th:only-of-type {\n",
              "        vertical-align: middle;\n",
              "    }\n",
              "\n",
              "    .dataframe tbody tr th {\n",
              "        vertical-align: top;\n",
              "    }\n",
              "\n",
              "    .dataframe thead th {\n",
              "        text-align: right;\n",
              "    }\n",
              "</style>\n",
              "<table border=\"1\" class=\"dataframe\">\n",
              "  <thead>\n",
              "    <tr style=\"text-align: right;\">\n",
              "      <th></th>\n",
              "      <th>DataSet</th>\n",
              "      <th>SheetName</th>\n",
              "      <th>ReferenceTextStart</th>\n",
              "      <th>ReferenceTextEnd</th>\n",
              "      <th>RowFromReferenceText</th>\n",
              "      <th>ColumnFromReferenceText</th>\n",
              "      <th>FieldPosition</th>\n",
              "      <th>FieldID</th>\n",
              "      <th>FieldDescription</th>\n",
              "      <th>TableOrientation</th>\n",
              "      <th>RuleID</th>\n",
              "      <th>RuleType</th>\n",
              "      <th>KeyWord</th>\n",
              "      <th>FormulaKeyWord</th>\n",
              "      <th>List</th>\n",
              "    </tr>\n",
              "  </thead>\n",
              "  <tbody>\n",
              "    <tr>\n",
              "      <th>0</th>\n",
              "      <td>Ages</td>\n",
              "      <td>AgeGenderSheet</td>\n",
              "      <td>Age Table</td>\n",
              "      <td>Gender Table</td>\n",
              "      <td>2</td>\n",
              "      <td>1</td>\n",
              "      <td>1</td>\n",
              "      <td>Name</td>\n",
              "      <td>Name</td>\n",
              "      <td>Down</td>\n",
              "      <td>1</td>\n",
              "      <td>DataType</td>\n",
              "      <td>Text</td>\n",
              "      <td>NaN</td>\n",
              "      <td>NaN</td>\n",
              "    </tr>\n",
              "    <tr>\n",
              "      <th>1</th>\n",
              "      <td>Ages</td>\n",
              "      <td>AgeGenderSheet</td>\n",
              "      <td>Age Table</td>\n",
              "      <td>Gender Table</td>\n",
              "      <td>2</td>\n",
              "      <td>1</td>\n",
              "      <td>1</td>\n",
              "      <td>Name</td>\n",
              "      <td>Name</td>\n",
              "      <td>Down</td>\n",
              "      <td>1</td>\n",
              "      <td>Null</td>\n",
              "      <td>Number</td>\n",
              "      <td>NaN</td>\n",
              "      <td>NaN</td>\n",
              "    </tr>\n",
              "    <tr>\n",
              "      <th>2</th>\n",
              "      <td>Ages</td>\n",
              "      <td>AgeGenderSheet</td>\n",
              "      <td>Age Table</td>\n",
              "      <td>Gender Table</td>\n",
              "      <td>2</td>\n",
              "      <td>2</td>\n",
              "      <td>2</td>\n",
              "      <td>Age</td>\n",
              "      <td>Age</td>\n",
              "      <td>Down</td>\n",
              "      <td>2</td>\n",
              "      <td>DataType</td>\n",
              "      <td>Text</td>\n",
              "      <td>NaN</td>\n",
              "      <td>NaN</td>\n",
              "    </tr>\n",
              "    <tr>\n",
              "      <th>3</th>\n",
              "      <td>Ages</td>\n",
              "      <td>AgeGenderSheet</td>\n",
              "      <td>Age Table</td>\n",
              "      <td>Gender Table</td>\n",
              "      <td>2</td>\n",
              "      <td>2</td>\n",
              "      <td>2</td>\n",
              "      <td>Age</td>\n",
              "      <td>Age</td>\n",
              "      <td>Down</td>\n",
              "      <td>2</td>\n",
              "      <td>Null</td>\n",
              "      <td>Text</td>\n",
              "      <td>NaN</td>\n",
              "      <td>NaN</td>\n",
              "    </tr>\n",
              "    <tr>\n",
              "      <th>4</th>\n",
              "      <td>Ages</td>\n",
              "      <td>AgeGenderSheet</td>\n",
              "      <td>Age Table</td>\n",
              "      <td>Gender Table</td>\n",
              "      <td>2</td>\n",
              "      <td>2</td>\n",
              "      <td>2</td>\n",
              "      <td>Age</td>\n",
              "      <td>Age</td>\n",
              "      <td>Down</td>\n",
              "      <td>2</td>\n",
              "      <td>Rule1</td>\n",
              "      <td>Text</td>\n",
              "      <td>NaN</td>\n",
              "      <td>NaN</td>\n",
              "    </tr>\n",
              "  </tbody>\n",
              "</table>\n",
              "</div>"
            ],
            "text/plain": [
              "  DataSet       SheetName ReferenceTextStart  ... KeyWord  FormulaKeyWord  List\n",
              "0    Ages  AgeGenderSheet          Age Table  ...    Text             NaN   NaN\n",
              "1    Ages  AgeGenderSheet          Age Table  ...  Number             NaN   NaN\n",
              "2    Ages  AgeGenderSheet          Age Table  ...    Text             NaN   NaN\n",
              "3    Ages  AgeGenderSheet          Age Table  ...    Text             NaN   NaN\n",
              "4    Ages  AgeGenderSheet          Age Table  ...    Text             NaN   NaN\n",
              "\n",
              "[5 rows x 15 columns]"
            ]
          },
          "metadata": {
            "tags": []
          },
          "execution_count": 67
        }
      ]
    },
    {
      "cell_type": "code",
      "metadata": {
        "id": "qKr38LQxP-19",
        "colab_type": "code",
        "colab": {}
      },
      "source": [
        "\n",
        "palette = pd.merge(palette, PaletteDF, on=['KeyWord'],how='left')\n"
      ],
      "execution_count": 0,
      "outputs": []
    },
    {
      "cell_type": "code",
      "metadata": {
        "colab_type": "code",
        "id": "agn-y_XpjZQM",
        "outputId": "b07b04d3-71a5-473f-fc87-79ccde439a1a",
        "scrolled": false,
        "colab": {
          "base_uri": "https://localhost:8080/"
        }
      },
      "source": [
        "palette.head(5)"
      ],
      "execution_count": 0,
      "outputs": [
        {
          "output_type": "execute_result",
          "data": {
            "text/html": [
              "<div>\n",
              "<style scoped>\n",
              "    .dataframe tbody tr th:only-of-type {\n",
              "        vertical-align: middle;\n",
              "    }\n",
              "\n",
              "    .dataframe tbody tr th {\n",
              "        vertical-align: top;\n",
              "    }\n",
              "\n",
              "    .dataframe thead th {\n",
              "        text-align: right;\n",
              "    }\n",
              "</style>\n",
              "<table border=\"1\" class=\"dataframe\">\n",
              "  <thead>\n",
              "    <tr style=\"text-align: right;\">\n",
              "      <th></th>\n",
              "      <th>DataSet</th>\n",
              "      <th>SheetName</th>\n",
              "      <th>ReferenceTextStart</th>\n",
              "      <th>ReferenceTextEnd</th>\n",
              "      <th>RowFromReferenceText</th>\n",
              "      <th>ColumnFromReferenceText</th>\n",
              "      <th>FieldPosition</th>\n",
              "      <th>FieldID</th>\n",
              "      <th>FieldDescription</th>\n",
              "      <th>TableOrientation</th>\n",
              "      <th>RuleID</th>\n",
              "      <th>RuleType</th>\n",
              "      <th>KeyWord</th>\n",
              "      <th>FormulaKeyWord</th>\n",
              "      <th>List</th>\n",
              "      <th>Rule</th>\n",
              "      <th>CheckPerformed</th>\n",
              "      <th>ErrorMessage</th>\n",
              "      <th>AlteryxDataType</th>\n",
              "      <th>AlteryxFormula</th>\n",
              "      <th>RemedialAction</th>\n",
              "      <th>SQLFormula</th>\n",
              "      <th>PythonFormula</th>\n",
              "    </tr>\n",
              "  </thead>\n",
              "  <tbody>\n",
              "    <tr>\n",
              "      <th>0</th>\n",
              "      <td>Ages</td>\n",
              "      <td>AgeGenderSheet</td>\n",
              "      <td>Age Table</td>\n",
              "      <td>Gender Table</td>\n",
              "      <td>2</td>\n",
              "      <td>1</td>\n",
              "      <td>1</td>\n",
              "      <td>Name</td>\n",
              "      <td>Name</td>\n",
              "      <td>Down</td>\n",
              "      <td>1</td>\n",
              "      <td>DataType</td>\n",
              "      <td>Text</td>\n",
              "      <td>NaN</td>\n",
              "      <td>NaN</td>\n",
              "      <td>Must Be Text</td>\n",
              "      <td>Data Type is Text</td>\n",
              "      <td>Text Not Entered</td>\n",
              "      <td>V_String</td>\n",
              "      <td>Length([CellValue]) &gt; 0 and Contains([CellType...</td>\n",
              "      <td>Enter as Text</td>\n",
              "      <td>case when IsNULL([CellValue],'XX') = 'XX' then...</td>\n",
              "      <td>np.where(dataset['CellType'] == 'Text', 1, 0)</td>\n",
              "    </tr>\n",
              "    <tr>\n",
              "      <th>1</th>\n",
              "      <td>Ages</td>\n",
              "      <td>AgeGenderSheet</td>\n",
              "      <td>Age Table</td>\n",
              "      <td>Gender Table</td>\n",
              "      <td>2</td>\n",
              "      <td>1</td>\n",
              "      <td>1</td>\n",
              "      <td>Name</td>\n",
              "      <td>Name</td>\n",
              "      <td>Down</td>\n",
              "      <td>1</td>\n",
              "      <td>Null</td>\n",
              "      <td>Number</td>\n",
              "      <td>NaN</td>\n",
              "      <td>NaN</td>\n",
              "      <td>Must Be Number</td>\n",
              "      <td>Data Type is Number</td>\n",
              "      <td>Number Not Entered</td>\n",
              "      <td>Double</td>\n",
              "      <td>Length([CellValue]) &gt; 0 and [CellType] = \"Number\"</td>\n",
              "      <td>Enter Number</td>\n",
              "      <td>case when IsNULL([CellValue],'XX') = 'XX' then...</td>\n",
              "      <td>np.where(dataset['CellType'] == 'Number', 1, 0)</td>\n",
              "    </tr>\n",
              "    <tr>\n",
              "      <th>2</th>\n",
              "      <td>Ages</td>\n",
              "      <td>AgeGenderSheet</td>\n",
              "      <td>Age Table</td>\n",
              "      <td>Gender Table</td>\n",
              "      <td>2</td>\n",
              "      <td>2</td>\n",
              "      <td>2</td>\n",
              "      <td>Age</td>\n",
              "      <td>Age</td>\n",
              "      <td>Down</td>\n",
              "      <td>2</td>\n",
              "      <td>DataType</td>\n",
              "      <td>Text</td>\n",
              "      <td>NaN</td>\n",
              "      <td>NaN</td>\n",
              "      <td>Must Be Text</td>\n",
              "      <td>Data Type is Text</td>\n",
              "      <td>Text Not Entered</td>\n",
              "      <td>V_String</td>\n",
              "      <td>Length([CellValue]) &gt; 0 and Contains([CellType...</td>\n",
              "      <td>Enter as Text</td>\n",
              "      <td>case when IsNULL([CellValue],'XX') = 'XX' then...</td>\n",
              "      <td>np.where(dataset['CellType'] == 'Text', 1, 0)</td>\n",
              "    </tr>\n",
              "    <tr>\n",
              "      <th>3</th>\n",
              "      <td>Ages</td>\n",
              "      <td>AgeGenderSheet</td>\n",
              "      <td>Age Table</td>\n",
              "      <td>Gender Table</td>\n",
              "      <td>2</td>\n",
              "      <td>2</td>\n",
              "      <td>2</td>\n",
              "      <td>Age</td>\n",
              "      <td>Age</td>\n",
              "      <td>Down</td>\n",
              "      <td>2</td>\n",
              "      <td>Null</td>\n",
              "      <td>Text</td>\n",
              "      <td>NaN</td>\n",
              "      <td>NaN</td>\n",
              "      <td>Must Be Text</td>\n",
              "      <td>Data Type is Text</td>\n",
              "      <td>Text Not Entered</td>\n",
              "      <td>V_String</td>\n",
              "      <td>Length([CellValue]) &gt; 0 and Contains([CellType...</td>\n",
              "      <td>Enter as Text</td>\n",
              "      <td>case when IsNULL([CellValue],'XX') = 'XX' then...</td>\n",
              "      <td>np.where(dataset['CellType'] == 'Text', 1, 0)</td>\n",
              "    </tr>\n",
              "    <tr>\n",
              "      <th>4</th>\n",
              "      <td>Ages</td>\n",
              "      <td>AgeGenderSheet</td>\n",
              "      <td>Age Table</td>\n",
              "      <td>Gender Table</td>\n",
              "      <td>2</td>\n",
              "      <td>2</td>\n",
              "      <td>2</td>\n",
              "      <td>Age</td>\n",
              "      <td>Age</td>\n",
              "      <td>Down</td>\n",
              "      <td>2</td>\n",
              "      <td>Rule1</td>\n",
              "      <td>Text</td>\n",
              "      <td>NaN</td>\n",
              "      <td>NaN</td>\n",
              "      <td>Must Be Text</td>\n",
              "      <td>Data Type is Text</td>\n",
              "      <td>Text Not Entered</td>\n",
              "      <td>V_String</td>\n",
              "      <td>Length([CellValue]) &gt; 0 and Contains([CellType...</td>\n",
              "      <td>Enter as Text</td>\n",
              "      <td>case when IsNULL([CellValue],'XX') = 'XX' then...</td>\n",
              "      <td>np.where(dataset['CellType'] == 'Text', 1, 0)</td>\n",
              "    </tr>\n",
              "  </tbody>\n",
              "</table>\n",
              "</div>"
            ],
            "text/plain": [
              "  DataSet  ...                                    PythonFormula\n",
              "0    Ages  ...    np.where(dataset['CellType'] == 'Text', 1, 0)\n",
              "1    Ages  ...  np.where(dataset['CellType'] == 'Number', 1, 0)\n",
              "2    Ages  ...    np.where(dataset['CellType'] == 'Text', 1, 0)\n",
              "3    Ages  ...    np.where(dataset['CellType'] == 'Text', 1, 0)\n",
              "4    Ages  ...    np.where(dataset['CellType'] == 'Text', 1, 0)\n",
              "\n",
              "[5 rows x 23 columns]"
            ]
          },
          "metadata": {
            "tags": []
          },
          "execution_count": 69
        }
      ]
    },
    {
      "cell_type": "markdown",
      "metadata": {
        "colab_type": "text",
        "id": "qA4u066Zg0Mk"
      },
      "source": [
        "# Get Start Anchor Cells"
      ]
    },
    {
      "cell_type": "markdown",
      "metadata": {
        "colab_type": "text",
        "id": "c-Q7nZsaNliz"
      },
      "source": [
        "Start Anchors are where tables are mapped from, every dataset in the spreadsheet must be anchored to a uniquely identifiable cell in a particular sheet."
      ]
    },
    {
      "cell_type": "code",
      "metadata": {
        "colab_type": "code",
        "id": "yzZcf-vY9wpZ",
        "outputId": "43c6a18f-f9bf-4905-e9f9-21295c279720",
        "colab": {
          "base_uri": "https://localhost:8080/"
        }
      },
      "source": [
        "startanchors = pd.DataFrame()\n",
        "startanchors = pd.DataFrame(DataSetDF, columns=['DataSet', 'SheetName', 'ReferenceTextStart'])\n",
        "startanchors = startanchors.rename(columns={\"ReferenceTextStart\": \"CellValue\"})\n",
        "startanchors = startanchors.drop_duplicates()\n",
        "startanchors.head()\n"
      ],
      "execution_count": 0,
      "outputs": [
        {
          "output_type": "execute_result",
          "data": {
            "text/html": [
              "<div>\n",
              "<style scoped>\n",
              "    .dataframe tbody tr th:only-of-type {\n",
              "        vertical-align: middle;\n",
              "    }\n",
              "\n",
              "    .dataframe tbody tr th {\n",
              "        vertical-align: top;\n",
              "    }\n",
              "\n",
              "    .dataframe thead th {\n",
              "        text-align: right;\n",
              "    }\n",
              "</style>\n",
              "<table border=\"1\" class=\"dataframe\">\n",
              "  <thead>\n",
              "    <tr style=\"text-align: right;\">\n",
              "      <th></th>\n",
              "      <th>DataSet</th>\n",
              "      <th>SheetName</th>\n",
              "      <th>CellValue</th>\n",
              "    </tr>\n",
              "  </thead>\n",
              "  <tbody>\n",
              "    <tr>\n",
              "      <th>0</th>\n",
              "      <td>Ages</td>\n",
              "      <td>AgeGenderSheet</td>\n",
              "      <td>Age Table</td>\n",
              "    </tr>\n",
              "    <tr>\n",
              "      <th>2</th>\n",
              "      <td>Genders</td>\n",
              "      <td>AgeGenderSheet</td>\n",
              "      <td>Gender Table</td>\n",
              "    </tr>\n",
              "    <tr>\n",
              "      <th>4</th>\n",
              "      <td>DoB</td>\n",
              "      <td>AgeGenderSheet</td>\n",
              "      <td>DOB Table</td>\n",
              "    </tr>\n",
              "    <tr>\n",
              "      <th>6</th>\n",
              "      <td>MaritalStatus</td>\n",
              "      <td>MaritalDepartmentSheet</td>\n",
              "      <td>Marital Status Table</td>\n",
              "    </tr>\n",
              "    <tr>\n",
              "      <th>8</th>\n",
              "      <td>Department</td>\n",
              "      <td>MaritalDepartmentSheet</td>\n",
              "      <td>Department Table</td>\n",
              "    </tr>\n",
              "  </tbody>\n",
              "</table>\n",
              "</div>"
            ],
            "text/plain": [
              "         DataSet               SheetName             CellValue\n",
              "0           Ages          AgeGenderSheet             Age Table\n",
              "2        Genders          AgeGenderSheet          Gender Table\n",
              "4            DoB          AgeGenderSheet             DOB Table\n",
              "6  MaritalStatus  MaritalDepartmentSheet  Marital Status Table\n",
              "8     Department  MaritalDepartmentSheet      Department Table"
            ]
          },
          "metadata": {
            "tags": []
          },
          "execution_count": 70
        }
      ]
    },
    {
      "cell_type": "markdown",
      "metadata": {
        "colab_type": "text",
        "id": "2sZQyqiuhDZc"
      },
      "source": [
        "# Get All End Anchor Cells"
      ]
    },
    {
      "cell_type": "markdown",
      "metadata": {
        "colab_type": "text",
        "id": "EEcTX6mKN6eA"
      },
      "source": [
        "End anchors are where a dataset finishes. Probably at the next Start Anchor.\n",
        "This does mean that blank rows are validated and one needs to filter these out later. "
      ]
    },
    {
      "cell_type": "code",
      "metadata": {
        "colab_type": "code",
        "id": "YcNpmVwGDvEm",
        "outputId": "756bd655-980d-4527-cab7-aa7b6b78d726",
        "colab": {
          "base_uri": "https://localhost:8080/",
          "height": 197
        }
      },
      "source": [
        "endanchors = pd.DataFrame()\n",
        "endanchors = pd.DataFrame(DataSetDF, columns=['DataSet', 'SheetName', 'ReferenceTextEnd'])\n",
        "endanchors = endanchors.rename(columns={\"ReferenceTextEnd\": \"CellValue\"})\n",
        "endanchors = endanchors.drop_duplicates()\n",
        "endanchors.head()"
      ],
      "execution_count": 0,
      "outputs": [
        {
          "output_type": "execute_result",
          "data": {
            "text/html": [
              "<div>\n",
              "<style scoped>\n",
              "    .dataframe tbody tr th:only-of-type {\n",
              "        vertical-align: middle;\n",
              "    }\n",
              "\n",
              "    .dataframe tbody tr th {\n",
              "        vertical-align: top;\n",
              "    }\n",
              "\n",
              "    .dataframe thead th {\n",
              "        text-align: right;\n",
              "    }\n",
              "</style>\n",
              "<table border=\"1\" class=\"dataframe\">\n",
              "  <thead>\n",
              "    <tr style=\"text-align: right;\">\n",
              "      <th></th>\n",
              "      <th>DataSet</th>\n",
              "      <th>SheetName</th>\n",
              "      <th>CellValue</th>\n",
              "    </tr>\n",
              "  </thead>\n",
              "  <tbody>\n",
              "    <tr>\n",
              "      <th>0</th>\n",
              "      <td>Ages</td>\n",
              "      <td>AgeGenderSheet</td>\n",
              "      <td>Gender Table</td>\n",
              "    </tr>\n",
              "    <tr>\n",
              "      <th>2</th>\n",
              "      <td>Genders</td>\n",
              "      <td>AgeGenderSheet</td>\n",
              "      <td>DOB Table</td>\n",
              "    </tr>\n",
              "    <tr>\n",
              "      <th>4</th>\n",
              "      <td>DoB</td>\n",
              "      <td>AgeGenderSheet</td>\n",
              "      <td>NaN</td>\n",
              "    </tr>\n",
              "    <tr>\n",
              "      <th>6</th>\n",
              "      <td>MaritalStatus</td>\n",
              "      <td>MaritalDepartmentSheet</td>\n",
              "      <td>NaN</td>\n",
              "    </tr>\n",
              "    <tr>\n",
              "      <th>8</th>\n",
              "      <td>Department</td>\n",
              "      <td>MaritalDepartmentSheet</td>\n",
              "      <td>NaN</td>\n",
              "    </tr>\n",
              "  </tbody>\n",
              "</table>\n",
              "</div>"
            ],
            "text/plain": [
              "         DataSet               SheetName     CellValue\n",
              "0           Ages          AgeGenderSheet  Gender Table\n",
              "2        Genders          AgeGenderSheet     DOB Table\n",
              "4            DoB          AgeGenderSheet           NaN\n",
              "6  MaritalStatus  MaritalDepartmentSheet           NaN\n",
              "8     Department  MaritalDepartmentSheet           NaN"
            ]
          },
          "metadata": {
            "tags": []
          },
          "execution_count": 71
        }
      ]
    },
    {
      "cell_type": "markdown",
      "metadata": {
        "colab_type": "text",
        "id": "0if3QQALhaOq"
      },
      "source": [
        "# Find Start Anchors"
      ]
    },
    {
      "cell_type": "markdown",
      "metadata": {
        "colab_type": "text",
        "id": "tkT3RUFuOVh-"
      },
      "source": [
        "Now we look for the start and finish anchor cells for each dataset."
      ]
    },
    {
      "cell_type": "code",
      "metadata": {
        "colab_type": "code",
        "id": "_ZhaXHgY9732",
        "outputId": "41bb1dbf-85c1-45d3-840a-e989cf131fab",
        "colab": {
          "base_uri": "https://localhost:8080/"
        }
      },
      "source": [
        "findstartanchors = pd.DataFrame()\n",
        "findstartanchors = pd.merge(startanchors, fullcelldfstage, on=['SheetName', 'CellValue'])\n",
        "findstartanchors = findstartanchors.rename(columns={\"RowID\": \"AnchorRow\", \"ColumnID\": \"AnchorColumn\"})\n",
        "findstartanchors = pd.DataFrame(findstartanchors, columns=['DataSet', 'SheetName', 'AnchorRow', 'AnchorColumn'])\n",
        "findstartanchors.head()"
      ],
      "execution_count": 0,
      "outputs": [
        {
          "output_type": "execute_result",
          "data": {
            "text/html": [
              "<div>\n",
              "<style scoped>\n",
              "    .dataframe tbody tr th:only-of-type {\n",
              "        vertical-align: middle;\n",
              "    }\n",
              "\n",
              "    .dataframe tbody tr th {\n",
              "        vertical-align: top;\n",
              "    }\n",
              "\n",
              "    .dataframe thead th {\n",
              "        text-align: right;\n",
              "    }\n",
              "</style>\n",
              "<table border=\"1\" class=\"dataframe\">\n",
              "  <thead>\n",
              "    <tr style=\"text-align: right;\">\n",
              "      <th></th>\n",
              "      <th>DataSet</th>\n",
              "      <th>SheetName</th>\n",
              "      <th>AnchorRow</th>\n",
              "      <th>AnchorColumn</th>\n",
              "    </tr>\n",
              "  </thead>\n",
              "  <tbody>\n",
              "    <tr>\n",
              "      <th>0</th>\n",
              "      <td>Ages</td>\n",
              "      <td>AgeGenderSheet</td>\n",
              "      <td>5</td>\n",
              "      <td>2</td>\n",
              "    </tr>\n",
              "    <tr>\n",
              "      <th>1</th>\n",
              "      <td>Genders</td>\n",
              "      <td>AgeGenderSheet</td>\n",
              "      <td>14</td>\n",
              "      <td>4</td>\n",
              "    </tr>\n",
              "    <tr>\n",
              "      <th>2</th>\n",
              "      <td>DoB</td>\n",
              "      <td>AgeGenderSheet</td>\n",
              "      <td>23</td>\n",
              "      <td>1</td>\n",
              "    </tr>\n",
              "    <tr>\n",
              "      <th>3</th>\n",
              "      <td>MaritalStatus</td>\n",
              "      <td>MaritalDepartmentSheet</td>\n",
              "      <td>3</td>\n",
              "      <td>1</td>\n",
              "    </tr>\n",
              "    <tr>\n",
              "      <th>4</th>\n",
              "      <td>Department</td>\n",
              "      <td>MaritalDepartmentSheet</td>\n",
              "      <td>2</td>\n",
              "      <td>5</td>\n",
              "    </tr>\n",
              "  </tbody>\n",
              "</table>\n",
              "</div>"
            ],
            "text/plain": [
              "         DataSet               SheetName  AnchorRow  AnchorColumn\n",
              "0           Ages          AgeGenderSheet          5             2\n",
              "1        Genders          AgeGenderSheet         14             4\n",
              "2            DoB          AgeGenderSheet         23             1\n",
              "3  MaritalStatus  MaritalDepartmentSheet          3             1\n",
              "4     Department  MaritalDepartmentSheet          2             5"
            ]
          },
          "metadata": {
            "tags": []
          },
          "execution_count": 72
        }
      ]
    },
    {
      "cell_type": "markdown",
      "metadata": {
        "colab_type": "text",
        "id": "gyZbtquUhhvL"
      },
      "source": [
        "# Find End Anchors"
      ]
    },
    {
      "cell_type": "markdown",
      "metadata": {
        "colab_type": "text",
        "id": "-FAdPT1ZO2lC"
      },
      "source": [
        "Some datasets have no finish anchors as they are the last table in the sheet."
      ]
    },
    {
      "cell_type": "code",
      "metadata": {
        "colab_type": "code",
        "id": "PhHBF2ChEC0f",
        "outputId": "a6a53613-0a96-4a64-8e33-885c158a5084",
        "colab": {
          "base_uri": "https://localhost:8080/"
        }
      },
      "source": [
        "findendanchors = pd.DataFrame()\n",
        "findendanchors = pd.merge(endanchors, fullcelldfstage, on=['SheetName', 'CellValue'])\n",
        "findendanchors = findendanchors.rename(columns={\"RowID\": \"EndRow\"})\n",
        "findendanchors = findendanchors[findendanchors.CellValue.notnull()]\n",
        "findendanchors = pd.DataFrame(findendanchors, columns=['DataSet', 'SheetName', 'EndRow'])\n",
        "findendanchors.head()\n"
      ],
      "execution_count": 0,
      "outputs": [
        {
          "output_type": "execute_result",
          "data": {
            "text/html": [
              "<div>\n",
              "<style scoped>\n",
              "    .dataframe tbody tr th:only-of-type {\n",
              "        vertical-align: middle;\n",
              "    }\n",
              "\n",
              "    .dataframe tbody tr th {\n",
              "        vertical-align: top;\n",
              "    }\n",
              "\n",
              "    .dataframe thead th {\n",
              "        text-align: right;\n",
              "    }\n",
              "</style>\n",
              "<table border=\"1\" class=\"dataframe\">\n",
              "  <thead>\n",
              "    <tr style=\"text-align: right;\">\n",
              "      <th></th>\n",
              "      <th>DataSet</th>\n",
              "      <th>SheetName</th>\n",
              "      <th>EndRow</th>\n",
              "    </tr>\n",
              "  </thead>\n",
              "  <tbody>\n",
              "    <tr>\n",
              "      <th>0</th>\n",
              "      <td>Ages</td>\n",
              "      <td>AgeGenderSheet</td>\n",
              "      <td>14</td>\n",
              "    </tr>\n",
              "    <tr>\n",
              "      <th>1</th>\n",
              "      <td>Genders</td>\n",
              "      <td>AgeGenderSheet</td>\n",
              "      <td>23</td>\n",
              "    </tr>\n",
              "  </tbody>\n",
              "</table>\n",
              "</div>"
            ],
            "text/plain": [
              "   DataSet       SheetName  EndRow\n",
              "0     Ages  AgeGenderSheet      14\n",
              "1  Genders  AgeGenderSheet      23"
            ]
          },
          "metadata": {
            "tags": []
          },
          "execution_count": 73
        }
      ]
    },
    {
      "cell_type": "markdown",
      "metadata": {
        "colab_type": "text",
        "id": "8mbxThrshpF1"
      },
      "source": [
        "# Join Anchors Together"
      ]
    },
    {
      "cell_type": "markdown",
      "metadata": {
        "colab_type": "text",
        "id": "eqq-eNb4PDY2"
      },
      "source": [
        "Join the anchors to allow them to be joined with the data table\n",
        "As stated above, some DataSets have NaN as the EndRow as there is no further data in the sheet"
      ]
    },
    {
      "cell_type": "code",
      "metadata": {
        "colab_type": "code",
        "id": "6E8J3-NIEFx1",
        "outputId": "eee28282-879a-4833-81cf-f131315b5807",
        "colab": {
          "base_uri": "https://localhost:8080/"
        }
      },
      "source": [
        "anchors = pd.DataFrame()\n",
        "anchors = pd.merge(findstartanchors, findendanchors, on=['DataSet', 'SheetName'], how='left')\n",
        "anchors.head()"
      ],
      "execution_count": 0,
      "outputs": [
        {
          "output_type": "execute_result",
          "data": {
            "text/html": [
              "<div>\n",
              "<style scoped>\n",
              "    .dataframe tbody tr th:only-of-type {\n",
              "        vertical-align: middle;\n",
              "    }\n",
              "\n",
              "    .dataframe tbody tr th {\n",
              "        vertical-align: top;\n",
              "    }\n",
              "\n",
              "    .dataframe thead th {\n",
              "        text-align: right;\n",
              "    }\n",
              "</style>\n",
              "<table border=\"1\" class=\"dataframe\">\n",
              "  <thead>\n",
              "    <tr style=\"text-align: right;\">\n",
              "      <th></th>\n",
              "      <th>DataSet</th>\n",
              "      <th>SheetName</th>\n",
              "      <th>AnchorRow</th>\n",
              "      <th>AnchorColumn</th>\n",
              "      <th>EndRow</th>\n",
              "    </tr>\n",
              "  </thead>\n",
              "  <tbody>\n",
              "    <tr>\n",
              "      <th>0</th>\n",
              "      <td>Ages</td>\n",
              "      <td>AgeGenderSheet</td>\n",
              "      <td>5</td>\n",
              "      <td>2</td>\n",
              "      <td>14.0</td>\n",
              "    </tr>\n",
              "    <tr>\n",
              "      <th>1</th>\n",
              "      <td>Genders</td>\n",
              "      <td>AgeGenderSheet</td>\n",
              "      <td>14</td>\n",
              "      <td>4</td>\n",
              "      <td>23.0</td>\n",
              "    </tr>\n",
              "    <tr>\n",
              "      <th>2</th>\n",
              "      <td>DoB</td>\n",
              "      <td>AgeGenderSheet</td>\n",
              "      <td>23</td>\n",
              "      <td>1</td>\n",
              "      <td>NaN</td>\n",
              "    </tr>\n",
              "    <tr>\n",
              "      <th>3</th>\n",
              "      <td>MaritalStatus</td>\n",
              "      <td>MaritalDepartmentSheet</td>\n",
              "      <td>3</td>\n",
              "      <td>1</td>\n",
              "      <td>NaN</td>\n",
              "    </tr>\n",
              "    <tr>\n",
              "      <th>4</th>\n",
              "      <td>Department</td>\n",
              "      <td>MaritalDepartmentSheet</td>\n",
              "      <td>2</td>\n",
              "      <td>5</td>\n",
              "      <td>NaN</td>\n",
              "    </tr>\n",
              "  </tbody>\n",
              "</table>\n",
              "</div>"
            ],
            "text/plain": [
              "         DataSet               SheetName  AnchorRow  AnchorColumn  EndRow\n",
              "0           Ages          AgeGenderSheet          5             2    14.0\n",
              "1        Genders          AgeGenderSheet         14             4    23.0\n",
              "2            DoB          AgeGenderSheet         23             1     NaN\n",
              "3  MaritalStatus  MaritalDepartmentSheet          3             1     NaN\n",
              "4     Department  MaritalDepartmentSheet          2             5     NaN"
            ]
          },
          "metadata": {
            "tags": []
          },
          "execution_count": 74
        }
      ]
    },
    {
      "cell_type": "markdown",
      "metadata": {
        "colab_type": "text",
        "id": "caBieiT0hzvd"
      },
      "source": [
        "# Using Anchors and Dataset Create Map to Find Data"
      ]
    },
    {
      "cell_type": "markdown",
      "metadata": {
        "colab_type": "text",
        "id": "kzxw4ev-Pu3m"
      },
      "source": [
        "The DataSet defines where the DataSets can be found from the Start Anchor Cells\n",
        "The following joins the found cells with the DataSet map."
      ]
    },
    {
      "cell_type": "code",
      "metadata": {
        "colab_type": "code",
        "id": "VuxWXfJWEW3p",
        "colab": {}
      },
      "source": [
        "datasetmap = pd.DataFrame()\n",
        "datasetmap = pd.merge(DataSetDF, anchors, on=['DataSet', 'SheetName'], how='left')\n",
        "datasetmap = pd.DataFrame(datasetmap,\n",
        "                          columns=['DataSet', 'SheetName', 'FieldID',\n",
        "                                   'AnchorRow', 'AnchorColumn','EndRow',\n",
        "                                   'RowFromReferenceText',\n",
        "                                   'ColumnFromReferenceText','FieldPosition'])\n"
      ],
      "execution_count": 0,
      "outputs": []
    },
    {
      "cell_type": "markdown",
      "metadata": {
        "colab_type": "text",
        "id": "xZ8OPn7hiN9u"
      },
      "source": [
        "## Show Dataset Map"
      ]
    },
    {
      "cell_type": "code",
      "metadata": {
        "colab_type": "code",
        "id": "2naN6CoOiLaS",
        "outputId": "43da5f03-eca8-4cc1-a5be-813ed53f64af",
        "colab": {
          "base_uri": "https://localhost:8080/",
          "height": 197
        }
      },
      "source": [
        "datasetmap.head()"
      ],
      "execution_count": 0,
      "outputs": [
        {
          "output_type": "execute_result",
          "data": {
            "text/html": [
              "<div>\n",
              "<style scoped>\n",
              "    .dataframe tbody tr th:only-of-type {\n",
              "        vertical-align: middle;\n",
              "    }\n",
              "\n",
              "    .dataframe tbody tr th {\n",
              "        vertical-align: top;\n",
              "    }\n",
              "\n",
              "    .dataframe thead th {\n",
              "        text-align: right;\n",
              "    }\n",
              "</style>\n",
              "<table border=\"1\" class=\"dataframe\">\n",
              "  <thead>\n",
              "    <tr style=\"text-align: right;\">\n",
              "      <th></th>\n",
              "      <th>DataSet</th>\n",
              "      <th>SheetName</th>\n",
              "      <th>FieldID</th>\n",
              "      <th>AnchorRow</th>\n",
              "      <th>AnchorColumn</th>\n",
              "      <th>EndRow</th>\n",
              "      <th>RowFromReferenceText</th>\n",
              "      <th>ColumnFromReferenceText</th>\n",
              "      <th>FieldPosition</th>\n",
              "    </tr>\n",
              "  </thead>\n",
              "  <tbody>\n",
              "    <tr>\n",
              "      <th>0</th>\n",
              "      <td>Ages</td>\n",
              "      <td>AgeGenderSheet</td>\n",
              "      <td>Name</td>\n",
              "      <td>5</td>\n",
              "      <td>2</td>\n",
              "      <td>14.0</td>\n",
              "      <td>2</td>\n",
              "      <td>1</td>\n",
              "      <td>1</td>\n",
              "    </tr>\n",
              "    <tr>\n",
              "      <th>1</th>\n",
              "      <td>Ages</td>\n",
              "      <td>AgeGenderSheet</td>\n",
              "      <td>Age</td>\n",
              "      <td>5</td>\n",
              "      <td>2</td>\n",
              "      <td>14.0</td>\n",
              "      <td>2</td>\n",
              "      <td>2</td>\n",
              "      <td>2</td>\n",
              "    </tr>\n",
              "    <tr>\n",
              "      <th>2</th>\n",
              "      <td>Genders</td>\n",
              "      <td>AgeGenderSheet</td>\n",
              "      <td>Name</td>\n",
              "      <td>14</td>\n",
              "      <td>4</td>\n",
              "      <td>23.0</td>\n",
              "      <td>2</td>\n",
              "      <td>0</td>\n",
              "      <td>1</td>\n",
              "    </tr>\n",
              "    <tr>\n",
              "      <th>3</th>\n",
              "      <td>Genders</td>\n",
              "      <td>AgeGenderSheet</td>\n",
              "      <td>Gender</td>\n",
              "      <td>14</td>\n",
              "      <td>4</td>\n",
              "      <td>23.0</td>\n",
              "      <td>2</td>\n",
              "      <td>1</td>\n",
              "      <td>2</td>\n",
              "    </tr>\n",
              "    <tr>\n",
              "      <th>4</th>\n",
              "      <td>DoB</td>\n",
              "      <td>AgeGenderSheet</td>\n",
              "      <td>Name</td>\n",
              "      <td>23</td>\n",
              "      <td>1</td>\n",
              "      <td>NaN</td>\n",
              "      <td>2</td>\n",
              "      <td>0</td>\n",
              "      <td>1</td>\n",
              "    </tr>\n",
              "  </tbody>\n",
              "</table>\n",
              "</div>"
            ],
            "text/plain": [
              "   DataSet       SheetName  ... ColumnFromReferenceText  FieldPosition\n",
              "0     Ages  AgeGenderSheet  ...                       1              1\n",
              "1     Ages  AgeGenderSheet  ...                       2              2\n",
              "2  Genders  AgeGenderSheet  ...                       0              1\n",
              "3  Genders  AgeGenderSheet  ...                       1              2\n",
              "4      DoB  AgeGenderSheet  ...                       0              1\n",
              "\n",
              "[5 rows x 9 columns]"
            ]
          },
          "metadata": {
            "tags": []
          },
          "execution_count": 76
        }
      ]
    },
    {
      "cell_type": "markdown",
      "metadata": {
        "colab_type": "text",
        "id": "Hbu2bb7Did9L"
      },
      "source": [
        "# Find where Data Starts and what Columns Fields are In"
      ]
    },
    {
      "cell_type": "markdown",
      "metadata": {
        "colab_type": "text",
        "id": "vnrMNep_QL42"
      },
      "source": [
        "One needs to now calculate the actual rows and columns of where the DataSet is.\n",
        "The above table is relative to the Anchor Cells"
      ]
    },
    {
      "cell_type": "code",
      "metadata": {
        "colab_type": "code",
        "id": "lRIxlGL_-Dmj",
        "colab": {}
      },
      "source": [
        "datasetmap['StartRow'] = datasetmap['AnchorRow'] + datasetmap['RowFromReferenceText']\n",
        "datasetmap['FieldColumn'] = datasetmap['AnchorColumn'] + datasetmap['ColumnFromReferenceText']\n",
        "dataset = pd.DataFrame()\n",
        "dataset = pd.merge(fullcelldfstage, datasetmap, on=['SheetName'], how='left')\n",
        "## the above may seem a cartesian join and may need to be looked at if this slows the process down"
      ],
      "execution_count": 0,
      "outputs": []
    },
    {
      "cell_type": "markdown",
      "metadata": {
        "colab_type": "text",
        "id": "QmkyP0boiu0Q"
      },
      "source": [
        "# Filter Out Data after End Anchor Row"
      ]
    },
    {
      "cell_type": "code",
      "metadata": {
        "colab_type": "code",
        "id": "LGngEEjLQewC",
        "colab": {}
      },
      "source": [
        "dataset = dataset[(dataset.RowID >= dataset.StartRow) &\n",
        "(dataset.ColumnID == dataset.FieldColumn) &\n",
        "((dataset.RowID < dataset.EndRow) | pd.isnull(dataset.EndRow))]\n",
        "# the | above is an OR as if there is no EndRow for the dataset you want to\n",
        "# allow the data through"
      ],
      "execution_count": 0,
      "outputs": []
    },
    {
      "cell_type": "code",
      "metadata": {
        "colab_type": "code",
        "id": "gDXO67NGrRHe",
        "outputId": "f22852a7-23c1-4264-ae70-6e51c63fa208",
        "colab": {
          "base_uri": "https://localhost:8080/",
          "height": 384
        }
      },
      "source": [
        "palette.head(5)"
      ],
      "execution_count": 0,
      "outputs": [
        {
          "output_type": "execute_result",
          "data": {
            "text/html": [
              "<div>\n",
              "<style scoped>\n",
              "    .dataframe tbody tr th:only-of-type {\n",
              "        vertical-align: middle;\n",
              "    }\n",
              "\n",
              "    .dataframe tbody tr th {\n",
              "        vertical-align: top;\n",
              "    }\n",
              "\n",
              "    .dataframe thead th {\n",
              "        text-align: right;\n",
              "    }\n",
              "</style>\n",
              "<table border=\"1\" class=\"dataframe\">\n",
              "  <thead>\n",
              "    <tr style=\"text-align: right;\">\n",
              "      <th></th>\n",
              "      <th>DataSet</th>\n",
              "      <th>SheetName</th>\n",
              "      <th>ReferenceTextStart</th>\n",
              "      <th>ReferenceTextEnd</th>\n",
              "      <th>RowFromReferenceText</th>\n",
              "      <th>ColumnFromReferenceText</th>\n",
              "      <th>FieldPosition</th>\n",
              "      <th>FieldID</th>\n",
              "      <th>FieldDescription</th>\n",
              "      <th>TableOrientation</th>\n",
              "      <th>RuleID</th>\n",
              "      <th>RuleType</th>\n",
              "      <th>KeyWord</th>\n",
              "      <th>FormulaKeyWord</th>\n",
              "      <th>List</th>\n",
              "      <th>Rule</th>\n",
              "      <th>CheckPerformed</th>\n",
              "      <th>ErrorMessage</th>\n",
              "      <th>AlteryxDataType</th>\n",
              "      <th>AlteryxFormula</th>\n",
              "      <th>RemedialAction</th>\n",
              "      <th>SQLFormula</th>\n",
              "      <th>PythonFormula</th>\n",
              "    </tr>\n",
              "  </thead>\n",
              "  <tbody>\n",
              "    <tr>\n",
              "      <th>0</th>\n",
              "      <td>Ages</td>\n",
              "      <td>AgeGenderSheet</td>\n",
              "      <td>Age Table</td>\n",
              "      <td>Gender Table</td>\n",
              "      <td>2</td>\n",
              "      <td>1</td>\n",
              "      <td>1</td>\n",
              "      <td>Name</td>\n",
              "      <td>Name</td>\n",
              "      <td>Down</td>\n",
              "      <td>1</td>\n",
              "      <td>DataType</td>\n",
              "      <td>Text</td>\n",
              "      <td>NaN</td>\n",
              "      <td>NaN</td>\n",
              "      <td>Must Be Text</td>\n",
              "      <td>Data Type is Text</td>\n",
              "      <td>Text Not Entered</td>\n",
              "      <td>V_String</td>\n",
              "      <td>Length([CellValue]) &gt; 0 and Contains([CellType...</td>\n",
              "      <td>Enter as Text</td>\n",
              "      <td>case when IsNULL([CellValue],'XX') = 'XX' then...</td>\n",
              "      <td>np.where(dataset['CellType'] == 'Text', 1, 0)</td>\n",
              "    </tr>\n",
              "    <tr>\n",
              "      <th>1</th>\n",
              "      <td>Ages</td>\n",
              "      <td>AgeGenderSheet</td>\n",
              "      <td>Age Table</td>\n",
              "      <td>Gender Table</td>\n",
              "      <td>2</td>\n",
              "      <td>1</td>\n",
              "      <td>1</td>\n",
              "      <td>Name</td>\n",
              "      <td>Name</td>\n",
              "      <td>Down</td>\n",
              "      <td>1</td>\n",
              "      <td>Null</td>\n",
              "      <td>Number</td>\n",
              "      <td>NaN</td>\n",
              "      <td>NaN</td>\n",
              "      <td>Must Be Number</td>\n",
              "      <td>Data Type is Number</td>\n",
              "      <td>Number Not Entered</td>\n",
              "      <td>Double</td>\n",
              "      <td>Length([CellValue]) &gt; 0 and [CellType] = \"Number\"</td>\n",
              "      <td>Enter Number</td>\n",
              "      <td>case when IsNULL([CellValue],'XX') = 'XX' then...</td>\n",
              "      <td>np.where(dataset['CellType'] == 'Number', 1, 0)</td>\n",
              "    </tr>\n",
              "    <tr>\n",
              "      <th>2</th>\n",
              "      <td>Ages</td>\n",
              "      <td>AgeGenderSheet</td>\n",
              "      <td>Age Table</td>\n",
              "      <td>Gender Table</td>\n",
              "      <td>2</td>\n",
              "      <td>2</td>\n",
              "      <td>2</td>\n",
              "      <td>Age</td>\n",
              "      <td>Age</td>\n",
              "      <td>Down</td>\n",
              "      <td>2</td>\n",
              "      <td>DataType</td>\n",
              "      <td>Text</td>\n",
              "      <td>NaN</td>\n",
              "      <td>NaN</td>\n",
              "      <td>Must Be Text</td>\n",
              "      <td>Data Type is Text</td>\n",
              "      <td>Text Not Entered</td>\n",
              "      <td>V_String</td>\n",
              "      <td>Length([CellValue]) &gt; 0 and Contains([CellType...</td>\n",
              "      <td>Enter as Text</td>\n",
              "      <td>case when IsNULL([CellValue],'XX') = 'XX' then...</td>\n",
              "      <td>np.where(dataset['CellType'] == 'Text', 1, 0)</td>\n",
              "    </tr>\n",
              "    <tr>\n",
              "      <th>3</th>\n",
              "      <td>Ages</td>\n",
              "      <td>AgeGenderSheet</td>\n",
              "      <td>Age Table</td>\n",
              "      <td>Gender Table</td>\n",
              "      <td>2</td>\n",
              "      <td>2</td>\n",
              "      <td>2</td>\n",
              "      <td>Age</td>\n",
              "      <td>Age</td>\n",
              "      <td>Down</td>\n",
              "      <td>2</td>\n",
              "      <td>Null</td>\n",
              "      <td>Text</td>\n",
              "      <td>NaN</td>\n",
              "      <td>NaN</td>\n",
              "      <td>Must Be Text</td>\n",
              "      <td>Data Type is Text</td>\n",
              "      <td>Text Not Entered</td>\n",
              "      <td>V_String</td>\n",
              "      <td>Length([CellValue]) &gt; 0 and Contains([CellType...</td>\n",
              "      <td>Enter as Text</td>\n",
              "      <td>case when IsNULL([CellValue],'XX') = 'XX' then...</td>\n",
              "      <td>np.where(dataset['CellType'] == 'Text', 1, 0)</td>\n",
              "    </tr>\n",
              "    <tr>\n",
              "      <th>4</th>\n",
              "      <td>Ages</td>\n",
              "      <td>AgeGenderSheet</td>\n",
              "      <td>Age Table</td>\n",
              "      <td>Gender Table</td>\n",
              "      <td>2</td>\n",
              "      <td>2</td>\n",
              "      <td>2</td>\n",
              "      <td>Age</td>\n",
              "      <td>Age</td>\n",
              "      <td>Down</td>\n",
              "      <td>2</td>\n",
              "      <td>Rule1</td>\n",
              "      <td>Text</td>\n",
              "      <td>NaN</td>\n",
              "      <td>NaN</td>\n",
              "      <td>Must Be Text</td>\n",
              "      <td>Data Type is Text</td>\n",
              "      <td>Text Not Entered</td>\n",
              "      <td>V_String</td>\n",
              "      <td>Length([CellValue]) &gt; 0 and Contains([CellType...</td>\n",
              "      <td>Enter as Text</td>\n",
              "      <td>case when IsNULL([CellValue],'XX') = 'XX' then...</td>\n",
              "      <td>np.where(dataset['CellType'] == 'Text', 1, 0)</td>\n",
              "    </tr>\n",
              "  </tbody>\n",
              "</table>\n",
              "</div>"
            ],
            "text/plain": [
              "  DataSet  ...                                    PythonFormula\n",
              "0    Ages  ...    np.where(dataset['CellType'] == 'Text', 1, 0)\n",
              "1    Ages  ...  np.where(dataset['CellType'] == 'Number', 1, 0)\n",
              "2    Ages  ...    np.where(dataset['CellType'] == 'Text', 1, 0)\n",
              "3    Ages  ...    np.where(dataset['CellType'] == 'Text', 1, 0)\n",
              "4    Ages  ...    np.where(dataset['CellType'] == 'Text', 1, 0)\n",
              "\n",
              "[5 rows x 23 columns]"
            ]
          },
          "metadata": {
            "tags": []
          },
          "execution_count": 79
        }
      ]
    },
    {
      "cell_type": "markdown",
      "metadata": {
        "colab_type": "text",
        "id": "xKOG9aHgi8Pj"
      },
      "source": [
        "# Create a CellValue as Number for use in Formulae"
      ]
    },
    {
      "cell_type": "code",
      "metadata": {
        "colab_type": "code",
        "id": "PPgn6jcNEu_I",
        "outputId": "391722fb-0211-4fd9-dca2-1a0bad5552bf",
        "colab": {
          "base_uri": "https://localhost:8080/"
        }
      },
      "source": [
        "dataset = pd.DataFrame(dataset,columns=['DataSet', 'SheetName', 'FieldID', 'RowID', 'ColumnID','CellValue', 'CellType'])\n",
        "dataset['CellValueAsNumber'] = pd.to_numeric(dataset['CellValue'], errors='coerce')\n",
        "dataset.head(5)"
      ],
      "execution_count": 0,
      "outputs": [
        {
          "output_type": "execute_result",
          "data": {
            "text/html": [
              "<div>\n",
              "<style scoped>\n",
              "    .dataframe tbody tr th:only-of-type {\n",
              "        vertical-align: middle;\n",
              "    }\n",
              "\n",
              "    .dataframe tbody tr th {\n",
              "        vertical-align: top;\n",
              "    }\n",
              "\n",
              "    .dataframe thead th {\n",
              "        text-align: right;\n",
              "    }\n",
              "</style>\n",
              "<table border=\"1\" class=\"dataframe\">\n",
              "  <thead>\n",
              "    <tr style=\"text-align: right;\">\n",
              "      <th></th>\n",
              "      <th>DataSet</th>\n",
              "      <th>SheetName</th>\n",
              "      <th>FieldID</th>\n",
              "      <th>RowID</th>\n",
              "      <th>ColumnID</th>\n",
              "      <th>CellValue</th>\n",
              "      <th>CellType</th>\n",
              "      <th>CellValueAsNumber</th>\n",
              "    </tr>\n",
              "  </thead>\n",
              "  <tbody>\n",
              "    <tr>\n",
              "      <th>148</th>\n",
              "      <td>DoB</td>\n",
              "      <td>AgeGenderSheet</td>\n",
              "      <td>Name</td>\n",
              "      <td>25</td>\n",
              "      <td>1</td>\n",
              "      <td>Paul</td>\n",
              "      <td>Text</td>\n",
              "      <td>NaN</td>\n",
              "    </tr>\n",
              "    <tr>\n",
              "      <th>154</th>\n",
              "      <td>DoB</td>\n",
              "      <td>AgeGenderSheet</td>\n",
              "      <td>Name</td>\n",
              "      <td>26</td>\n",
              "      <td>1</td>\n",
              "      <td>Ringo</td>\n",
              "      <td>Text</td>\n",
              "      <td>NaN</td>\n",
              "    </tr>\n",
              "    <tr>\n",
              "      <th>160</th>\n",
              "      <td>DoB</td>\n",
              "      <td>AgeGenderSheet</td>\n",
              "      <td>Name</td>\n",
              "      <td>27</td>\n",
              "      <td>1</td>\n",
              "      <td>Brian</td>\n",
              "      <td>Text</td>\n",
              "      <td>NaN</td>\n",
              "    </tr>\n",
              "    <tr>\n",
              "      <th>311</th>\n",
              "      <td>DoB</td>\n",
              "      <td>AgeGenderSheet</td>\n",
              "      <td>DoB</td>\n",
              "      <td>25</td>\n",
              "      <td>2</td>\n",
              "      <td>1955-07-01 00:00:00</td>\n",
              "      <td>Date</td>\n",
              "      <td>NaN</td>\n",
              "    </tr>\n",
              "    <tr>\n",
              "      <th>317</th>\n",
              "      <td>DoB</td>\n",
              "      <td>AgeGenderSheet</td>\n",
              "      <td>DoB</td>\n",
              "      <td>26</td>\n",
              "      <td>2</td>\n",
              "      <td>1996-01-09 00:00:00</td>\n",
              "      <td>Date</td>\n",
              "      <td>NaN</td>\n",
              "    </tr>\n",
              "  </tbody>\n",
              "</table>\n",
              "</div>"
            ],
            "text/plain": [
              "    DataSet       SheetName  ... CellType  CellValueAsNumber\n",
              "148     DoB  AgeGenderSheet  ...     Text                NaN\n",
              "154     DoB  AgeGenderSheet  ...     Text                NaN\n",
              "160     DoB  AgeGenderSheet  ...     Text                NaN\n",
              "311     DoB  AgeGenderSheet  ...     Date                NaN\n",
              "317     DoB  AgeGenderSheet  ...     Date                NaN\n",
              "\n",
              "[5 rows x 8 columns]"
            ]
          },
          "metadata": {
            "tags": []
          },
          "execution_count": 80
        }
      ]
    },
    {
      "cell_type": "markdown",
      "metadata": {
        "colab_type": "text",
        "id": "6aBvm7yzjNqw"
      },
      "source": [
        "# Create a List of Checks to do"
      ]
    },
    {
      "cell_type": "code",
      "metadata": {
        "colab_type": "code",
        "id": "wFszD5cR8H_7",
        "outputId": "2394546c-c7b7-46d9-c17b-4e00af2ef1ca",
        "scrolled": false,
        "colab": {
          "base_uri": "https://localhost:8080/"
        }
      },
      "source": [
        "todolist = pd.DataFrame()\n",
        "todolist = pd.merge(dataset, palette, on=['DataSet', 'FieldID'])\n",
        "todolist.head(5)"
      ],
      "execution_count": 0,
      "outputs": [
        {
          "output_type": "execute_result",
          "data": {
            "text/html": [
              "<div>\n",
              "<style scoped>\n",
              "    .dataframe tbody tr th:only-of-type {\n",
              "        vertical-align: middle;\n",
              "    }\n",
              "\n",
              "    .dataframe tbody tr th {\n",
              "        vertical-align: top;\n",
              "    }\n",
              "\n",
              "    .dataframe thead th {\n",
              "        text-align: right;\n",
              "    }\n",
              "</style>\n",
              "<table border=\"1\" class=\"dataframe\">\n",
              "  <thead>\n",
              "    <tr style=\"text-align: right;\">\n",
              "      <th></th>\n",
              "      <th>DataSet</th>\n",
              "      <th>SheetName_x</th>\n",
              "      <th>FieldID</th>\n",
              "      <th>RowID</th>\n",
              "      <th>ColumnID</th>\n",
              "      <th>CellValue</th>\n",
              "      <th>CellType</th>\n",
              "      <th>CellValueAsNumber</th>\n",
              "      <th>SheetName_y</th>\n",
              "      <th>ReferenceTextStart</th>\n",
              "      <th>ReferenceTextEnd</th>\n",
              "      <th>RowFromReferenceText</th>\n",
              "      <th>ColumnFromReferenceText</th>\n",
              "      <th>FieldPosition</th>\n",
              "      <th>FieldDescription</th>\n",
              "      <th>TableOrientation</th>\n",
              "      <th>RuleID</th>\n",
              "      <th>RuleType</th>\n",
              "      <th>KeyWord</th>\n",
              "      <th>FormulaKeyWord</th>\n",
              "      <th>List</th>\n",
              "      <th>Rule</th>\n",
              "      <th>CheckPerformed</th>\n",
              "      <th>ErrorMessage</th>\n",
              "      <th>AlteryxDataType</th>\n",
              "      <th>AlteryxFormula</th>\n",
              "      <th>RemedialAction</th>\n",
              "      <th>SQLFormula</th>\n",
              "      <th>PythonFormula</th>\n",
              "    </tr>\n",
              "  </thead>\n",
              "  <tbody>\n",
              "    <tr>\n",
              "      <th>0</th>\n",
              "      <td>DoB</td>\n",
              "      <td>AgeGenderSheet</td>\n",
              "      <td>Name</td>\n",
              "      <td>25</td>\n",
              "      <td>1</td>\n",
              "      <td>Paul</td>\n",
              "      <td>Text</td>\n",
              "      <td>NaN</td>\n",
              "      <td>AgeGenderSheet</td>\n",
              "      <td>DOB Table</td>\n",
              "      <td>NaN</td>\n",
              "      <td>2</td>\n",
              "      <td>0</td>\n",
              "      <td>1</td>\n",
              "      <td>Name</td>\n",
              "      <td>Down</td>\n",
              "      <td>5</td>\n",
              "      <td>DataType</td>\n",
              "      <td>Text</td>\n",
              "      <td>NaN</td>\n",
              "      <td>NaN</td>\n",
              "      <td>Must Be Text</td>\n",
              "      <td>Data Type is Text</td>\n",
              "      <td>Text Not Entered</td>\n",
              "      <td>V_String</td>\n",
              "      <td>Length([CellValue]) &gt; 0 and Contains([CellType...</td>\n",
              "      <td>Enter as Text</td>\n",
              "      <td>case when IsNULL([CellValue],'XX') = 'XX' then...</td>\n",
              "      <td>np.where(dataset['CellType'] == 'Text', 1, 0)</td>\n",
              "    </tr>\n",
              "    <tr>\n",
              "      <th>1</th>\n",
              "      <td>DoB</td>\n",
              "      <td>AgeGenderSheet</td>\n",
              "      <td>Name</td>\n",
              "      <td>25</td>\n",
              "      <td>1</td>\n",
              "      <td>Paul</td>\n",
              "      <td>Text</td>\n",
              "      <td>NaN</td>\n",
              "      <td>AgeGenderSheet</td>\n",
              "      <td>DOB Table</td>\n",
              "      <td>NaN</td>\n",
              "      <td>2</td>\n",
              "      <td>0</td>\n",
              "      <td>1</td>\n",
              "      <td>Name</td>\n",
              "      <td>Down</td>\n",
              "      <td>5</td>\n",
              "      <td>Null</td>\n",
              "      <td>Number</td>\n",
              "      <td>NaN</td>\n",
              "      <td>NaN</td>\n",
              "      <td>Must Be Number</td>\n",
              "      <td>Data Type is Number</td>\n",
              "      <td>Number Not Entered</td>\n",
              "      <td>Double</td>\n",
              "      <td>Length([CellValue]) &gt; 0 and [CellType] = \"Number\"</td>\n",
              "      <td>Enter Number</td>\n",
              "      <td>case when IsNULL([CellValue],'XX') = 'XX' then...</td>\n",
              "      <td>np.where(dataset['CellType'] == 'Number', 1, 0)</td>\n",
              "    </tr>\n",
              "    <tr>\n",
              "      <th>2</th>\n",
              "      <td>DoB</td>\n",
              "      <td>AgeGenderSheet</td>\n",
              "      <td>Name</td>\n",
              "      <td>26</td>\n",
              "      <td>1</td>\n",
              "      <td>Ringo</td>\n",
              "      <td>Text</td>\n",
              "      <td>NaN</td>\n",
              "      <td>AgeGenderSheet</td>\n",
              "      <td>DOB Table</td>\n",
              "      <td>NaN</td>\n",
              "      <td>2</td>\n",
              "      <td>0</td>\n",
              "      <td>1</td>\n",
              "      <td>Name</td>\n",
              "      <td>Down</td>\n",
              "      <td>5</td>\n",
              "      <td>DataType</td>\n",
              "      <td>Text</td>\n",
              "      <td>NaN</td>\n",
              "      <td>NaN</td>\n",
              "      <td>Must Be Text</td>\n",
              "      <td>Data Type is Text</td>\n",
              "      <td>Text Not Entered</td>\n",
              "      <td>V_String</td>\n",
              "      <td>Length([CellValue]) &gt; 0 and Contains([CellType...</td>\n",
              "      <td>Enter as Text</td>\n",
              "      <td>case when IsNULL([CellValue],'XX') = 'XX' then...</td>\n",
              "      <td>np.where(dataset['CellType'] == 'Text', 1, 0)</td>\n",
              "    </tr>\n",
              "    <tr>\n",
              "      <th>3</th>\n",
              "      <td>DoB</td>\n",
              "      <td>AgeGenderSheet</td>\n",
              "      <td>Name</td>\n",
              "      <td>26</td>\n",
              "      <td>1</td>\n",
              "      <td>Ringo</td>\n",
              "      <td>Text</td>\n",
              "      <td>NaN</td>\n",
              "      <td>AgeGenderSheet</td>\n",
              "      <td>DOB Table</td>\n",
              "      <td>NaN</td>\n",
              "      <td>2</td>\n",
              "      <td>0</td>\n",
              "      <td>1</td>\n",
              "      <td>Name</td>\n",
              "      <td>Down</td>\n",
              "      <td>5</td>\n",
              "      <td>Null</td>\n",
              "      <td>Number</td>\n",
              "      <td>NaN</td>\n",
              "      <td>NaN</td>\n",
              "      <td>Must Be Number</td>\n",
              "      <td>Data Type is Number</td>\n",
              "      <td>Number Not Entered</td>\n",
              "      <td>Double</td>\n",
              "      <td>Length([CellValue]) &gt; 0 and [CellType] = \"Number\"</td>\n",
              "      <td>Enter Number</td>\n",
              "      <td>case when IsNULL([CellValue],'XX') = 'XX' then...</td>\n",
              "      <td>np.where(dataset['CellType'] == 'Number', 1, 0)</td>\n",
              "    </tr>\n",
              "    <tr>\n",
              "      <th>4</th>\n",
              "      <td>DoB</td>\n",
              "      <td>AgeGenderSheet</td>\n",
              "      <td>Name</td>\n",
              "      <td>27</td>\n",
              "      <td>1</td>\n",
              "      <td>Brian</td>\n",
              "      <td>Text</td>\n",
              "      <td>NaN</td>\n",
              "      <td>AgeGenderSheet</td>\n",
              "      <td>DOB Table</td>\n",
              "      <td>NaN</td>\n",
              "      <td>2</td>\n",
              "      <td>0</td>\n",
              "      <td>1</td>\n",
              "      <td>Name</td>\n",
              "      <td>Down</td>\n",
              "      <td>5</td>\n",
              "      <td>DataType</td>\n",
              "      <td>Text</td>\n",
              "      <td>NaN</td>\n",
              "      <td>NaN</td>\n",
              "      <td>Must Be Text</td>\n",
              "      <td>Data Type is Text</td>\n",
              "      <td>Text Not Entered</td>\n",
              "      <td>V_String</td>\n",
              "      <td>Length([CellValue]) &gt; 0 and Contains([CellType...</td>\n",
              "      <td>Enter as Text</td>\n",
              "      <td>case when IsNULL([CellValue],'XX') = 'XX' then...</td>\n",
              "      <td>np.where(dataset['CellType'] == 'Text', 1, 0)</td>\n",
              "    </tr>\n",
              "  </tbody>\n",
              "</table>\n",
              "</div>"
            ],
            "text/plain": [
              "  DataSet  ...                                    PythonFormula\n",
              "0     DoB  ...    np.where(dataset['CellType'] == 'Text', 1, 0)\n",
              "1     DoB  ...  np.where(dataset['CellType'] == 'Number', 1, 0)\n",
              "2     DoB  ...    np.where(dataset['CellType'] == 'Text', 1, 0)\n",
              "3     DoB  ...  np.where(dataset['CellType'] == 'Number', 1, 0)\n",
              "4     DoB  ...    np.where(dataset['CellType'] == 'Text', 1, 0)\n",
              "\n",
              "[5 rows x 29 columns]"
            ]
          },
          "metadata": {
            "tags": []
          },
          "execution_count": 81
        }
      ]
    },
    {
      "cell_type": "markdown",
      "metadata": {
        "colab_type": "text",
        "id": "wR-RHXokjaoG"
      },
      "source": [
        "# Create a List of distinct formula to apply"
      ]
    },
    {
      "cell_type": "code",
      "metadata": {
        "colab_type": "code",
        "id": "4mxczy-qINQv",
        "outputId": "8ad9d98f-1bbd-4c0e-9211-de1315ebc28c",
        "colab": {
          "base_uri": "https://localhost:8080/"
        }
      },
      "source": [
        "formulas = pd.DataFrame()\n",
        "formulas = pd.DataFrame(todolist, columns=['KeyWord','PythonFormula'])\n",
        "formulas = formulas.drop_duplicates()\n",
        "formulas.head(10)"
      ],
      "execution_count": 0,
      "outputs": [
        {
          "output_type": "execute_result",
          "data": {
            "text/html": [
              "<div>\n",
              "<style scoped>\n",
              "    .dataframe tbody tr th:only-of-type {\n",
              "        vertical-align: middle;\n",
              "    }\n",
              "\n",
              "    .dataframe tbody tr th {\n",
              "        vertical-align: top;\n",
              "    }\n",
              "\n",
              "    .dataframe thead th {\n",
              "        text-align: right;\n",
              "    }\n",
              "</style>\n",
              "<table border=\"1\" class=\"dataframe\">\n",
              "  <thead>\n",
              "    <tr style=\"text-align: right;\">\n",
              "      <th></th>\n",
              "      <th>KeyWord</th>\n",
              "      <th>PythonFormula</th>\n",
              "    </tr>\n",
              "  </thead>\n",
              "  <tbody>\n",
              "    <tr>\n",
              "      <th>0</th>\n",
              "      <td>Text</td>\n",
              "      <td>np.where(dataset['CellType'] == 'Text', 1, 0)</td>\n",
              "    </tr>\n",
              "    <tr>\n",
              "      <th>1</th>\n",
              "      <td>Number</td>\n",
              "      <td>np.where(dataset['CellType'] == 'Number', 1, 0)</td>\n",
              "    </tr>\n",
              "    <tr>\n",
              "      <th>29</th>\n",
              "      <td>Date</td>\n",
              "      <td>np.where(dataset['CellType'] == 'Date', 1, 0)</td>\n",
              "    </tr>\n",
              "    <tr>\n",
              "      <th>89</th>\n",
              "      <td>Null</td>\n",
              "      <td>dataset['CellValue'].isnull().map({True: 0, Fa...</td>\n",
              "    </tr>\n",
              "    <tr>\n",
              "      <th>97</th>\n",
              "      <td>PickList</td>\n",
              "      <td>dataset.apply(lambda x: x['CellValue'] in x['L...</td>\n",
              "    </tr>\n",
              "  </tbody>\n",
              "</table>\n",
              "</div>"
            ],
            "text/plain": [
              "     KeyWord                                      PythonFormula\n",
              "0       Text      np.where(dataset['CellType'] == 'Text', 1, 0)\n",
              "1     Number    np.where(dataset['CellType'] == 'Number', 1, 0)\n",
              "29      Date      np.where(dataset['CellType'] == 'Date', 1, 0)\n",
              "89      Null  dataset['CellValue'].isnull().map({True: 0, Fa...\n",
              "97  PickList  dataset.apply(lambda x: x['CellValue'] in x['L..."
            ]
          },
          "metadata": {
            "tags": []
          },
          "execution_count": 82
        }
      ]
    },
    {
      "cell_type": "markdown",
      "metadata": {
        "colab_type": "text",
        "id": "AWxtq24ijmSo"
      },
      "source": [
        "# Prepare Results Table"
      ]
    },
    {
      "cell_type": "code",
      "metadata": {
        "colab_type": "code",
        "id": "enT7iwuL8Y6l",
        "colab": {}
      },
      "source": [
        "global bigresults\n",
        "littletodolist = pd.DataFrame()\n",
        "littletodolistworking = pd.DataFrame()\n",
        "bigresults = pd.DataFrame()\n"
      ],
      "execution_count": 0,
      "outputs": []
    },
    {
      "cell_type": "code",
      "metadata": {
        "colab_type": "code",
        "id": "ovWR4reTJYbB",
        "colab": {}
      },
      "source": [
        "# this was an important test as if you do not have copy you get an error as it believes\n",
        "# you are trying to change a view\n",
        "#littletodolist = todolist[(todolist.KeyWord == 'PickList')].copy()\n",
        "#littletodolist.head(100)\n",
        "#filterdf = pd.DataFrame()\n",
        "#filterdf = todolist[(todolist.KeyWord == 'PickList')].copy()\n",
        "#filterdf.head()"
      ],
      "execution_count": 0,
      "outputs": []
    },
    {
      "cell_type": "code",
      "metadata": {
        "colab_type": "code",
        "id": "W2Viik1bKFx2",
        "colab": {}
      },
      "source": [
        "# littletodolist.loc[littletodolist.KeyWord == 'Text', 'Result'] = np.where(littletodolist['CellType'] == 'Text', 1, 0)"
      ],
      "execution_count": 0,
      "outputs": []
    },
    {
      "cell_type": "markdown",
      "metadata": {
        "colab_type": "text",
        "id": "lmplCWV-kH6H"
      },
      "source": [
        "# Loop through each Formula and apply to the To Do List"
      ]
    },
    {
      "cell_type": "code",
      "metadata": {
        "id": "f8L4NV-9P-2w",
        "colab_type": "code",
        "colab": {}
      },
      "source": [
        "todolist = todolist.rename(columns={'CellValue_x': 'CellValue'})\n",
        "##todolist.columns"
      ],
      "execution_count": 0,
      "outputs": []
    },
    {
      "cell_type": "code",
      "metadata": {
        "colab_type": "code",
        "id": "1qIWlNZUFDBP",
        "outputId": "fd970c24-4acf-440c-bad2-60c4ee41d719",
        "colab": {
          "base_uri": "https://localhost:8080/"
        }
      },
      "source": [
        "for index, row in formulas.iterrows():\n",
        "  # print(row['KeyWord'],row['PythonFormula'])\n",
        "\n",
        "  pf = row['PythonFormula']\n",
        "  kw = row['KeyWord']\n",
        " \n",
        "  try:\n",
        "      pf1 = pf.replace(\"dataset\", \"littletodolist\")\n",
        "  except:\n",
        "      pf1 = \"1\"\n",
        "  littletodolist = todolist[(todolist.KeyWord == kw)].copy()\n",
        "  formula2do = \"littletodolist['Result'] = \" + pf1\n",
        "  print(kw)\n",
        "  print(formula2do)\n",
        "  exec(formula2do)\n",
        "  ##print(littletodolist)\n",
        "  ##try:\n",
        "  ##bigresults = pd.concat([bigresults, littletodolist], ignore_index=True).drop_duplicates().reset_index(drop=True)\n",
        "  bigresults = pd.concat([bigresults, littletodolist]) ##, ignore_index=True).drop_duplicates().reset_index(drop=True)\n",
        "  ##except:\n",
        "  #  bigresults = bigresults"
      ],
      "execution_count": 0,
      "outputs": [
        {
          "output_type": "stream",
          "text": [
            "Text\n",
            "littletodolist['Result'] = np.where(littletodolist['CellType'] == 'Text', 1, 0)\n",
            "Number\n",
            "littletodolist['Result'] = np.where(littletodolist['CellType'] == 'Number', 1, 0)\n",
            "Date\n",
            "littletodolist['Result'] = np.where(littletodolist['CellType'] == 'Date', 1, 0)\n",
            "Null\n",
            "littletodolist['Result'] = littletodolist['CellValue'].isnull().map({True: 0, False: 1})\n",
            "PickList\n",
            "littletodolist['Result'] = littletodolist.apply(lambda x: x['CellValue'] in x['List'], axis=1).map({True: 1, False: 0})\n"
          ],
          "name": "stdout"
        }
      ]
    },
    {
      "cell_type": "code",
      "metadata": {
        "id": "JuZ4_YEMP-24",
        "colab_type": "code",
        "colab": {}
      },
      "source": [
        "littletodolist['Result'] = np.where(littletodolist['CellType'] == 'Text', 1, 0)"
      ],
      "execution_count": 0,
      "outputs": []
    },
    {
      "cell_type": "markdown",
      "metadata": {
        "colab_type": "text",
        "id": "5ZW7-6-vkaXi"
      },
      "source": [
        "# Add a sequence to the Results for use in Reporting"
      ]
    },
    {
      "cell_type": "code",
      "metadata": {
        "colab_type": "code",
        "id": "-aG5EY7ygGeG",
        "colab": {}
      },
      "source": [
        "bigresults['ResultID'] = bigresults.index"
      ],
      "execution_count": 0,
      "outputs": []
    },
    {
      "cell_type": "code",
      "metadata": {
        "colab_type": "code",
        "id": "q4WPoT2MY7jP",
        "outputId": "dc35da4e-6c74-4138-ded6-4eb06f906934",
        "colab": {
          "base_uri": "https://localhost:8080/"
        }
      },
      "source": [
        "bigresults.head(5)"
      ],
      "execution_count": 0,
      "outputs": [
        {
          "output_type": "execute_result",
          "data": {
            "text/html": [
              "<div>\n",
              "<style scoped>\n",
              "    .dataframe tbody tr th:only-of-type {\n",
              "        vertical-align: middle;\n",
              "    }\n",
              "\n",
              "    .dataframe tbody tr th {\n",
              "        vertical-align: top;\n",
              "    }\n",
              "\n",
              "    .dataframe thead th {\n",
              "        text-align: right;\n",
              "    }\n",
              "</style>\n",
              "<table border=\"1\" class=\"dataframe\">\n",
              "  <thead>\n",
              "    <tr style=\"text-align: right;\">\n",
              "      <th></th>\n",
              "      <th>DataSet</th>\n",
              "      <th>SheetName_x</th>\n",
              "      <th>FieldID</th>\n",
              "      <th>RowID</th>\n",
              "      <th>ColumnID</th>\n",
              "      <th>CellValue</th>\n",
              "      <th>CellType</th>\n",
              "      <th>CellValueAsNumber</th>\n",
              "      <th>SheetName_y</th>\n",
              "      <th>ReferenceTextStart</th>\n",
              "      <th>ReferenceTextEnd</th>\n",
              "      <th>RowFromReferenceText</th>\n",
              "      <th>ColumnFromReferenceText</th>\n",
              "      <th>FieldPosition</th>\n",
              "      <th>FieldDescription</th>\n",
              "      <th>TableOrientation</th>\n",
              "      <th>RuleID</th>\n",
              "      <th>RuleType</th>\n",
              "      <th>KeyWord</th>\n",
              "      <th>FormulaKeyWord</th>\n",
              "      <th>List</th>\n",
              "      <th>Rule</th>\n",
              "      <th>CheckPerformed</th>\n",
              "      <th>ErrorMessage</th>\n",
              "      <th>AlteryxDataType</th>\n",
              "      <th>AlteryxFormula</th>\n",
              "      <th>RemedialAction</th>\n",
              "      <th>SQLFormula</th>\n",
              "      <th>PythonFormula</th>\n",
              "      <th>Result</th>\n",
              "      <th>ResultID</th>\n",
              "    </tr>\n",
              "  </thead>\n",
              "  <tbody>\n",
              "    <tr>\n",
              "      <th>0</th>\n",
              "      <td>DoB</td>\n",
              "      <td>AgeGenderSheet</td>\n",
              "      <td>Name</td>\n",
              "      <td>25</td>\n",
              "      <td>1</td>\n",
              "      <td>Paul</td>\n",
              "      <td>Text</td>\n",
              "      <td>NaN</td>\n",
              "      <td>AgeGenderSheet</td>\n",
              "      <td>DOB Table</td>\n",
              "      <td>NaN</td>\n",
              "      <td>2</td>\n",
              "      <td>0</td>\n",
              "      <td>1</td>\n",
              "      <td>Name</td>\n",
              "      <td>Down</td>\n",
              "      <td>5</td>\n",
              "      <td>DataType</td>\n",
              "      <td>Text</td>\n",
              "      <td>NaN</td>\n",
              "      <td>NaN</td>\n",
              "      <td>Must Be Text</td>\n",
              "      <td>Data Type is Text</td>\n",
              "      <td>Text Not Entered</td>\n",
              "      <td>V_String</td>\n",
              "      <td>Length([CellValue]) &gt; 0 and Contains([CellType...</td>\n",
              "      <td>Enter as Text</td>\n",
              "      <td>case when IsNULL([CellValue],'XX') = 'XX' then...</td>\n",
              "      <td>np.where(dataset['CellType'] == 'Text', 1, 0)</td>\n",
              "      <td>1</td>\n",
              "      <td>0</td>\n",
              "    </tr>\n",
              "    <tr>\n",
              "      <th>2</th>\n",
              "      <td>DoB</td>\n",
              "      <td>AgeGenderSheet</td>\n",
              "      <td>Name</td>\n",
              "      <td>26</td>\n",
              "      <td>1</td>\n",
              "      <td>Ringo</td>\n",
              "      <td>Text</td>\n",
              "      <td>NaN</td>\n",
              "      <td>AgeGenderSheet</td>\n",
              "      <td>DOB Table</td>\n",
              "      <td>NaN</td>\n",
              "      <td>2</td>\n",
              "      <td>0</td>\n",
              "      <td>1</td>\n",
              "      <td>Name</td>\n",
              "      <td>Down</td>\n",
              "      <td>5</td>\n",
              "      <td>DataType</td>\n",
              "      <td>Text</td>\n",
              "      <td>NaN</td>\n",
              "      <td>NaN</td>\n",
              "      <td>Must Be Text</td>\n",
              "      <td>Data Type is Text</td>\n",
              "      <td>Text Not Entered</td>\n",
              "      <td>V_String</td>\n",
              "      <td>Length([CellValue]) &gt; 0 and Contains([CellType...</td>\n",
              "      <td>Enter as Text</td>\n",
              "      <td>case when IsNULL([CellValue],'XX') = 'XX' then...</td>\n",
              "      <td>np.where(dataset['CellType'] == 'Text', 1, 0)</td>\n",
              "      <td>1</td>\n",
              "      <td>2</td>\n",
              "    </tr>\n",
              "    <tr>\n",
              "      <th>4</th>\n",
              "      <td>DoB</td>\n",
              "      <td>AgeGenderSheet</td>\n",
              "      <td>Name</td>\n",
              "      <td>27</td>\n",
              "      <td>1</td>\n",
              "      <td>Brian</td>\n",
              "      <td>Text</td>\n",
              "      <td>NaN</td>\n",
              "      <td>AgeGenderSheet</td>\n",
              "      <td>DOB Table</td>\n",
              "      <td>NaN</td>\n",
              "      <td>2</td>\n",
              "      <td>0</td>\n",
              "      <td>1</td>\n",
              "      <td>Name</td>\n",
              "      <td>Down</td>\n",
              "      <td>5</td>\n",
              "      <td>DataType</td>\n",
              "      <td>Text</td>\n",
              "      <td>NaN</td>\n",
              "      <td>NaN</td>\n",
              "      <td>Must Be Text</td>\n",
              "      <td>Data Type is Text</td>\n",
              "      <td>Text Not Entered</td>\n",
              "      <td>V_String</td>\n",
              "      <td>Length([CellValue]) &gt; 0 and Contains([CellType...</td>\n",
              "      <td>Enter as Text</td>\n",
              "      <td>case when IsNULL([CellValue],'XX') = 'XX' then...</td>\n",
              "      <td>np.where(dataset['CellType'] == 'Text', 1, 0)</td>\n",
              "      <td>1</td>\n",
              "      <td>4</td>\n",
              "    </tr>\n",
              "    <tr>\n",
              "      <th>6</th>\n",
              "      <td>DoB</td>\n",
              "      <td>AgeGenderSheet</td>\n",
              "      <td>DoB</td>\n",
              "      <td>25</td>\n",
              "      <td>2</td>\n",
              "      <td>1955-07-01 00:00:00</td>\n",
              "      <td>Date</td>\n",
              "      <td>NaN</td>\n",
              "      <td>AgeGenderSheet</td>\n",
              "      <td>DOB Table</td>\n",
              "      <td>NaN</td>\n",
              "      <td>2</td>\n",
              "      <td>1</td>\n",
              "      <td>2</td>\n",
              "      <td>D.O.B</td>\n",
              "      <td>Down</td>\n",
              "      <td>6</td>\n",
              "      <td>DataType</td>\n",
              "      <td>Text</td>\n",
              "      <td>NaN</td>\n",
              "      <td>NaN</td>\n",
              "      <td>Must Be Text</td>\n",
              "      <td>Data Type is Text</td>\n",
              "      <td>Text Not Entered</td>\n",
              "      <td>V_String</td>\n",
              "      <td>Length([CellValue]) &gt; 0 and Contains([CellType...</td>\n",
              "      <td>Enter as Text</td>\n",
              "      <td>case when IsNULL([CellValue],'XX') = 'XX' then...</td>\n",
              "      <td>np.where(dataset['CellType'] == 'Text', 1, 0)</td>\n",
              "      <td>0</td>\n",
              "      <td>6</td>\n",
              "    </tr>\n",
              "    <tr>\n",
              "      <th>7</th>\n",
              "      <td>DoB</td>\n",
              "      <td>AgeGenderSheet</td>\n",
              "      <td>DoB</td>\n",
              "      <td>25</td>\n",
              "      <td>2</td>\n",
              "      <td>1955-07-01 00:00:00</td>\n",
              "      <td>Date</td>\n",
              "      <td>NaN</td>\n",
              "      <td>AgeGenderSheet</td>\n",
              "      <td>DOB Table</td>\n",
              "      <td>NaN</td>\n",
              "      <td>2</td>\n",
              "      <td>1</td>\n",
              "      <td>2</td>\n",
              "      <td>D.O.B</td>\n",
              "      <td>Down</td>\n",
              "      <td>6</td>\n",
              "      <td>Null</td>\n",
              "      <td>Text</td>\n",
              "      <td>NaN</td>\n",
              "      <td>NaN</td>\n",
              "      <td>Must Be Text</td>\n",
              "      <td>Data Type is Text</td>\n",
              "      <td>Text Not Entered</td>\n",
              "      <td>V_String</td>\n",
              "      <td>Length([CellValue]) &gt; 0 and Contains([CellType...</td>\n",
              "      <td>Enter as Text</td>\n",
              "      <td>case when IsNULL([CellValue],'XX') = 'XX' then...</td>\n",
              "      <td>np.where(dataset['CellType'] == 'Text', 1, 0)</td>\n",
              "      <td>0</td>\n",
              "      <td>7</td>\n",
              "    </tr>\n",
              "  </tbody>\n",
              "</table>\n",
              "</div>"
            ],
            "text/plain": [
              "  DataSet     SheetName_x  ... Result  ResultID\n",
              "0     DoB  AgeGenderSheet  ...      1         0\n",
              "2     DoB  AgeGenderSheet  ...      1         2\n",
              "4     DoB  AgeGenderSheet  ...      1         4\n",
              "6     DoB  AgeGenderSheet  ...      0         6\n",
              "7     DoB  AgeGenderSheet  ...      0         7\n",
              "\n",
              "[5 rows x 31 columns]"
            ]
          },
          "metadata": {
            "tags": []
          },
          "execution_count": 90
        }
      ]
    },
    {
      "cell_type": "markdown",
      "metadata": {
        "colab_type": "text",
        "id": "kbW0Ez8Ekme7"
      },
      "source": [
        "# Narrow down Results to useful columnns"
      ]
    },
    {
      "cell_type": "code",
      "metadata": {
        "colab_type": "code",
        "id": "11nWw0D2ZPHE",
        "outputId": "811ceff9-0ddf-4c1c-9895-579b011a3c45",
        "colab": {
          "base_uri": "https://localhost:8080/"
        }
      },
      "source": [
        "usefulresults = pd.DataFrame()\n",
        "usefulresults = pd.DataFrame(bigresults, columns=['DataSet','FieldID','RowID','ColumnID','CellValue','CellType','CheckPerformed', 'Result'])\n",
        "usefulresults.head()"
      ],
      "execution_count": 0,
      "outputs": [
        {
          "output_type": "execute_result",
          "data": {
            "text/html": [
              "<div>\n",
              "<style scoped>\n",
              "    .dataframe tbody tr th:only-of-type {\n",
              "        vertical-align: middle;\n",
              "    }\n",
              "\n",
              "    .dataframe tbody tr th {\n",
              "        vertical-align: top;\n",
              "    }\n",
              "\n",
              "    .dataframe thead th {\n",
              "        text-align: right;\n",
              "    }\n",
              "</style>\n",
              "<table border=\"1\" class=\"dataframe\">\n",
              "  <thead>\n",
              "    <tr style=\"text-align: right;\">\n",
              "      <th></th>\n",
              "      <th>DataSet</th>\n",
              "      <th>FieldID</th>\n",
              "      <th>RowID</th>\n",
              "      <th>ColumnID</th>\n",
              "      <th>CellValue</th>\n",
              "      <th>CellType</th>\n",
              "      <th>CheckPerformed</th>\n",
              "      <th>Result</th>\n",
              "    </tr>\n",
              "  </thead>\n",
              "  <tbody>\n",
              "    <tr>\n",
              "      <th>0</th>\n",
              "      <td>DoB</td>\n",
              "      <td>Name</td>\n",
              "      <td>25</td>\n",
              "      <td>1</td>\n",
              "      <td>Paul</td>\n",
              "      <td>Text</td>\n",
              "      <td>Data Type is Text</td>\n",
              "      <td>1</td>\n",
              "    </tr>\n",
              "    <tr>\n",
              "      <th>2</th>\n",
              "      <td>DoB</td>\n",
              "      <td>Name</td>\n",
              "      <td>26</td>\n",
              "      <td>1</td>\n",
              "      <td>Ringo</td>\n",
              "      <td>Text</td>\n",
              "      <td>Data Type is Text</td>\n",
              "      <td>1</td>\n",
              "    </tr>\n",
              "    <tr>\n",
              "      <th>4</th>\n",
              "      <td>DoB</td>\n",
              "      <td>Name</td>\n",
              "      <td>27</td>\n",
              "      <td>1</td>\n",
              "      <td>Brian</td>\n",
              "      <td>Text</td>\n",
              "      <td>Data Type is Text</td>\n",
              "      <td>1</td>\n",
              "    </tr>\n",
              "    <tr>\n",
              "      <th>6</th>\n",
              "      <td>DoB</td>\n",
              "      <td>DoB</td>\n",
              "      <td>25</td>\n",
              "      <td>2</td>\n",
              "      <td>1955-07-01 00:00:00</td>\n",
              "      <td>Date</td>\n",
              "      <td>Data Type is Text</td>\n",
              "      <td>0</td>\n",
              "    </tr>\n",
              "    <tr>\n",
              "      <th>7</th>\n",
              "      <td>DoB</td>\n",
              "      <td>DoB</td>\n",
              "      <td>25</td>\n",
              "      <td>2</td>\n",
              "      <td>1955-07-01 00:00:00</td>\n",
              "      <td>Date</td>\n",
              "      <td>Data Type is Text</td>\n",
              "      <td>0</td>\n",
              "    </tr>\n",
              "  </tbody>\n",
              "</table>\n",
              "</div>"
            ],
            "text/plain": [
              "  DataSet FieldID  RowID  ...  CellType     CheckPerformed Result\n",
              "0     DoB    Name     25  ...      Text  Data Type is Text      1\n",
              "2     DoB    Name     26  ...      Text  Data Type is Text      1\n",
              "4     DoB    Name     27  ...      Text  Data Type is Text      1\n",
              "6     DoB     DoB     25  ...      Date  Data Type is Text      0\n",
              "7     DoB     DoB     25  ...      Date  Data Type is Text      0\n",
              "\n",
              "[5 rows x 8 columns]"
            ]
          },
          "metadata": {
            "tags": []
          },
          "execution_count": 91
        }
      ]
    },
    {
      "cell_type": "markdown",
      "metadata": {
        "colab_type": "text",
        "id": "fo-KMY41k1sc"
      },
      "source": [
        "# Summarise Results"
      ]
    },
    {
      "cell_type": "code",
      "metadata": {
        "colab_type": "code",
        "id": "M64p5-e9acRg",
        "outputId": "1b6369de-da29-424d-b4ad-0942ec1569d9",
        "colab": {
          "base_uri": "https://localhost:8080/"
        }
      },
      "source": [
        "resultssummary = pd.DataFrame()\n",
        "# index = pd.MultiIndex.from_arrays(arrays, names=['first', 'second'])\n",
        "# resultssummary.head()\n",
        "\n",
        "resultssummary = bigresults[['DataSet','FieldID','CheckPerformed', 'Result', 'ResultID']].groupby(['DataSet', 'FieldID', 'CheckPerformed']).agg(['count'])\n",
        "resultssummary.head(5)"
      ],
      "execution_count": 0,
      "outputs": [
        {
          "output_type": "execute_result",
          "data": {
            "text/html": [
              "<div>\n",
              "<style scoped>\n",
              "    .dataframe tbody tr th:only-of-type {\n",
              "        vertical-align: middle;\n",
              "    }\n",
              "\n",
              "    .dataframe tbody tr th {\n",
              "        vertical-align: top;\n",
              "    }\n",
              "\n",
              "    .dataframe thead tr th {\n",
              "        text-align: left;\n",
              "    }\n",
              "\n",
              "    .dataframe thead tr:last-of-type th {\n",
              "        text-align: right;\n",
              "    }\n",
              "</style>\n",
              "<table border=\"1\" class=\"dataframe\">\n",
              "  <thead>\n",
              "    <tr>\n",
              "      <th></th>\n",
              "      <th></th>\n",
              "      <th></th>\n",
              "      <th>Result</th>\n",
              "      <th>ResultID</th>\n",
              "    </tr>\n",
              "    <tr>\n",
              "      <th></th>\n",
              "      <th></th>\n",
              "      <th></th>\n",
              "      <th>count</th>\n",
              "      <th>count</th>\n",
              "    </tr>\n",
              "    <tr>\n",
              "      <th>DataSet</th>\n",
              "      <th>FieldID</th>\n",
              "      <th>CheckPerformed</th>\n",
              "      <th></th>\n",
              "      <th></th>\n",
              "    </tr>\n",
              "  </thead>\n",
              "  <tbody>\n",
              "    <tr>\n",
              "      <th rowspan=\"4\" valign=\"top\">Ages</th>\n",
              "      <th rowspan=\"2\" valign=\"top\">Age</th>\n",
              "      <th>Data Type is Date</th>\n",
              "      <td>7</td>\n",
              "      <td>7</td>\n",
              "    </tr>\n",
              "    <tr>\n",
              "      <th>Data Type is Text</th>\n",
              "      <td>21</td>\n",
              "      <td>21</td>\n",
              "    </tr>\n",
              "    <tr>\n",
              "      <th rowspan=\"2\" valign=\"top\">Name</th>\n",
              "      <th>Data Type is Number</th>\n",
              "      <td>7</td>\n",
              "      <td>7</td>\n",
              "    </tr>\n",
              "    <tr>\n",
              "      <th>Data Type is Text</th>\n",
              "      <td>7</td>\n",
              "      <td>7</td>\n",
              "    </tr>\n",
              "    <tr>\n",
              "      <th>DoB</th>\n",
              "      <th>DoB</th>\n",
              "      <th>Data Type is Text</th>\n",
              "      <td>6</td>\n",
              "      <td>6</td>\n",
              "    </tr>\n",
              "  </tbody>\n",
              "</table>\n",
              "</div>"
            ],
            "text/plain": [
              "                                    Result ResultID\n",
              "                                     count    count\n",
              "DataSet FieldID CheckPerformed                     \n",
              "Ages    Age     Data Type is Date        7        7\n",
              "                Data Type is Text       21       21\n",
              "        Name    Data Type is Number      7        7\n",
              "                Data Type is Text        7        7\n",
              "DoB     DoB     Data Type is Text        6        6"
            ]
          },
          "metadata": {
            "tags": []
          },
          "execution_count": 92
        }
      ]
    },
    {
      "cell_type": "markdown",
      "metadata": {
        "colab_type": "text",
        "id": "OL-ZYUKOk_cL"
      },
      "source": [
        "# Pivot Results"
      ]
    },
    {
      "cell_type": "code",
      "metadata": {
        "colab_type": "code",
        "id": "9Fdea1NEhYZD",
        "outputId": "b300d7c4-9c5d-4c23-b2a1-c86ccd3fda9f",
        "colab": {
          "base_uri": "https://localhost:8080/"
        }
      },
      "source": [
        "# rownamearray = pd.array(['DataSet','FieldID'], dtype=str)\n",
        "# newct = pd.crosstab(bigresults.DataSet,bigresults.FieldID,bigresults.CheckPerformed,bigresults.Result,rownames=rownamearray, colnames=['Result'])\n",
        "\n",
        "newct = bigresults.pivot_table(index = ['DataSet','FieldID','CheckPerformed'], values = 'ResultID',columns = 'Result', aggfunc = 'count')\n",
        "newct.head()"
      ],
      "execution_count": 0,
      "outputs": [
        {
          "output_type": "execute_result",
          "data": {
            "text/html": [
              "<div>\n",
              "<style scoped>\n",
              "    .dataframe tbody tr th:only-of-type {\n",
              "        vertical-align: middle;\n",
              "    }\n",
              "\n",
              "    .dataframe tbody tr th {\n",
              "        vertical-align: top;\n",
              "    }\n",
              "\n",
              "    .dataframe thead th {\n",
              "        text-align: right;\n",
              "    }\n",
              "</style>\n",
              "<table border=\"1\" class=\"dataframe\">\n",
              "  <thead>\n",
              "    <tr style=\"text-align: right;\">\n",
              "      <th></th>\n",
              "      <th></th>\n",
              "      <th>Result</th>\n",
              "      <th>0</th>\n",
              "      <th>1</th>\n",
              "    </tr>\n",
              "    <tr>\n",
              "      <th>DataSet</th>\n",
              "      <th>FieldID</th>\n",
              "      <th>CheckPerformed</th>\n",
              "      <th></th>\n",
              "      <th></th>\n",
              "    </tr>\n",
              "  </thead>\n",
              "  <tbody>\n",
              "    <tr>\n",
              "      <th rowspan=\"4\" valign=\"top\">Ages</th>\n",
              "      <th rowspan=\"2\" valign=\"top\">Age</th>\n",
              "      <th>Data Type is Date</th>\n",
              "      <td>7.0</td>\n",
              "      <td>NaN</td>\n",
              "    </tr>\n",
              "    <tr>\n",
              "      <th>Data Type is Text</th>\n",
              "      <td>6.0</td>\n",
              "      <td>15.0</td>\n",
              "    </tr>\n",
              "    <tr>\n",
              "      <th rowspan=\"2\" valign=\"top\">Name</th>\n",
              "      <th>Data Type is Number</th>\n",
              "      <td>7.0</td>\n",
              "      <td>NaN</td>\n",
              "    </tr>\n",
              "    <tr>\n",
              "      <th>Data Type is Text</th>\n",
              "      <td>NaN</td>\n",
              "      <td>7.0</td>\n",
              "    </tr>\n",
              "    <tr>\n",
              "      <th>DoB</th>\n",
              "      <th>DoB</th>\n",
              "      <th>Data Type is Text</th>\n",
              "      <td>4.0</td>\n",
              "      <td>2.0</td>\n",
              "    </tr>\n",
              "  </tbody>\n",
              "</table>\n",
              "</div>"
            ],
            "text/plain": [
              "Result                                 0     1\n",
              "DataSet FieldID CheckPerformed                \n",
              "Ages    Age     Data Type is Date    7.0   NaN\n",
              "                Data Type is Text    6.0  15.0\n",
              "        Name    Data Type is Number  7.0   NaN\n",
              "                Data Type is Text    NaN   7.0\n",
              "DoB     DoB     Data Type is Text    4.0   2.0"
            ]
          },
          "metadata": {
            "tags": []
          },
          "execution_count": 93
        }
      ]
    },
    {
      "cell_type": "markdown",
      "metadata": {
        "colab_type": "text",
        "id": "XFE1o7UrlFt1"
      },
      "source": [
        "# Plot Stack Bar"
      ]
    },
    {
      "cell_type": "markdown",
      "metadata": {
        "colab_type": "text",
        "id": "uG7YNRpnoOd9"
      },
      "source": [
        "## Show Stack"
      ]
    },
    {
      "cell_type": "code",
      "metadata": {
        "colab_type": "code",
        "id": "CzE4y5f5n_b4",
        "outputId": "fc3f4959-2226-4559-906f-640238230a74",
        "colab": {
          "base_uri": "https://localhost:8080/",
          "height": 282
        }
      },
      "source": [
        "newct.plot(kind='barh', stacked=True)"
      ],
      "execution_count": 0,
      "outputs": [
        {
          "output_type": "execute_result",
          "data": {
            "text/plain": [
              "<matplotlib.axes._subplots.AxesSubplot at 0x7f5e1c698898>"
            ]
          },
          "metadata": {
            "tags": []
          },
          "execution_count": 94
        },
        {
          "output_type": "display_data",
          "data": {
            "image/png": "[encoded data removed]",
            "text/plain": [
              "<Figure size 432x288 with 1 Axes>"
            ]
          },
          "metadata": {
            "tags": []
          }
        }
      ]
    },
    {
      "cell_type": "markdown",
      "metadata": {
        "colab_type": "text",
        "id": "wGi1BW3WJ7Rr"
      },
      "source": [
        ""
      ]
    },
    {
      "cell_type": "markdown",
      "metadata": {
        "colab_type": "text",
        "id": "fDyvSHkTJ2CZ"
      },
      "source": [
        ""
      ]
    }
  ]
}
