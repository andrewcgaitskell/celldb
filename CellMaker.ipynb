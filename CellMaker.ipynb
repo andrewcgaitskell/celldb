{
  "nbformat": 4,
  "nbformat_minor": 0,
  "metadata": {
    "colab": {
      "name": "MiniConveyorWorking.ipynb",
      "provenance": [],
      "collapsed_sections": [
        "3p8PgjiP0_jY",
        "Bpj2hKhdnGID",
        "GS0NpiKjmlHl",
        "ynhtQQ2H1FgY",
        "gNHjUDxf1KwS",
        "cPktYeFX1Ujq",
        "lChn_UkJZAk1",
        "x_awgfWUgAb2",
        "8IH4GVrigMRd",
        "_BT3jBxRgmOX",
        "qA4u066Zg0Mk",
        "2sZQyqiuhDZc",
        "0if3QQALhaOq",
        "gyZbtquUhhvL",
        "8mbxThrshpF1",
        "xKOG9aHgi8Pj",
        "6aBvm7yzjNqw",
        "wR-RHXokjaoG",
        "AWxtq24ijmSo",
        "lmplCWV-kH6H",
        "5ZW7-6-vkaXi",
        "kbW0Ez8Ekme7",
        "fo-KMY41k1sc",
        "OL-ZYUKOk_cL"
      ],
      "toc_visible": true,
      "include_colab_link": true
    },
    "kernelspec": {
      "name": "python3",
      "display_name": "Python 3"
    },
    "widgets": {
      "application/vnd.jupyter.widget-state+json": {
        "31a86a572107479ca63346166131e13d": {
          "model_module": "@jupyter-widgets/controls",
          "model_name": "FileUploadModel",
          "state": {
            "_view_name": "FileUploadView",
            "_counter": 1,
            "style": "IPY_MODEL_da81ffee312a4e138f0e240e185122bb",
            "_dom_classes": [],
            "description": "Upload",
            "multiple": false,
            "_model_name": "FileUploadModel",
            "data": [
              null
            ],
            "button_style": "",
            "_view_module": "@jupyter-widgets/controls",
            "_model_module_version": "1.5.0",
            "accept": "",
            "_view_count": null,
            "disabled": false,
            "_view_module_version": "1.5.0",
            "error": "",
            "description_tooltip": null,
            "metadata": [
              {
                "name": "Data.xlsx",
                "type": "application/vnd.openxmlformats-officedocument.spreadsheetml.sheet",
                "size": 114138,
                "lastModified": 1592218755336
              }
            ],
            "_model_module": "@jupyter-widgets/controls",
            "layout": "IPY_MODEL_cfb9ad1923ee4ec5b2e946977e9f543d",
            "icon": "upload"
          }
        },
        "da81ffee312a4e138f0e240e185122bb": {
          "model_module": "@jupyter-widgets/controls",
          "model_name": "ButtonStyleModel",
          "state": {
            "_view_name": "StyleView",
            "_model_name": "ButtonStyleModel",
            "_view_module": "@jupyter-widgets/base",
            "_model_module_version": "1.5.0",
            "_view_count": null,
            "button_color": null,
            "font_weight": "",
            "_view_module_version": "1.2.0",
            "_model_module": "@jupyter-widgets/controls"
          }
        },
        "cfb9ad1923ee4ec5b2e946977e9f543d": {
          "model_module": "@jupyter-widgets/base",
          "model_name": "LayoutModel",
          "state": {
            "_view_name": "LayoutView",
            "grid_template_rows": null,
            "right": null,
            "justify_content": null,
            "_view_module": "@jupyter-widgets/base",
            "overflow": null,
            "_model_module_version": "1.2.0",
            "_view_count": null,
            "flex_flow": null,
            "width": null,
            "min_width": null,
            "border": null,
            "align_items": null,
            "bottom": null,
            "_model_module": "@jupyter-widgets/base",
            "top": null,
            "grid_column": null,
            "overflow_y": null,
            "overflow_x": null,
            "grid_auto_flow": null,
            "grid_area": null,
            "grid_template_columns": null,
            "flex": null,
            "_model_name": "LayoutModel",
            "justify_items": null,
            "grid_row": null,
            "max_height": null,
            "align_content": null,
            "visibility": null,
            "align_self": null,
            "height": null,
            "min_height": null,
            "padding": null,
            "grid_auto_rows": null,
            "grid_gap": null,
            "max_width": null,
            "order": null,
            "_view_module_version": "1.2.0",
            "grid_template_areas": null,
            "object_position": null,
            "object_fit": null,
            "grid_auto_columns": null,
            "margin": null,
            "display": null,
            "left": null
          }
        }
      }
    }
  },
  "cells": [
    {
      "cell_type": "markdown",
      "metadata": {
        "id": "view-in-github",
        "colab_type": "text"
      },
      "source": [
        "<a href=\"https://colab.research.google.com/github/andrewcgaitskell/celldb/blob/master/CellMaker.ipynb\" target=\"_parent\"><img src=\"https://colab.research.google.com/assets/colab-badge.svg\" alt=\"Open In Colab\"/></a>"
      ]
    },
    {
      "cell_type": "markdown",
      "metadata": {
        "colab_type": "text",
        "id": "-mDz5ZTQ0x1l"
      },
      "source": [
        ""
      ]
    },
    {
      "cell_type": "markdown",
      "metadata": {
        "id": "x1pvdyLtafeF",
        "colab_type": "text"
      },
      "source": [
        "# Install Libraries"
      ]
    },
    {
      "cell_type": "code",
      "metadata": {
        "id": "I4QkIBfJjcFy",
        "colab_type": "code",
        "outputId": "33f2b148-9e82-425f-f8b5-a6634a3e638c",
        "colab": {
          "base_uri": "https://localhost:8080/",
          "height": 176
        }
      },
      "source": [
        "!pip install xlsxwriter\n",
        "!pip install xlrd\n",
        "!pip install matplotlib"
      ],
      "execution_count": 87,
      "outputs": [
        {
          "output_type": "stream",
          "text": [
            "Requirement already satisfied: xlsxwriter in /usr/local/lib/python3.6/dist-packages (1.2.9)\n",
            "Requirement already satisfied: xlrd in /usr/local/lib/python3.6/dist-packages (1.1.0)\n",
            "Requirement already satisfied: matplotlib in /usr/local/lib/python3.6/dist-packages (3.2.1)\n",
            "Requirement already satisfied: numpy>=1.11 in /usr/local/lib/python3.6/dist-packages (from matplotlib) (1.18.5)\n",
            "Requirement already satisfied: pyparsing!=2.0.4,!=2.1.2,!=2.1.6,>=2.0.1 in /usr/local/lib/python3.6/dist-packages (from matplotlib) (2.4.7)\n",
            "Requirement already satisfied: python-dateutil>=2.1 in /usr/local/lib/python3.6/dist-packages (from matplotlib) (2.8.1)\n",
            "Requirement already satisfied: kiwisolver>=1.0.1 in /usr/local/lib/python3.6/dist-packages (from matplotlib) (1.2.0)\n",
            "Requirement already satisfied: cycler>=0.10 in /usr/local/lib/python3.6/dist-packages (from matplotlib) (0.10.0)\n",
            "Requirement already satisfied: six>=1.5 in /usr/local/lib/python3.6/dist-packages (from python-dateutil>=2.1->matplotlib) (1.12.0)\n"
          ],
          "name": "stdout"
        }
      ]
    },
    {
      "cell_type": "code",
      "metadata": {
        "id": "AadAQppWP-0p",
        "colab_type": "code",
        "colab": {}
      },
      "source": [
        "import pandas as pd\n",
        "import numpy as np"
      ],
      "execution_count": 0,
      "outputs": []
    },
    {
      "cell_type": "code",
      "metadata": {
        "id": "vr-1xOUaP-0u",
        "colab_type": "code",
        "colab": {}
      },
      "source": [
        "import xlsxwriter\n",
        "import xlrd\n",
        "import matplotlib"
      ],
      "execution_count": 0,
      "outputs": []
    },
    {
      "cell_type": "markdown",
      "metadata": {
        "colab_type": "text",
        "id": "3p8PgjiP0_jY"
      },
      "source": [
        "# Introduction"
      ]
    },
    {
      "cell_type": "code",
      "metadata": {
        "colab_type": "code",
        "id": "fcUz8nPa4Hh5",
        "colab": {}
      },
      "source": [
        "from datetime import datetime\n",
        "import os"
      ],
      "execution_count": 0,
      "outputs": []
    },
    {
      "cell_type": "code",
      "metadata": {
        "id": "2WPJmc-VvjJ6",
        "colab_type": "code",
        "outputId": "b40c2859-30d2-496b-940b-1e71ba2cd80d",
        "colab": {
          "base_uri": "https://localhost:8080/",
          "height": 34
        }
      },
      "source": [
        "from datetime import datetime\n",
        "my_date = datetime.now()\n",
        "print(my_date.isoformat())"
      ],
      "execution_count": 91,
      "outputs": [
        {
          "output_type": "stream",
          "text": [
            "2020-06-15T13:51:23.854574\n"
          ],
          "name": "stdout"
        }
      ]
    },
    {
      "cell_type": "code",
      "metadata": {
        "id": "g4hWXLKOv8Ko",
        "colab_type": "code",
        "outputId": "38893a1f-6e80-4352-c9df-43ecb17a08fb",
        "colab": {
          "base_uri": "https://localhost:8080/",
          "height": 34
        }
      },
      "source": [
        "print(my_date.strftime('%Y-%m-%dT%H:%M:%S.%f%z'))"
      ],
      "execution_count": 92,
      "outputs": [
        {
          "output_type": "stream",
          "text": [
            "2020-06-15T13:51:23.854574\n"
          ],
          "name": "stdout"
        }
      ]
    },
    {
      "cell_type": "code",
      "metadata": {
        "id": "tBDgMHTowFzq",
        "colab_type": "code",
        "outputId": "a8d8ac29-343d-4629-ceac-30cd18843c36",
        "colab": {
          "base_uri": "https://localhost:8080/",
          "height": 34
        }
      },
      "source": [
        "runid = \"R\" + my_date.strftime('%Y%m%d%H%M%S%f%z')\n",
        "runid"
      ],
      "execution_count": 93,
      "outputs": [
        {
          "output_type": "execute_result",
          "data": {
            "text/plain": [
              "'R20200615135123854574'"
            ]
          },
          "metadata": {
            "tags": []
          },
          "execution_count": 93
        }
      ]
    },
    {
      "cell_type": "code",
      "metadata": {
        "id": "ltPCV36nP-00",
        "colab_type": "code",
        "outputId": "a277e9fb-dd4d-48ea-8c20-ab75d6c74fca",
        "colab": {
          "base_uri": "https://localhost:8080/",
          "height": 34
        }
      },
      "source": [
        "dirname = os.getcwd()\n",
        "print(dirname)"
      ],
      "execution_count": 94,
      "outputs": [
        {
          "output_type": "stream",
          "text": [
            "/content\n"
          ],
          "name": "stdout"
        }
      ]
    },
    {
      "cell_type": "code",
      "metadata": {
        "id": "Wlg6CawSku84",
        "colab_type": "code",
        "colab": {}
      },
      "source": [
        ""
      ],
      "execution_count": 0,
      "outputs": []
    },
    {
      "cell_type": "markdown",
      "metadata": {
        "id": "ZTb5uStIkw6B",
        "colab_type": "text"
      },
      "source": [
        "## Upload File"
      ]
    },
    {
      "cell_type": "markdown",
      "metadata": {
        "colab_type": "text",
        "id": "ynhtQQ2H1FgY"
      },
      "source": [
        "# Excel Data Types"
      ]
    },
    {
      "cell_type": "markdown",
      "metadata": {
        "colab_type": "text",
        "id": "zKpghyfbfs1q"
      },
      "source": [
        "The following functions are use to work out the data type of an excel cell."
      ]
    },
    {
      "cell_type": "code",
      "metadata": {
        "colab_type": "code",
        "id": "gS1sVfVX4bRL",
        "colab": {}
      },
      "source": [
        "def validate_date(date_text):\n",
        "    try:\n",
        "        format_string = '%Y-%m-%d %H:%M:%S'\n",
        "        datetime.strptime(date_text, format_string)\n",
        "        return \"OK\"\n",
        "    except ValueError:\n",
        "        return None\n",
        "\n",
        "def GetDataType(row_in):\n",
        "    valueasstring = str(row_in['CellValue'])\n",
        "    if validate_date(valueasstring) != None:\n",
        "        return 'Date'\n",
        "    elif valueasstring.isnumeric():\n",
        "        return 'Number'\n",
        "    else:\n",
        "        return 'Text'\n",
        "\n",
        "def add1_2row(row_in):\n",
        "    return row_in['RowID'] + 1\n",
        "\n",
        "\n",
        "def add1_2column(row_in):\n",
        "    return row_in['ColumnID'] + 1"
      ],
      "execution_count": 0,
      "outputs": []
    },
    {
      "cell_type": "code",
      "metadata": {
        "id": "tzOnyRt7kfpN",
        "colab_type": "code",
        "outputId": "c0c27445-df3a-4380-e34c-08eae1cca712",
        "colab": {
          "base_uri": "https://localhost:8080/",
          "height": 48,
          "referenced_widgets": [
            "31a86a572107479ca63346166131e13d",
            "da81ffee312a4e138f0e240e185122bb",
            "cfb9ad1923ee4ec5b2e946977e9f543d"
          ]
        }
      },
      "source": [
        "from ipywidgets import FileUpload\n",
        "upload = FileUpload()\n",
        "upload"
      ],
      "execution_count": 96,
      "outputs": [
        {
          "output_type": "display_data",
          "data": {
            "application/vnd.jupyter.widget-view+json": {
              "model_id": "31a86a572107479ca63346166131e13d",
              "version_minor": 0,
              "version_major": 2
            },
            "text/plain": [
              "FileUpload(value={}, description='Upload')"
            ]
          },
          "metadata": {
            "tags": []
          }
        }
      ]
    },
    {
      "cell_type": "code",
      "metadata": {
        "colab_type": "code",
        "id": "oK3e6oyZ5hh4",
        "colab": {}
      },
      "source": [
        "import io\n",
        "filedf = pd.read_excel(upload.data[0],sheet_name=None, header=0, encoding='utf-8', errors='ignore')\n"
      ],
      "execution_count": 0,
      "outputs": []
    },
    {
      "cell_type": "code",
      "metadata": {
        "id": "8y-f7KyPmbxn",
        "colab_type": "code",
        "outputId": "27305da7-6381-4473-936d-f25ca454dfa9",
        "colab": {
          "base_uri": "https://localhost:8080/",
          "height": 1000
        }
      },
      "source": [
        "filedf"
      ],
      "execution_count": 100,
      "outputs": [
        {
          "output_type": "execute_result",
          "data": {
            "text/plain": [
              "{'AgeGenderSheet':    Unnamed: 0           Unnamed: 1 Unnamed: 2    Unnamed: 3         Unnamed: 4\n",
              " 0         NaN                  NaN        NaN           NaN                NaN\n",
              " 1         NaN                  NaN        NaN           NaN                NaN\n",
              " 2         NaN                  NaN        NaN           NaN                NaN\n",
              " 3         NaN            Age Table        NaN           NaN                NaN\n",
              " 4         NaN                  NaN       Name           Age                NaN\n",
              " 5         NaN                  NaN       Paul           -52                NaN\n",
              " 6         NaN                  NaN      Ringo            22                NaN\n",
              " 7         NaN                  NaN      Brian            89                NaN\n",
              " 8         NaN                  NaN        NaN           NaN                NaN\n",
              " 9         NaN                  NaN        NaN           NaN                NaN\n",
              " 10        NaN                  NaN        NaN           NaN                NaN\n",
              " 11        NaN                  NaN        NaN           NaN                NaN\n",
              " 12        NaN                  NaN        NaN  Gender Table                NaN\n",
              " 13        NaN                  NaN        NaN          Name             Gender\n",
              " 14        NaN                  NaN        NaN          Paul               Male\n",
              " 15        NaN                  NaN        NaN         Ringo  Prefer not to say\n",
              " 16        NaN                  NaN        NaN         Brian               Male\n",
              " 17        NaN                  NaN        NaN           NaN                NaN\n",
              " 18        NaN                  NaN        NaN           NaN                NaN\n",
              " 19        NaN                  NaN        NaN           NaN                NaN\n",
              " 20        NaN                  NaN        NaN           NaN                NaN\n",
              " 21  DOB Table                  NaN        NaN           NaN                NaN\n",
              " 22       Name                D.O.B        NaN           NaN                NaN\n",
              " 23       Paul  1955-07-01 00:00:00        NaN           NaN                NaN\n",
              " 24      Ringo  1996-01-09 00:00:00        NaN           NaN                NaN\n",
              " 25      Brian           7th Aug 28        NaN           NaN                NaN,\n",
              " 'DataMap':                  SheetName          ReferenceText  ...  Column Header        Dataset\n",
              " 0           AgeGenderSheet              Age Table  ...           Name           Ages\n",
              " 1           AgeGenderSheet              Age Table  ...            Age           Ages\n",
              " 2           AgeGenderSheet           Gender Table  ...           Name        Genders\n",
              " 3           AgeGenderSheet           Gender Table  ...         Gender        Genders\n",
              " 4           AgeGenderSheet              DOB Table  ...           Name            DoB\n",
              " 5           AgeGenderSheet              DOB Table  ...          D.O.B            DoB\n",
              " 6   MaritalDepartmentSheet   Marital Status Table  ...           Name  MaritalStatus\n",
              " 7   MaritalDepartmentSheet   Marital Status Table  ...         Status  MaritalStatus\n",
              " 8   MaritalDepartmentSheet       Department Table  ...           Name     Department\n",
              " 9   MaritalDepartmentSheet       Department Table  ...     Department     Department\n",
              " 10                JobSheet  Job Description Table  ...      Job Title           Jobs\n",
              " 11                JobSheet  Job Description Table  ...  Employee Name           Jobs\n",
              " 12                JobSheet  Job Description Table  ...             ID           Jobs\n",
              " 13               HomeSheet    Home Location Table  ...       Employee   HomeLocation\n",
              " 14               HomeSheet    Home Location Table  ...       Location   HomeLocation\n",
              " \n",
              " [15 rows x 10 columns],\n",
              " 'DataSet':           DataSet               SheetName  ... FieldDescription TableOrientation\n",
              " 0            Ages          AgeGenderSheet  ...             Name             Down\n",
              " 1            Ages          AgeGenderSheet  ...              Age             Down\n",
              " 2         Genders          AgeGenderSheet  ...             Name             Down\n",
              " 3         Genders          AgeGenderSheet  ...           Gender             Down\n",
              " 4             DoB          AgeGenderSheet  ...             Name             Down\n",
              " 5             DoB          AgeGenderSheet  ...            D.O.B             Down\n",
              " 6   MaritalStatus  MaritalDepartmentSheet  ...             Name              NaN\n",
              " 7   MaritalStatus  MaritalDepartmentSheet  ...           Status              NaN\n",
              " 8      Department  MaritalDepartmentSheet  ...             Name              NaN\n",
              " 9      Department  MaritalDepartmentSheet  ...       Department              NaN\n",
              " 10           Jobs                JobSheet  ...        Job Title              NaN\n",
              " 11           Jobs                JobSheet  ...    Employee Name              NaN\n",
              " 12           Jobs                JobSheet  ...               ID              NaN\n",
              " 13   HomeLocation               HomeSheet  ...         Employee              NaN\n",
              " 14   HomeLocation               HomeSheet  ...         Location              NaN\n",
              " \n",
              " [15 rows x 10 columns],\n",
              " 'HomeSheet':              Unnamed: 0 Unnamed: 1\n",
              " 0                   NaN        NaN\n",
              " 1                   NaN        NaN\n",
              " 2                   NaN        NaN\n",
              " 3                   NaN        NaN\n",
              " 4                   NaN        NaN\n",
              " 5                   NaN        NaN\n",
              " 6   Home Location Table        NaN\n",
              " 7              Employee   Location\n",
              " 8                 Brian     London\n",
              " 9                 Ringo  Liverpool\n",
              " 10                 Paul  Blackpool,\n",
              " 'JobSheet':    Unnamed: 0  Unnamed: 1             Unnamed: 2     Unnamed: 3 Unnamed: 4\n",
              " 0         NaN         NaN                    NaN            NaN        NaN\n",
              " 1         NaN         NaN                    NaN            NaN        NaN\n",
              " 2         NaN         NaN                    NaN            NaN        NaN\n",
              " 3         NaN         NaN                    NaN            NaN        NaN\n",
              " 4         NaN         NaN  Job Description Table            NaN        NaN\n",
              " 5         NaN         NaN              Job Title  Employee Name         ID\n",
              " 6         NaN         NaN     Production Manager           Paul          A\n",
              " 7         NaN         NaN             Programmer          Ringo          1\n",
              " 8         NaN         NaN             Accountant          Brian          2,\n",
              " 'MaritalDepartmentSheet':              Unnamed: 0         Unnamed: 1  ...        Unnamed: 4  Unnamed: 5\n",
              " 0                   NaN                NaN  ...  Department Table         NaN\n",
              " 1  Marital Status Table                NaN  ...              Name  Department\n",
              " 2                  Name             Status  ...              Paul  Production\n",
              " 3                  Paul            Married  ...             Ringo          IT\n",
              " 4                 Ringo  Civil Partnership  ...             Brian    Accounts\n",
              " 5                 Brian             Single  ...               NaN         NaN\n",
              " \n",
              " [6 rows x 6 columns],\n",
              " 'Palette':                  KeyWord  ...                                      PythonFormula\n",
              " 0                   Date  ...      np.where(dataset['CellType'] == 'Date', 1, 0)\n",
              " 1                 Number  ...    np.where(dataset['CellType'] == 'Number', 1, 0)\n",
              " 2                   Text  ...      np.where(dataset['CellType'] == 'Text', 1, 0)\n",
              " 3                NotNull  ...  dataset['CellValue'].isnull().map({True: 0, Fa...\n",
              " 4             1OrGreater  ...                                                NaN\n",
              " 5               Positive  ...   np.where(dataset['CellValueAsNumber'] > 0, 1, 0)\n",
              " 6            NotNegative  ...                                                NaN\n",
              " 7       FieldSizeMaximum  ...                                                NaN\n",
              " 8       FieldSizeMinimum  ...                                                NaN\n",
              " 9        FieldSizeLength  ...                                                NaN\n",
              " 10              PickList  ...  dataset.apply(lambda x: x['CellValue'] in x['P...\n",
              " 11               Pattern  ...                                                NaN\n",
              " 12             DateRange  ...                                                NaN\n",
              " 13     IsAllAlphaNumeric  ...                                                NaN\n",
              " 14                 Email  ...                                                NaN\n",
              " 15         ShortPostCode  ...                                                NaN\n",
              " 16  GreaterThanRangeFrom  ...                                                NaN\n",
              " 17                  Less  ...                                                NaN\n",
              " 18              PostCode  ...                                                NaN\n",
              " 19            NoDayInDoB  ...                                                NaN\n",
              " 20        GreaterThanTen  ...  np.where(dataset['CellValueAsNumber'] > 10, 1, 0)\n",
              " \n",
              " [21 rows x 9 columns],\n",
              " 'PickList':   MaritalStatus HomeLocation  Gender\n",
              " 0        Single       London    Male\n",
              " 1       Married    Liverpool  Female,\n",
              " 'Rules':     RuleID          DataSet        FieldID  ...     Rule1           Rule2  Rule3\n",
              " 0        1             Ages           Name  ...       NaN             NaN    NaN\n",
              " 1        2             Ages            Age  ...  Positive  GreaterThanTen    NaN\n",
              " 2        3          Genders           Name  ...       NaN             NaN    NaN\n",
              " 3        4          Genders         Gender  ...       NaN             NaN    NaN\n",
              " 4        5              DoB           Name  ...       NaN             NaN    NaN\n",
              " 5        6              DoB            DoB  ...       NaN             NaN    NaN\n",
              " 6        7    MaritalStatus           Name  ...       NaN             NaN    NaN\n",
              " 7        8    MaritalStatus         Status  ...       NaN             NaN    NaN\n",
              " 8        9  DepartmentTable           Name  ...       NaN             NaN    NaN\n",
              " 9       10  DepartmentTable     Department  ...       NaN             NaN    NaN\n",
              " 10      11             Jobs      Job_Title  ...       NaN             NaN    NaN\n",
              " 11      12             Jobs  Employee_Name  ...       NaN             NaN    NaN\n",
              " 12      13             Jobs             ID  ...       NaN             NaN    NaN\n",
              " 13      14     HomeLocation       Employee  ...       NaN             NaN    NaN\n",
              " 14      15     HomeLocation       Location  ...       NaN             NaN    NaN\n",
              " \n",
              " [15 rows x 13 columns],\n",
              " 'TemplateValidationMap':                  SheetName  ...           TemplateText\n",
              " 0           AgeGenderSheet  ...              Age Table\n",
              " 1           AgeGenderSheet  ...                   Name\n",
              " 2           AgeGenderSheet  ...                    Age\n",
              " 3           AgeGenderSheet  ...           Gender Table\n",
              " 4           AgeGenderSheet  ...                   Name\n",
              " 5           AgeGenderSheet  ...                 Gender\n",
              " 6           AgeGenderSheet  ...              DOB Table\n",
              " 7           AgeGenderSheet  ...                   Name\n",
              " 8           AgeGenderSheet  ...                  D.O.B\n",
              " 9   MaritalDepartmentSheet  ...   Marital Status Table\n",
              " 10  MaritalDepartmentSheet  ...                   Name\n",
              " 11  MaritalDepartmentSheet  ...                 Status\n",
              " 12  MaritalDepartmentSheet  ...       Department Table\n",
              " 13  MaritalDepartmentSheet  ...                   Name\n",
              " 14  MaritalDepartmentSheet  ...             Department\n",
              " 15                JobSheet  ...  Job Description Table\n",
              " 16                JobSheet  ...              Job Title\n",
              " 17                JobSheet  ...          Employee Name\n",
              " 18                JobSheet  ...                     ID\n",
              " 19               HomeSheet  ...    Home Location Table\n",
              " 20               HomeSheet  ...               Employee\n",
              " 21               HomeSheet  ...               Location\n",
              " \n",
              " [22 rows x 6 columns]}"
            ]
          },
          "metadata": {
            "tags": []
          },
          "execution_count": 100
        }
      ]
    },
    {
      "cell_type": "markdown",
      "metadata": {
        "colab_type": "text",
        "id": "cPktYeFX1Ujq"
      },
      "source": [
        "# Read All Sheets into Data Frame"
      ]
    },
    {
      "cell_type": "code",
      "metadata": {
        "colab_type": "code",
        "id": "VYKox_Ng6J0Y",
        "colab": {}
      },
      "source": [
        "sheetnames = list(filedf.keys())"
      ],
      "execution_count": 0,
      "outputs": []
    },
    {
      "cell_type": "code",
      "metadata": {
        "colab_type": "code",
        "id": "lVh1ixup6WEB",
        "outputId": "401db3c5-211d-4d64-f7e6-a1d044ca5da9",
        "colab": {
          "base_uri": "https://localhost:8080/",
          "height": 34
        }
      },
      "source": [
        "print(sheetnames)"
      ],
      "execution_count": 102,
      "outputs": [
        {
          "output_type": "stream",
          "text": [
            "['AgeGenderSheet', 'HomeSheet', 'JobSheet', 'MaritalDepartmentSheet', 'DataMap', 'TemplateValidationMap', 'DataSet', 'Rules', 'Palette', 'PickList']\n"
          ],
          "name": "stdout"
        }
      ]
    },
    {
      "cell_type": "markdown",
      "metadata": {
        "colab_type": "text",
        "id": "HG-wdyrgq7t6"
      },
      "source": [
        "Each Sheet is retrieved into Dataframes\n",
        "\n",
        "DataMapDF = specdf['DataMap']\n",
        "TemplateValidationMapDF = specdf['TemplateValidationMap']\n",
        "DataSetDF = specdf['DataSet']\n",
        "RulesDF = specdf['Rules']\n",
        "PaletteDF = specdf['Palette']\n",
        "PickListDF = specdf['PickList']\n",
        "datadf = pd.DataFrame()\n"
      ]
    },
    {
      "cell_type": "markdown",
      "metadata": {
        "colab_type": "text",
        "id": "eF7j_IEBgR0U"
      },
      "source": [
        "The following converts the whole spreadsheet into a cell database and this is used throughout for all data frame population."
      ]
    },
    {
      "cell_type": "code",
      "metadata": {
        "id": "T2Y0O5ZYzv_K",
        "colab_type": "code",
        "colab": {}
      },
      "source": [
        "celldbstagedf = pd.DataFrame()\n",
        "sheetdf = filedf['DataMap'].copy()\n",
        "sheetdf[\"RowID\"] = sheetdf.index\n",
        "sheetdf"
      ],
      "execution_count": 0,
      "outputs": []
    },
    {
      "cell_type": "code",
      "metadata": {
        "colab_type": "code",
        "id": "ts-N1j3I7qdg",
        "colab": {}
      },
      "source": [
        "for currentsheetname in sheetnames:\n",
        "\n",
        "    sheetdf = filedf[currentsheetname].copy()\n",
        "    sheetdf[\"RowID\"] = sheetdf.index\n",
        "    celldb = pd.melt(sheetdf, id_vars=['RowID'])\n",
        "    celldb = celldb.rename(columns={\"variable\": \"ColumnID\", \"value\": \"CellValue\"})\n",
        "    celldb[\"CellType\"] = \"Unset\"\n",
        "    celldb[\"FileName\"] = runid\n",
        "    celldb[\"SheetName\"] = currentsheetname\n",
        "\n",
        "    #try:\n",
        "    celldb[\"CellType\"] = celldb.apply(GetDataType, axis=1)\n",
        "    celldb[\"RowID\"] = celldb.apply(add1_2row, axis=1)\n",
        "    celldb[\"ColumnID\"] = celldb.apply(add1_2column, axis=1)\n",
        "\n",
        "    #except:\n",
        "\n",
        "    #    celldb[\"CellType\"] = 'unknown'\n",
        "    #    celldb[\"RowID\"] = 0\n",
        "    #    celldb[\"ColumnID\"] = 0\n",
        "\n",
        "    celldbstagedf = celldbstagedf.append(celldb, ignore_index=True)\n",
        "\n",
        "    celldb = pd.DataFrame()\n",
        "\n"
      ],
      "execution_count": 0,
      "outputs": []
    },
    {
      "cell_type": "code",
      "metadata": {
        "id": "gWEQWuO1xcvB",
        "colab_type": "code",
        "colab": {}
      },
      "source": [
        "celldbstagedf"
      ],
      "execution_count": 0,
      "outputs": []
    },
    {
      "cell_type": "markdown",
      "metadata": {
        "colab_type": "text",
        "id": "lChn_UkJZAk1"
      },
      "source": [
        "# Get Picklist Values"
      ]
    },
    {
      "cell_type": "markdown",
      "metadata": {
        "colab_type": "text",
        "id": "t5ghg_PvYeSH"
      },
      "source": [
        "Picklist are like a mini Master Data Management System\n",
        "\n",
        "They define the acceptable values for a partcular Field in Excel\n",
        "\n",
        "The challenge here was to check one column to a another column that contained a list.  I go there in the end."
      ]
    },
    {
      "cell_type": "code",
      "metadata": {
        "colab_type": "code",
        "id": "r0sO9VyetelZ",
        "colab": {}
      },
      "source": [
        "PickListCells = pd.DataFrame()\n",
        "# This process uses the full cell database as the column headings are the Picklist Names\n",
        "PickListCells = fullcelldb[(fullcelldb['SheetName'] == 'PickList')].copy()\n",
        "# PickListCellsList = PickListCells.groupby('ColumnID')['CellValue'].apply(lambda group_series: group_series.tolist()).reset_index()\n",
        "\n",
        "PickListCellsList = PickListCells.groupby('ColumnID').agg({'CellValue':lambda x: list(x)})\n",
        "\n",
        "# these were odd, but glad I work them out, it is important to realise that these are operations on a number of rows, not just one\n",
        "# maybe it was the axis that made the difference!\n",
        "PickListCellsList['KeyWord'] = PickListCellsList.apply(lambda row : row['CellValue'][0], axis = 1)\n",
        "PickListCellsList['FormulaKeyWord'] = PickListCellsList.apply(lambda row : 'PickList', axis = 1)\n",
        "PickListCellsList['List'] = PickListCellsList.apply(lambda row : row['CellValue'][1:], axis = 1)\n",
        "# PickListCellsList['KeyWord'] = PickListCellsList['CellValue']\n",
        "#PickListCellsList= pd.DataFrame(PickListCellsList, columns=['KeyWord', 'List'])\n",
        "PickListCellsList = pd.DataFrame(PickListCellsList, columns=['KeyWord', 'FormulaKeyWord', 'List'])\n",
        "PickListCellsList.head()"
      ],
      "execution_count": 0,
      "outputs": []
    },
    {
      "cell_type": "code",
      "metadata": {
        "colab_type": "code",
        "id": "6OG1yqBvV3m8",
        "colab": {}
      },
      "source": [
        "# These were attempts at creating a suitable list for the function to check to\n",
        "\n",
        "# PickListCellsList['Result'] = PickListCellsList['KeyWord'].isin(PickListCellsList['List']).map({True: 0, False: 1})\n",
        "\n",
        "# PickListCellsList['Result'] = PickListCellsList['KeyWord'].str.contains('|'.join(PickListCellsList['List']))\n",
        "# PickListCellsList['Result'] = PickListCellsList['KeyWord'].str.contains('|'.join(x) for x in PickListCellsList['List'])\n",
        "# [\"\".join(x) for x in lst]\n",
        "# PickListCellsList['ListAsString'] = PickListCellsList['List'].str.join('-')\n",
        "# PickListCellsList['ListAsTuple'] = tuple(PickListCellsList['CellValue'])\n"
      ],
      "execution_count": 0,
      "outputs": []
    },
    {
      "cell_type": "code",
      "metadata": {
        "colab_type": "code",
        "id": "94BawuhvSCe8",
        "colab": {}
      },
      "source": [
        "#MyList = pd.DataFrame()\n",
        "#MyList =  PickListCellsList\n",
        "# still do not know why the following DOES NOT WORK!\n",
        "# MyList['Result'] = PickListCellsList['ListAsString'].isin(PickListCellsList['KeyWord'])\n",
        "\n",
        "# leaving this as a rememberance of the 6 hours spent on this!\n",
        "# MyList['Result1'] = PickListCellsList['KeyWord'].apply(lambda x: any(i in x for i in PickListCellsList['List']))\n",
        "# MyList['Result2'] = PickListCellsList['ListAsString'].str.contains(PickListCellsList['KeyWord'])\n",
        "# mask = df['A'].apply(lambda x: any(i in x for i in search_list))\n",
        "# PickListCellsList['Result2'] = PickListCellsList['ListAsTuple'].str.contains(PickListCellsList['KeyWord'])\n",
        "# PickListCellsList['Result2'] = PickListCellsList['KeyWord'].str.contains(tuple(PickListCellsList['List']))\n",
        "# PickListCellsList['ListAsTuple'].isin(PickListCellsList['KeyWord'])\n",
        "# MyList['Result2'] = PickListCellsList['List'].apply(lambda x: True if (PickListCellsList.KeyWord in x).any() else False)\n",
        "######### MyList['sing'] = 'Single'\n",
        "# MyList['res1'] = MyList.apply(lambda ts: any(ts == 'Single'), axis=1)\n",
        "# MyList['res2'] = MyList.apply(lambda ts: MyList['KeyWord'].str.contains('Single'), axis=1)\n",
        "######### MyList['res3'] = MyList.apply(lambda x: x['sing'] in x['ListAsTuple'], axis=1)  ###############\n",
        "######### MyList['res4'] = MyList.apply(lambda x: x['sing'] in x['List'], axis=1).map({True: 1, False: 0}) ###############\n",
        "# # # # dataset.apply(lambda x: x['CellValue'] in x['PickList'], axis=1).map({True: 1, False: 0})\n",
        "# data['Activity].str.contains('skin diving')\n",
        "# lambda x : True if (x > 10 and x < 20) else False\n",
        "#MyList.head()\n",
        "# https://stackoverflow.com/questions/48460234/pandas-apply-valueerror-the-truth-value-of-a-series-is-ambigous"
      ],
      "execution_count": 0,
      "outputs": []
    },
    {
      "cell_type": "markdown",
      "metadata": {
        "colab_type": "text",
        "id": "x_awgfWUgAb2"
      },
      "source": [
        "# Get Data Map"
      ]
    },
    {
      "cell_type": "code",
      "metadata": {
        "colab_type": "code",
        "id": "5wSue_afTLJq",
        "colab": {}
      },
      "source": [
        "DataMapCells = pd.DataFrame()\n",
        "DataMapCells = fullcelldb[(fullcelldb['SheetName'] == 'DataMap')].copy()\n",
        "DataMapCells.head()"
      ],
      "execution_count": 0,
      "outputs": []
    },
    {
      "cell_type": "markdown",
      "metadata": {
        "colab_type": "text",
        "id": "zdWkGWSmL6ru"
      },
      "source": [
        "Below extracts a Sheet from the cell database and reshapes it to it original tabular form."
      ]
    },
    {
      "cell_type": "code",
      "metadata": {
        "colab_type": "code",
        "id": "oPSRDxU8t_Mc",
        "colab": {}
      },
      "source": [
        "DataMap = pd.DataFrame()\n",
        "DataMap = DataMapCells.pivot_table(index = ['RowID'], values = 'CellValue',columns = 'ColumnID', aggfunc = 'max')\n",
        "ColumnHeadings = DataMap.iloc[0]\n",
        "ColumnHeadingsList = list(ColumnHeadings)\n",
        "print(ColumnHeadingsList)\n",
        "ColumnHeadingsListTuple = enumerate(ColumnHeadingsList,start=1)\n",
        "ColumnHeadingsListDict = dict(ColumnHeadingsListTuple)\n",
        "print(ColumnHeadingsListDict)\n",
        "DataMap = DataMap.rename(columns=ColumnHeadingsListDict)\n",
        "DataMap = DataMap.drop([1])\n",
        "DataMap.head()"
      ],
      "execution_count": 0,
      "outputs": []
    },
    {
      "cell_type": "markdown",
      "metadata": {
        "colab_type": "text",
        "id": "8IH4GVrigMRd"
      },
      "source": [
        "# Make Rules Database"
      ]
    },
    {
      "cell_type": "code",
      "metadata": {
        "colab_type": "code",
        "id": "pJGHXeJwMdE7",
        "colab": {}
      },
      "source": [
        "RulesDF.head()"
      ],
      "execution_count": 0,
      "outputs": []
    },
    {
      "cell_type": "markdown",
      "metadata": {
        "colab_type": "text",
        "id": "2w0CkOgoMmRS"
      },
      "source": [
        "The above is the Rules definition sheet. It used KeyWords to define the checks.  Below forms a list of KeyWords that are relevant to a particular field in a DataSet"
      ]
    },
    {
      "cell_type": "code",
      "metadata": {
        "colab_type": "code",
        "id": "6Q_4gGPS9rtm",
        "colab": {}
      },
      "source": [
        "rulesdb = pd.DataFrame()\n",
        "rulesdb = pd.melt(RulesDF, id_vars=['RuleID', 'DataSet', 'FieldID'])\n",
        "rulesdb = rulesdb.rename(columns={\"variable\": \"RuleType\", \"value\": \"KeyWord\"})\n",
        "rulesdb = rulesdb[rulesdb.KeyWord.notnull()]\n",
        "# df['A'] = df.apply(lambda x: x['B'] if x['A']==0 else x['A'], axis=1)\n",
        "# The following adds the KeyWord Null into the Rules list - if Null is N, this means Nulls are Not Allowed\n",
        "rulesdb['KeyWord'] = rulesdb.apply(lambda x: x['RuleType'] if x['KeyWord']=='N' else x['KeyWord'], axis=1)\n",
        "\n",
        "PickListCellsList\n",
        "\n",
        "rulesdb = pd.merge(rulesdb,PickListCellsList, on=['KeyWord'],how='left')\n",
        "\n",
        "rulesdb.head(5)"
      ],
      "execution_count": 0,
      "outputs": []
    },
    {
      "cell_type": "markdown",
      "metadata": {
        "colab_type": "text",
        "id": "_BT3jBxRgmOX"
      },
      "source": [
        "# Add Code and Formulae to Rules Database"
      ]
    },
    {
      "cell_type": "markdown",
      "metadata": {
        "colab_type": "text",
        "id": "FjPsx40uNGbC"
      },
      "source": [
        "Palette defines the Rule Text and Rule Formula.  We have implemented rules on Alteryx, SQL, Python & Javascript"
      ]
    },
    {
      "cell_type": "code",
      "metadata": {
        "colab_type": "code",
        "id": "C5qzWLTy9uOh",
        "colab": {}
      },
      "source": [
        "palette = pd.DataFrame()\n",
        "palette = pd.merge(DataSetDF, rulesdb, on=['FieldID', 'DataSet'])\n",
        "palette['KeyWord'] = rulesdb.apply(lambda x: x['FormulaKeyWord'] if x['FormulaKeyWord']=='PickList' else x['KeyWord'], axis=1)\n",
        "palette.head(5)"
      ],
      "execution_count": 0,
      "outputs": []
    },
    {
      "cell_type": "code",
      "metadata": {
        "id": "qKr38LQxP-19",
        "colab_type": "code",
        "colab": {}
      },
      "source": [
        "\n",
        "palette = pd.merge(palette, PaletteDF, on=['KeyWord'],how='left')\n"
      ],
      "execution_count": 0,
      "outputs": []
    },
    {
      "cell_type": "code",
      "metadata": {
        "colab_type": "code",
        "id": "agn-y_XpjZQM",
        "scrolled": false,
        "colab": {}
      },
      "source": [
        "palette.head(5)"
      ],
      "execution_count": 0,
      "outputs": []
    },
    {
      "cell_type": "markdown",
      "metadata": {
        "colab_type": "text",
        "id": "qA4u066Zg0Mk"
      },
      "source": [
        "# Get Start Anchor Cells"
      ]
    },
    {
      "cell_type": "markdown",
      "metadata": {
        "colab_type": "text",
        "id": "c-Q7nZsaNliz"
      },
      "source": [
        "Start Anchors are where tables are mapped from, every dataset in the spreadsheet must be anchored to a uniquely identifiable cell in a particular sheet."
      ]
    },
    {
      "cell_type": "code",
      "metadata": {
        "colab_type": "code",
        "id": "yzZcf-vY9wpZ",
        "colab": {}
      },
      "source": [
        "startanchors = pd.DataFrame()\n",
        "startanchors = pd.DataFrame(DataSetDF, columns=['DataSet', 'SheetName', 'ReferenceTextStart'])\n",
        "startanchors = startanchors.rename(columns={\"ReferenceTextStart\": \"CellValue\"})\n",
        "startanchors = startanchors.drop_duplicates()\n",
        "startanchors.head()\n"
      ],
      "execution_count": 0,
      "outputs": []
    },
    {
      "cell_type": "markdown",
      "metadata": {
        "colab_type": "text",
        "id": "2sZQyqiuhDZc"
      },
      "source": [
        "# Get All End Anchor Cells"
      ]
    },
    {
      "cell_type": "markdown",
      "metadata": {
        "colab_type": "text",
        "id": "EEcTX6mKN6eA"
      },
      "source": [
        "End anchors are where a dataset finishes. Probably at the next Start Anchor.\n",
        "This does mean that blank rows are validated and one needs to filter these out later. "
      ]
    },
    {
      "cell_type": "code",
      "metadata": {
        "colab_type": "code",
        "id": "YcNpmVwGDvEm",
        "colab": {}
      },
      "source": [
        "endanchors = pd.DataFrame()\n",
        "endanchors = pd.DataFrame(DataSetDF, columns=['DataSet', 'SheetName', 'ReferenceTextEnd'])\n",
        "endanchors = endanchors.rename(columns={\"ReferenceTextEnd\": \"CellValue\"})\n",
        "endanchors = endanchors.drop_duplicates()\n",
        "endanchors.head()"
      ],
      "execution_count": 0,
      "outputs": []
    },
    {
      "cell_type": "markdown",
      "metadata": {
        "colab_type": "text",
        "id": "0if3QQALhaOq"
      },
      "source": [
        "# Find Start Anchors"
      ]
    },
    {
      "cell_type": "markdown",
      "metadata": {
        "colab_type": "text",
        "id": "tkT3RUFuOVh-"
      },
      "source": [
        "Now we look for the start and finish anchor cells for each dataset."
      ]
    },
    {
      "cell_type": "code",
      "metadata": {
        "colab_type": "code",
        "id": "_ZhaXHgY9732",
        "colab": {}
      },
      "source": [
        "findstartanchors = pd.DataFrame()\n",
        "findstartanchors = pd.merge(startanchors, fullcelldfstage, on=['SheetName', 'CellValue'])\n",
        "findstartanchors = findstartanchors.rename(columns={\"RowID\": \"AnchorRow\", \"ColumnID\": \"AnchorColumn\"})\n",
        "findstartanchors = pd.DataFrame(findstartanchors, columns=['DataSet', 'SheetName', 'AnchorRow', 'AnchorColumn'])\n",
        "findstartanchors.head()"
      ],
      "execution_count": 0,
      "outputs": []
    },
    {
      "cell_type": "markdown",
      "metadata": {
        "colab_type": "text",
        "id": "gyZbtquUhhvL"
      },
      "source": [
        "# Find End Anchors"
      ]
    },
    {
      "cell_type": "markdown",
      "metadata": {
        "colab_type": "text",
        "id": "-FAdPT1ZO2lC"
      },
      "source": [
        "Some datasets have no finish anchors as they are the last table in the sheet."
      ]
    },
    {
      "cell_type": "code",
      "metadata": {
        "colab_type": "code",
        "id": "PhHBF2ChEC0f",
        "colab": {}
      },
      "source": [
        "findendanchors = pd.DataFrame()\n",
        "findendanchors = pd.merge(endanchors, fullcelldfstage, on=['SheetName', 'CellValue'])\n",
        "findendanchors = findendanchors.rename(columns={\"RowID\": \"EndRow\"})\n",
        "findendanchors = findendanchors[findendanchors.CellValue.notnull()]\n",
        "findendanchors = pd.DataFrame(findendanchors, columns=['DataSet', 'SheetName', 'EndRow'])\n",
        "findendanchors.head()\n"
      ],
      "execution_count": 0,
      "outputs": []
    },
    {
      "cell_type": "markdown",
      "metadata": {
        "colab_type": "text",
        "id": "8mbxThrshpF1"
      },
      "source": [
        "# Join Anchors Together"
      ]
    },
    {
      "cell_type": "markdown",
      "metadata": {
        "colab_type": "text",
        "id": "eqq-eNb4PDY2"
      },
      "source": [
        "Join the anchors to allow them to be joined with the data table\n",
        "As stated above, some DataSets have NaN as the EndRow as there is no further data in the sheet"
      ]
    },
    {
      "cell_type": "code",
      "metadata": {
        "colab_type": "code",
        "id": "6E8J3-NIEFx1",
        "colab": {}
      },
      "source": [
        "anchors = pd.DataFrame()\n",
        "anchors = pd.merge(findstartanchors, findendanchors, on=['DataSet', 'SheetName'], how='left')\n",
        "anchors.head()"
      ],
      "execution_count": 0,
      "outputs": []
    },
    {
      "cell_type": "markdown",
      "metadata": {
        "colab_type": "text",
        "id": "caBieiT0hzvd"
      },
      "source": [
        "# Using Anchors and Dataset Create Map to Find Data"
      ]
    },
    {
      "cell_type": "markdown",
      "metadata": {
        "colab_type": "text",
        "id": "kzxw4ev-Pu3m"
      },
      "source": [
        "The DataSet defines where the DataSets can be found from the Start Anchor Cells\n",
        "The following joins the found cells with the DataSet map."
      ]
    },
    {
      "cell_type": "code",
      "metadata": {
        "colab_type": "code",
        "id": "VuxWXfJWEW3p",
        "colab": {}
      },
      "source": [
        "datasetmap = pd.DataFrame()\n",
        "datasetmap = pd.merge(DataSetDF, anchors, on=['DataSet', 'SheetName'], how='left')\n",
        "datasetmap = pd.DataFrame(datasetmap,\n",
        "                          columns=['DataSet', 'SheetName', 'FieldID',\n",
        "                                   'AnchorRow', 'AnchorColumn','EndRow',\n",
        "                                   'RowFromReferenceText',\n",
        "                                   'ColumnFromReferenceText','FieldPosition'])\n"
      ],
      "execution_count": 0,
      "outputs": []
    },
    {
      "cell_type": "markdown",
      "metadata": {
        "colab_type": "text",
        "id": "xZ8OPn7hiN9u"
      },
      "source": [
        "## Show Dataset Map"
      ]
    },
    {
      "cell_type": "code",
      "metadata": {
        "colab_type": "code",
        "id": "2naN6CoOiLaS",
        "colab": {}
      },
      "source": [
        "datasetmap.head()"
      ],
      "execution_count": 0,
      "outputs": []
    },
    {
      "cell_type": "markdown",
      "metadata": {
        "colab_type": "text",
        "id": "Hbu2bb7Did9L"
      },
      "source": [
        "# Find where Data Starts and what Columns Fields are In"
      ]
    },
    {
      "cell_type": "markdown",
      "metadata": {
        "colab_type": "text",
        "id": "vnrMNep_QL42"
      },
      "source": [
        "One needs to now calculate the actual rows and columns of where the DataSet is.\n",
        "The above table is relative to the Anchor Cells"
      ]
    },
    {
      "cell_type": "code",
      "metadata": {
        "colab_type": "code",
        "id": "lRIxlGL_-Dmj",
        "colab": {}
      },
      "source": [
        "datasetmap['StartRow'] = datasetmap['AnchorRow'] + datasetmap['RowFromReferenceText']\n",
        "datasetmap['FieldColumn'] = datasetmap['AnchorColumn'] + datasetmap['ColumnFromReferenceText']\n",
        "dataset = pd.DataFrame()\n",
        "dataset = pd.merge(fullcelldfstage, datasetmap, on=['SheetName'], how='left')\n",
        "## the above may seem a cartesian join and may need to be looked at if this slows the process down"
      ],
      "execution_count": 0,
      "outputs": []
    },
    {
      "cell_type": "markdown",
      "metadata": {
        "colab_type": "text",
        "id": "QmkyP0boiu0Q"
      },
      "source": [
        "# Filter Out Data after End Anchor Row"
      ]
    },
    {
      "cell_type": "code",
      "metadata": {
        "colab_type": "code",
        "id": "LGngEEjLQewC",
        "colab": {}
      },
      "source": [
        "dataset = dataset[(dataset.RowID >= dataset.StartRow) &\n",
        "(dataset.ColumnID == dataset.FieldColumn) &\n",
        "((dataset.RowID < dataset.EndRow) | pd.isnull(dataset.EndRow))]\n",
        "# the | above is an OR as if there is no EndRow for the dataset you want to\n",
        "# allow the data through"
      ],
      "execution_count": 0,
      "outputs": []
    },
    {
      "cell_type": "code",
      "metadata": {
        "colab_type": "code",
        "id": "gDXO67NGrRHe",
        "colab": {}
      },
      "source": [
        "palette.head(5)"
      ],
      "execution_count": 0,
      "outputs": []
    },
    {
      "cell_type": "markdown",
      "metadata": {
        "colab_type": "text",
        "id": "xKOG9aHgi8Pj"
      },
      "source": [
        "# Create a CellValue as Number for use in Formulae"
      ]
    },
    {
      "cell_type": "code",
      "metadata": {
        "colab_type": "code",
        "id": "PPgn6jcNEu_I",
        "colab": {}
      },
      "source": [
        "dataset = pd.DataFrame(dataset,columns=['DataSet', 'SheetName', 'FieldID', 'RowID', 'ColumnID','CellValue', 'CellType'])\n",
        "dataset['CellValueAsNumber'] = pd.to_numeric(dataset['CellValue'], errors='coerce')\n",
        "dataset.head(5)"
      ],
      "execution_count": 0,
      "outputs": []
    },
    {
      "cell_type": "markdown",
      "metadata": {
        "colab_type": "text",
        "id": "6aBvm7yzjNqw"
      },
      "source": [
        "# Create a List of Checks to do"
      ]
    },
    {
      "cell_type": "code",
      "metadata": {
        "colab_type": "code",
        "id": "wFszD5cR8H_7",
        "scrolled": false,
        "colab": {}
      },
      "source": [
        "todolist = pd.DataFrame()\n",
        "todolist = pd.merge(dataset, palette, on=['DataSet', 'FieldID'])\n",
        "todolist.head(5)"
      ],
      "execution_count": 0,
      "outputs": []
    },
    {
      "cell_type": "markdown",
      "metadata": {
        "colab_type": "text",
        "id": "wR-RHXokjaoG"
      },
      "source": [
        "# Create a List of distinct formula to apply"
      ]
    },
    {
      "cell_type": "code",
      "metadata": {
        "colab_type": "code",
        "id": "4mxczy-qINQv",
        "colab": {}
      },
      "source": [
        "formulas = pd.DataFrame()\n",
        "formulas = pd.DataFrame(todolist, columns=['KeyWord','PythonFormula'])\n",
        "formulas = formulas.drop_duplicates()\n",
        "formulas.head(10)"
      ],
      "execution_count": 0,
      "outputs": []
    },
    {
      "cell_type": "markdown",
      "metadata": {
        "colab_type": "text",
        "id": "AWxtq24ijmSo"
      },
      "source": [
        "# Prepare Results Table"
      ]
    },
    {
      "cell_type": "code",
      "metadata": {
        "colab_type": "code",
        "id": "enT7iwuL8Y6l",
        "colab": {}
      },
      "source": [
        "global bigresults\n",
        "littletodolist = pd.DataFrame()\n",
        "littletodolistworking = pd.DataFrame()\n",
        "bigresults = pd.DataFrame()\n"
      ],
      "execution_count": 0,
      "outputs": []
    },
    {
      "cell_type": "code",
      "metadata": {
        "colab_type": "code",
        "id": "ovWR4reTJYbB",
        "colab": {}
      },
      "source": [
        "# this was an important test as if you do not have copy you get an error as it believes\n",
        "# you are trying to change a view\n",
        "#littletodolist = todolist[(todolist.KeyWord == 'PickList')].copy()\n",
        "#littletodolist.head(100)\n",
        "#filterdf = pd.DataFrame()\n",
        "#filterdf = todolist[(todolist.KeyWord == 'PickList')].copy()\n",
        "#filterdf.head()"
      ],
      "execution_count": 0,
      "outputs": []
    },
    {
      "cell_type": "code",
      "metadata": {
        "colab_type": "code",
        "id": "W2Viik1bKFx2",
        "colab": {}
      },
      "source": [
        "# littletodolist.loc[littletodolist.KeyWord == 'Text', 'Result'] = np.where(littletodolist['CellType'] == 'Text', 1, 0)"
      ],
      "execution_count": 0,
      "outputs": []
    },
    {
      "cell_type": "markdown",
      "metadata": {
        "colab_type": "text",
        "id": "lmplCWV-kH6H"
      },
      "source": [
        "# Loop through each Formula and apply to the To Do List"
      ]
    },
    {
      "cell_type": "code",
      "metadata": {
        "id": "f8L4NV-9P-2w",
        "colab_type": "code",
        "colab": {}
      },
      "source": [
        "todolist = todolist.rename(columns={'CellValue_x': 'CellValue'})\n",
        "##todolist.columns"
      ],
      "execution_count": 0,
      "outputs": []
    },
    {
      "cell_type": "code",
      "metadata": {
        "colab_type": "code",
        "id": "1qIWlNZUFDBP",
        "colab": {}
      },
      "source": [
        "for index, row in formulas.iterrows():\n",
        "  # print(row['KeyWord'],row['PythonFormula'])\n",
        "\n",
        "  pf = row['PythonFormula']\n",
        "  kw = row['KeyWord']\n",
        " \n",
        "  try:\n",
        "      pf1 = pf.replace(\"dataset\", \"littletodolist\")\n",
        "  except:\n",
        "      pf1 = \"1\"\n",
        "  littletodolist = todolist[(todolist.KeyWord == kw)].copy()\n",
        "  formula2do = \"littletodolist['Result'] = \" + pf1\n",
        "  print(kw)\n",
        "  print(formula2do)\n",
        "  exec(formula2do)\n",
        "  ##print(littletodolist)\n",
        "  ##try:\n",
        "  ##bigresults = pd.concat([bigresults, littletodolist], ignore_index=True).drop_duplicates().reset_index(drop=True)\n",
        "  bigresults = pd.concat([bigresults, littletodolist]) ##, ignore_index=True).drop_duplicates().reset_index(drop=True)\n",
        "  ##except:\n",
        "  #  bigresults = bigresults"
      ],
      "execution_count": 0,
      "outputs": []
    },
    {
      "cell_type": "code",
      "metadata": {
        "id": "JuZ4_YEMP-24",
        "colab_type": "code",
        "colab": {}
      },
      "source": [
        "littletodolist['Result'] = np.where(littletodolist['CellType'] == 'Text', 1, 0)"
      ],
      "execution_count": 0,
      "outputs": []
    },
    {
      "cell_type": "markdown",
      "metadata": {
        "colab_type": "text",
        "id": "5ZW7-6-vkaXi"
      },
      "source": [
        "# Add a sequence to the Results for use in Reporting"
      ]
    },
    {
      "cell_type": "code",
      "metadata": {
        "colab_type": "code",
        "id": "-aG5EY7ygGeG",
        "colab": {}
      },
      "source": [
        "bigresults['ResultID'] = bigresults.index"
      ],
      "execution_count": 0,
      "outputs": []
    },
    {
      "cell_type": "code",
      "metadata": {
        "colab_type": "code",
        "id": "q4WPoT2MY7jP",
        "colab": {}
      },
      "source": [
        "bigresults.head(5)"
      ],
      "execution_count": 0,
      "outputs": []
    },
    {
      "cell_type": "markdown",
      "metadata": {
        "colab_type": "text",
        "id": "kbW0Ez8Ekme7"
      },
      "source": [
        "# Narrow down Results to useful columnns"
      ]
    },
    {
      "cell_type": "code",
      "metadata": {
        "colab_type": "code",
        "id": "11nWw0D2ZPHE",
        "colab": {}
      },
      "source": [
        "usefulresults = pd.DataFrame()\n",
        "usefulresults = pd.DataFrame(bigresults, columns=['DataSet','FieldID','RowID','ColumnID','CellValue','CellType','CheckPerformed', 'Result'])\n",
        "usefulresults.head()"
      ],
      "execution_count": 0,
      "outputs": []
    },
    {
      "cell_type": "markdown",
      "metadata": {
        "colab_type": "text",
        "id": "fo-KMY41k1sc"
      },
      "source": [
        "# Summarise Results"
      ]
    },
    {
      "cell_type": "code",
      "metadata": {
        "colab_type": "code",
        "id": "M64p5-e9acRg",
        "colab": {}
      },
      "source": [
        "resultssummary = pd.DataFrame()\n",
        "# index = pd.MultiIndex.from_arrays(arrays, names=['first', 'second'])\n",
        "# resultssummary.head()\n",
        "\n",
        "resultssummary = bigresults[['DataSet','FieldID','CheckPerformed', 'Result', 'ResultID']].groupby(['DataSet', 'FieldID', 'CheckPerformed']).agg(['count'])\n",
        "resultssummary.head(5)"
      ],
      "execution_count": 0,
      "outputs": []
    },
    {
      "cell_type": "markdown",
      "metadata": {
        "colab_type": "text",
        "id": "OL-ZYUKOk_cL"
      },
      "source": [
        "# Pivot Results"
      ]
    },
    {
      "cell_type": "code",
      "metadata": {
        "colab_type": "code",
        "id": "9Fdea1NEhYZD",
        "colab": {}
      },
      "source": [
        "# rownamearray = pd.array(['DataSet','FieldID'], dtype=str)\n",
        "# newct = pd.crosstab(bigresults.DataSet,bigresults.FieldID,bigresults.CheckPerformed,bigresults.Result,rownames=rownamearray, colnames=['Result'])\n",
        "\n",
        "newct = bigresults.pivot_table(index = ['DataSet','FieldID','CheckPerformed'], values = 'ResultID',columns = 'Result', aggfunc = 'count')\n",
        "newct.head()"
      ],
      "execution_count": 0,
      "outputs": []
    },
    {
      "cell_type": "markdown",
      "metadata": {
        "colab_type": "text",
        "id": "XFE1o7UrlFt1"
      },
      "source": [
        "# Plot Stack Bar"
      ]
    },
    {
      "cell_type": "markdown",
      "metadata": {
        "colab_type": "text",
        "id": "uG7YNRpnoOd9"
      },
      "source": [
        "## Show Stack"
      ]
    },
    {
      "cell_type": "code",
      "metadata": {
        "colab_type": "code",
        "id": "CzE4y5f5n_b4",
        "colab": {}
      },
      "source": [
        "newct.plot(kind='barh', stacked=True)"
      ],
      "execution_count": 0,
      "outputs": []
    },
    {
      "cell_type": "markdown",
      "metadata": {
        "colab_type": "text",
        "id": "wGi1BW3WJ7Rr"
      },
      "source": [
        ""
      ]
    },
    {
      "cell_type": "markdown",
      "metadata": {
        "colab_type": "text",
        "id": "fDyvSHkTJ2CZ"
      },
      "source": [
        ""
      ]
    }
  ]
}