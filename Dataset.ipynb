{
 "cells": [
  {
   "cell_type": "code",
   "execution_count": 9,
   "id": "otherwise-cannon",
   "metadata": {},
   "outputs": [],
   "source": [
    "import pandas as pd\n",
    "import numpy as np"
   ]
  },
  {
   "cell_type": "code",
   "execution_count": 10,
   "id": "wireless-zambia",
   "metadata": {},
   "outputs": [
    {
     "name": "stdout",
     "output_type": "stream",
     "text": [
      "/home/jupyterlab/pipeline-202102\n"
     ]
    }
   ],
   "source": [
    "import os\n",
    "dirname = os.getcwd()\n",
    "print(dirname)"
   ]
  },
  {
   "cell_type": "code",
   "execution_count": 11,
   "id": "suspected-notebook",
   "metadata": {},
   "outputs": [],
   "source": [
    "os.environ['MPLCONFIGDIR'] = dirname\n",
    "import matplotlib"
   ]
  },
  {
   "cell_type": "code",
   "execution_count": 12,
   "id": "according-sherman",
   "metadata": {},
   "outputs": [],
   "source": [
    "import xlsxwriter\n",
    "import xlrd"
   ]
  },
  {
   "cell_type": "code",
   "execution_count": 13,
   "id": "pressed-cookie",
   "metadata": {},
   "outputs": [
    {
     "name": "stdout",
     "output_type": "stream",
     "text": [
      "2021-02-08T14:11:23.833062\n"
     ]
    }
   ],
   "source": [
    "from datetime import datetime\n",
    "my_date = datetime.now()\n",
    "print(my_date.isoformat())"
   ]
  },
  {
   "cell_type": "code",
   "execution_count": 14,
   "id": "loved-trailer",
   "metadata": {},
   "outputs": [
    {
     "name": "stdout",
     "output_type": "stream",
     "text": [
      "2021-02-08T14:11:23.833062\n"
     ]
    }
   ],
   "source": [
    "print(my_date.strftime('%Y-%m-%dT%H:%M:%S.%f%z'))"
   ]
  },
  {
   "cell_type": "code",
   "execution_count": 15,
   "id": "ultimate-politics",
   "metadata": {},
   "outputs": [
    {
     "data": {
      "text/plain": [
       "'R20210208141123833062'"
      ]
     },
     "execution_count": 15,
     "metadata": {},
     "output_type": "execute_result"
    }
   ],
   "source": [
    "runid = \"R\" + my_date.strftime('%Y%m%d%H%M%S%f%z')\n",
    "runid"
   ]
  },
  {
   "cell_type": "code",
   "execution_count": 16,
   "id": "exotic-seattle",
   "metadata": {},
   "outputs": [],
   "source": [
    "filename = dirname + '/Data.xlsx'\n",
    "filedf = pd.read_excel(filename,engine='openpyxl', sheet_name=None, header=None)"
   ]
  },
  {
   "cell_type": "code",
   "execution_count": 17,
   "id": "spatial-person",
   "metadata": {},
   "outputs": [],
   "source": [
    "sheetnames = list(filedf.keys())"
   ]
  },
  {
   "cell_type": "code",
   "execution_count": 18,
   "id": "flying-korea",
   "metadata": {},
   "outputs": [],
   "source": [
    "def validate_date(date_text):\n",
    "    try:\n",
    "        format_string = '%Y-%m-%d %H:%M:%S'\n",
    "        datetime.strptime(date_text, format_string)\n",
    "        return \"OK\"\n",
    "    except ValueError:\n",
    "        return None\n",
    "\n",
    "def GetDataType(row_in):\n",
    "    valueasstring = str(row_in['CellValue'])\n",
    "    if validate_date(valueasstring) != None:\n",
    "        return 'Date'\n",
    "    elif valueasstring.isnumeric():\n",
    "        return 'Number'\n",
    "    else:\n",
    "        return 'Text'\n",
    "\n",
    "def add1_2row(row_in):\n",
    "    return row_in['RowID'] + 1\n",
    "\n",
    "\n",
    "def add1_2column(row_in):\n",
    "    return row_in['ColumnID'] + 1"
   ]
  },
  {
   "cell_type": "code",
   "execution_count": 19,
   "id": "criminal-winner",
   "metadata": {},
   "outputs": [],
   "source": [
    "celldbstagedf = pd.DataFrame()\n",
    "sheetdf = filedf['DataMap'].copy()\n",
    "sheetdf[\"RowID\"] = sheetdf.index\n",
    "#sheetdf"
   ]
  },
  {
   "cell_type": "code",
   "execution_count": 20,
   "id": "featured-jenny",
   "metadata": {},
   "outputs": [],
   "source": [
    "for currentsheetname in sheetnames:\n",
    "\n",
    "    sheetdf = filedf[currentsheetname].copy()\n",
    "    sheetdf[\"RowID\"] = sheetdf.index\n",
    "    celldb = pd.melt(sheetdf, id_vars=['RowID'])\n",
    "    celldb = celldb.rename(columns={\"variable\": \"ColumnID\", \"value\": \"CellValue\"})\n",
    "    celldb[\"CellType\"] = \"Unset\"\n",
    "    celldb[\"FileName\"] = runid\n",
    "    celldb[\"SheetName\"] = currentsheetname\n",
    "    \n",
    "    celldb[\"ColumnID\"] = celldb[\"ColumnID\"]\n",
    "\n",
    "    try:\n",
    "        celldb[\"CellType\"] = celldb.apply(GetDataType, axis=1)\n",
    "        celldb[\"RowID\"] = celldb.apply(add1_2row, axis=1)\n",
    "        celldb[\"ColumnID\"] = celldb.apply(add1_2column, axis=1)\n",
    "\n",
    "    except:\n",
    "\n",
    "        celldb[\"CellType\"] = 'unknown'\n",
    "        celldb[\"RowID\"] = 0\n",
    "        celldb[\"ColumnID\"] = 0\n",
    "\n",
    "    celldbstagedf = celldbstagedf.append(celldb, ignore_index=True)\n",
    "\n",
    "    celldb = pd.DataFrame()\n",
    "\n"
   ]
  },
  {
   "cell_type": "code",
   "execution_count": null,
   "id": "generous-mailing",
   "metadata": {},
   "outputs": [],
   "source": [
    "fullcelldb = celldbstagedf.copy()"
   ]
  },
  {
   "cell_type": "code",
   "execution_count": null,
   "id": "tracked-latin",
   "metadata": {},
   "outputs": [],
   "source": [
    "Cells = pd.DataFrame()\n",
    "Cells = fullcelldb[(fullcelldb['SheetName'] == 'UniclassComplexCode')].copy()\n",
    "Cells.head()"
   ]
  },
  {
   "cell_type": "code",
   "execution_count": null,
   "id": "egyptian-oklahoma",
   "metadata": {},
   "outputs": [],
   "source": [
    "##Below extracts a Sheet from the cell database and reshapes it to it original tabular form.\n",
    "Table = pd.DataFrame()\n",
    "Table = Cells.pivot_table(index = ['RowID'], values = 'CellValue',columns = 'ColumnID', aggfunc = 'max')\n",
    "Headings = Table.iloc[0]\n",
    "HeadingsList = list(Headings)\n",
    "print(HeadingsList)"
   ]
  },
  {
   "cell_type": "code",
   "execution_count": null,
   "id": "unauthorized-separate",
   "metadata": {},
   "outputs": [],
   "source": [
    "HeadingsListTuple = enumerate(HeadingsList,start=1)\n",
    "HeadingsListDict = dict(HeadingsListTuple)\n",
    "print(HeadingsListDict)\n",
    "Table = Table.rename(columns=HeadingsListDict)\n",
    "Table = Table.drop([1])\n",
    "Table.head()"
   ]
  },
  {
   "cell_type": "code",
   "execution_count": null,
   "id": "brown-alert",
   "metadata": {},
   "outputs": [],
   "source": []
  },
  {
   "cell_type": "code",
   "execution_count": null,
   "id": "natural-speech",
   "metadata": {},
   "outputs": [],
   "source": []
  },
  {
   "cell_type": "code",
   "execution_count": null,
   "id": "young-sucking",
   "metadata": {},
   "outputs": [],
   "source": []
  },
  {
   "cell_type": "markdown",
   "id": "insured-development",
   "metadata": {},
   "source": [
    "SELECT\n",
    "@DataSubmissionRunID = [SubmissionRunID]\n",
    ",@DataDrive = [Folder1]\n",
    ",@DataEnvironment = [Folder2]\n",
    ",@DataConveyorStage = [Folder3]\n",
    ",@DataSubject= [Folder4]\n",
    ",@DataContract = [Folder5]\n",
    ",@DataDate = [Folder6]\n",
    ",@DataPMU = [Folder7]\n",
    ",@DataFolder8 = [Folder8]\n",
    ",@DataFolder9 = [Folder9]\n",
    ",@DataFolder10 = [Folder10]\n",
    ",@dag  = [Folder7]\n",
    "FROM [Process].[Files] where [SubmissionRunID] = @SubRunID; -- and Folder7 = @dag"
   ]
  },
  {
   "cell_type": "markdown",
   "id": "worldwide-controversy",
   "metadata": {},
   "source": []
  },
  {
   "cell_type": "code",
   "execution_count": null,
   "id": "spectacular-faith",
   "metadata": {},
   "outputs": [],
   "source": [
    "select SheetName,CellType,try_cast(ColumnID as Integer) as ColumnID,Try_cast([RowID] as Integer) as RowID,\n",
    "cast(CellValue as varchar(max)) as CellValue into Working.DataCellData \n",
    "from [Data].[Cells]\n",
    "where [SubmissionRunID] = @SubRunID;"
   ]
  },
  {
   "cell_type": "code",
   "execution_count": null,
   "id": "systematic-shaft",
   "metadata": {},
   "outputs": [],
   "source": [
    "select [SubmissionRunID],[Folder8],[FileName] into Working.SpecList\n",
    "from\n",
    "(select\n",
    "[SubmissionRunID],\n",
    "[Folder6],\n",
    "[Folder8],\n",
    "[FileName],\n",
    "max(Folder8) over (Partition by [FileName]) LatestVersion\n",
    "from [Process].[Files]\n",
    "where Folder4 = '100_ReferenceData' and Folder6 = @DataPMU) g\n",
    "where [Folder8] = LatestVersion;"
   ]
  },
  {
   "cell_type": "code",
   "execution_count": null,
   "id": "environmental-program",
   "metadata": {},
   "outputs": [],
   "source": [
    "select  @DataSpecRunID = [SubmissionRunID] from Working.SpecList where [FileName] = 'DataSpec.xlsx';\n",
    "select  @DataMapRunID = [SubmissionRunID] from Working.SpecList where [FileName] = 'DataMap.xlsx';\n",
    "\n",
    "select\n",
    "SheetName,try_cast(ColumnID as Integer) as ColumnID,Try_cast([RowID] as Integer) as RowID,\n",
    "cast(CellValue as varchar(max)) as CellValue\n",
    "into Working.DataSpecCells \n",
    "from [Data].[Cells]\n",
    "where [SubmissionRunID] = @DataSpecRunID;\n"
   ]
  },
  {
   "cell_type": "code",
   "execution_count": null,
   "id": "precious-suggestion",
   "metadata": {},
   "outputs": [],
   "source": [
    "select * into Working.DataSetCells from Working.DataSpecCells where SheetName = 'DataSet' and RowID > 1;\n",
    "select * into Working.DataSetColumns from Working.DataSpecCells where SheetName = 'DataSet' and RowID = 1;\n",
    "select cel.*, col.CellValue as FieldName into Working.DataSetDataSet from Working.DataSetCells cel, Working.DataSetColumns col where cel.ColumnID = col.ColumnID;"
   ]
  },
  {
   "cell_type": "code",
   "execution_count": null,
   "id": "fifth-chase",
   "metadata": {},
   "outputs": [],
   "source": [
    "\n",
    "\n",
    "DROP TABLE IF EXISTS Working.fieldnames; \n",
    "\n",
    "select FieldName into Working.fieldnames from Working.DataSetDataSet;\n",
    "\n",
    "set  @fieldnameslist = NULL\n",
    "\n",
    "SELECT @fieldnameslist = ISNULL(@fieldnameslist + ',','') + QUOTENAME(FieldName)\n",
    "FROM (SELECT DISTINCT FieldName FROM Working.fieldnames) AS FieldName;"
   ]
  },
  {
   "cell_type": "code",
   "execution_count": null,
   "id": "limited-message",
   "metadata": {},
   "outputs": [],
   "source": [
    "DROP TABLE if exists Working.celldata; \n",
    "DROP TABLE if exists Working.pivoteddata;\n",
    "\n",
    "select * into Working.celldata from Working.DataSetDataSet;"
   ]
  },
  {
   "cell_type": "code",
   "execution_count": null,
   "id": "medium-membrane",
   "metadata": {},
   "outputs": [],
   "source": [
    "\n",
    "\n",
    "------- Do Pivot ----------\n",
    "\n",
    "--Prepare the PIVOT query using the dynamic \n",
    "SET @DynamicPivotQuery = \n",
    "N'select * into Working.pivoteddata from (select RowID,FieldName,CellValue from Working.celldata) src\n",
    "PIVOT(max(CellValue) for FieldName in ('+@fieldnameslist+')) piv;';\n",
    "--Execute the Dynamic Pivot Query\n",
    "\n",
    "--select @DynamicPivotQuery;\n",
    "\n",
    "EXEC sp_executesql @DynamicPivotQuery;"
   ]
  },
  {
   "cell_type": "code",
   "execution_count": null,
   "id": "egyptian-wallace",
   "metadata": {},
   "outputs": [],
   "source": [
    "\n",
    "---- Populate Pivoted Table\n",
    "\n",
    "DROP TABLE IF EXISTS Working.DataSetTable; \n",
    "\n",
    "select * into Working.DataSetTable from Working.pivoteddata where [DataSetID] = @Dataset_in;\n",
    "\n",
    "DROP TABLE IF EXISTS Working.pivoteddata;\n",
    "\n",
    "-----------------------"
   ]
  },
  {
   "cell_type": "code",
   "execution_count": null,
   "id": "technical-ambassador",
   "metadata": {},
   "outputs": [],
   "source": [
    "select distinct @ReferenceSheetName = SheetName, @ReferenceTextStart = ReferenceTextStart from working.DataSetTable;\n",
    "\n",
    "select @AnchorColumn = ColumnID, @AnchorRow = RowID from working.DataCellData\n",
    "where\n",
    "SheetName = @ReferenceSheetName and CellValue = @ReferenceTextStart;\n"
   ]
  },
  {
   "cell_type": "code",
   "execution_count": null,
   "id": "handed-former",
   "metadata": {},
   "outputs": [],
   "source": [
    "------  data map ---------\n",
    "\n",
    "select SheetName,try_cast(ColumnID as Integer) as ColumnID,Try_cast([RowID] as Integer) as RowID, cast(CellValue as varchar(max)) as CellValue\n",
    "into Working.DataMapCells \n",
    "from [Data].[Cells]\n",
    "where [SubmissionRunID] = @DataMapRunID and SheetName = 'DataMap' and RowID > 1;\n",
    "\n",
    "select SheetName,try_cast(ColumnID as Integer) as ColumnID,Try_cast([RowID] as Integer) as RowID, cast(CellValue as varchar(max)) as CellValue\n",
    "into Working.DataMapColumns \n",
    "from [Data].[Cells]\n",
    "where [SubmissionRunID] = @DataMapRunID and SheetName = 'DataMap' and RowID = 1;\n",
    "\n",
    "select cel.*, col.CellValue as FieldName into Working.DataMapDataSet from Working.DataMapCells cel, Working.DataMapColumns col where cel.ColumnID = col.ColumnID;\n"
   ]
  },
  {
   "cell_type": "code",
   "execution_count": null,
   "id": "authorized-nirvana",
   "metadata": {},
   "outputs": [],
   "source": [
    "\n",
    "---------------------\n",
    "\n",
    "DROP TABLE IF EXISTS Working.fieldnames; \n",
    "\n",
    "select FieldName into Working.fieldnames from Working.DataMapDataSet;\n",
    "\n",
    "set  @fieldnameslist = NULL\n",
    "\n",
    "SELECT @fieldnameslist = ISNULL(@fieldnameslist + ',','') + QUOTENAME(FieldName)\n",
    "FROM (SELECT DISTINCT FieldName FROM Working.fieldnames) AS FieldName;\n"
   ]
  },
  {
   "cell_type": "code",
   "execution_count": null,
   "id": "traditional-skirt",
   "metadata": {},
   "outputs": [],
   "source": [
    "DROP TABLE if exists Working.celldata; \n",
    "DROP TABLE if exists Working.pivoteddata;\n",
    "\n",
    "select * into Working.celldata from Working.DataMapDataSet;"
   ]
  },
  {
   "cell_type": "code",
   "execution_count": null,
   "id": "heavy-kuwait",
   "metadata": {},
   "outputs": [],
   "source": [
    "\n",
    "------- Do Pivot ----------\n",
    "\n",
    "--Prepare the PIVOT query using the dynamic \n",
    "SET @DynamicPivotQuery = \n",
    "N'select * into Working.pivoteddata from (select RowID,FieldName,CellValue from Working.celldata) src\n",
    "PIVOT(max(CellValue) for FieldName in ('+@fieldnameslist+')) piv;';\n",
    "--Execute the Dynamic Pivot Query\n",
    "\n",
    "--select @DynamicPivotQuery;\n",
    "\n",
    "EXEC sp_executesql @DynamicPivotQuery;\n",
    "\n",
    "---- Populate Pivoted Table\n",
    "\n",
    "DROP TABLE IF EXISTS Working.DataMapTable; \n",
    "\n",
    "select * into Working.DataMapTable from Working.pivoteddata  where [DataSetID] = @Dataset_in;\n",
    "\n",
    "DROP TABLE IF EXISTS Working.pivoteddata;\n",
    "\n",
    "--select FieldID, ColumnName, ColumnType from Working.DataMapTable\n",
    "\n",
    "commit transaction;"
   ]
  },
  {
   "cell_type": "code",
   "execution_count": null,
   "id": "saved-medline",
   "metadata": {},
   "outputs": [],
   "source": [
    "------  data meta data ---------\n",
    "begin transaction;\n",
    "\n",
    "DROP TABLE if exists Working.MetaDataColumns;\n",
    "DROP TABLE if exists Working.MetaDataCells;\n",
    "DROP TABLE if exists Working.MetaDataDataSet;\n",
    "DROP TABLE if exists Working.MetaDataTable;\n",
    "\n",
    "select SheetName,try_cast(ColumnID as Integer) as ColumnID,Try_cast([RowID] as Integer) as RowID, cast(CellValue as varchar(max)) as CellValue\n",
    "into Working.MetaDataCells \n",
    "from [Data].[Cells]\n",
    "where [SubmissionRunID] = @DataMapRunID and SheetName = 'MetaData' and RowID > 1;\n",
    "\n",
    "select SheetName,try_cast(ColumnID as Integer) as ColumnID,Try_cast([RowID] as Integer) as RowID, cast(CellValue as varchar(max)) as CellValue\n",
    "into Working.MetaDataColumns \n",
    "from [Data].[Cells]\n",
    "where [SubmissionRunID] = @DataMapRunID and SheetName = 'MetaData' and RowID = 1;\n",
    "\n",
    "select cel.*, col.CellValue as FieldName into Working.MetaDataDataSet from Working.MetaDataCells cel, Working.MetaDataColumns col where cel.ColumnID = col.ColumnID;\n",
    "\n"
   ]
  },
  {
   "cell_type": "code",
   "execution_count": null,
   "id": "weekly-province",
   "metadata": {},
   "outputs": [],
   "source": [
    "--------------------\n",
    "\n",
    "DROP TABLE IF EXISTS Working.fieldnames; \n",
    "\n",
    "select FieldName into Working.fieldnames from Working.MetaDataDataSet;\n",
    "\n",
    "set  @fieldnameslist = NULL\n",
    "\n",
    "SELECT @fieldnameslist = ISNULL(@fieldnameslist + ',','') + QUOTENAME(FieldName)\n",
    "FROM (SELECT DISTINCT FieldName FROM Working.fieldnames) AS FieldName;\n",
    "\n",
    "DROP TABLE if exists Working.celldata; \n",
    "DROP TABLE if exists Working.pivoteddata;\n",
    "\n",
    "--select 'DataSetDataSet';\n",
    "\n",
    "--select * from Working.DataSetDataSet;\n",
    "\n",
    "\n",
    "select * into Working.celldata from Working.MetaDataDataSet;"
   ]
  },
  {
   "cell_type": "code",
   "execution_count": null,
   "id": "needed-demand",
   "metadata": {},
   "outputs": [],
   "source": [
    "------- Do Pivot ----------\n",
    "\n",
    "--Prepare the PIVOT query using the dynamic \n",
    "SET @DynamicPivotQuery = \n",
    "N'select * into Working.pivoteddata from (select RowID,FieldName,CellValue from Working.celldata) src\n",
    "PIVOT(max(CellValue) for FieldName in ('+@fieldnameslist+')) piv;';\n",
    "--Execute the Dynamic Pivot Query\n",
    "\n",
    "--select @DynamicPivotQuery;\n",
    "\n",
    "EXEC sp_executesql @DynamicPivotQuery;\n",
    "\n",
    "---- Populate Pivoted Table\n",
    "\n",
    "DROP TABLE IF EXISTS Working.MetaDataTable; \n",
    "\n",
    "select * into Working.MetaDataTable from Working.pivoteddata  where [DataSetID] = @Dataset_in;\n",
    "\n",
    "DROP TABLE IF EXISTS Working.pivoteddata;\n",
    "\n",
    "\n",
    "\n",
    "SELECT \n",
    "      @TableDatabase = [Database]\n",
    "      ,@TableDatasetID = [DataSetID]\n",
    "      ,@TableSchema = [Schema]\n",
    "      ,@TableName = [TableName]\n",
    "  FROM [Working].[MetaDataTable]\n",
    "  where [DataSetID] = @Dataset_in\n",
    "\n",
    "commit transaction;\n",
    "\n",
    "-----------------------\n",
    "\n",
    "\n",
    "------------------------\n",
    "\n",
    "begin transaction;\n",
    "\n",
    "DROP TABLE IF EXISTS Working.PublishDataSet; \n",
    "\n",
    "select\n",
    "--ds.[RowID]\n",
    "ds.[ColumnFromReferenceText]\n",
    ",ds.[DataSetID]\n",
    ",ds.[FieldDescription]\n",
    ",ds.[FieldID] as FieldName\n",
    ",ds.[FieldPosition]\n",
    ",ds.[ReferenceTextEnd]\n",
    ",ds.[ReferenceTextStart]\n",
    ",ds.[RowFromReferenceText]\n",
    ",ds.[SheetName]\n",
    ",ds.[TableOrientation]\n",
    "--,dc.[SheetName]\n",
    ",dc.[CellType]\n",
    ",dc.[ColumnID]\n",
    ",dc.[RowID]\n",
    ",dc.[CellValue]\n",
    "into Working.PublishDataSet from\n",
    "working.DataSetTable ds, working.DataCellData dc\n",
    "where\n",
    "dc.SheetName = ds.SheetName and\n",
    "dc.ColumnID = ds.ColumnFromReferenceText + @AnchorColumn and dc.RowID > ds.RowFromReferenceText + @AnchorRow;\n",
    "\n",
    "\n",
    "--------------------- prepare for pivot -------------------------------------------------\n",
    "DROP TABLE IF EXISTS Working.fieldnames; \n",
    "\n",
    "select FieldName into Working.fieldnames from Working.PublishDataSet;\n",
    "\n",
    "set  @fieldnameslist = NULL\n",
    "\n",
    "SELECT @fieldnameslist = ISNULL(@fieldnameslist + ',','') + QUOTENAME(FieldName)\n",
    "FROM (SELECT DISTINCT FieldName FROM Working.fieldnames) AS FieldName;\n",
    "\n",
    "DROP TABLE if exists Working.celldata; \n",
    "DROP TABLE if exists Working.pivoteddata;\n",
    "\n",
    "--select 'DataSetDataSet';\n",
    "\n",
    "--select * from Working.DataSetDataSet;\n",
    "\n",
    "\n",
    "select * into Working.celldata from Working.PublishDataSet;\n",
    "\n",
    "------- Do Pivot ----------\n",
    "\n",
    "--Prepare the PIVOT query using the dynamic \n",
    "SET @DynamicPivotQuery = \n",
    "N'select * into Working.pivoteddata from (select RowID,FieldName,CellValue from Working.celldata) src\n",
    "PIVOT(max(CellValue) for FieldName in ('+@fieldnameslist+')) piv;';\n",
    "--Execute the Dynamic Pivot Query\n",
    "\n",
    "--select @DynamicPivotQuery;\n",
    "\n",
    "EXEC sp_executesql @DynamicPivotQuery;\n",
    "\n",
    "---- Populate Pivoted Table\n",
    "\n",
    "DROP TABLE IF EXISTS Working.PublishTable; \n"
   ]
  },
  {
   "cell_type": "code",
   "execution_count": null,
   "id": "musical-gateway",
   "metadata": {},
   "outputs": [],
   "source": [
    "\n",
    "\n",
    "--------\n",
    "set @createtable = NULL;\n",
    "\n",
    "SELECT @createtable = ISNULL(@createtable + ',','') + CreateField\n",
    "FROM (SELECT '['+ColumnName+']' + ' ' + ColumnType as CreateField FROM [Working].[DataMapTable]) AS CreateField;\n",
    "\n",
    "SELECT @columnlist = ISNULL(@columnlist + ',','') + FieldName\n",
    "FROM (SELECT '['+ColumnName+']' FieldName FROM [Working].[DataMapTable]) AS FieldName;\n",
    "\n",
    "--SELECT ColumnName + ' ' + ColumnType as CreateField FROM [Working].[DataMapTable]\n",
    "\n",
    "-- @TableSchema = [Schema]\n",
    "-- @TableName = [TableName]\n",
    "\n",
    "set @createtable = 'create table ' + @TableSchema +'.' + @TableName + '(' +@createtable + ')'\n",
    "\n",
    "--select @createtable;\n",
    "\n",
    "set @SQLCmnd = 'DROP TABLE IF EXISTS ' + @TableSchema +'.' + @TableName\n",
    "\n",
    "EXEC sp_executesql @SQLCmnd;\n",
    "\n",
    "EXEC sp_executesql @createtable;\n",
    "\n",
    "set @SQLCmnd = 'insert into ' + @TableSchema +'.' + @TableName + ' select ' + @columnlist + ' from Working.pivoteddata;'\n",
    "\n",
    "--select @SQLCmnd\n",
    "\n",
    "EXEC sp_executesql @SQLCmnd;\n",
    "\n",
    "DROP TABLE IF EXISTS Working.pivoteddata;\n",
    "\n",
    "commit transaction;\n",
    "\n",
    "--select * from Working.PublishTable;\n",
    "\n",
    "GO"
   ]
  }
 ],
 "metadata": {
  "kernelspec": {
   "display_name": "env",
   "language": "python",
   "name": "env"
  },
  "language_info": {
   "codemirror_mode": {
    "name": "ipython",
    "version": 3
   },
   "file_extension": ".py",
   "mimetype": "text/x-python",
   "name": "python",
   "nbconvert_exporter": "python",
   "pygments_lexer": "ipython3",
   "version": "3.6.9"
  }
 },
 "nbformat": 4,
 "nbformat_minor": 5
}
